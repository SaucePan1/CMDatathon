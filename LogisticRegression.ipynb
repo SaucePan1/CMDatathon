{
 "cells": [
  {
   "cell_type": "markdown",
   "metadata": {},
   "source": [
    "# Logistic regression model building\n",
    "Here we will construct our first model. It is a very simple one: a logistic regression.\n",
    "\n",
    "We will follow the following scheme:\n",
    "    1. Discrimination: we will discard some users based on how much time has passed since they bought their last product and we will set the products that our classifier will have to predict.\n",
    "    2. Classifier input: we will construct the input as it is passed to the regression.\n",
    "    3. Model construction: we train the classifier and compute its accuracy.\n",
    "    4. Implementation: Brief comment about drawbacks."
   ]
  },
  {
   "cell_type": "code",
   "execution_count": 1,
   "metadata": {
    "collapsed": false
   },
   "outputs": [],
   "source": [
    "import numpy as np\n",
    "import pandas as pd\n",
    "import time"
   ]
  },
  {
   "cell_type": "code",
   "execution_count": 2,
   "metadata": {
    "collapsed": true
   },
   "outputs": [],
   "source": [
    "data = pd.read_csv('train2.txt',sep='|')"
   ]
  },
  {
   "cell_type": "code",
   "execution_count": 3,
   "metadata": {
    "collapsed": false
   },
   "outputs": [
    {
     "data": {
      "text/html": [
       "<div>\n",
       "<table border=\"1\" class=\"dataframe\">\n",
       "  <thead>\n",
       "    <tr style=\"text-align: right;\">\n",
       "      <th></th>\n",
       "      <th>ID_Customer</th>\n",
       "      <th>Cod_Prod</th>\n",
       "      <th>Cod_Fecha</th>\n",
       "      <th>Socio_Demo_01</th>\n",
       "      <th>Socio_Demo_02</th>\n",
       "      <th>Socio_Demo_03</th>\n",
       "      <th>Socio_Demo_04</th>\n",
       "      <th>Socio_Demo_05</th>\n",
       "      <th>Year</th>\n",
       "      <th>Month</th>\n",
       "    </tr>\n",
       "  </thead>\n",
       "  <tbody>\n",
       "    <tr>\n",
       "      <th>0</th>\n",
       "      <td>A0000001</td>\n",
       "      <td>601</td>\n",
       "      <td>2007-05</td>\n",
       "      <td>5</td>\n",
       "      <td>4</td>\n",
       "      <td>3</td>\n",
       "      <td>1</td>\n",
       "      <td>0</td>\n",
       "      <td>2007</td>\n",
       "      <td>05</td>\n",
       "    </tr>\n",
       "    <tr>\n",
       "      <th>1</th>\n",
       "      <td>A0000001</td>\n",
       "      <td>704</td>\n",
       "      <td>2013-04</td>\n",
       "      <td>5</td>\n",
       "      <td>4</td>\n",
       "      <td>3</td>\n",
       "      <td>1</td>\n",
       "      <td>0</td>\n",
       "      <td>2013</td>\n",
       "      <td>04</td>\n",
       "    </tr>\n",
       "    <tr>\n",
       "      <th>2</th>\n",
       "      <td>A0000001</td>\n",
       "      <td>2501</td>\n",
       "      <td>2006-03</td>\n",
       "      <td>5</td>\n",
       "      <td>4</td>\n",
       "      <td>3</td>\n",
       "      <td>1</td>\n",
       "      <td>0</td>\n",
       "      <td>2006</td>\n",
       "      <td>03</td>\n",
       "    </tr>\n",
       "    <tr>\n",
       "      <th>3</th>\n",
       "      <td>A0000001</td>\n",
       "      <td>2503</td>\n",
       "      <td>2006-03</td>\n",
       "      <td>5</td>\n",
       "      <td>4</td>\n",
       "      <td>3</td>\n",
       "      <td>1</td>\n",
       "      <td>0</td>\n",
       "      <td>2006</td>\n",
       "      <td>03</td>\n",
       "    </tr>\n",
       "    <tr>\n",
       "      <th>4</th>\n",
       "      <td>A0000001</td>\n",
       "      <td>1011</td>\n",
       "      <td>2011-04</td>\n",
       "      <td>5</td>\n",
       "      <td>4</td>\n",
       "      <td>3</td>\n",
       "      <td>1</td>\n",
       "      <td>0</td>\n",
       "      <td>2011</td>\n",
       "      <td>04</td>\n",
       "    </tr>\n",
       "  </tbody>\n",
       "</table>\n",
       "</div>"
      ],
      "text/plain": [
       "  ID_Customer  Cod_Prod Cod_Fecha  Socio_Demo_01  Socio_Demo_02  \\\n",
       "0    A0000001       601   2007-05              5              4   \n",
       "1    A0000001       704   2013-04              5              4   \n",
       "2    A0000001      2501   2006-03              5              4   \n",
       "3    A0000001      2503   2006-03              5              4   \n",
       "4    A0000001      1011   2011-04              5              4   \n",
       "\n",
       "   Socio_Demo_03  Socio_Demo_04  Socio_Demo_05  Year Month  \n",
       "0              3              1              0  2007    05  \n",
       "1              3              1              0  2013    04  \n",
       "2              3              1              0  2006    03  \n",
       "3              3              1              0  2006    03  \n",
       "4              3              1              0  2011    04  "
      ]
     },
     "execution_count": 3,
     "metadata": {},
     "output_type": "execute_result"
    }
   ],
   "source": [
    "data2 = data.copy(deep=True)\n",
    "data2['Year'] = data2.Cod_Fecha.apply(lambda x: x[:4])\n",
    "data2['Month'] = data2.Cod_Fecha.apply(lambda x: x[-2:])\n",
    "data2.head()"
   ]
  },
  {
   "cell_type": "markdown",
   "metadata": {},
   "source": [
    "# 1. Discrimination: we consider only the last N years (when most products are available)\n",
    "So, our model will not be affected by clients with products bought many years ago, when the possible products were fewer."
   ]
  },
  {
   "cell_type": "code",
   "execution_count": 4,
   "metadata": {
    "collapsed": true
   },
   "outputs": [],
   "source": [
    "N_YEARS=2017-1990"
   ]
  },
  {
   "cell_type": "code",
   "execution_count": 5,
   "metadata": {
    "collapsed": true
   },
   "outputs": [],
   "source": [
    "dataLastN = data2.copy(deep=True)\n",
    "dataLastN.Year = dataLastN.Year.astype(int)\n",
    "dataLastN = dataLastN[dataLastN.Year >= 2017-N_YEARS]"
   ]
  },
  {
   "cell_type": "markdown",
   "metadata": {},
   "source": [
    "#### We will be using a supervised classifier, so we have to divide the data into an input part and a *\"true response\"* (say the last product a customer has bought). Of course, to be consistent with our line of reasoning, this last purchase should be relatively recent."
   ]
  },
  {
   "cell_type": "code",
   "execution_count": 6,
   "metadata": {
    "collapsed": false
   },
   "outputs": [
    {
     "data": {
      "text/html": [
       "<div>\n",
       "<table border=\"1\" class=\"dataframe\">\n",
       "  <thead>\n",
       "    <tr style=\"text-align: right;\">\n",
       "      <th></th>\n",
       "      <th>Cod_Prod</th>\n",
       "      <th>Cod_Fecha</th>\n",
       "      <th>Socio_Demo_01</th>\n",
       "      <th>Socio_Demo_02</th>\n",
       "      <th>Socio_Demo_03</th>\n",
       "      <th>Socio_Demo_04</th>\n",
       "      <th>Socio_Demo_05</th>\n",
       "      <th>Year</th>\n",
       "      <th>Month</th>\n",
       "    </tr>\n",
       "    <tr>\n",
       "      <th>ID_Customer</th>\n",
       "      <th></th>\n",
       "      <th></th>\n",
       "      <th></th>\n",
       "      <th></th>\n",
       "      <th></th>\n",
       "      <th></th>\n",
       "      <th></th>\n",
       "      <th></th>\n",
       "      <th></th>\n",
       "    </tr>\n",
       "  </thead>\n",
       "  <tbody>\n",
       "    <tr>\n",
       "      <th>A0000001</th>\n",
       "      <td>704</td>\n",
       "      <td>2013-04</td>\n",
       "      <td>5</td>\n",
       "      <td>4</td>\n",
       "      <td>3</td>\n",
       "      <td>1</td>\n",
       "      <td>0</td>\n",
       "      <td>2013</td>\n",
       "      <td>04</td>\n",
       "    </tr>\n",
       "    <tr>\n",
       "      <th>A0000002</th>\n",
       "      <td>9992</td>\n",
       "      <td>2015-02</td>\n",
       "      <td>5</td>\n",
       "      <td>5</td>\n",
       "      <td>1</td>\n",
       "      <td>1</td>\n",
       "      <td>0</td>\n",
       "      <td>2015</td>\n",
       "      <td>02</td>\n",
       "    </tr>\n",
       "    <tr>\n",
       "      <th>A0000003</th>\n",
       "      <td>201</td>\n",
       "      <td>2016-02</td>\n",
       "      <td>5</td>\n",
       "      <td>5</td>\n",
       "      <td>5</td>\n",
       "      <td>2</td>\n",
       "      <td>0</td>\n",
       "      <td>2016</td>\n",
       "      <td>02</td>\n",
       "    </tr>\n",
       "    <tr>\n",
       "      <th>A0000004</th>\n",
       "      <td>2301</td>\n",
       "      <td>2016-05</td>\n",
       "      <td>5</td>\n",
       "      <td>5</td>\n",
       "      <td>3</td>\n",
       "      <td>1</td>\n",
       "      <td>0</td>\n",
       "      <td>2016</td>\n",
       "      <td>05</td>\n",
       "    </tr>\n",
       "    <tr>\n",
       "      <th>A0000006</th>\n",
       "      <td>2302</td>\n",
       "      <td>2015-05</td>\n",
       "      <td>5</td>\n",
       "      <td>5</td>\n",
       "      <td>3</td>\n",
       "      <td>1</td>\n",
       "      <td>0</td>\n",
       "      <td>2015</td>\n",
       "      <td>05</td>\n",
       "    </tr>\n",
       "  </tbody>\n",
       "</table>\n",
       "</div>"
      ],
      "text/plain": [
       "             Cod_Prod Cod_Fecha  Socio_Demo_01  Socio_Demo_02  Socio_Demo_03  \\\n",
       "ID_Customer                                                                    \n",
       "A0000001          704   2013-04              5              4              3   \n",
       "A0000002         9992   2015-02              5              5              1   \n",
       "A0000003          201   2016-02              5              5              5   \n",
       "A0000004         2301   2016-05              5              5              3   \n",
       "A0000006         2302   2015-05              5              5              3   \n",
       "\n",
       "             Socio_Demo_04  Socio_Demo_05  Year Month  \n",
       "ID_Customer                                            \n",
       "A0000001                 1              0  2013    04  \n",
       "A0000002                 1              0  2015    02  \n",
       "A0000003                 2              0  2016    02  \n",
       "A0000004                 1              0  2016    05  \n",
       "A0000006                 1              0  2015    05  "
      ]
     },
     "execution_count": 6,
     "metadata": {},
     "output_type": "execute_result"
    }
   ],
   "source": [
    "#Sort data by date and find most recent product of every customer\n",
    "dataLastN.sort_values(by='Cod_Fecha',inplace=True)\n",
    "idAndLastProd = dataLastN.groupby('ID_Customer').last()\n",
    "idAndLastProd.head()"
   ]
  },
  {
   "cell_type": "markdown",
   "metadata": {},
   "source": [
    "Here is where we defined our notio of \"recent\". We will consider recent a product purchased in the last 5 years, that is, from 2012 onwards. We compute also how many clients are we loosing after this filtering."
   ]
  },
  {
   "cell_type": "code",
   "execution_count": 7,
   "metadata": {
    "collapsed": true
   },
   "outputs": [],
   "source": [
    "YEARS_LAST_PRODUCT = 5"
   ]
  },
  {
   "cell_type": "code",
   "execution_count": 9,
   "metadata": {
    "collapsed": false
   },
   "outputs": [
    {
     "name": "stdout",
     "output_type": "stream",
     "text": [
      "Clients with older products (they fall out of the classifier): 148053 22.0921869404 %\n",
      "Clients with recent products: 522107 77.9078130596 %\n"
     ]
    }
   ],
   "source": [
    "print 'Clients with older products (they fall out of the classifier):', idAndLastProd[idAndLastProd.Year < 2017 - YEARS_LAST_PRODUCT].shape[0], idAndLastProd[idAndLastProd.Year < 2017 - YEARS_LAST_PRODUCT].shape[0]/float(idAndLastProd.shape[0])*100, '%'\n",
    "print 'Clients with recent products:', idAndLastProd[idAndLastProd.Year >= 2017 - YEARS_LAST_PRODUCT].shape[0], idAndLastProd[idAndLastProd.Year >= 2017 - YEARS_LAST_PRODUCT].shape[0]/float(idAndLastProd.shape[0])*100, '%'"
   ]
  },
  {
   "cell_type": "code",
   "execution_count": 10,
   "metadata": {
    "collapsed": true
   },
   "outputs": [],
   "source": [
    "#So, the clients we will be using are selected. As clients supervised\n",
    "clients_sup = idAndLastProd[idAndLastProd.Year >= 2017 - YEARS_LAST_PRODUCT].index.values\n",
    "clients_unsup = idAndLastProd[idAndLastProd.Year < 2017 - YEARS_LAST_PRODUCT].index.values"
   ]
  },
  {
   "cell_type": "code",
   "execution_count": 11,
   "metadata": {
    "collapsed": true
   },
   "outputs": [],
   "source": [
    "#Returns the dataframe with the corresponding clients\n",
    "def selectClients(data,clients):\n",
    "    #df is a dataframe\n",
    "    #clients is an array of strings\n",
    "    df = pd.DataFrame(columns=data.columns.values)\n",
    "    df = data[data.ID_Customer.isin(clients)]\n",
    "    \n",
    "    return df"
   ]
  },
  {
   "cell_type": "code",
   "execution_count": 12,
   "metadata": {
    "collapsed": false
   },
   "outputs": [
    {
     "name": "stdout",
     "output_type": "stream",
     "text": [
      "(2935685, 10) 522107\n",
      "(361939, 10) 148053\n"
     ]
    }
   ],
   "source": [
    "data_sup = selectClients(dataLastN,clients_sup)\n",
    "print data_sup.shape, data_sup.ID_Customer.unique().size\n",
    "data_unsup = selectClients(dataLastN,clients_unsup)\n",
    "print data_unsup.shape, data_unsup.ID_Customer.unique().size"
   ]
  },
  {
   "cell_type": "markdown",
   "metadata": {},
   "source": [
    "At this point, we have a new dataframe with 2.935.685 rows and 522.107 clients. This will be our input in the classifier."
   ]
  },
  {
   "cell_type": "markdown",
   "metadata": {},
   "source": [
    "----------------------------------------------------------------------------------------------------------------------"
   ]
  },
  {
   "cell_type": "markdown",
   "metadata": {},
   "source": [
    "## 2. Classifier input: ID_Customer vs Products in last N years.\n",
    "In this section, we prepare all the information stored in the dataframe in a convenient way for our regression."
   ]
  },
  {
   "cell_type": "code",
   "execution_count": 13,
   "metadata": {
    "collapsed": false
   },
   "outputs": [],
   "source": [
    "#Initialize the matrix ID_Customer vs. Product ID\n",
    "colnames = data_sup.Cod_Prod.unique()\n",
    "colnames.sort()\n",
    "rownames = data_sup.ID_Customer.unique()\n",
    "rownames.sort()\n",
    "idVSProdLastN = pd.DataFrame(data=np.zeros((rownames.size,colnames.size)),columns=colnames,index=rownames,dtype=int)"
   ]
  },
  {
   "cell_type": "markdown",
   "metadata": {},
   "source": [
    "We select now the product list for every user and subtract the last one, which will be the value that our classifier will have to predict."
   ]
  },
  {
   "cell_type": "code",
   "execution_count": 19,
   "metadata": {
    "collapsed": false
   },
   "outputs": [
    {
     "data": {
      "text/plain": [
       "ID_Customer  Cod_Prod\n",
       "A0000001     601         1\n",
       "             704         1\n",
       "             1011        1\n",
       "             2501        1\n",
       "             2503        1\n",
       "A0000002     301         1\n",
       "             601         1\n",
       "             801         1\n",
       "             9992        1\n",
       "A0000003     201         1\n",
       "Name: Cod_Prod, dtype: int64"
      ]
     },
     "execution_count": 19,
     "metadata": {},
     "output_type": "execute_result"
    }
   ],
   "source": [
    "groupedDataLastN = data_sup.groupby(['ID_Customer','Cod_Prod'])['Cod_Prod'].count()\n",
    "groupedDataLastN.head(10)"
   ]
  },
  {
   "cell_type": "code",
   "execution_count": 17,
   "metadata": {
    "collapsed": false
   },
   "outputs": [
    {
     "data": {
      "text/plain": [
       "ID_Customer\n",
       "A0000001     704\n",
       "A0000002    9992\n",
       "A0000003     201\n",
       "A0000004    2301\n",
       "A0000006    2302\n",
       "Name: Cod_Prod, dtype: int64"
      ]
     },
     "execution_count": 17,
     "metadata": {},
     "output_type": "execute_result"
    }
   ],
   "source": [
    "lastProduct = data_sup.groupby('ID_Customer')['Cod_Prod'].last()\n",
    "lastProduct.head()"
   ]
  },
  {
   "cell_type": "markdown",
   "metadata": {},
   "source": [
    "We put the last product to 0 in groupedDataLastN."
   ]
  },
  {
   "cell_type": "code",
   "execution_count": 20,
   "metadata": {
    "collapsed": false
   },
   "outputs": [
    {
     "data": {
      "text/plain": [
       "ID_Customer  Cod_Prod\n",
       "A0000001     601         1\n",
       "             704         0\n",
       "             1011        1\n",
       "             2501        1\n",
       "             2503        1\n",
       "A0000002     301         1\n",
       "             601         1\n",
       "             801         1\n",
       "             9992        0\n",
       "A0000003     201         0\n",
       "Name: Cod_Prod, dtype: int64"
      ]
     },
     "execution_count": 20,
     "metadata": {},
     "output_type": "execute_result"
    }
   ],
   "source": [
    "groupedDataLastN.loc[zip(lastProduct.index.values,lastProduct.values)] = 0\n",
    "groupedDataLastN.head(10)"
   ]
  },
  {
   "cell_type": "code",
   "execution_count": 21,
   "metadata": {
    "collapsed": false
   },
   "outputs": [
    {
     "data": {
      "text/html": [
       "<div>\n",
       "<table border=\"1\" class=\"dataframe\">\n",
       "  <thead>\n",
       "    <tr style=\"text-align: right;\">\n",
       "      <th></th>\n",
       "      <th>101</th>\n",
       "      <th>102</th>\n",
       "      <th>103</th>\n",
       "      <th>104</th>\n",
       "      <th>201</th>\n",
       "      <th>301</th>\n",
       "      <th>502</th>\n",
       "      <th>503</th>\n",
       "      <th>504</th>\n",
       "      <th>506</th>\n",
       "      <th>...</th>\n",
       "      <th>2706</th>\n",
       "      <th>2707</th>\n",
       "      <th>2801</th>\n",
       "      <th>2901</th>\n",
       "      <th>3001</th>\n",
       "      <th>3101</th>\n",
       "      <th>3401</th>\n",
       "      <th>9991</th>\n",
       "      <th>9992</th>\n",
       "      <th>9993</th>\n",
       "    </tr>\n",
       "  </thead>\n",
       "  <tbody>\n",
       "    <tr>\n",
       "      <th>A0000001</th>\n",
       "      <td>0</td>\n",
       "      <td>0</td>\n",
       "      <td>0</td>\n",
       "      <td>0</td>\n",
       "      <td>0</td>\n",
       "      <td>0</td>\n",
       "      <td>0</td>\n",
       "      <td>0</td>\n",
       "      <td>0</td>\n",
       "      <td>0</td>\n",
       "      <td>...</td>\n",
       "      <td>0</td>\n",
       "      <td>0</td>\n",
       "      <td>0</td>\n",
       "      <td>0</td>\n",
       "      <td>0</td>\n",
       "      <td>0</td>\n",
       "      <td>0</td>\n",
       "      <td>0</td>\n",
       "      <td>0</td>\n",
       "      <td>0</td>\n",
       "    </tr>\n",
       "    <tr>\n",
       "      <th>A0000002</th>\n",
       "      <td>0</td>\n",
       "      <td>0</td>\n",
       "      <td>0</td>\n",
       "      <td>0</td>\n",
       "      <td>0</td>\n",
       "      <td>1</td>\n",
       "      <td>0</td>\n",
       "      <td>0</td>\n",
       "      <td>0</td>\n",
       "      <td>0</td>\n",
       "      <td>...</td>\n",
       "      <td>0</td>\n",
       "      <td>0</td>\n",
       "      <td>0</td>\n",
       "      <td>0</td>\n",
       "      <td>0</td>\n",
       "      <td>0</td>\n",
       "      <td>0</td>\n",
       "      <td>0</td>\n",
       "      <td>0</td>\n",
       "      <td>0</td>\n",
       "    </tr>\n",
       "    <tr>\n",
       "      <th>A0000003</th>\n",
       "      <td>0</td>\n",
       "      <td>0</td>\n",
       "      <td>0</td>\n",
       "      <td>0</td>\n",
       "      <td>0</td>\n",
       "      <td>1</td>\n",
       "      <td>0</td>\n",
       "      <td>0</td>\n",
       "      <td>0</td>\n",
       "      <td>0</td>\n",
       "      <td>...</td>\n",
       "      <td>0</td>\n",
       "      <td>0</td>\n",
       "      <td>0</td>\n",
       "      <td>0</td>\n",
       "      <td>0</td>\n",
       "      <td>0</td>\n",
       "      <td>0</td>\n",
       "      <td>0</td>\n",
       "      <td>0</td>\n",
       "      <td>0</td>\n",
       "    </tr>\n",
       "    <tr>\n",
       "      <th>A0000004</th>\n",
       "      <td>0</td>\n",
       "      <td>0</td>\n",
       "      <td>0</td>\n",
       "      <td>0</td>\n",
       "      <td>1</td>\n",
       "      <td>1</td>\n",
       "      <td>0</td>\n",
       "      <td>0</td>\n",
       "      <td>0</td>\n",
       "      <td>0</td>\n",
       "      <td>...</td>\n",
       "      <td>0</td>\n",
       "      <td>0</td>\n",
       "      <td>0</td>\n",
       "      <td>0</td>\n",
       "      <td>0</td>\n",
       "      <td>0</td>\n",
       "      <td>0</td>\n",
       "      <td>0</td>\n",
       "      <td>0</td>\n",
       "      <td>0</td>\n",
       "    </tr>\n",
       "    <tr>\n",
       "      <th>A0000006</th>\n",
       "      <td>0</td>\n",
       "      <td>0</td>\n",
       "      <td>0</td>\n",
       "      <td>0</td>\n",
       "      <td>0</td>\n",
       "      <td>1</td>\n",
       "      <td>0</td>\n",
       "      <td>0</td>\n",
       "      <td>0</td>\n",
       "      <td>0</td>\n",
       "      <td>...</td>\n",
       "      <td>0</td>\n",
       "      <td>0</td>\n",
       "      <td>0</td>\n",
       "      <td>0</td>\n",
       "      <td>0</td>\n",
       "      <td>0</td>\n",
       "      <td>0</td>\n",
       "      <td>1</td>\n",
       "      <td>0</td>\n",
       "      <td>1</td>\n",
       "    </tr>\n",
       "  </tbody>\n",
       "</table>\n",
       "<p>5 rows × 94 columns</p>\n",
       "</div>"
      ],
      "text/plain": [
       "          101   102   103   104   201   301   502   503   504   506   ...   \\\n",
       "A0000001     0     0     0     0     0     0     0     0     0     0  ...    \n",
       "A0000002     0     0     0     0     0     1     0     0     0     0  ...    \n",
       "A0000003     0     0     0     0     0     1     0     0     0     0  ...    \n",
       "A0000004     0     0     0     0     1     1     0     0     0     0  ...    \n",
       "A0000006     0     0     0     0     0     1     0     0     0     0  ...    \n",
       "\n",
       "          2706  2707  2801  2901  3001  3101  3401  9991  9992  9993  \n",
       "A0000001     0     0     0     0     0     0     0     0     0     0  \n",
       "A0000002     0     0     0     0     0     0     0     0     0     0  \n",
       "A0000003     0     0     0     0     0     0     0     0     0     0  \n",
       "A0000004     0     0     0     0     0     0     0     0     0     0  \n",
       "A0000006     0     0     0     0     0     0     0     1     0     1  \n",
       "\n",
       "[5 rows x 94 columns]"
      ]
     },
     "execution_count": 21,
     "metadata": {},
     "output_type": "execute_result"
    }
   ],
   "source": [
    "#Save data on matrix\n",
    "for product in groupedDataLastN.index.levels[1].values:\n",
    "    columna = groupedDataLastN[:,product]\n",
    "    idVSProdLastN.loc[columna.index,product] = columna.values\n",
    "idVSProdLastN.head()"
   ]
  },
  {
   "cell_type": "markdown",
   "metadata": {},
   "source": [
    "----------------------------------------------------------------------------------------------------------------------"
   ]
  },
  {
   "cell_type": "markdown",
   "metadata": {},
   "source": [
    "Let's add also the customer's socio-demographic coefficients. We will introduce them using one-hot encoding."
   ]
  },
  {
   "cell_type": "code",
   "execution_count": 22,
   "metadata": {
    "collapsed": false
   },
   "outputs": [
    {
     "data": {
      "text/html": [
       "<div>\n",
       "<table border=\"1\" class=\"dataframe\">\n",
       "  <thead>\n",
       "    <tr style=\"text-align: right;\">\n",
       "      <th></th>\n",
       "      <th>Socio_Demo_01</th>\n",
       "      <th>Socio_Demo_02</th>\n",
       "      <th>Socio_Demo_03</th>\n",
       "      <th>Socio_Demo_04</th>\n",
       "      <th>Socio_Demo_05</th>\n",
       "    </tr>\n",
       "    <tr>\n",
       "      <th>ID_Customer</th>\n",
       "      <th></th>\n",
       "      <th></th>\n",
       "      <th></th>\n",
       "      <th></th>\n",
       "      <th></th>\n",
       "    </tr>\n",
       "  </thead>\n",
       "  <tbody>\n",
       "    <tr>\n",
       "      <th>A0000001</th>\n",
       "      <td>5</td>\n",
       "      <td>4</td>\n",
       "      <td>3</td>\n",
       "      <td>1</td>\n",
       "      <td>0</td>\n",
       "    </tr>\n",
       "    <tr>\n",
       "      <th>A0000002</th>\n",
       "      <td>5</td>\n",
       "      <td>5</td>\n",
       "      <td>1</td>\n",
       "      <td>1</td>\n",
       "      <td>0</td>\n",
       "    </tr>\n",
       "    <tr>\n",
       "      <th>A0000003</th>\n",
       "      <td>5</td>\n",
       "      <td>5</td>\n",
       "      <td>5</td>\n",
       "      <td>2</td>\n",
       "      <td>0</td>\n",
       "    </tr>\n",
       "    <tr>\n",
       "      <th>A0000004</th>\n",
       "      <td>5</td>\n",
       "      <td>5</td>\n",
       "      <td>3</td>\n",
       "      <td>1</td>\n",
       "      <td>0</td>\n",
       "    </tr>\n",
       "    <tr>\n",
       "      <th>A0000006</th>\n",
       "      <td>5</td>\n",
       "      <td>5</td>\n",
       "      <td>3</td>\n",
       "      <td>1</td>\n",
       "      <td>0</td>\n",
       "    </tr>\n",
       "  </tbody>\n",
       "</table>\n",
       "</div>"
      ],
      "text/plain": [
       "             Socio_Demo_01  Socio_Demo_02  Socio_Demo_03  Socio_Demo_04  \\\n",
       "ID_Customer                                                               \n",
       "A0000001                 5              4              3              1   \n",
       "A0000002                 5              5              1              1   \n",
       "A0000003                 5              5              5              2   \n",
       "A0000004                 5              5              3              1   \n",
       "A0000006                 5              5              3              1   \n",
       "\n",
       "             Socio_Demo_05  \n",
       "ID_Customer                 \n",
       "A0000001                 0  \n",
       "A0000002                 0  \n",
       "A0000003                 0  \n",
       "A0000004                 0  \n",
       "A0000006                 0  "
      ]
     },
     "execution_count": 22,
     "metadata": {},
     "output_type": "execute_result"
    }
   ],
   "source": [
    "#Customer features\n",
    "customers = data_sup.groupby('ID_Customer')['Socio_Demo_01','Socio_Demo_02','Socio_Demo_03','Socio_Demo_04','Socio_Demo_05'].first()\n",
    "customers[:5]"
   ]
  },
  {
   "cell_type": "code",
   "execution_count": 23,
   "metadata": {
    "collapsed": true
   },
   "outputs": [],
   "source": [
    "#New rows\n",
    "idVSProdLastN['Socio_Demo_01_1'] = np.zeros(idVSProdLastN.shape[0],dtype=int)\n",
    "idVSProdLastN['Socio_Demo_01_2'] = np.zeros(idVSProdLastN.shape[0],dtype=int)\n",
    "idVSProdLastN['Socio_Demo_01_3'] = np.zeros(idVSProdLastN.shape[0],dtype=int)\n",
    "idVSProdLastN['Socio_Demo_01_4'] = np.zeros(idVSProdLastN.shape[0],dtype=int)\n",
    "idVSProdLastN['Socio_Demo_01_5'] = np.zeros(idVSProdLastN.shape[0],dtype=int)\n",
    "idVSProdLastN['Socio_Demo_02_1'] = np.zeros(idVSProdLastN.shape[0],dtype=int)\n",
    "idVSProdLastN['Socio_Demo_02_2'] = np.zeros(idVSProdLastN.shape[0],dtype=int)\n",
    "idVSProdLastN['Socio_Demo_02_3'] = np.zeros(idVSProdLastN.shape[0],dtype=int)\n",
    "idVSProdLastN['Socio_Demo_02_4'] = np.zeros(idVSProdLastN.shape[0],dtype=int)\n",
    "idVSProdLastN['Socio_Demo_02_5'] = np.zeros(idVSProdLastN.shape[0],dtype=int)\n",
    "idVSProdLastN['Socio_Demo_03_1'] = np.zeros(idVSProdLastN.shape[0],dtype=int)\n",
    "idVSProdLastN['Socio_Demo_03_2'] = np.zeros(idVSProdLastN.shape[0],dtype=int)\n",
    "idVSProdLastN['Socio_Demo_03_3'] = np.zeros(idVSProdLastN.shape[0],dtype=int)\n",
    "idVSProdLastN['Socio_Demo_03_4'] = np.zeros(idVSProdLastN.shape[0],dtype=int)\n",
    "idVSProdLastN['Socio_Demo_03_5'] = np.zeros(idVSProdLastN.shape[0],dtype=int)\n",
    "idVSProdLastN['Socio_Demo_04_1'] = np.zeros(idVSProdLastN.shape[0],dtype=int)\n",
    "idVSProdLastN['Socio_Demo_04_2'] = np.zeros(idVSProdLastN.shape[0],dtype=int)\n",
    "idVSProdLastN['Socio_Demo_05_1'] = np.zeros(idVSProdLastN.shape[0],dtype=int)\n",
    "idVSProdLastN['Socio_Demo_05_2'] = np.zeros(idVSProdLastN.shape[0],dtype=int)\n",
    "idVSProdLastN['Socio_Demo_05_3'] = np.zeros(idVSProdLastN.shape[0],dtype=int)\n",
    "idVSProdLastN['Socio_Demo_05_4'] = np.zeros(idVSProdLastN.shape[0],dtype=int)"
   ]
  },
  {
   "cell_type": "code",
   "execution_count": 24,
   "metadata": {
    "collapsed": true
   },
   "outputs": [],
   "source": [
    "socioDemoCol = ['Socio_Demo_01_1','Socio_Demo_01_2','Socio_Demo_01_3','Socio_Demo_01_4','Socio_Demo_01_5','Socio_Demo_02_1','Socio_Demo_02_2','Socio_Demo_02_3','Socio_Demo_02_4','Socio_Demo_02_5','Socio_Demo_03_1','Socio_Demo_03_2','Socio_Demo_03_3','Socio_Demo_03_4','Socio_Demo_03_5','Socio_Demo_04_1','Socio_Demo_04_2','Socio_Demo_05_1','Socio_Demo_05_2','Socio_Demo_05_3','Socio_Demo_05_4']"
   ]
  },
  {
   "cell_type": "code",
   "execution_count": 25,
   "metadata": {
    "collapsed": false
   },
   "outputs": [],
   "source": [
    "#We add 1 to Socio_Demo_05 in order to compute one hot encoding for our convenience. It is easier to compute in this way.\n",
    "customers.Socio_Demo_05 += 1"
   ]
  },
  {
   "cell_type": "markdown",
   "metadata": {},
   "source": [
    "We add these features to the previous matrix, in one-hot encoding format."
   ]
  },
  {
   "cell_type": "code",
   "execution_count": 26,
   "metadata": {
    "collapsed": false
   },
   "outputs": [],
   "source": [
    "#Introduce one-hot encoding to matrix.\n",
    "start = 94\n",
    "i = 0\n",
    "for ncols in np.array([5,5,5,2,4]):\n",
    "    idVSProdLastN.iloc[:,start:start+ncols] = pd.get_dummies(customers.values[:,i]).values\n",
    "    start += ncols\n",
    "    i += 1"
   ]
  },
  {
   "cell_type": "markdown",
   "metadata": {},
   "source": [
    "The result is shown below: a 522107 times 115 matrix."
   ]
  },
  {
   "cell_type": "code",
   "execution_count": 27,
   "metadata": {
    "collapsed": false
   },
   "outputs": [
    {
     "data": {
      "text/html": [
       "<div>\n",
       "<table border=\"1\" class=\"dataframe\">\n",
       "  <thead>\n",
       "    <tr style=\"text-align: right;\">\n",
       "      <th></th>\n",
       "      <th>101</th>\n",
       "      <th>102</th>\n",
       "      <th>103</th>\n",
       "      <th>104</th>\n",
       "      <th>201</th>\n",
       "      <th>301</th>\n",
       "      <th>502</th>\n",
       "      <th>503</th>\n",
       "      <th>504</th>\n",
       "      <th>506</th>\n",
       "      <th>...</th>\n",
       "      <th>Socio_Demo_03_2</th>\n",
       "      <th>Socio_Demo_03_3</th>\n",
       "      <th>Socio_Demo_03_4</th>\n",
       "      <th>Socio_Demo_03_5</th>\n",
       "      <th>Socio_Demo_04_1</th>\n",
       "      <th>Socio_Demo_04_2</th>\n",
       "      <th>Socio_Demo_05_1</th>\n",
       "      <th>Socio_Demo_05_2</th>\n",
       "      <th>Socio_Demo_05_3</th>\n",
       "      <th>Socio_Demo_05_4</th>\n",
       "    </tr>\n",
       "  </thead>\n",
       "  <tbody>\n",
       "    <tr>\n",
       "      <th>A0000001</th>\n",
       "      <td>0</td>\n",
       "      <td>0</td>\n",
       "      <td>0</td>\n",
       "      <td>0</td>\n",
       "      <td>0</td>\n",
       "      <td>0</td>\n",
       "      <td>0</td>\n",
       "      <td>0</td>\n",
       "      <td>0</td>\n",
       "      <td>0</td>\n",
       "      <td>...</td>\n",
       "      <td>0</td>\n",
       "      <td>1</td>\n",
       "      <td>0</td>\n",
       "      <td>0</td>\n",
       "      <td>1</td>\n",
       "      <td>0</td>\n",
       "      <td>1</td>\n",
       "      <td>0</td>\n",
       "      <td>0</td>\n",
       "      <td>0</td>\n",
       "    </tr>\n",
       "    <tr>\n",
       "      <th>A0000002</th>\n",
       "      <td>0</td>\n",
       "      <td>0</td>\n",
       "      <td>0</td>\n",
       "      <td>0</td>\n",
       "      <td>0</td>\n",
       "      <td>1</td>\n",
       "      <td>0</td>\n",
       "      <td>0</td>\n",
       "      <td>0</td>\n",
       "      <td>0</td>\n",
       "      <td>...</td>\n",
       "      <td>0</td>\n",
       "      <td>0</td>\n",
       "      <td>0</td>\n",
       "      <td>0</td>\n",
       "      <td>1</td>\n",
       "      <td>0</td>\n",
       "      <td>1</td>\n",
       "      <td>0</td>\n",
       "      <td>0</td>\n",
       "      <td>0</td>\n",
       "    </tr>\n",
       "    <tr>\n",
       "      <th>A0000003</th>\n",
       "      <td>0</td>\n",
       "      <td>0</td>\n",
       "      <td>0</td>\n",
       "      <td>0</td>\n",
       "      <td>0</td>\n",
       "      <td>1</td>\n",
       "      <td>0</td>\n",
       "      <td>0</td>\n",
       "      <td>0</td>\n",
       "      <td>0</td>\n",
       "      <td>...</td>\n",
       "      <td>0</td>\n",
       "      <td>0</td>\n",
       "      <td>0</td>\n",
       "      <td>1</td>\n",
       "      <td>0</td>\n",
       "      <td>1</td>\n",
       "      <td>1</td>\n",
       "      <td>0</td>\n",
       "      <td>0</td>\n",
       "      <td>0</td>\n",
       "    </tr>\n",
       "    <tr>\n",
       "      <th>A0000004</th>\n",
       "      <td>0</td>\n",
       "      <td>0</td>\n",
       "      <td>0</td>\n",
       "      <td>0</td>\n",
       "      <td>1</td>\n",
       "      <td>1</td>\n",
       "      <td>0</td>\n",
       "      <td>0</td>\n",
       "      <td>0</td>\n",
       "      <td>0</td>\n",
       "      <td>...</td>\n",
       "      <td>0</td>\n",
       "      <td>1</td>\n",
       "      <td>0</td>\n",
       "      <td>0</td>\n",
       "      <td>1</td>\n",
       "      <td>0</td>\n",
       "      <td>1</td>\n",
       "      <td>0</td>\n",
       "      <td>0</td>\n",
       "      <td>0</td>\n",
       "    </tr>\n",
       "    <tr>\n",
       "      <th>A0000006</th>\n",
       "      <td>0</td>\n",
       "      <td>0</td>\n",
       "      <td>0</td>\n",
       "      <td>0</td>\n",
       "      <td>0</td>\n",
       "      <td>1</td>\n",
       "      <td>0</td>\n",
       "      <td>0</td>\n",
       "      <td>0</td>\n",
       "      <td>0</td>\n",
       "      <td>...</td>\n",
       "      <td>0</td>\n",
       "      <td>1</td>\n",
       "      <td>0</td>\n",
       "      <td>0</td>\n",
       "      <td>1</td>\n",
       "      <td>0</td>\n",
       "      <td>1</td>\n",
       "      <td>0</td>\n",
       "      <td>0</td>\n",
       "      <td>0</td>\n",
       "    </tr>\n",
       "  </tbody>\n",
       "</table>\n",
       "<p>5 rows × 115 columns</p>\n",
       "</div>"
      ],
      "text/plain": [
       "          101  102  103  104  201  301  502  503  504  506       ...         \\\n",
       "A0000001    0    0    0    0    0    0    0    0    0    0       ...          \n",
       "A0000002    0    0    0    0    0    1    0    0    0    0       ...          \n",
       "A0000003    0    0    0    0    0    1    0    0    0    0       ...          \n",
       "A0000004    0    0    0    0    1    1    0    0    0    0       ...          \n",
       "A0000006    0    0    0    0    0    1    0    0    0    0       ...          \n",
       "\n",
       "          Socio_Demo_03_2  Socio_Demo_03_3  Socio_Demo_03_4  Socio_Demo_03_5  \\\n",
       "A0000001                0                1                0                0   \n",
       "A0000002                0                0                0                0   \n",
       "A0000003                0                0                0                1   \n",
       "A0000004                0                1                0                0   \n",
       "A0000006                0                1                0                0   \n",
       "\n",
       "          Socio_Demo_04_1  Socio_Demo_04_2  Socio_Demo_05_1  Socio_Demo_05_2  \\\n",
       "A0000001                1                0                1                0   \n",
       "A0000002                1                0                1                0   \n",
       "A0000003                0                1                1                0   \n",
       "A0000004                1                0                1                0   \n",
       "A0000006                1                0                1                0   \n",
       "\n",
       "          Socio_Demo_05_3  Socio_Demo_05_4  \n",
       "A0000001                0                0  \n",
       "A0000002                0                0  \n",
       "A0000003                0                0  \n",
       "A0000004                0                0  \n",
       "A0000006                0                0  \n",
       "\n",
       "[5 rows x 115 columns]"
      ]
     },
     "execution_count": 27,
     "metadata": {},
     "output_type": "execute_result"
    }
   ],
   "source": [
    "idVSProdLastN.head()"
   ]
  },
  {
   "cell_type": "markdown",
   "metadata": {},
   "source": [
    "----------------------------------------------------------------------------------------------------------------------"
   ]
  },
  {
   "cell_type": "markdown",
   "metadata": {},
   "source": [
    "# 3. Model construction. Logistic Regression.\n",
    "### We create a multinomial logistic regression which gives probabilities for every product to be bought."
   ]
  },
  {
   "cell_type": "code",
   "execution_count": 30,
   "metadata": {
    "collapsed": true
   },
   "outputs": [],
   "source": [
    "from sklearn import linear_model\n",
    "from sklearn.linear_model import LogisticRegression\n",
    "logist_reg = LogisticRegression"
   ]
  },
  {
   "cell_type": "markdown",
   "metadata": {},
   "source": [
    "Notice that we have only 87 of the original 94 products in the prediction set. This will set a bound for the accuray of our classifier, since it will be \"punished\" whenever it predicts any of the remaining 7 products."
   ]
  },
  {
   "cell_type": "code",
   "execution_count": 28,
   "metadata": {
    "collapsed": false,
    "scrolled": false
   },
   "outputs": [
    {
     "name": "stdout",
     "output_type": "stream",
     "text": [
      "N. of products:  87\n",
      "1008    4\n",
      "804     3\n",
      "1014    2\n",
      "1004    2\n",
      "1305    2\n",
      "1015    2\n",
      "803     1\n",
      "1308    1\n",
      "2901    1\n",
      "2703    1\n",
      "Name: Cod_Prod, dtype: int64\n"
     ]
    }
   ],
   "source": [
    "print 'N. of products: ', lastProduct.unique().size\n",
    "print lastProduct.value_counts().tail(10)"
   ]
  },
  {
   "cell_type": "markdown",
   "metadata": {},
   "source": [
    "Notice also that some of this products appear very few and this will be a drawback when predicting this kind of products. There are few examples to learn from."
   ]
  },
  {
   "cell_type": "code",
   "execution_count": 32,
   "metadata": {
    "collapsed": false
   },
   "outputs": [
    {
     "name": "stdout",
     "output_type": "stream",
     "text": [
      "Time: 20.4381299019\n",
      "Score (R square): 0.304597701149\n"
     ]
    },
    {
     "name": "stderr",
     "output_type": "stream",
     "text": [
      "/Users/Victor/anaconda/lib/python2.7/site-packages/sklearn/utils/optimize.py:200: UserWarning: newton-cg failed to converge. Increase the number of iterations.\n",
      "  warnings.warn(\"newton-cg failed to converge. Increase the \"\n"
     ]
    }
   ],
   "source": [
    "start_time = time.time()\n",
    "train_size = idVSProdLastN.shape[0]/1000\n",
    "x_train = idVSProdLastN[:train_size]\n",
    "y_train = lastProduct[:train_size]\n",
    "x_test = idVSProdLastN[-train_size:]\n",
    "y_test = lastProduct[-train_size:]\n",
    "logist_reg = LogisticRegression(C=1e5,multi_class='multinomial',solver='newton-cg')\n",
    "logist_reg.fit(x_train,y_train)\n",
    "print 'Time:', time.time()-start_time\n",
    "print 'Score (R square):', logist_reg.score(x_test,y_test)*100, '%'\n",
    "print 'Training MSE: ', np.mean((logist_reg.predict(x_train) - y_train)**2)\n",
    "print 'Test MSE: ', np.mean((logist_reg.predict(x_test) - y_test)**2)"
   ]
  },
  {
   "cell_type": "code",
   "execution_count": 33,
   "metadata": {
    "collapsed": false
   },
   "outputs": [
    {
     "data": {
      "text/plain": [
       "['logistic910.pkl',\n",
       " 'logistic910.pkl_01.npy',\n",
       " 'logistic910.pkl_02.npy',\n",
       " 'logistic910.pkl_03.npy',\n",
       " 'logistic910.pkl_04.npy']"
      ]
     },
     "execution_count": 33,
     "metadata": {},
     "output_type": "execute_result"
    }
   ],
   "source": [
    "#We save the model, for future use, so we do not need to train it again.\n",
    "from sklearn.externals import joblib\n",
    "joblib.dump(logist_reg, 'logisticCajamar.pkl')"
   ]
  },
  {
   "cell_type": "code",
   "execution_count": 34,
   "metadata": {
    "collapsed": true
   },
   "outputs": [],
   "source": [
    "#Recovering the model from file\n",
    "logistic910 = joblib.load('logisticCajamar.pkl') "
   ]
  },
  {
   "cell_type": "markdown",
   "metadata": {},
   "source": [
    "Since our model gives probabilities as a result, we can obtain the 3 most probable products for a customer. For exampel, for customer"
   ]
  },
  {
   "cell_type": "code",
   "execution_count": 36,
   "metadata": {
    "collapsed": false
   },
   "outputs": [
    {
     "data": {
      "text/plain": [
       "'A0675746'"
      ]
     },
     "execution_count": 36,
     "metadata": {},
     "output_type": "execute_result"
    }
   ],
   "source": [
    "x_test[:1].index[0]"
   ]
  },
  {
   "cell_type": "markdown",
   "metadata": {},
   "source": [
    "the most probable products are"
   ]
  },
  {
   "cell_type": "code",
   "execution_count": 80,
   "metadata": {
    "collapsed": false
   },
   "outputs": [
    {
     "data": {
      "text/plain": [
       "704     1.000000e+00\n",
       "301     1.392967e-09\n",
       "2302    5.669144e-10\n",
       "dtype: float64"
      ]
     },
     "execution_count": 80,
     "metadata": {},
     "output_type": "execute_result"
    }
   ],
   "source": [
    "a= logist_reg.predict_proba(x_test[:1])[0]\n",
    "b = y_train.unique()\n",
    "b.sort()\n",
    "ab = pd.Series(data=a,index=b)\n",
    "ab.nlargest(3)"
   ]
  },
  {
   "cell_type": "markdown",
   "metadata": {
    "collapsed": true
   },
   "source": [
    "The confusion matrix is the following:"
   ]
  },
  {
   "cell_type": "code",
   "execution_count": 60,
   "metadata": {
    "collapsed": false
   },
   "outputs": [
    {
     "data": {
      "text/plain": [
       "array([[21,  1,  0, ...,  0,  1,  0],\n",
       "       [ 1,  0,  0, ...,  0,  1,  0],\n",
       "       [ 4,  0, 47, ...,  0,  0,  0],\n",
       "       ..., \n",
       "       [ 1,  0,  0, ..., 24,  0,  0],\n",
       "       [ 1,  0,  0, ...,  0,  4,  0],\n",
       "       [ 0,  0,  0, ...,  0,  0, 23]])"
      ]
     },
     "execution_count": 60,
     "metadata": {},
     "output_type": "execute_result"
    }
   ],
   "source": [
    "from sklearn.metrics import confusion_matrix\n",
    "confusion_matrix(y_test,logist_reg.predict(x_test))"
   ]
  },
  {
   "cell_type": "markdown",
   "metadata": {},
   "source": [
    "After normalization, this yields:"
   ]
  },
  {
   "cell_type": "code",
   "execution_count": 61,
   "metadata": {
    "collapsed": false
   },
   "outputs": [
    {
     "data": {
      "image/png": "[encoded data removed]",
      "text/plain": [
       "<matplotlib.figure.Figure at 0x1b3ecbbd0>"
      ]
     },
     "metadata": {},
     "output_type": "display_data"
    }
   ],
   "source": [
    "import matplotlib.pyplot as plt\n",
    "labels = y_test.unique()\n",
    "labels.sort()\n",
    "pred = logist_reg.predict(x_test)\n",
    "cm = confusion_matrix(y_test, pred, labels)\n",
    "cm = cm/cm.astype(np.float).sum(axis=1)\n",
    "fig = plt.figure()\n",
    "ax = fig.add_subplot(111)\n",
    "cax = ax.matshow(cm)\n",
    "plt.title('Confusion matrix of the classifier')\n",
    "fig.colorbar(cax)\n",
    "ax.set_xticklabels(labels)\n",
    "ax.set_yticklabels(labels)\n",
    "plt.xlabel('Predicted')\n",
    "plt.ylabel('True')\n",
    "fig.set_size_inches((14,8))\n",
    "plt.show()"
   ]
  },
  {
   "cell_type": "markdown",
   "metadata": {},
   "source": [
    "This model is however not very powerful and has low accuracy, that is why we decided to test a neural network. Which is explained in a companion Notebook."
   ]
  },
  {
   "cell_type": "markdown",
   "metadata": {},
   "source": [
    "----------------------------------------------------------------------------------------------------------------------"
   ]
  },
  {
   "cell_type": "markdown",
   "metadata": {
    "collapsed": true
   },
   "source": [
    "# 4. Implementation"
   ]
  },
  {
   "cell_type": "markdown",
   "metadata": {
    "collapsed": true
   },
   "source": [
    "This model is easy to implement and the major drawbacks it could have are its low accuracy and the fact that, if one desires to improve the model by training it with more data, it must be trained from the beginning and depending on the amount of data and the processing speed of the computer it can be a costly procedure."
   ]
  }
 ],
 "metadata": {
  "anaconda-cloud": {},
  "kernelspec": {
   "display_name": "Python [conda root]",
   "language": "python",
   "name": "conda-root-py"
  },
  "language_info": {
   "codemirror_mode": {
    "name": "ipython",
    "version": 2
   },
   "file_extension": ".py",
   "mimetype": "text/x-python",
   "name": "python",
   "nbconvert_exporter": "python",
   "pygments_lexer": "ipython2",
   "version": "2.7.12"
  }
 },
 "nbformat": 4,
 "nbformat_minor": 1
}
