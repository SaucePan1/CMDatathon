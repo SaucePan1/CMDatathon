{
 "cells": [
  {
   "cell_type": "markdown",
   "metadata": {},
   "source": [
    "## MLP\n",
    "\n",
    "We have checked out cajamar website and there is clearly three categories of products they sell. \n",
    "\n",
    "- Particulares: Products aimed at 'particulares' \n",
    "\n",
    "- Empresa: Products aimed at bussiness\n",
    "\n",
    "- ADN Agro: Products aimed at farmers\n",
    "\n",
    "Socio_Demo_05: Segmento (00: Particular | 01:Agricultor | 02:Comercio | 03:Autónomo)\n",
    "\n",
    "\n",
    "A quick google search of 'Cajamar autonomos' tells us they offer products exclusively tailored for 'autonomos'."
   ]
  },
  {
   "cell_type": "code",
   "execution_count": 67,
   "metadata": {
    "collapsed": true
   },
   "outputs": [],
   "source": [
    "import numpy as np\n",
    "import pandas as pd\n",
    "import matplotlib.pyplot as plt"
   ]
  },
  {
   "cell_type": "code",
   "execution_count": null,
   "metadata": {
    "collapsed": true
   },
   "outputs": [],
   "source": [
    "# set fixed size for plots\n",
    "from matplotlib.pylab import rcParams\n",
    "rcParams['figure.figsize'] = 15, 6"
   ]
  },
  {
   "cell_type": "code",
   "execution_count": 4,
   "metadata": {
    "collapsed": false
   },
   "outputs": [
    {
     "data": {
      "text/html": [
       "<div>\n",
       "<table border=\"1\" class=\"dataframe\">\n",
       "  <thead>\n",
       "    <tr style=\"text-align: right;\">\n",
       "      <th></th>\n",
       "      <th>ID_Customer</th>\n",
       "      <th>Cod_Prod</th>\n",
       "      <th>Cod_Fecha</th>\n",
       "      <th>Socio_Demo_01</th>\n",
       "      <th>Socio_Demo_02</th>\n",
       "      <th>Socio_Demo_03</th>\n",
       "      <th>Socio_Demo_04</th>\n",
       "      <th>Socio_Demo_05</th>\n",
       "    </tr>\n",
       "  </thead>\n",
       "  <tbody>\n",
       "    <tr>\n",
       "      <th>0</th>\n",
       "      <td>A0000001</td>\n",
       "      <td>601</td>\n",
       "      <td>2007-05</td>\n",
       "      <td>5</td>\n",
       "      <td>4</td>\n",
       "      <td>3</td>\n",
       "      <td>1</td>\n",
       "      <td>0</td>\n",
       "    </tr>\n",
       "    <tr>\n",
       "      <th>1</th>\n",
       "      <td>A0000001</td>\n",
       "      <td>704</td>\n",
       "      <td>2013-04</td>\n",
       "      <td>5</td>\n",
       "      <td>4</td>\n",
       "      <td>3</td>\n",
       "      <td>1</td>\n",
       "      <td>0</td>\n",
       "    </tr>\n",
       "    <tr>\n",
       "      <th>2</th>\n",
       "      <td>A0000001</td>\n",
       "      <td>2501</td>\n",
       "      <td>2006-03</td>\n",
       "      <td>5</td>\n",
       "      <td>4</td>\n",
       "      <td>3</td>\n",
       "      <td>1</td>\n",
       "      <td>0</td>\n",
       "    </tr>\n",
       "    <tr>\n",
       "      <th>3</th>\n",
       "      <td>A0000001</td>\n",
       "      <td>2503</td>\n",
       "      <td>2006-03</td>\n",
       "      <td>5</td>\n",
       "      <td>4</td>\n",
       "      <td>3</td>\n",
       "      <td>1</td>\n",
       "      <td>0</td>\n",
       "    </tr>\n",
       "    <tr>\n",
       "      <th>4</th>\n",
       "      <td>A0000001</td>\n",
       "      <td>1011</td>\n",
       "      <td>2011-04</td>\n",
       "      <td>5</td>\n",
       "      <td>4</td>\n",
       "      <td>3</td>\n",
       "      <td>1</td>\n",
       "      <td>0</td>\n",
       "    </tr>\n",
       "  </tbody>\n",
       "</table>\n",
       "</div>"
      ],
      "text/plain": [
       "  ID_Customer  Cod_Prod Cod_Fecha  Socio_Demo_01  Socio_Demo_02  \\\n",
       "0    A0000001       601   2007-05              5              4   \n",
       "1    A0000001       704   2013-04              5              4   \n",
       "2    A0000001      2501   2006-03              5              4   \n",
       "3    A0000001      2503   2006-03              5              4   \n",
       "4    A0000001      1011   2011-04              5              4   \n",
       "\n",
       "   Socio_Demo_03  Socio_Demo_04  Socio_Demo_05  \n",
       "0              3              1              0  \n",
       "1              3              1              0  \n",
       "2              3              1              0  \n",
       "3              3              1              0  \n",
       "4              3              1              0  "
      ]
     },
     "execution_count": 4,
     "metadata": {},
     "output_type": "execute_result"
    }
   ],
   "source": [
    "data = pd.read_csv('train2-2.txt', sep='|')\n",
    "dftest = pd.read_csv('test2.txt', sep= '|')\n",
    "data.head()"
   ]
  },
  {
   "cell_type": "code",
   "execution_count": 6,
   "metadata": {
    "collapsed": false,
    "scrolled": true
   },
   "outputs": [
    {
     "data": {
      "text/plain": [
       "Socio_Demo_05\n",
       "0    2657685\n",
       "1     163495\n",
       "2     155285\n",
       "3     374136\n",
       "Name: ID_Customer, dtype: int64"
      ]
     },
     "execution_count": 6,
     "metadata": {},
     "output_type": "execute_result"
    }
   ],
   "source": [
    "data.groupby('Socio_Demo_05')['ID_Customer'].count()"
   ]
  },
  {
   "cell_type": "markdown",
   "metadata": {},
   "source": [
    "As expected the number of sells to 'particulares' is one order of magnitude bigger\n",
    "\n",
    "Lets explore who bought what."
   ]
  },
  {
   "cell_type": "code",
   "execution_count": 11,
   "metadata": {
    "collapsed": false
   },
   "outputs": [
    {
     "data": {
      "text/plain": [
       "Socio_Demo_05  Cod_Prod\n",
       "0              101            123\n",
       "               102            829\n",
       "               103           1323\n",
       "               104             52\n",
       "               201         271312\n",
       "Name: ID_Customer, dtype: int64"
      ]
     },
     "execution_count": 11,
     "metadata": {},
     "output_type": "execute_result"
    }
   ],
   "source": [
    "prod_sells_by_S5= data.groupby(['Socio_Demo_05', 'Cod_Prod'])['ID_Customer'].count()\n",
    "prod_sells_by_S5.head()"
   ]
  },
  {
   "cell_type": "code",
   "execution_count": 18,
   "metadata": {
    "collapsed": false
   },
   "outputs": [
    {
     "data": {
      "text/html": [
       "<div>\n",
       "<table border=\"1\" class=\"dataframe\">\n",
       "  <thead>\n",
       "    <tr style=\"text-align: right;\">\n",
       "      <th>Cod_Prod</th>\n",
       "      <th>101</th>\n",
       "      <th>102</th>\n",
       "      <th>103</th>\n",
       "      <th>104</th>\n",
       "      <th>201</th>\n",
       "      <th>301</th>\n",
       "      <th>502</th>\n",
       "      <th>503</th>\n",
       "      <th>504</th>\n",
       "      <th>506</th>\n",
       "      <th>...</th>\n",
       "      <th>2706</th>\n",
       "      <th>2707</th>\n",
       "      <th>2801</th>\n",
       "      <th>2901</th>\n",
       "      <th>3001</th>\n",
       "      <th>3101</th>\n",
       "      <th>3401</th>\n",
       "      <th>9991</th>\n",
       "      <th>9992</th>\n",
       "      <th>9993</th>\n",
       "    </tr>\n",
       "    <tr>\n",
       "      <th>Socio_Demo_05</th>\n",
       "      <th></th>\n",
       "      <th></th>\n",
       "      <th></th>\n",
       "      <th></th>\n",
       "      <th></th>\n",
       "      <th></th>\n",
       "      <th></th>\n",
       "      <th></th>\n",
       "      <th></th>\n",
       "      <th></th>\n",
       "      <th></th>\n",
       "      <th></th>\n",
       "      <th></th>\n",
       "      <th></th>\n",
       "      <th></th>\n",
       "      <th></th>\n",
       "      <th></th>\n",
       "      <th></th>\n",
       "      <th></th>\n",
       "      <th></th>\n",
       "      <th></th>\n",
       "    </tr>\n",
       "  </thead>\n",
       "  <tbody>\n",
       "    <tr>\n",
       "      <th>0</th>\n",
       "      <td>123.0</td>\n",
       "      <td>829.0</td>\n",
       "      <td>1323.0</td>\n",
       "      <td>52.0</td>\n",
       "      <td>271312.0</td>\n",
       "      <td>349287.0</td>\n",
       "      <td>2.0</td>\n",
       "      <td>931.0</td>\n",
       "      <td>27.0</td>\n",
       "      <td>300.0</td>\n",
       "      <td>...</td>\n",
       "      <td>5752.0</td>\n",
       "      <td>23523.0</td>\n",
       "      <td>15.0</td>\n",
       "      <td>1.0</td>\n",
       "      <td>8444.0</td>\n",
       "      <td>440.0</td>\n",
       "      <td>3059.0</td>\n",
       "      <td>196601.0</td>\n",
       "      <td>15688.0</td>\n",
       "      <td>196601.0</td>\n",
       "    </tr>\n",
       "    <tr>\n",
       "      <th>1</th>\n",
       "      <td>17.0</td>\n",
       "      <td>127.0</td>\n",
       "      <td>314.0</td>\n",
       "      <td>9.0</td>\n",
       "      <td>11201.0</td>\n",
       "      <td>18218.0</td>\n",
       "      <td>NaN</td>\n",
       "      <td>1637.0</td>\n",
       "      <td>4.0</td>\n",
       "      <td>31.0</td>\n",
       "      <td>...</td>\n",
       "      <td>217.0</td>\n",
       "      <td>1982.0</td>\n",
       "      <td>2.0</td>\n",
       "      <td>NaN</td>\n",
       "      <td>400.0</td>\n",
       "      <td>35.0</td>\n",
       "      <td>1015.0</td>\n",
       "      <td>8240.0</td>\n",
       "      <td>15831.0</td>\n",
       "      <td>8240.0</td>\n",
       "    </tr>\n",
       "    <tr>\n",
       "      <th>2</th>\n",
       "      <td>30.0</td>\n",
       "      <td>581.0</td>\n",
       "      <td>279.0</td>\n",
       "      <td>4.0</td>\n",
       "      <td>16724.0</td>\n",
       "      <td>17239.0</td>\n",
       "      <td>NaN</td>\n",
       "      <td>88.0</td>\n",
       "      <td>4.0</td>\n",
       "      <td>58.0</td>\n",
       "      <td>...</td>\n",
       "      <td>297.0</td>\n",
       "      <td>2057.0</td>\n",
       "      <td>6.0</td>\n",
       "      <td>2.0</td>\n",
       "      <td>688.0</td>\n",
       "      <td>33.0</td>\n",
       "      <td>908.0</td>\n",
       "      <td>5418.0</td>\n",
       "      <td>10999.0</td>\n",
       "      <td>5418.0</td>\n",
       "    </tr>\n",
       "    <tr>\n",
       "      <th>3</th>\n",
       "      <td>91.0</td>\n",
       "      <td>669.0</td>\n",
       "      <td>911.0</td>\n",
       "      <td>40.0</td>\n",
       "      <td>40449.0</td>\n",
       "      <td>41425.0</td>\n",
       "      <td>1.0</td>\n",
       "      <td>203.0</td>\n",
       "      <td>34.0</td>\n",
       "      <td>280.0</td>\n",
       "      <td>...</td>\n",
       "      <td>723.0</td>\n",
       "      <td>3725.0</td>\n",
       "      <td>11.0</td>\n",
       "      <td>3.0</td>\n",
       "      <td>1652.0</td>\n",
       "      <td>78.0</td>\n",
       "      <td>2781.0</td>\n",
       "      <td>20164.0</td>\n",
       "      <td>29144.0</td>\n",
       "      <td>20164.0</td>\n",
       "    </tr>\n",
       "  </tbody>\n",
       "</table>\n",
       "<p>4 rows × 94 columns</p>\n",
       "</div>"
      ],
      "text/plain": [
       "Cod_Prod        101    102     103   104       201       301   502     503   \\\n",
       "Socio_Demo_05                                                                 \n",
       "0              123.0  829.0  1323.0  52.0  271312.0  349287.0   2.0   931.0   \n",
       "1               17.0  127.0   314.0   9.0   11201.0   18218.0   NaN  1637.0   \n",
       "2               30.0  581.0   279.0   4.0   16724.0   17239.0   NaN    88.0   \n",
       "3               91.0  669.0   911.0  40.0   40449.0   41425.0   1.0   203.0   \n",
       "\n",
       "Cod_Prod       504    506     ...       2706     2707  2801  2901    3001  \\\n",
       "Socio_Demo_05                 ...                                           \n",
       "0              27.0  300.0    ...     5752.0  23523.0  15.0   1.0  8444.0   \n",
       "1               4.0   31.0    ...      217.0   1982.0   2.0   NaN   400.0   \n",
       "2               4.0   58.0    ...      297.0   2057.0   6.0   2.0   688.0   \n",
       "3              34.0  280.0    ...      723.0   3725.0  11.0   3.0  1652.0   \n",
       "\n",
       "Cod_Prod        3101    3401      9991     9992      9993  \n",
       "Socio_Demo_05                                              \n",
       "0              440.0  3059.0  196601.0  15688.0  196601.0  \n",
       "1               35.0  1015.0    8240.0  15831.0    8240.0  \n",
       "2               33.0   908.0    5418.0  10999.0    5418.0  \n",
       "3               78.0  2781.0   20164.0  29144.0   20164.0  \n",
       "\n",
       "[4 rows x 94 columns]"
      ]
     },
     "execution_count": 18,
     "metadata": {},
     "output_type": "execute_result"
    }
   ],
   "source": [
    "prod_sells_by_S5.unstack()"
   ]
  },
  {
   "cell_type": "markdown",
   "metadata": {},
   "source": [
    "There are some products that barerly sell, taking into account that the least ammount of sells we have in a particular category of Socio_Dem5 is 15K, we think we can safely ignore products with less than 300 sells, they do not represent a siginificant percentage of the market and will barerly affect accuracy. Given the vast ammount of them (23/94) that will significally help our model as we avoid 'curse of dimensionality' (Mirar wiki explicar bé)"
   ]
  },
  {
   "cell_type": "code",
   "execution_count": 22,
   "metadata": {
    "collapsed": false
   },
   "outputs": [
    {
     "data": {
      "text/plain": [
       "23"
      ]
     },
     "execution_count": 22,
     "metadata": {},
     "output_type": "execute_result"
    }
   ],
   "source": [
    "Sells_per_product = data.groupby('Cod_Prod').ID_Customer.count()\n",
    "\n",
    "products_sub300=Sells_per_product[Sells_per_product < 300].index\n",
    "products_sub300.size"
   ]
  },
  {
   "cell_type": "code",
   "execution_count": 24,
   "metadata": {
    "collapsed": true
   },
   "outputs": [],
   "source": [
    "#Filter data deleting the rare products\n",
    "filt_data = data.query('Cod_Prod not in @products_sub300')\n",
    "prod_sells_by_S5= filt_data.groupby(['Socio_Demo_05', 'Cod_Prod'])['ID_Customer'].count()"
   ]
  },
  {
   "cell_type": "code",
   "execution_count": null,
   "metadata": {
    "collapsed": true
   },
   "outputs": [],
   "source": []
  },
  {
   "cell_type": "code",
   "execution_count": 151,
   "metadata": {
    "collapsed": false
   },
   "outputs": [],
   "source": [
    "#Filter data deleting the Customers that bought only one product. We cant use them for train\n",
    "#Clean the datafram of useless users.\n",
    "dropusers = filt_data.groupby('ID_Customer')['Cod_Prod'].count()\n",
    "dropusers = dropusers[dropusers == 1]\n",
    "filt_data = filt_data.query('ID_Customer not in @dropusers.index')"
   ]
  },
  {
   "cell_type": "code",
   "execution_count": 153,
   "metadata": {
    "collapsed": false
   },
   "outputs": [
    {
     "data": {
      "text/html": [
       "<div>\n",
       "<table border=\"1\" class=\"dataframe\">\n",
       "  <thead>\n",
       "    <tr style=\"text-align: right;\">\n",
       "      <th></th>\n",
       "      <th>ID_Customer</th>\n",
       "      <th>Cod_Prod</th>\n",
       "      <th>Cod_Fecha</th>\n",
       "      <th>Socio_Demo_01</th>\n",
       "      <th>Socio_Demo_02</th>\n",
       "      <th>Socio_Demo_03</th>\n",
       "      <th>Socio_Demo_05</th>\n",
       "    </tr>\n",
       "  </thead>\n",
       "  <tbody>\n",
       "    <tr>\n",
       "      <th>0</th>\n",
       "      <td>A0000001</td>\n",
       "      <td>601</td>\n",
       "      <td>2007-05</td>\n",
       "      <td>5</td>\n",
       "      <td>4</td>\n",
       "      <td>3</td>\n",
       "      <td>0</td>\n",
       "    </tr>\n",
       "    <tr>\n",
       "      <th>1</th>\n",
       "      <td>A0000001</td>\n",
       "      <td>704</td>\n",
       "      <td>2013-04</td>\n",
       "      <td>5</td>\n",
       "      <td>4</td>\n",
       "      <td>3</td>\n",
       "      <td>0</td>\n",
       "    </tr>\n",
       "    <tr>\n",
       "      <th>2</th>\n",
       "      <td>A0000001</td>\n",
       "      <td>2501</td>\n",
       "      <td>2006-03</td>\n",
       "      <td>5</td>\n",
       "      <td>4</td>\n",
       "      <td>3</td>\n",
       "      <td>0</td>\n",
       "    </tr>\n",
       "    <tr>\n",
       "      <th>3</th>\n",
       "      <td>A0000001</td>\n",
       "      <td>2503</td>\n",
       "      <td>2006-03</td>\n",
       "      <td>5</td>\n",
       "      <td>4</td>\n",
       "      <td>3</td>\n",
       "      <td>0</td>\n",
       "    </tr>\n",
       "    <tr>\n",
       "      <th>4</th>\n",
       "      <td>A0000001</td>\n",
       "      <td>1011</td>\n",
       "      <td>2011-04</td>\n",
       "      <td>5</td>\n",
       "      <td>4</td>\n",
       "      <td>3</td>\n",
       "      <td>0</td>\n",
       "    </tr>\n",
       "  </tbody>\n",
       "</table>\n",
       "</div>"
      ],
      "text/plain": [
       "  ID_Customer  Cod_Prod Cod_Fecha  Socio_Demo_01  Socio_Demo_02  \\\n",
       "0    A0000001       601   2007-05              5              4   \n",
       "1    A0000001       704   2013-04              5              4   \n",
       "2    A0000001      2501   2006-03              5              4   \n",
       "3    A0000001      2503   2006-03              5              4   \n",
       "4    A0000001      1011   2011-04              5              4   \n",
       "\n",
       "   Socio_Demo_03  Socio_Demo_05  \n",
       "0              3              0  \n",
       "1              3              0  \n",
       "2              3              0  \n",
       "3              3              0  \n",
       "4              3              0  "
      ]
     },
     "execution_count": 153,
     "metadata": {},
     "output_type": "execute_result"
    }
   ],
   "source": [
    "filt_data.head()"
   ]
  },
  {
   "cell_type": "code",
   "execution_count": 25,
   "metadata": {
    "collapsed": false
   },
   "outputs": [
    {
     "data": {
      "text/plain": [
       "Socio_Demo_05  Cod_Prod\n",
       "0              102            829\n",
       "               103           1323\n",
       "               201         271312\n",
       "               301         349287\n",
       "               503            931\n",
       "Name: ID_Customer, dtype: int64"
      ]
     },
     "execution_count": 25,
     "metadata": {},
     "output_type": "execute_result"
    }
   ],
   "source": [
    "prod_sells_by_S5.head()"
   ]
  },
  {
   "cell_type": "code",
   "execution_count": 28,
   "metadata": {
    "collapsed": false
   },
   "outputs": [],
   "source": [
    "prod_sells_by_S5 =prod_sells_by_S5.unstack()"
   ]
  },
  {
   "cell_type": "code",
   "execution_count": 29,
   "metadata": {
    "collapsed": false
   },
   "outputs": [
    {
     "data": {
      "text/html": [
       "<div>\n",
       "<table border=\"1\" class=\"dataframe\">\n",
       "  <thead>\n",
       "    <tr style=\"text-align: right;\">\n",
       "      <th>Cod_Prod</th>\n",
       "      <th>102</th>\n",
       "      <th>103</th>\n",
       "      <th>201</th>\n",
       "      <th>301</th>\n",
       "      <th>503</th>\n",
       "      <th>506</th>\n",
       "      <th>601</th>\n",
       "      <th>702</th>\n",
       "      <th>704</th>\n",
       "      <th>705</th>\n",
       "      <th>...</th>\n",
       "      <th>2704</th>\n",
       "      <th>2705</th>\n",
       "      <th>2706</th>\n",
       "      <th>2707</th>\n",
       "      <th>3001</th>\n",
       "      <th>3101</th>\n",
       "      <th>3401</th>\n",
       "      <th>9991</th>\n",
       "      <th>9992</th>\n",
       "      <th>9993</th>\n",
       "    </tr>\n",
       "    <tr>\n",
       "      <th>Socio_Demo_05</th>\n",
       "      <th></th>\n",
       "      <th></th>\n",
       "      <th></th>\n",
       "      <th></th>\n",
       "      <th></th>\n",
       "      <th></th>\n",
       "      <th></th>\n",
       "      <th></th>\n",
       "      <th></th>\n",
       "      <th></th>\n",
       "      <th></th>\n",
       "      <th></th>\n",
       "      <th></th>\n",
       "      <th></th>\n",
       "      <th></th>\n",
       "      <th></th>\n",
       "      <th></th>\n",
       "      <th></th>\n",
       "      <th></th>\n",
       "      <th></th>\n",
       "      <th></th>\n",
       "    </tr>\n",
       "  </thead>\n",
       "  <tbody>\n",
       "    <tr>\n",
       "      <th>0</th>\n",
       "      <td>829</td>\n",
       "      <td>1323</td>\n",
       "      <td>271312</td>\n",
       "      <td>349287</td>\n",
       "      <td>931</td>\n",
       "      <td>300</td>\n",
       "      <td>564472</td>\n",
       "      <td>4270</td>\n",
       "      <td>80743</td>\n",
       "      <td>739</td>\n",
       "      <td>...</td>\n",
       "      <td>80572</td>\n",
       "      <td>43809</td>\n",
       "      <td>5752</td>\n",
       "      <td>23523</td>\n",
       "      <td>8444</td>\n",
       "      <td>440</td>\n",
       "      <td>3059</td>\n",
       "      <td>196601</td>\n",
       "      <td>15688</td>\n",
       "      <td>196601</td>\n",
       "    </tr>\n",
       "    <tr>\n",
       "      <th>1</th>\n",
       "      <td>127</td>\n",
       "      <td>314</td>\n",
       "      <td>11201</td>\n",
       "      <td>18218</td>\n",
       "      <td>1637</td>\n",
       "      <td>31</td>\n",
       "      <td>22017</td>\n",
       "      <td>142</td>\n",
       "      <td>2846</td>\n",
       "      <td>30</td>\n",
       "      <td>...</td>\n",
       "      <td>2950</td>\n",
       "      <td>1317</td>\n",
       "      <td>217</td>\n",
       "      <td>1982</td>\n",
       "      <td>400</td>\n",
       "      <td>35</td>\n",
       "      <td>1015</td>\n",
       "      <td>8240</td>\n",
       "      <td>15831</td>\n",
       "      <td>8240</td>\n",
       "    </tr>\n",
       "    <tr>\n",
       "      <th>2</th>\n",
       "      <td>581</td>\n",
       "      <td>279</td>\n",
       "      <td>16724</td>\n",
       "      <td>17239</td>\n",
       "      <td>88</td>\n",
       "      <td>58</td>\n",
       "      <td>21638</td>\n",
       "      <td>173</td>\n",
       "      <td>2195</td>\n",
       "      <td>20</td>\n",
       "      <td>...</td>\n",
       "      <td>5056</td>\n",
       "      <td>2022</td>\n",
       "      <td>297</td>\n",
       "      <td>2057</td>\n",
       "      <td>688</td>\n",
       "      <td>33</td>\n",
       "      <td>908</td>\n",
       "      <td>5418</td>\n",
       "      <td>10999</td>\n",
       "      <td>5418</td>\n",
       "    </tr>\n",
       "    <tr>\n",
       "      <th>3</th>\n",
       "      <td>669</td>\n",
       "      <td>911</td>\n",
       "      <td>40449</td>\n",
       "      <td>41425</td>\n",
       "      <td>203</td>\n",
       "      <td>280</td>\n",
       "      <td>53629</td>\n",
       "      <td>446</td>\n",
       "      <td>6025</td>\n",
       "      <td>124</td>\n",
       "      <td>...</td>\n",
       "      <td>13149</td>\n",
       "      <td>4886</td>\n",
       "      <td>723</td>\n",
       "      <td>3725</td>\n",
       "      <td>1652</td>\n",
       "      <td>78</td>\n",
       "      <td>2781</td>\n",
       "      <td>20164</td>\n",
       "      <td>29144</td>\n",
       "      <td>20164</td>\n",
       "    </tr>\n",
       "  </tbody>\n",
       "</table>\n",
       "<p>4 rows × 71 columns</p>\n",
       "</div>"
      ],
      "text/plain": [
       "Cod_Prod       102   103     201     301   503   506     601   702    704   \\\n",
       "Socio_Demo_05                                                                \n",
       "0               829  1323  271312  349287   931   300  564472  4270  80743   \n",
       "1               127   314   11201   18218  1637    31   22017   142   2846   \n",
       "2               581   279   16724   17239    88    58   21638   173   2195   \n",
       "3               669   911   40449   41425   203   280   53629   446   6025   \n",
       "\n",
       "Cod_Prod       705    ...     2704   2705  2706   2707  3001  3101  3401  \\\n",
       "Socio_Demo_05         ...                                                  \n",
       "0               739   ...    80572  43809  5752  23523  8444   440  3059   \n",
       "1                30   ...     2950   1317   217   1982   400    35  1015   \n",
       "2                20   ...     5056   2022   297   2057   688    33   908   \n",
       "3               124   ...    13149   4886   723   3725  1652    78  2781   \n",
       "\n",
       "Cod_Prod         9991   9992    9993  \n",
       "Socio_Demo_05                         \n",
       "0              196601  15688  196601  \n",
       "1                8240  15831    8240  \n",
       "2                5418  10999    5418  \n",
       "3               20164  29144   20164  \n",
       "\n",
       "[4 rows x 71 columns]"
      ]
     },
     "execution_count": 29,
     "metadata": {},
     "output_type": "execute_result"
    }
   ],
   "source": [
    "prod_sells_by_S5"
   ]
  },
  {
   "cell_type": "code",
   "execution_count": 32,
   "metadata": {
    "collapsed": false
   },
   "outputs": [
    {
     "data": {
      "text/plain": [
       "Int64Index([ 102,  103,  201,  301,  503,  506,  601,  702,  704,  705,  706,\n",
       "             707,  708,  801, 1001, 1002, 1007, 1009, 1011, 1012, 1013, 1017,\n",
       "            1019, 1020, 1021, 1022, 1301, 1302, 1303, 1304, 1306, 1307, 1309,\n",
       "            1310, 1311, 1401, 1501, 1801, 1802, 1804, 1805, 2102, 2103, 2105,\n",
       "            2106, 2201, 2202, 2203, 2204, 2205, 2206, 2301, 2302, 2401, 2501,\n",
       "            2503, 2601, 2602, 2701, 2702, 2703, 2704, 2705, 2706, 2707, 3001,\n",
       "            3101, 3401, 9991, 9992, 9993],\n",
       "           dtype='int64', name=u'Cod_Prod')"
      ]
     },
     "execution_count": 32,
     "metadata": {},
     "output_type": "execute_result"
    }
   ],
   "source": [
    "prod_sells_by_S5.columns"
   ]
  },
  {
   "cell_type": "code",
   "execution_count": null,
   "metadata": {
    "collapsed": true
   },
   "outputs": [],
   "source": []
  },
  {
   "cell_type": "code",
   "execution_count": 37,
   "metadata": {
    "collapsed": false
   },
   "outputs": [],
   "source": [
    "#We now normalize prod_sells_by_S5, \n",
    "#so we can see where do this products perform better and if as expected it is an important aspect\n",
    "prod_sells_by_S5norm = prod_sells_by_S5.copy()\n",
    "for i in prod_sells_by_S5norm.columns:\n",
    "    prod_sells_by_S5norm[i] = prod_sells_by_S5norm[i]/prod_sells_by_S5norm[i].sum()\n",
    "    "
   ]
  },
  {
   "cell_type": "code",
   "execution_count": 95,
   "metadata": {
    "collapsed": false
   },
   "outputs": [
    {
     "data": {
      "text/html": [
       "<div>\n",
       "<table border=\"1\" class=\"dataframe\">\n",
       "  <thead>\n",
       "    <tr style=\"text-align: right;\">\n",
       "      <th>Cod_Prod</th>\n",
       "      <th>102</th>\n",
       "      <th>103</th>\n",
       "      <th>201</th>\n",
       "      <th>301</th>\n",
       "      <th>503</th>\n",
       "      <th>506</th>\n",
       "      <th>601</th>\n",
       "      <th>702</th>\n",
       "      <th>704</th>\n",
       "      <th>705</th>\n",
       "      <th>706</th>\n",
       "      <th>707</th>\n",
       "      <th>708</th>\n",
       "      <th>801</th>\n",
       "      <th>1001</th>\n",
       "      <th>1002</th>\n",
       "      <th>1007</th>\n",
       "      <th>1009</th>\n",
       "      <th>1011</th>\n",
       "      <th>1012</th>\n",
       "    </tr>\n",
       "    <tr>\n",
       "      <th>Socio_Demo_05</th>\n",
       "      <th></th>\n",
       "      <th></th>\n",
       "      <th></th>\n",
       "      <th></th>\n",
       "      <th></th>\n",
       "      <th></th>\n",
       "      <th></th>\n",
       "      <th></th>\n",
       "      <th></th>\n",
       "      <th></th>\n",
       "      <th></th>\n",
       "      <th></th>\n",
       "      <th></th>\n",
       "      <th></th>\n",
       "      <th></th>\n",
       "      <th></th>\n",
       "      <th></th>\n",
       "      <th></th>\n",
       "      <th></th>\n",
       "      <th></th>\n",
       "    </tr>\n",
       "  </thead>\n",
       "  <tbody>\n",
       "    <tr>\n",
       "      <th>0</th>\n",
       "      <td>0.375793</td>\n",
       "      <td>0.467987</td>\n",
       "      <td>0.798714</td>\n",
       "      <td>0.819597</td>\n",
       "      <td>0.325638</td>\n",
       "      <td>0.448430</td>\n",
       "      <td>0.852991</td>\n",
       "      <td>0.848738</td>\n",
       "      <td>0.879467</td>\n",
       "      <td>0.809419</td>\n",
       "      <td>0.895203</td>\n",
       "      <td>0.902055</td>\n",
       "      <td>0.895450</td>\n",
       "      <td>0.525889</td>\n",
       "      <td>0.529527</td>\n",
       "      <td>0.788387</td>\n",
       "      <td>0.684449</td>\n",
       "      <td>0.184043</td>\n",
       "      <td>0.808925</td>\n",
       "      <td>0.313620</td>\n",
       "    </tr>\n",
       "    <tr>\n",
       "      <th>1</th>\n",
       "      <td>0.057570</td>\n",
       "      <td>0.111072</td>\n",
       "      <td>0.032975</td>\n",
       "      <td>0.042748</td>\n",
       "      <td>0.572578</td>\n",
       "      <td>0.046338</td>\n",
       "      <td>0.033271</td>\n",
       "      <td>0.028225</td>\n",
       "      <td>0.030999</td>\n",
       "      <td>0.032859</td>\n",
       "      <td>0.026721</td>\n",
       "      <td>0.022664</td>\n",
       "      <td>0.019301</td>\n",
       "      <td>0.120878</td>\n",
       "      <td>0.155065</td>\n",
       "      <td>0.073118</td>\n",
       "      <td>0.037745</td>\n",
       "      <td>0.021986</td>\n",
       "      <td>0.041535</td>\n",
       "      <td>0.469534</td>\n",
       "    </tr>\n",
       "    <tr>\n",
       "      <th>2</th>\n",
       "      <td>0.263373</td>\n",
       "      <td>0.098691</td>\n",
       "      <td>0.049234</td>\n",
       "      <td>0.040451</td>\n",
       "      <td>0.030780</td>\n",
       "      <td>0.086697</td>\n",
       "      <td>0.032698</td>\n",
       "      <td>0.034387</td>\n",
       "      <td>0.023908</td>\n",
       "      <td>0.021906</td>\n",
       "      <td>0.019365</td>\n",
       "      <td>0.020770</td>\n",
       "      <td>0.025276</td>\n",
       "      <td>0.079663</td>\n",
       "      <td>0.107255</td>\n",
       "      <td>0.040323</td>\n",
       "      <td>0.089079</td>\n",
       "      <td>0.717376</td>\n",
       "      <td>0.044471</td>\n",
       "      <td>0.082437</td>\n",
       "    </tr>\n",
       "    <tr>\n",
       "      <th>3</th>\n",
       "      <td>0.303264</td>\n",
       "      <td>0.322250</td>\n",
       "      <td>0.119078</td>\n",
       "      <td>0.097203</td>\n",
       "      <td>0.071004</td>\n",
       "      <td>0.418535</td>\n",
       "      <td>0.081040</td>\n",
       "      <td>0.088650</td>\n",
       "      <td>0.065625</td>\n",
       "      <td>0.135816</td>\n",
       "      <td>0.058711</td>\n",
       "      <td>0.054511</td>\n",
       "      <td>0.059972</td>\n",
       "      <td>0.273570</td>\n",
       "      <td>0.208154</td>\n",
       "      <td>0.098172</td>\n",
       "      <td>0.188727</td>\n",
       "      <td>0.076596</td>\n",
       "      <td>0.105069</td>\n",
       "      <td>0.134409</td>\n",
       "    </tr>\n",
       "  </tbody>\n",
       "</table>\n",
       "</div>"
      ],
      "text/plain": [
       "Cod_Prod           102       103       201       301       503       506   \\\n",
       "Socio_Demo_05                                                               \n",
       "0              0.375793  0.467987  0.798714  0.819597  0.325638  0.448430   \n",
       "1              0.057570  0.111072  0.032975  0.042748  0.572578  0.046338   \n",
       "2              0.263373  0.098691  0.049234  0.040451  0.030780  0.086697   \n",
       "3              0.303264  0.322250  0.119078  0.097203  0.071004  0.418535   \n",
       "\n",
       "Cod_Prod           601       702       704       705       706       707   \\\n",
       "Socio_Demo_05                                                               \n",
       "0              0.852991  0.848738  0.879467  0.809419  0.895203  0.902055   \n",
       "1              0.033271  0.028225  0.030999  0.032859  0.026721  0.022664   \n",
       "2              0.032698  0.034387  0.023908  0.021906  0.019365  0.020770   \n",
       "3              0.081040  0.088650  0.065625  0.135816  0.058711  0.054511   \n",
       "\n",
       "Cod_Prod           708       801       1001      1002      1007      1009  \\\n",
       "Socio_Demo_05                                                               \n",
       "0              0.895450  0.525889  0.529527  0.788387  0.684449  0.184043   \n",
       "1              0.019301  0.120878  0.155065  0.073118  0.037745  0.021986   \n",
       "2              0.025276  0.079663  0.107255  0.040323  0.089079  0.717376   \n",
       "3              0.059972  0.273570  0.208154  0.098172  0.188727  0.076596   \n",
       "\n",
       "Cod_Prod           1011      1012  \n",
       "Socio_Demo_05                      \n",
       "0              0.808925  0.313620  \n",
       "1              0.041535  0.469534  \n",
       "2              0.044471  0.082437  \n",
       "3              0.105069  0.134409  "
      ]
     },
     "execution_count": 95,
     "metadata": {},
     "output_type": "execute_result"
    }
   ],
   "source": [
    "prod_sells_by_S5norm[prods[0:20]]"
   ]
  },
  {
   "cell_type": "markdown",
   "metadata": {},
   "source": [
    "Looking at the data we see that there is huge variability in popularity of the products depending on on which category of S5 we look at."
   ]
  },
  {
   "cell_type": "markdown",
   "metadata": {},
   "source": [
    "   **HEM DE FER UN PLOT DE PROD VS SELLS A PARTIR DE prod_sells_byS5norm** Recordar que hi han molts mes clients S5= 0, per tant estara un pel esbiaxiat peor igualment ens serivrà. "
   ]
  },
  {
   "cell_type": "code",
   "execution_count": 87,
   "metadata": {
    "collapsed": false
   },
   "outputs": [
    {
     "ename": "IndexError",
     "evalue": "index 4 is out of bounds for axis 0 with size 4",
     "output_type": "error",
     "traceback": [
      "\u001b[0;31m---------------------------------------------------------------------------\u001b[0m",
      "\u001b[0;31mIndexError\u001b[0m                                Traceback (most recent call last)",
      "\u001b[0;32m<ipython-input-87-f4ce568f0838>\u001b[0m in \u001b[0;36m<module>\u001b[0;34m()\u001b[0m\n\u001b[1;32m      8\u001b[0m         \u001b[0;32mfor\u001b[0m \u001b[0mj\u001b[0m \u001b[0;32min\u001b[0m \u001b[0mrange\u001b[0m\u001b[0;34m(\u001b[0m\u001b[0;36m6\u001b[0m\u001b[0;34m)\u001b[0m\u001b[0;34m:\u001b[0m\u001b[0;34m\u001b[0m\u001b[0m\n\u001b[1;32m      9\u001b[0m             \u001b[0;32mif\u001b[0m \u001b[0;36m10\u001b[0m\u001b[0;34m*\u001b[0m\u001b[0mi\u001b[0m\u001b[0;34m+\u001b[0m\u001b[0mj\u001b[0m \u001b[0;34m<\u001b[0m \u001b[0mproducts\u001b[0m\u001b[0;34m.\u001b[0m\u001b[0msize\u001b[0m\u001b[0;34m:\u001b[0m\u001b[0;34m\u001b[0m\u001b[0m\n\u001b[0;32m---> 10\u001b[0;31m                 \u001b[0max2\u001b[0m\u001b[0;34m[\u001b[0m\u001b[0mi\u001b[0m\u001b[0;34m,\u001b[0m\u001b[0;36m0\u001b[0m\u001b[0;34m]\u001b[0m\u001b[0;34m=\u001b[0m\u001b[0mplt\u001b[0m\u001b[0;34m.\u001b[0m\u001b[0mbar\u001b[0m\u001b[0;34m(\u001b[0m\u001b[0mprod_sells_by_S5norm\u001b[0m\u001b[0;34m.\u001b[0m\u001b[0mindex\u001b[0m\u001b[0;34m.\u001b[0m\u001b[0mvalues\u001b[0m\u001b[0;34m,\u001b[0m\u001b[0mprod_sells_by_S5norm\u001b[0m\u001b[0;34m[\u001b[0m\u001b[0mprods\u001b[0m\u001b[0;34m[\u001b[0m\u001b[0mi\u001b[0m\u001b[0;34m]\u001b[0m\u001b[0;34m]\u001b[0m \u001b[0;34m,\u001b[0m\u001b[0mcolor\u001b[0m\u001b[0;34m=\u001b[0m\u001b[0mcolors\u001b[0m\u001b[0;34m[\u001b[0m\u001b[0mj\u001b[0m\u001b[0;34m]\u001b[0m\u001b[0;34m,\u001b[0m \u001b[0mlabel\u001b[0m\u001b[0;34m=\u001b[0m\u001b[0mstr\u001b[0m\u001b[0;34m(\u001b[0m\u001b[0mprods\u001b[0m\u001b[0;34m)\u001b[0m\u001b[0;34m)\u001b[0m\u001b[0;34m\u001b[0m\u001b[0m\n\u001b[0m",
      "\u001b[0;31mIndexError\u001b[0m: index 4 is out of bounds for axis 0 with size 4"
     ]
    }
   ],
   "source": [
    "rcParams['figure.figsize'] = 5, 50\n",
    "rows=4\n",
    "cols=3\n",
    "f, ax2= plt.subplots(rows,cols, sharex=False, sharey=True )\n",
    "colors = ['#0000FF','#4682B4','#00FFFF','#008000','#9ACD32','#EEE8AA','#FFD700','#FFA500','#FF4500','#B22222'] \n",
    "prods=prod_sells_by_S5norm.columns\n",
    "for i in range(prods.size/10+1):\n",
    "        for j in range(6):\n",
    "            if 10*i+j < products.size:\n",
    "                ax2[i,0]=plt.bar(prod_sells_by_S5norm.index.values,prod_sells_by_S5norm[prods[i]] ,color=colors[j], label=str(prods))"
   ]
  },
  {
   "cell_type": "code",
   "execution_count": 82,
   "metadata": {
    "collapsed": false
   },
   "outputs": [
    {
     "data": {
      "text/plain": [
       "17"
      ]
     },
     "execution_count": 82,
     "metadata": {},
     "output_type": "execute_result"
    }
   ],
   "source": [
    "prods.size/4"
   ]
  },
  {
   "cell_type": "code",
   "execution_count": 83,
   "metadata": {
    "collapsed": false
   },
   "outputs": [],
   "source": [
    "rcParams['figure.figsize'] = 15, 40\n",
    "rows=10\n",
    "cols=5\n",
    "f, ax2= plt.subplots(rows, cols, sharex=False, sharey=False)\n",
    "colors = ['#0000FF','#4682B4','#00FFFF','#008000','#9ACD32','#EEE8AA','#FFD700','#FFA500','#FF4500','#B22222'] \n",
    "products=prod_sells_by_S5norm.columns\n",
    "for i in range(0, products.size/10+1):\n",
    "    for j in range(10):\n",
    "        if 10*i+j < products.size: #Products definido en la celda de arriba\n",
    "            product = products[10*i+j]\n",
    "            ax2[i,0].plot(prod_sells_by_S5norm.index.values, prod_sells_by_S5norm[products[j]], color=colors[j], label=str(product))\n",
    "    #leyenda for k in range(5):"
   ]
  },
  {
   "cell_type": "code",
   "execution_count": null,
   "metadata": {
    "collapsed": false
   },
   "outputs": [],
   "source": []
  },
  {
   "cell_type": "code",
   "execution_count": 46,
   "metadata": {
    "collapsed": false
   },
   "outputs": [
    {
     "data": {
      "text/plain": [
       "array([0, 1, 2, 3])"
      ]
     },
     "execution_count": 46,
     "metadata": {},
     "output_type": "execute_result"
    }
   ],
   "source": [
    "prod_sells_by_S5.index.values"
   ]
  },
  {
   "cell_type": "code",
   "execution_count": 50,
   "metadata": {
    "collapsed": false,
    "scrolled": true
   },
   "outputs": [
    {
     "ename": "NameError",
     "evalue": "name 'products' is not defined",
     "output_type": "error",
     "traceback": [
      "\u001b[0;31m---------------------------------------------------------------------------\u001b[0m",
      "\u001b[0;31mNameError\u001b[0m                                 Traceback (most recent call last)",
      "\u001b[0;32m<ipython-input-50-457ba0613ebd>\u001b[0m in \u001b[0;36m<module>\u001b[0;34m()\u001b[0m\n\u001b[0;32m----> 1\u001b[0;31m \u001b[0;32mfor\u001b[0m \u001b[0mi\u001b[0m \u001b[0;32min\u001b[0m \u001b[0mrange\u001b[0m\u001b[0;34m(\u001b[0m\u001b[0;36m0\u001b[0m\u001b[0;34m,\u001b[0m \u001b[0mproducts\u001b[0m\u001b[0;34m.\u001b[0m\u001b[0msize\u001b[0m\u001b[0;34m/\u001b[0m\u001b[0;36m10\u001b[0m\u001b[0;34m+\u001b[0m\u001b[0;36m1\u001b[0m\u001b[0;34m)\u001b[0m\u001b[0;34m:\u001b[0m\u001b[0;34m\u001b[0m\u001b[0m\n\u001b[0m\u001b[1;32m      2\u001b[0m     \u001b[0;32mfor\u001b[0m \u001b[0mj\u001b[0m \u001b[0;32min\u001b[0m \u001b[0mrange\u001b[0m\u001b[0;34m(\u001b[0m\u001b[0;36m10\u001b[0m\u001b[0;34m)\u001b[0m\u001b[0;34m:\u001b[0m\u001b[0;34m\u001b[0m\u001b[0m\n\u001b[1;32m      3\u001b[0m         \u001b[0;32mif\u001b[0m \u001b[0;36m10\u001b[0m\u001b[0;34m*\u001b[0m\u001b[0mi\u001b[0m\u001b[0;34m+\u001b[0m\u001b[0mj\u001b[0m \u001b[0;34m<\u001b[0m \u001b[0mproducts\u001b[0m\u001b[0;34m.\u001b[0m\u001b[0msize\u001b[0m\u001b[0;34m:\u001b[0m \u001b[0;31m#Products definido en la celda de arriba\u001b[0m\u001b[0;34m\u001b[0m\u001b[0m\n\u001b[1;32m      4\u001b[0m             \u001b[0mproduct\u001b[0m \u001b[0;34m=\u001b[0m \u001b[0mproducts\u001b[0m\u001b[0;34m[\u001b[0m\u001b[0;36m10\u001b[0m\u001b[0;34m*\u001b[0m\u001b[0mi\u001b[0m\u001b[0;34m+\u001b[0m\u001b[0mj\u001b[0m\u001b[0;34m]\u001b[0m\u001b[0;34m\u001b[0m\u001b[0m\n\u001b[1;32m      5\u001b[0m             \u001b[0mdf\u001b[0m\u001b[0;34m=\u001b[0m\u001b[0mproduct_rel\u001b[0m\u001b[0;34m(\u001b[0m\u001b[0mdata\u001b[0m\u001b[0;34m,\u001b[0m \u001b[0mproduct\u001b[0m\u001b[0;34m)\u001b[0m\u001b[0;34m\u001b[0m\u001b[0m\n",
      "\u001b[0;31mNameError\u001b[0m: name 'products' is not defined"
     ]
    }
   ],
   "source": [
    "for i in range(0, products.size/10+1):\n",
    "    for j in range(10):\n",
    "        if 10*i+j < products.size: #Products definido en la celda de arriba\n",
    "            product = products[10*i+j]\n",
    "            df=product_rel(data, product)\n",
    "            ax2[i,0].plot(df.index.values, df.Socio_Demo_01, color=colors[j], label=str(product))\n",
    "            ax2[i,1].plot(df.index.values, df.Socio_Demo_02, color=colors[j], label=str(product))\n",
    "            ax2[i,2].plot(df.index.values, df.Socio_Demo_03, color=colors[j], label=str(product))\n",
    "            ax2[i,3].plot([1,2], df.Socio_Demo_04[:2], color=colors[j], label=str(product))\n",
    "            ax2[i,4].plot(range(4), df.Socio_Demo_05[:4], color=colors[j], label=str(product))\n",
    "    #leyenda for k in range(5):"
   ]
  },
  {
   "cell_type": "code",
   "execution_count": 154,
   "metadata": {
    "collapsed": false,
    "scrolled": true
   },
   "outputs": [
    {
     "ename": "ValueError",
     "evalue": "labels ['Socio_Demo_04'] not contained in axis",
     "output_type": "error",
     "traceback": [
      "\u001b[0;31m---------------------------------------------------------------------------\u001b[0m",
      "\u001b[0;31mValueError\u001b[0m                                Traceback (most recent call last)",
      "\u001b[0;32m<ipython-input-154-ca927061e8e9>\u001b[0m in \u001b[0;36m<module>\u001b[0;34m()\u001b[0m\n\u001b[0;32m----> 1\u001b[0;31m \u001b[0mfilt_data\u001b[0m\u001b[0;34m.\u001b[0m\u001b[0mdrop\u001b[0m\u001b[0;34m(\u001b[0m\u001b[0;34m'Socio_Demo_04'\u001b[0m\u001b[0;34m,\u001b[0m \u001b[0maxis\u001b[0m\u001b[0;34m=\u001b[0m\u001b[0;36m1\u001b[0m\u001b[0;34m,\u001b[0m\u001b[0minplace\u001b[0m\u001b[0;34m=\u001b[0m \u001b[0mTrue\u001b[0m\u001b[0;34m)\u001b[0m\u001b[0;34m\u001b[0m\u001b[0m\n\u001b[0m\u001b[1;32m      2\u001b[0m \u001b[0mfilt_data\u001b[0m\u001b[0;34m.\u001b[0m\u001b[0mhead\u001b[0m\u001b[0;34m(\u001b[0m\u001b[0;34m)\u001b[0m\u001b[0;34m\u001b[0m\u001b[0m\n",
      "\u001b[0;32m//anaconda/lib/python2.7/site-packages/pandas/core/generic.pyc\u001b[0m in \u001b[0;36mdrop\u001b[0;34m(self, labels, axis, level, inplace, errors)\u001b[0m\n\u001b[1;32m   1875\u001b[0m                 \u001b[0mnew_axis\u001b[0m \u001b[0;34m=\u001b[0m \u001b[0maxis\u001b[0m\u001b[0;34m.\u001b[0m\u001b[0mdrop\u001b[0m\u001b[0;34m(\u001b[0m\u001b[0mlabels\u001b[0m\u001b[0;34m,\u001b[0m \u001b[0mlevel\u001b[0m\u001b[0;34m=\u001b[0m\u001b[0mlevel\u001b[0m\u001b[0;34m,\u001b[0m \u001b[0merrors\u001b[0m\u001b[0;34m=\u001b[0m\u001b[0merrors\u001b[0m\u001b[0;34m)\u001b[0m\u001b[0;34m\u001b[0m\u001b[0m\n\u001b[1;32m   1876\u001b[0m             \u001b[0;32melse\u001b[0m\u001b[0;34m:\u001b[0m\u001b[0;34m\u001b[0m\u001b[0m\n\u001b[0;32m-> 1877\u001b[0;31m                 \u001b[0mnew_axis\u001b[0m \u001b[0;34m=\u001b[0m \u001b[0maxis\u001b[0m\u001b[0;34m.\u001b[0m\u001b[0mdrop\u001b[0m\u001b[0;34m(\u001b[0m\u001b[0mlabels\u001b[0m\u001b[0;34m,\u001b[0m \u001b[0merrors\u001b[0m\u001b[0;34m=\u001b[0m\u001b[0merrors\u001b[0m\u001b[0;34m)\u001b[0m\u001b[0;34m\u001b[0m\u001b[0m\n\u001b[0m\u001b[1;32m   1878\u001b[0m             \u001b[0mdropped\u001b[0m \u001b[0;34m=\u001b[0m \u001b[0mself\u001b[0m\u001b[0;34m.\u001b[0m\u001b[0mreindex\u001b[0m\u001b[0;34m(\u001b[0m\u001b[0;34m**\u001b[0m\u001b[0;34m{\u001b[0m\u001b[0maxis_name\u001b[0m\u001b[0;34m:\u001b[0m \u001b[0mnew_axis\u001b[0m\u001b[0;34m}\u001b[0m\u001b[0;34m)\u001b[0m\u001b[0;34m\u001b[0m\u001b[0m\n\u001b[1;32m   1879\u001b[0m             \u001b[0;32mtry\u001b[0m\u001b[0;34m:\u001b[0m\u001b[0;34m\u001b[0m\u001b[0m\n",
      "\u001b[0;32m//anaconda/lib/python2.7/site-packages/pandas/indexes/base.pyc\u001b[0m in \u001b[0;36mdrop\u001b[0;34m(self, labels, errors)\u001b[0m\n\u001b[1;32m   3049\u001b[0m             \u001b[0;32mif\u001b[0m \u001b[0merrors\u001b[0m \u001b[0;34m!=\u001b[0m \u001b[0;34m'ignore'\u001b[0m\u001b[0;34m:\u001b[0m\u001b[0;34m\u001b[0m\u001b[0m\n\u001b[1;32m   3050\u001b[0m                 raise ValueError('labels %s not contained in axis' %\n\u001b[0;32m-> 3051\u001b[0;31m                                  labels[mask])\n\u001b[0m\u001b[1;32m   3052\u001b[0m             \u001b[0mindexer\u001b[0m \u001b[0;34m=\u001b[0m \u001b[0mindexer\u001b[0m\u001b[0;34m[\u001b[0m\u001b[0;34m~\u001b[0m\u001b[0mmask\u001b[0m\u001b[0;34m]\u001b[0m\u001b[0;34m\u001b[0m\u001b[0m\n\u001b[1;32m   3053\u001b[0m         \u001b[0;32mreturn\u001b[0m \u001b[0mself\u001b[0m\u001b[0;34m.\u001b[0m\u001b[0mdelete\u001b[0m\u001b[0;34m(\u001b[0m\u001b[0mindexer\u001b[0m\u001b[0;34m)\u001b[0m\u001b[0;34m\u001b[0m\u001b[0m\n",
      "\u001b[0;31mValueError\u001b[0m: labels ['Socio_Demo_04'] not contained in axis"
     ]
    }
   ],
   "source": [
    "filt_data.drop('Socio_Demo_04', axis=1,inplace= True)\n",
    "filt_data.head()"
   ]
  },
  {
   "cell_type": "markdown",
   "metadata": {},
   "source": [
    "Excluyendo el sexo por razones eticas. Para más informacion sobre nuestra decision consultar https://obamawhitehouse.archives.gov/blog/2016/05/04/big-risks-big-opportunities-intersection-big-data-and-civil-rights\n",
    "\n"
   ]
  },
  {
   "cell_type": "markdown",
   "metadata": {},
   "source": [
    "Dividimos los datos en 4 tipos segun su S5"
   ]
  },
  {
   "cell_type": "code",
   "execution_count": 161,
   "metadata": {
    "collapsed": false
   },
   "outputs": [
    {
     "data": {
      "text/plain": [
       "Series([], Name: Cod_Prod, dtype: int64)"
      ]
     },
     "execution_count": 161,
     "metadata": {},
     "output_type": "execute_result"
    }
   ],
   "source": [
    "grouped =filt_data.groupby('ID_Customer')['Cod_Prod'].count()\n",
    "grouped[grouped ==1 ]"
   ]
  },
  {
   "cell_type": "code",
   "execution_count": 162,
   "metadata": {
    "collapsed": true
   },
   "outputs": [],
   "source": [
    "#We split the data set into subcategories acording to its S5\n",
    "\n",
    "data_0 = filt_data.query('Socio_Demo_05 == 0')\n",
    "data_1 = filt_data.query('Socio_Demo_05 == 1')\n",
    "data_2 = filt_data.query('Socio_Demo_05 == 2')\n",
    "data_3 = filt_data.query('Socio_Demo_05 == 3')\n"
   ]
  },
  {
   "cell_type": "code",
   "execution_count": 163,
   "metadata": {
    "collapsed": false
   },
   "outputs": [
    {
     "name": "stdout",
     "output_type": "stream",
     "text": [
      "(2585119, 7)\n",
      "(163078, 7)\n",
      "(154620, 7)\n"
     ]
    },
    {
     "data": {
      "text/plain": [
       "Socio_Demo_05\n",
       "0    2585119\n",
       "1     163078\n",
       "2     154620\n",
       "3     372481\n",
       "Name: ID_Customer, dtype: int64"
      ]
     },
     "execution_count": 163,
     "metadata": {},
     "output_type": "execute_result"
    }
   ],
   "source": [
    "print data_0.shape\n",
    "print data_1.shape\n",
    "print data_2.shape\n",
    "filt_data.groupby('Socio_Demo_05')['ID_Customer'].count()\n",
    "\n",
    "#Todo bien"
   ]
  },
  {
   "cell_type": "code",
   "execution_count": 108,
   "metadata": {
    "collapsed": false
   },
   "outputs": [
    {
     "data": {
      "text/html": [
       "<div>\n",
       "<table border=\"1\" class=\"dataframe\">\n",
       "  <thead>\n",
       "    <tr style=\"text-align: right;\">\n",
       "      <th></th>\n",
       "      <th>ID_Customer</th>\n",
       "      <th>Cod_Prod</th>\n",
       "      <th>Cod_Fecha</th>\n",
       "      <th>Socio_Demo_01</th>\n",
       "      <th>Socio_Demo_02</th>\n",
       "      <th>Socio_Demo_03</th>\n",
       "      <th>Socio_Demo_05</th>\n",
       "    </tr>\n",
       "  </thead>\n",
       "  <tbody>\n",
       "    <tr>\n",
       "      <th>0</th>\n",
       "      <td>A0000001</td>\n",
       "      <td>601</td>\n",
       "      <td>2007-05</td>\n",
       "      <td>5</td>\n",
       "      <td>4</td>\n",
       "      <td>3</td>\n",
       "      <td>0</td>\n",
       "    </tr>\n",
       "    <tr>\n",
       "      <th>1</th>\n",
       "      <td>A0000001</td>\n",
       "      <td>704</td>\n",
       "      <td>2013-04</td>\n",
       "      <td>5</td>\n",
       "      <td>4</td>\n",
       "      <td>3</td>\n",
       "      <td>0</td>\n",
       "    </tr>\n",
       "    <tr>\n",
       "      <th>2</th>\n",
       "      <td>A0000001</td>\n",
       "      <td>2501</td>\n",
       "      <td>2006-03</td>\n",
       "      <td>5</td>\n",
       "      <td>4</td>\n",
       "      <td>3</td>\n",
       "      <td>0</td>\n",
       "    </tr>\n",
       "    <tr>\n",
       "      <th>3</th>\n",
       "      <td>A0000001</td>\n",
       "      <td>2503</td>\n",
       "      <td>2006-03</td>\n",
       "      <td>5</td>\n",
       "      <td>4</td>\n",
       "      <td>3</td>\n",
       "      <td>0</td>\n",
       "    </tr>\n",
       "    <tr>\n",
       "      <th>4</th>\n",
       "      <td>A0000001</td>\n",
       "      <td>1011</td>\n",
       "      <td>2011-04</td>\n",
       "      <td>5</td>\n",
       "      <td>4</td>\n",
       "      <td>3</td>\n",
       "      <td>0</td>\n",
       "    </tr>\n",
       "  </tbody>\n",
       "</table>\n",
       "</div>"
      ],
      "text/plain": [
       "  ID_Customer  Cod_Prod Cod_Fecha  Socio_Demo_01  Socio_Demo_02  \\\n",
       "0    A0000001       601   2007-05              5              4   \n",
       "1    A0000001       704   2013-04              5              4   \n",
       "2    A0000001      2501   2006-03              5              4   \n",
       "3    A0000001      2503   2006-03              5              4   \n",
       "4    A0000001      1011   2011-04              5              4   \n",
       "\n",
       "   Socio_Demo_03  Socio_Demo_05  \n",
       "0              3              0  \n",
       "1              3              0  \n",
       "2              3              0  \n",
       "3              3              0  \n",
       "4              3              0  "
      ]
     },
     "execution_count": 108,
     "metadata": {},
     "output_type": "execute_result"
    }
   ],
   "source": [
    "data_0.head()"
   ]
  },
  {
   "cell_type": "code",
   "execution_count": null,
   "metadata": {
    "collapsed": false
   },
   "outputs": [],
   "source": []
  },
  {
   "cell_type": "markdown",
   "metadata": {},
   "source": [
    "Entrenaremos una red neuronal para cada grupo de datos, la entrada sera, el vector de productos comprados con 0 si no lo ha contratado y 1 si sí, ademas añadiremos las features Socio_Demo en forma one-hot.\n",
    "\n",
    "Para entrenar la red hay que dividir los datos en features i target, necesitamos eliminar la ultima compra de cada usuario i trasladar-lo al target"
   ]
  },
  {
   "cell_type": "code",
   "execution_count": null,
   "metadata": {
    "collapsed": true
   },
   "outputs": [],
   "source": []
  },
  {
   "cell_type": "code",
   "execution_count": 199,
   "metadata": {
    "collapsed": true
   },
   "outputs": [],
   "source": [
    "def customer_buys(data):\n",
    "    \"\"\"\n",
    "        Crea la matriz idVSProd, nos da por cada usuario el vector de compra de productos \n",
    "        retorna dataframe (numero_customers, numero_productos)\n",
    "    \"\"\"\n",
    "    colnames = data.Cod_Prod.unique()\n",
    "    colnames.sort()\n",
    "    rownames = data.ID_Customer.unique()\n",
    "    rownames.sort()\n",
    "    idVSProd = pd.DataFrame(data=np.zeros((data.ID_Customer.unique().size,data.Cod_Prod.unique().size)),columns=colnames,index=rownames,dtype=int)\n",
    "    groupedData = data.groupby(['ID_Customer','Cod_Prod'])['Cod_Prod'].count()\n",
    "    for product in colnames:\n",
    "        columna = groupedData[:,product]\n",
    "        idVSProd.loc[columna.index,product] = columna.values\n",
    "    return idVSProd"
   ]
  },
  {
   "cell_type": "code",
   "execution_count": 128,
   "metadata": {
    "collapsed": true
   },
   "outputs": [],
   "source": [
    "def last_prod(df):\n",
    "    '''\n",
    "    returns a Series with indexes ID_customer values last product that customer bought\n",
    "    '''\n",
    "    data = df.copy()\n",
    "    data.sort_values('Cod_Fecha', inplace=True)\n",
    "    data_lastp = data.groupby('ID_Customer').last()\n",
    "    \n",
    "    return data_lastp.Cod_Prod"
   ]
  },
  {
   "cell_type": "code",
   "execution_count": 197,
   "metadata": {
    "collapsed": false
   },
   "outputs": [
    {
     "data": {
      "text/plain": [
       "(504637,)"
      ]
     },
     "execution_count": 197,
     "metadata": {},
     "output_type": "execute_result"
    }
   ],
   "source": [
    "data_0.ID_Customer.unique().shape"
   ]
  },
  {
   "cell_type": "code",
   "execution_count": 149,
   "metadata": {
    "collapsed": false
   },
   "outputs": [
    {
     "name": "stdout",
     "output_type": "stream",
     "text": [
      "CPU times: user 974 µs, sys: 144 µs, total: 1.12 ms\n",
      "Wall time: 990 µs\n"
     ]
    }
   ],
   "source": [
    "%%time\n",
    "#Borramos el ultimo producto Aqui estamos borrando ultimo producto de primer usuario, esto es el 704. Todo bien\n",
    "cust_prods_0.loc[data_0_lastp.index[0], data_0_lastp.ix[data_0_lastp.index[0]]] = 0\n",
    "cust_prods_0.ix[data_0_lastp.index[0]].head(10)"
   ]
  },
  {
   "cell_type": "code",
   "execution_count": null,
   "metadata": {
    "collapsed": true
   },
   "outputs": [],
   "source": []
  },
  {
   "cell_type": "code",
   "execution_count": 170,
   "metadata": {
    "collapsed": false
   },
   "outputs": [],
   "source": [
    "#Delete the last buys from the cust_prods and create the input\n",
    "#ESTO TARDA 12 MIN, no hay mejor manera de hacerlo ???\n",
    "def create_X(cust_prods, data):\n",
    "    \"\"\"\n",
    "    Devuelve el dataframe cust_buys (idVSProd) sin el ultimo producto\n",
    "    \n",
    "    cust_prods: és la matriz de compra de cada producto idVSprod\n",
    "    data: es el dataframe orignal /filtrado etc\n",
    "    \"\"\"\n",
    "#Compute the last products vector\n",
    "    train = cust_prods.copy()\n",
    "    last_product = last_prod(data) #It returns a Series with users as index and last product they bought as values\n",
    "    for i in last_product.index:\n",
    "        train.loc[i, last_product.ix[i]] = 0\n",
    "    return train"
   ]
  },
  {
   "cell_type": "code",
   "execution_count": 198,
   "metadata": {
    "collapsed": true
   },
   "outputs": [],
   "source": [
    "#Ceamos la matriz de compra de productos, por cada usuario.\n",
    "cust_prods_0 = customer_buys(data_0)"
   ]
  },
  {
   "cell_type": "code",
   "execution_count": 200,
   "metadata": {
    "collapsed": false
   },
   "outputs": [
    {
     "data": {
      "text/html": [
       "<div>\n",
       "<table border=\"1\" class=\"dataframe\">\n",
       "  <thead>\n",
       "    <tr style=\"text-align: right;\">\n",
       "      <th></th>\n",
       "      <th>102</th>\n",
       "      <th>103</th>\n",
       "      <th>201</th>\n",
       "      <th>301</th>\n",
       "      <th>503</th>\n",
       "      <th>506</th>\n",
       "      <th>601</th>\n",
       "      <th>702</th>\n",
       "      <th>704</th>\n",
       "      <th>705</th>\n",
       "      <th>...</th>\n",
       "      <th>2704</th>\n",
       "      <th>2705</th>\n",
       "      <th>2706</th>\n",
       "      <th>2707</th>\n",
       "      <th>3001</th>\n",
       "      <th>3101</th>\n",
       "      <th>3401</th>\n",
       "      <th>9991</th>\n",
       "      <th>9992</th>\n",
       "      <th>9993</th>\n",
       "    </tr>\n",
       "  </thead>\n",
       "  <tbody>\n",
       "    <tr>\n",
       "      <th>A0000001</th>\n",
       "      <td>0</td>\n",
       "      <td>0</td>\n",
       "      <td>0</td>\n",
       "      <td>0</td>\n",
       "      <td>0</td>\n",
       "      <td>0</td>\n",
       "      <td>1</td>\n",
       "      <td>0</td>\n",
       "      <td>1</td>\n",
       "      <td>0</td>\n",
       "      <td>...</td>\n",
       "      <td>0</td>\n",
       "      <td>0</td>\n",
       "      <td>0</td>\n",
       "      <td>0</td>\n",
       "      <td>0</td>\n",
       "      <td>0</td>\n",
       "      <td>0</td>\n",
       "      <td>0</td>\n",
       "      <td>0</td>\n",
       "      <td>0</td>\n",
       "    </tr>\n",
       "    <tr>\n",
       "      <th>A0000002</th>\n",
       "      <td>0</td>\n",
       "      <td>0</td>\n",
       "      <td>0</td>\n",
       "      <td>1</td>\n",
       "      <td>0</td>\n",
       "      <td>0</td>\n",
       "      <td>1</td>\n",
       "      <td>0</td>\n",
       "      <td>0</td>\n",
       "      <td>0</td>\n",
       "      <td>...</td>\n",
       "      <td>0</td>\n",
       "      <td>0</td>\n",
       "      <td>0</td>\n",
       "      <td>0</td>\n",
       "      <td>0</td>\n",
       "      <td>0</td>\n",
       "      <td>0</td>\n",
       "      <td>0</td>\n",
       "      <td>1</td>\n",
       "      <td>0</td>\n",
       "    </tr>\n",
       "    <tr>\n",
       "      <th>A0000003</th>\n",
       "      <td>0</td>\n",
       "      <td>0</td>\n",
       "      <td>1</td>\n",
       "      <td>1</td>\n",
       "      <td>0</td>\n",
       "      <td>0</td>\n",
       "      <td>1</td>\n",
       "      <td>0</td>\n",
       "      <td>0</td>\n",
       "      <td>0</td>\n",
       "      <td>...</td>\n",
       "      <td>0</td>\n",
       "      <td>0</td>\n",
       "      <td>0</td>\n",
       "      <td>0</td>\n",
       "      <td>0</td>\n",
       "      <td>0</td>\n",
       "      <td>0</td>\n",
       "      <td>0</td>\n",
       "      <td>0</td>\n",
       "      <td>0</td>\n",
       "    </tr>\n",
       "    <tr>\n",
       "      <th>A0000004</th>\n",
       "      <td>0</td>\n",
       "      <td>0</td>\n",
       "      <td>1</td>\n",
       "      <td>1</td>\n",
       "      <td>0</td>\n",
       "      <td>0</td>\n",
       "      <td>1</td>\n",
       "      <td>0</td>\n",
       "      <td>0</td>\n",
       "      <td>0</td>\n",
       "      <td>...</td>\n",
       "      <td>0</td>\n",
       "      <td>0</td>\n",
       "      <td>0</td>\n",
       "      <td>0</td>\n",
       "      <td>0</td>\n",
       "      <td>0</td>\n",
       "      <td>0</td>\n",
       "      <td>0</td>\n",
       "      <td>0</td>\n",
       "      <td>0</td>\n",
       "    </tr>\n",
       "    <tr>\n",
       "      <th>A0000005</th>\n",
       "      <td>0</td>\n",
       "      <td>0</td>\n",
       "      <td>0</td>\n",
       "      <td>1</td>\n",
       "      <td>0</td>\n",
       "      <td>0</td>\n",
       "      <td>1</td>\n",
       "      <td>0</td>\n",
       "      <td>0</td>\n",
       "      <td>0</td>\n",
       "      <td>...</td>\n",
       "      <td>0</td>\n",
       "      <td>0</td>\n",
       "      <td>0</td>\n",
       "      <td>0</td>\n",
       "      <td>0</td>\n",
       "      <td>0</td>\n",
       "      <td>0</td>\n",
       "      <td>0</td>\n",
       "      <td>0</td>\n",
       "      <td>0</td>\n",
       "    </tr>\n",
       "  </tbody>\n",
       "</table>\n",
       "<p>5 rows × 71 columns</p>\n",
       "</div>"
      ],
      "text/plain": [
       "          102   103   201   301   503   506   601   702   704   705   ...   \\\n",
       "A0000001     0     0     0     0     0     0     1     0     1     0  ...    \n",
       "A0000002     0     0     0     1     0     0     1     0     0     0  ...    \n",
       "A0000003     0     0     1     1     0     0     1     0     0     0  ...    \n",
       "A0000004     0     0     1     1     0     0     1     0     0     0  ...    \n",
       "A0000005     0     0     0     1     0     0     1     0     0     0  ...    \n",
       "\n",
       "          2704  2705  2706  2707  3001  3101  3401  9991  9992  9993  \n",
       "A0000001     0     0     0     0     0     0     0     0     0     0  \n",
       "A0000002     0     0     0     0     0     0     0     0     1     0  \n",
       "A0000003     0     0     0     0     0     0     0     0     0     0  \n",
       "A0000004     0     0     0     0     0     0     0     0     0     0  \n",
       "A0000005     0     0     0     0     0     0     0     0     0     0  \n",
       "\n",
       "[5 rows x 71 columns]"
      ]
     },
     "execution_count": 200,
     "metadata": {},
     "output_type": "execute_result"
    }
   ],
   "source": [
    "cust_prods_0.head()"
   ]
  },
  {
   "cell_type": "code",
   "execution_count": 201,
   "metadata": {
    "collapsed": false
   },
   "outputs": [],
   "source": [
    "X_0 = create_X(cust_prods_0, data_0)"
   ]
  },
  {
   "cell_type": "code",
   "execution_count": 208,
   "metadata": {
    "collapsed": false
   },
   "outputs": [
    {
     "data": {
      "text/plain": [
       "3"
      ]
     },
     "execution_count": 208,
     "metadata": {},
     "output_type": "execute_result"
    }
   ],
   "source": [
    "X_0.ix['A0000002'].sum()"
   ]
  },
  {
   "cell_type": "markdown",
   "metadata": {},
   "source": [
    "We have yet to add the features of every user. We shall use a one-hot encoding"
   ]
  },
  {
   "cell_type": "code",
   "execution_count": 173,
   "metadata": {
    "collapsed": false
   },
   "outputs": [
    {
     "data": {
      "text/html": [
       "<div>\n",
       "<table border=\"1\" class=\"dataframe\">\n",
       "  <thead>\n",
       "    <tr style=\"text-align: right;\">\n",
       "      <th></th>\n",
       "      <th>ID_Customer</th>\n",
       "      <th>Cod_Prod</th>\n",
       "      <th>Cod_Fecha</th>\n",
       "      <th>Socio_Demo_01</th>\n",
       "      <th>Socio_Demo_02</th>\n",
       "      <th>Socio_Demo_03</th>\n",
       "      <th>Socio_Demo_05</th>\n",
       "    </tr>\n",
       "  </thead>\n",
       "  <tbody>\n",
       "    <tr>\n",
       "      <th>0</th>\n",
       "      <td>A0000001</td>\n",
       "      <td>601</td>\n",
       "      <td>2007-05</td>\n",
       "      <td>5</td>\n",
       "      <td>4</td>\n",
       "      <td>3</td>\n",
       "      <td>0</td>\n",
       "    </tr>\n",
       "    <tr>\n",
       "      <th>1</th>\n",
       "      <td>A0000001</td>\n",
       "      <td>704</td>\n",
       "      <td>2013-04</td>\n",
       "      <td>5</td>\n",
       "      <td>4</td>\n",
       "      <td>3</td>\n",
       "      <td>0</td>\n",
       "    </tr>\n",
       "    <tr>\n",
       "      <th>2</th>\n",
       "      <td>A0000001</td>\n",
       "      <td>2501</td>\n",
       "      <td>2006-03</td>\n",
       "      <td>5</td>\n",
       "      <td>4</td>\n",
       "      <td>3</td>\n",
       "      <td>0</td>\n",
       "    </tr>\n",
       "    <tr>\n",
       "      <th>3</th>\n",
       "      <td>A0000001</td>\n",
       "      <td>2503</td>\n",
       "      <td>2006-03</td>\n",
       "      <td>5</td>\n",
       "      <td>4</td>\n",
       "      <td>3</td>\n",
       "      <td>0</td>\n",
       "    </tr>\n",
       "    <tr>\n",
       "      <th>4</th>\n",
       "      <td>A0000001</td>\n",
       "      <td>1011</td>\n",
       "      <td>2011-04</td>\n",
       "      <td>5</td>\n",
       "      <td>4</td>\n",
       "      <td>3</td>\n",
       "      <td>0</td>\n",
       "    </tr>\n",
       "  </tbody>\n",
       "</table>\n",
       "</div>"
      ],
      "text/plain": [
       "  ID_Customer  Cod_Prod Cod_Fecha  Socio_Demo_01  Socio_Demo_02  \\\n",
       "0    A0000001       601   2007-05              5              4   \n",
       "1    A0000001       704   2013-04              5              4   \n",
       "2    A0000001      2501   2006-03              5              4   \n",
       "3    A0000001      2503   2006-03              5              4   \n",
       "4    A0000001      1011   2011-04              5              4   \n",
       "\n",
       "   Socio_Demo_03  Socio_Demo_05  \n",
       "0              3              0  \n",
       "1              3              0  \n",
       "2              3              0  \n",
       "3              3              0  \n",
       "4              3              0  "
      ]
     },
     "execution_count": 173,
     "metadata": {},
     "output_type": "execute_result"
    }
   ],
   "source": [
    "data_0.head()"
   ]
  },
  {
   "cell_type": "code",
   "execution_count": 176,
   "metadata": {
    "collapsed": false
   },
   "outputs": [
    {
     "data": {
      "text/html": [
       "<div>\n",
       "<table border=\"1\" class=\"dataframe\">\n",
       "  <thead>\n",
       "    <tr style=\"text-align: right;\">\n",
       "      <th></th>\n",
       "      <th>Socio_Demo_01</th>\n",
       "      <th>Socio_Demo_02</th>\n",
       "    </tr>\n",
       "  </thead>\n",
       "  <tbody>\n",
       "    <tr>\n",
       "      <th>0</th>\n",
       "      <td>5</td>\n",
       "      <td>4</td>\n",
       "    </tr>\n",
       "    <tr>\n",
       "      <th>1</th>\n",
       "      <td>5</td>\n",
       "      <td>4</td>\n",
       "    </tr>\n",
       "    <tr>\n",
       "      <th>2</th>\n",
       "      <td>5</td>\n",
       "      <td>4</td>\n",
       "    </tr>\n",
       "  </tbody>\n",
       "</table>\n",
       "</div>"
      ],
      "text/plain": [
       "   Socio_Demo_01  Socio_Demo_02\n",
       "0              5              4\n",
       "1              5              4\n",
       "2              5              4"
      ]
     },
     "execution_count": 176,
     "metadata": {},
     "output_type": "execute_result"
    }
   ],
   "source": [
    "data_0[['Socio_Demo_01', 'Socio_Demo_02']].ix[0:2]"
   ]
  },
  {
   "cell_type": "code",
   "execution_count": 184,
   "metadata": {
    "collapsed": false
   },
   "outputs": [
    {
     "name": "stderr",
     "output_type": "stream",
     "text": [
      "Using TensorFlow backend.\n"
     ]
    }
   ],
   "source": [
    "from keras.utils.np_utils import to_categorical"
   ]
  },
  {
   "cell_type": "code",
   "execution_count": 227,
   "metadata": {
    "collapsed": false
   },
   "outputs": [],
   "source": [
    "feature_matrix.shape\n",
    "del y_cat, y"
   ]
  },
  {
   "cell_type": "code",
   "execution_count": 255,
   "metadata": {
    "collapsed": false
   },
   "outputs": [
    {
     "data": {
      "text/plain": [
       "array([4, 4, 4, ..., 0, 2, 2])"
      ]
     },
     "execution_count": 255,
     "metadata": {},
     "output_type": "execute_result"
    }
   ],
   "source": [
    "y1-1"
   ]
  },
  {
   "cell_type": "code",
   "execution_count": 268,
   "metadata": {
    "collapsed": false
   },
   "outputs": [],
   "source": [
    "# Transform all values to categorical values. One-hot encoding.\n",
    "\n",
    "feature_matrix = data_0.groupby('ID_Customer')[['Socio_Demo_01', 'Socio_Demo_02','Socio_Demo_03','Socio_Demo_05']].first()\n",
    "\n",
    "#Prepare Socio_Demo_01\n",
    "y1 = feature_matrix['Socio_Demo_01'].values\n",
    "#Restamos uno para tener el numero apropiado de classes, de 0 a 4. 5.\n",
    "y1 = y1 -1 \n",
    "y1_cat = to_categorical(y1, nb_classes=5)\n",
    "y1df= pd.DataFrame(y1_cat, index = feature_matrix.index.values, columns= ['1.1','1.2','1.3', '1.4', '1.5'])\n",
    "\n",
    "#Prepare Socio_Demo_02\n",
    "y2 = feature_matrix['Socio_Demo_02'].values\n",
    "y2 = y2 -1 \n",
    "y2_cat = to_categorical(y2, nb_classes=5)\n",
    "y2df= pd.DataFrame(y2_cat, index = feature_matrix.index.values, columns= ['2.1','2.2','2.3', '2.4', '2.5'])\n",
    "\n",
    "#Prepare Socio_Demo_03\n",
    "y3 = feature_matrix['Socio_Demo_03'].values\n",
    "y3 = y3 - 1\n",
    "y3_cat = to_categorical(y3, nb_classes = 5)\n",
    "y3df= pd.DataFrame(y3_cat, index = feature_matrix.index.values, columns= ['3.1','3.2','3.3', '3.4', '3.5'])\n"
   ]
  },
  {
   "cell_type": "code",
   "execution_count": null,
   "metadata": {
    "collapsed": true
   },
   "outputs": [],
   "source": []
  },
  {
   "cell_type": "code",
   "execution_count": 269,
   "metadata": {
    "collapsed": true
   },
   "outputs": [],
   "source": [
    "#Concatenate all the dataframes\n",
    "\n",
    "X_0_train = pd.concat([X_0,y1df,y2df,y3df], axis=1)"
   ]
  },
  {
   "cell_type": "code",
   "execution_count": 246,
   "metadata": {
    "collapsed": false
   },
   "outputs": [
    {
     "data": {
      "text/plain": [
       "(504637, 71)"
      ]
     },
     "execution_count": 246,
     "metadata": {},
     "output_type": "execute_result"
    }
   ],
   "source": [
    "X_0.shape"
   ]
  },
  {
   "cell_type": "code",
   "execution_count": 270,
   "metadata": {
    "collapsed": false
   },
   "outputs": [
    {
     "data": {
      "text/plain": [
       "(504637, 86)"
      ]
     },
     "execution_count": 270,
     "metadata": {},
     "output_type": "execute_result"
    }
   ],
   "source": [
    "X_0_train.shape"
   ]
  },
  {
   "cell_type": "code",
   "execution_count": 248,
   "metadata": {
    "collapsed": false
   },
   "outputs": [
    {
     "data": {
      "text/plain": [
       "5"
      ]
     },
     "execution_count": 248,
     "metadata": {},
     "output_type": "execute_result"
    }
   ],
   "source": [
    "filt_data.Socio_Demo_03.unique().size"
   ]
  },
  {
   "cell_type": "code",
   "execution_count": 257,
   "metadata": {
    "collapsed": false
   },
   "outputs": [
    {
     "name": "stdout",
     "output_type": "stream",
     "text": [
      "Deberiamos tener:  71 + 5 + 5 + 5 =\n",
      "Tenemos:  71 + 5 + 5 + 5\n",
      "86\n"
     ]
    }
   ],
   "source": [
    "print 'Deberiamos tener: ', cust_prods_0.columns.size, '+', filt_data.Socio_Demo_01.unique().size, '+', filt_data.Socio_Demo_02.unique().size, '+',filt_data.Socio_Demo_03.unique().size, '='\n",
    "print 'Tenemos: ',cust_prods_0.columns.size, '+', y1_cat.shape[1] , '+' ,y2_cat.shape[1], '+' ,y3_cat.shape[1] \n",
    "print cust_prods_0.columns.size + filt_data.Socio_Demo_01.unique().size + filt_data.Socio_Demo_02.unique().size + filt_data.Socio_Demo_03.unique().size "
   ]
  },
  {
   "cell_type": "markdown",
   "metadata": {},
   "source": [
    "Parece que todo cuadra. ok"
   ]
  },
  {
   "cell_type": "code",
   "execution_count": 280,
   "metadata": {
    "collapsed": false
   },
   "outputs": [
    {
     "data": {
      "text/html": [
       "<div>\n",
       "<table border=\"1\" class=\"dataframe\">\n",
       "  <thead>\n",
       "    <tr style=\"text-align: right;\">\n",
       "      <th></th>\n",
       "      <th>1.1</th>\n",
       "      <th>1.2</th>\n",
       "      <th>1.3</th>\n",
       "      <th>1.4</th>\n",
       "      <th>1.5</th>\n",
       "      <th>2.1</th>\n",
       "      <th>2.2</th>\n",
       "      <th>2.3</th>\n",
       "      <th>2.4</th>\n",
       "      <th>2.5</th>\n",
       "      <th>3.1</th>\n",
       "      <th>3.2</th>\n",
       "      <th>3.3</th>\n",
       "      <th>3.4</th>\n",
       "      <th>3.5</th>\n",
       "    </tr>\n",
       "  </thead>\n",
       "  <tbody>\n",
       "    <tr>\n",
       "      <th>A0000001</th>\n",
       "      <td>0.0</td>\n",
       "      <td>0.0</td>\n",
       "      <td>0.0</td>\n",
       "      <td>0.0</td>\n",
       "      <td>1.0</td>\n",
       "      <td>0.0</td>\n",
       "      <td>0.0</td>\n",
       "      <td>0.0</td>\n",
       "      <td>1.0</td>\n",
       "      <td>0.0</td>\n",
       "      <td>0.0</td>\n",
       "      <td>0.0</td>\n",
       "      <td>1.0</td>\n",
       "      <td>0.0</td>\n",
       "      <td>0.0</td>\n",
       "    </tr>\n",
       "    <tr>\n",
       "      <th>A0000002</th>\n",
       "      <td>0.0</td>\n",
       "      <td>0.0</td>\n",
       "      <td>0.0</td>\n",
       "      <td>0.0</td>\n",
       "      <td>1.0</td>\n",
       "      <td>0.0</td>\n",
       "      <td>0.0</td>\n",
       "      <td>0.0</td>\n",
       "      <td>0.0</td>\n",
       "      <td>1.0</td>\n",
       "      <td>1.0</td>\n",
       "      <td>0.0</td>\n",
       "      <td>0.0</td>\n",
       "      <td>0.0</td>\n",
       "      <td>0.0</td>\n",
       "    </tr>\n",
       "    <tr>\n",
       "      <th>A0000003</th>\n",
       "      <td>0.0</td>\n",
       "      <td>0.0</td>\n",
       "      <td>0.0</td>\n",
       "      <td>0.0</td>\n",
       "      <td>1.0</td>\n",
       "      <td>0.0</td>\n",
       "      <td>0.0</td>\n",
       "      <td>0.0</td>\n",
       "      <td>0.0</td>\n",
       "      <td>1.0</td>\n",
       "      <td>0.0</td>\n",
       "      <td>0.0</td>\n",
       "      <td>0.0</td>\n",
       "      <td>0.0</td>\n",
       "      <td>1.0</td>\n",
       "    </tr>\n",
       "    <tr>\n",
       "      <th>A0000004</th>\n",
       "      <td>0.0</td>\n",
       "      <td>0.0</td>\n",
       "      <td>0.0</td>\n",
       "      <td>0.0</td>\n",
       "      <td>1.0</td>\n",
       "      <td>0.0</td>\n",
       "      <td>0.0</td>\n",
       "      <td>0.0</td>\n",
       "      <td>0.0</td>\n",
       "      <td>1.0</td>\n",
       "      <td>0.0</td>\n",
       "      <td>0.0</td>\n",
       "      <td>1.0</td>\n",
       "      <td>0.0</td>\n",
       "      <td>0.0</td>\n",
       "    </tr>\n",
       "    <tr>\n",
       "      <th>A0000005</th>\n",
       "      <td>0.0</td>\n",
       "      <td>0.0</td>\n",
       "      <td>0.0</td>\n",
       "      <td>0.0</td>\n",
       "      <td>1.0</td>\n",
       "      <td>0.0</td>\n",
       "      <td>0.0</td>\n",
       "      <td>0.0</td>\n",
       "      <td>0.0</td>\n",
       "      <td>1.0</td>\n",
       "      <td>0.0</td>\n",
       "      <td>0.0</td>\n",
       "      <td>1.0</td>\n",
       "      <td>0.0</td>\n",
       "      <td>0.0</td>\n",
       "    </tr>\n",
       "    <tr>\n",
       "      <th>A0000006</th>\n",
       "      <td>0.0</td>\n",
       "      <td>0.0</td>\n",
       "      <td>0.0</td>\n",
       "      <td>0.0</td>\n",
       "      <td>1.0</td>\n",
       "      <td>0.0</td>\n",
       "      <td>0.0</td>\n",
       "      <td>0.0</td>\n",
       "      <td>0.0</td>\n",
       "      <td>1.0</td>\n",
       "      <td>0.0</td>\n",
       "      <td>0.0</td>\n",
       "      <td>1.0</td>\n",
       "      <td>0.0</td>\n",
       "      <td>0.0</td>\n",
       "    </tr>\n",
       "    <tr>\n",
       "      <th>A0000007</th>\n",
       "      <td>0.0</td>\n",
       "      <td>0.0</td>\n",
       "      <td>0.0</td>\n",
       "      <td>0.0</td>\n",
       "      <td>1.0</td>\n",
       "      <td>0.0</td>\n",
       "      <td>0.0</td>\n",
       "      <td>0.0</td>\n",
       "      <td>0.0</td>\n",
       "      <td>1.0</td>\n",
       "      <td>0.0</td>\n",
       "      <td>1.0</td>\n",
       "      <td>0.0</td>\n",
       "      <td>0.0</td>\n",
       "      <td>0.0</td>\n",
       "    </tr>\n",
       "    <tr>\n",
       "      <th>A0000009</th>\n",
       "      <td>0.0</td>\n",
       "      <td>0.0</td>\n",
       "      <td>0.0</td>\n",
       "      <td>1.0</td>\n",
       "      <td>0.0</td>\n",
       "      <td>0.0</td>\n",
       "      <td>0.0</td>\n",
       "      <td>0.0</td>\n",
       "      <td>0.0</td>\n",
       "      <td>1.0</td>\n",
       "      <td>0.0</td>\n",
       "      <td>1.0</td>\n",
       "      <td>0.0</td>\n",
       "      <td>0.0</td>\n",
       "      <td>0.0</td>\n",
       "    </tr>\n",
       "    <tr>\n",
       "      <th>A0000010</th>\n",
       "      <td>0.0</td>\n",
       "      <td>0.0</td>\n",
       "      <td>0.0</td>\n",
       "      <td>0.0</td>\n",
       "      <td>1.0</td>\n",
       "      <td>0.0</td>\n",
       "      <td>0.0</td>\n",
       "      <td>0.0</td>\n",
       "      <td>0.0</td>\n",
       "      <td>1.0</td>\n",
       "      <td>0.0</td>\n",
       "      <td>1.0</td>\n",
       "      <td>0.0</td>\n",
       "      <td>0.0</td>\n",
       "      <td>0.0</td>\n",
       "    </tr>\n",
       "    <tr>\n",
       "      <th>A0000011</th>\n",
       "      <td>0.0</td>\n",
       "      <td>0.0</td>\n",
       "      <td>0.0</td>\n",
       "      <td>1.0</td>\n",
       "      <td>0.0</td>\n",
       "      <td>0.0</td>\n",
       "      <td>0.0</td>\n",
       "      <td>0.0</td>\n",
       "      <td>0.0</td>\n",
       "      <td>1.0</td>\n",
       "      <td>0.0</td>\n",
       "      <td>0.0</td>\n",
       "      <td>0.0</td>\n",
       "      <td>1.0</td>\n",
       "      <td>0.0</td>\n",
       "    </tr>\n",
       "  </tbody>\n",
       "</table>\n",
       "</div>"
      ],
      "text/plain": [
       "          1.1  1.2  1.3  1.4  1.5  2.1  2.2  2.3  2.4  2.5  3.1  3.2  3.3  \\\n",
       "A0000001  0.0  0.0  0.0  0.0  1.0  0.0  0.0  0.0  1.0  0.0  0.0  0.0  1.0   \n",
       "A0000002  0.0  0.0  0.0  0.0  1.0  0.0  0.0  0.0  0.0  1.0  1.0  0.0  0.0   \n",
       "A0000003  0.0  0.0  0.0  0.0  1.0  0.0  0.0  0.0  0.0  1.0  0.0  0.0  0.0   \n",
       "A0000004  0.0  0.0  0.0  0.0  1.0  0.0  0.0  0.0  0.0  1.0  0.0  0.0  1.0   \n",
       "A0000005  0.0  0.0  0.0  0.0  1.0  0.0  0.0  0.0  0.0  1.0  0.0  0.0  1.0   \n",
       "A0000006  0.0  0.0  0.0  0.0  1.0  0.0  0.0  0.0  0.0  1.0  0.0  0.0  1.0   \n",
       "A0000007  0.0  0.0  0.0  0.0  1.0  0.0  0.0  0.0  0.0  1.0  0.0  1.0  0.0   \n",
       "A0000009  0.0  0.0  0.0  1.0  0.0  0.0  0.0  0.0  0.0  1.0  0.0  1.0  0.0   \n",
       "A0000010  0.0  0.0  0.0  0.0  1.0  0.0  0.0  0.0  0.0  1.0  0.0  1.0  0.0   \n",
       "A0000011  0.0  0.0  0.0  1.0  0.0  0.0  0.0  0.0  0.0  1.0  0.0  0.0  0.0   \n",
       "\n",
       "          3.4  3.5  \n",
       "A0000001  0.0  0.0  \n",
       "A0000002  0.0  0.0  \n",
       "A0000003  0.0  1.0  \n",
       "A0000004  0.0  0.0  \n",
       "A0000005  0.0  0.0  \n",
       "A0000006  0.0  0.0  \n",
       "A0000007  0.0  0.0  \n",
       "A0000009  0.0  0.0  \n",
       "A0000010  0.0  0.0  \n",
       "A0000011  1.0  0.0  "
      ]
     },
     "execution_count": 280,
     "metadata": {},
     "output_type": "execute_result"
    }
   ],
   "source": [
    "X_0_train.loc[:,'1.1':'3.5'].head(10)"
   ]
  },
  {
   "cell_type": "code",
   "execution_count": 281,
   "metadata": {
    "collapsed": false
   },
   "outputs": [
    {
     "data": {
      "text/html": [
       "<div>\n",
       "<table border=\"1\" class=\"dataframe\">\n",
       "  <thead>\n",
       "    <tr style=\"text-align: right;\">\n",
       "      <th></th>\n",
       "      <th>Socio_Demo_01</th>\n",
       "      <th>Socio_Demo_02</th>\n",
       "      <th>Socio_Demo_03</th>\n",
       "      <th>Socio_Demo_05</th>\n",
       "    </tr>\n",
       "    <tr>\n",
       "      <th>ID_Customer</th>\n",
       "      <th></th>\n",
       "      <th></th>\n",
       "      <th></th>\n",
       "      <th></th>\n",
       "    </tr>\n",
       "  </thead>\n",
       "  <tbody>\n",
       "    <tr>\n",
       "      <th>A0000001</th>\n",
       "      <td>5</td>\n",
       "      <td>4</td>\n",
       "      <td>3</td>\n",
       "      <td>0</td>\n",
       "    </tr>\n",
       "    <tr>\n",
       "      <th>A0000002</th>\n",
       "      <td>5</td>\n",
       "      <td>5</td>\n",
       "      <td>1</td>\n",
       "      <td>0</td>\n",
       "    </tr>\n",
       "    <tr>\n",
       "      <th>A0000003</th>\n",
       "      <td>5</td>\n",
       "      <td>5</td>\n",
       "      <td>5</td>\n",
       "      <td>0</td>\n",
       "    </tr>\n",
       "    <tr>\n",
       "      <th>A0000004</th>\n",
       "      <td>5</td>\n",
       "      <td>5</td>\n",
       "      <td>3</td>\n",
       "      <td>0</td>\n",
       "    </tr>\n",
       "    <tr>\n",
       "      <th>A0000005</th>\n",
       "      <td>5</td>\n",
       "      <td>5</td>\n",
       "      <td>3</td>\n",
       "      <td>0</td>\n",
       "    </tr>\n",
       "    <tr>\n",
       "      <th>A0000006</th>\n",
       "      <td>5</td>\n",
       "      <td>5</td>\n",
       "      <td>3</td>\n",
       "      <td>0</td>\n",
       "    </tr>\n",
       "    <tr>\n",
       "      <th>A0000007</th>\n",
       "      <td>5</td>\n",
       "      <td>5</td>\n",
       "      <td>2</td>\n",
       "      <td>0</td>\n",
       "    </tr>\n",
       "    <tr>\n",
       "      <th>A0000009</th>\n",
       "      <td>4</td>\n",
       "      <td>5</td>\n",
       "      <td>2</td>\n",
       "      <td>0</td>\n",
       "    </tr>\n",
       "    <tr>\n",
       "      <th>A0000010</th>\n",
       "      <td>5</td>\n",
       "      <td>5</td>\n",
       "      <td>2</td>\n",
       "      <td>0</td>\n",
       "    </tr>\n",
       "    <tr>\n",
       "      <th>A0000011</th>\n",
       "      <td>4</td>\n",
       "      <td>5</td>\n",
       "      <td>4</td>\n",
       "      <td>0</td>\n",
       "    </tr>\n",
       "  </tbody>\n",
       "</table>\n",
       "</div>"
      ],
      "text/plain": [
       "             Socio_Demo_01  Socio_Demo_02  Socio_Demo_03  Socio_Demo_05\n",
       "ID_Customer                                                            \n",
       "A0000001                 5              4              3              0\n",
       "A0000002                 5              5              1              0\n",
       "A0000003                 5              5              5              0\n",
       "A0000004                 5              5              3              0\n",
       "A0000005                 5              5              3              0\n",
       "A0000006                 5              5              3              0\n",
       "A0000007                 5              5              2              0\n",
       "A0000009                 4              5              2              0\n",
       "A0000010                 5              5              2              0\n",
       "A0000011                 4              5              4              0"
      ]
     },
     "execution_count": 281,
     "metadata": {},
     "output_type": "execute_result"
    }
   ],
   "source": [
    "feature_matrix.head(10)"
   ]
  },
  {
   "cell_type": "markdown",
   "metadata": {},
   "source": [
    "Todo parece que funciona ok! podemos empezar a diseñar los conjuntos de entreno."
   ]
  },
  {
   "cell_type": "code",
   "execution_count": 289,
   "metadata": {
    "collapsed": false
   },
   "outputs": [
    {
     "data": {
      "text/html": [
       "<div>\n",
       "<table border=\"1\" class=\"dataframe\">\n",
       "  <thead>\n",
       "    <tr style=\"text-align: right;\">\n",
       "      <th></th>\n",
       "      <th>102</th>\n",
       "      <th>103</th>\n",
       "      <th>201</th>\n",
       "      <th>301</th>\n",
       "      <th>503</th>\n",
       "      <th>506</th>\n",
       "      <th>601</th>\n",
       "      <th>702</th>\n",
       "      <th>704</th>\n",
       "      <th>705</th>\n",
       "      <th>...</th>\n",
       "      <th>2.1</th>\n",
       "      <th>2.2</th>\n",
       "      <th>2.3</th>\n",
       "      <th>2.4</th>\n",
       "      <th>2.5</th>\n",
       "      <th>3.1</th>\n",
       "      <th>3.2</th>\n",
       "      <th>3.3</th>\n",
       "      <th>3.4</th>\n",
       "      <th>3.5</th>\n",
       "    </tr>\n",
       "  </thead>\n",
       "  <tbody>\n",
       "    <tr>\n",
       "      <th>A0212343</th>\n",
       "      <td>0</td>\n",
       "      <td>0</td>\n",
       "      <td>0</td>\n",
       "      <td>1</td>\n",
       "      <td>0</td>\n",
       "      <td>0</td>\n",
       "      <td>1</td>\n",
       "      <td>0</td>\n",
       "      <td>0</td>\n",
       "      <td>0</td>\n",
       "      <td>...</td>\n",
       "      <td>0.0</td>\n",
       "      <td>0.0</td>\n",
       "      <td>0.0</td>\n",
       "      <td>1.0</td>\n",
       "      <td>0.0</td>\n",
       "      <td>0.0</td>\n",
       "      <td>0.0</td>\n",
       "      <td>1.0</td>\n",
       "      <td>0.0</td>\n",
       "      <td>0.0</td>\n",
       "    </tr>\n",
       "    <tr>\n",
       "      <th>A0229787</th>\n",
       "      <td>0</td>\n",
       "      <td>0</td>\n",
       "      <td>0</td>\n",
       "      <td>1</td>\n",
       "      <td>0</td>\n",
       "      <td>0</td>\n",
       "      <td>1</td>\n",
       "      <td>0</td>\n",
       "      <td>0</td>\n",
       "      <td>0</td>\n",
       "      <td>...</td>\n",
       "      <td>0.0</td>\n",
       "      <td>0.0</td>\n",
       "      <td>0.0</td>\n",
       "      <td>1.0</td>\n",
       "      <td>0.0</td>\n",
       "      <td>0.0</td>\n",
       "      <td>1.0</td>\n",
       "      <td>0.0</td>\n",
       "      <td>0.0</td>\n",
       "      <td>0.0</td>\n",
       "    </tr>\n",
       "    <tr>\n",
       "      <th>A0214756</th>\n",
       "      <td>0</td>\n",
       "      <td>0</td>\n",
       "      <td>0</td>\n",
       "      <td>1</td>\n",
       "      <td>0</td>\n",
       "      <td>0</td>\n",
       "      <td>1</td>\n",
       "      <td>0</td>\n",
       "      <td>0</td>\n",
       "      <td>0</td>\n",
       "      <td>...</td>\n",
       "      <td>0.0</td>\n",
       "      <td>0.0</td>\n",
       "      <td>0.0</td>\n",
       "      <td>1.0</td>\n",
       "      <td>0.0</td>\n",
       "      <td>1.0</td>\n",
       "      <td>0.0</td>\n",
       "      <td>0.0</td>\n",
       "      <td>0.0</td>\n",
       "      <td>0.0</td>\n",
       "    </tr>\n",
       "    <tr>\n",
       "      <th>A0115626</th>\n",
       "      <td>0</td>\n",
       "      <td>0</td>\n",
       "      <td>0</td>\n",
       "      <td>1</td>\n",
       "      <td>0</td>\n",
       "      <td>0</td>\n",
       "      <td>0</td>\n",
       "      <td>0</td>\n",
       "      <td>0</td>\n",
       "      <td>0</td>\n",
       "      <td>...</td>\n",
       "      <td>0.0</td>\n",
       "      <td>0.0</td>\n",
       "      <td>0.0</td>\n",
       "      <td>1.0</td>\n",
       "      <td>0.0</td>\n",
       "      <td>0.0</td>\n",
       "      <td>1.0</td>\n",
       "      <td>0.0</td>\n",
       "      <td>0.0</td>\n",
       "      <td>0.0</td>\n",
       "    </tr>\n",
       "    <tr>\n",
       "      <th>A0313809</th>\n",
       "      <td>0</td>\n",
       "      <td>0</td>\n",
       "      <td>0</td>\n",
       "      <td>1</td>\n",
       "      <td>0</td>\n",
       "      <td>0</td>\n",
       "      <td>1</td>\n",
       "      <td>0</td>\n",
       "      <td>0</td>\n",
       "      <td>0</td>\n",
       "      <td>...</td>\n",
       "      <td>0.0</td>\n",
       "      <td>0.0</td>\n",
       "      <td>1.0</td>\n",
       "      <td>0.0</td>\n",
       "      <td>0.0</td>\n",
       "      <td>1.0</td>\n",
       "      <td>0.0</td>\n",
       "      <td>0.0</td>\n",
       "      <td>0.0</td>\n",
       "      <td>0.0</td>\n",
       "    </tr>\n",
       "  </tbody>\n",
       "</table>\n",
       "<p>5 rows × 86 columns</p>\n",
       "</div>"
      ],
      "text/plain": [
       "          102  103  201  301  503  506  601  702  704  705 ...   2.1  2.2  \\\n",
       "A0212343    0    0    0    1    0    0    1    0    0    0 ...   0.0  0.0   \n",
       "A0229787    0    0    0    1    0    0    1    0    0    0 ...   0.0  0.0   \n",
       "A0214756    0    0    0    1    0    0    1    0    0    0 ...   0.0  0.0   \n",
       "A0115626    0    0    0    1    0    0    0    0    0    0 ...   0.0  0.0   \n",
       "A0313809    0    0    0    1    0    0    1    0    0    0 ...   0.0  0.0   \n",
       "\n",
       "          2.3  2.4  2.5  3.1  3.2  3.3  3.4  3.5  \n",
       "A0212343  0.0  1.0  0.0  0.0  0.0  1.0  0.0  0.0  \n",
       "A0229787  0.0  1.0  0.0  0.0  1.0  0.0  0.0  0.0  \n",
       "A0214756  0.0  1.0  0.0  1.0  0.0  0.0  0.0  0.0  \n",
       "A0115626  0.0  1.0  0.0  0.0  1.0  0.0  0.0  0.0  \n",
       "A0313809  1.0  0.0  0.0  1.0  0.0  0.0  0.0  0.0  \n",
       "\n",
       "[5 rows x 86 columns]"
      ]
     },
     "execution_count": 289,
     "metadata": {},
     "output_type": "execute_result"
    }
   ],
   "source": []
  },
  {
   "cell_type": "code",
   "execution_count": 285,
   "metadata": {
    "collapsed": false
   },
   "outputs": [],
   "source": [
    "#Split into train and test\n",
    "from sklearn.cross_validation import train_test_split\n",
    "\n",
    "train0, test0 = train_test_split(X_0_train, test_size = 0.2)"
   ]
  },
  {
   "cell_type": "code",
   "execution_count": 332,
   "metadata": {
    "collapsed": false
   },
   "outputs": [
    {
     "name": "stderr",
     "output_type": "stream",
     "text": [
      "/anaconda/lib/python2.7/site-packages/ipykernel/__main__.py:3: SettingWithCopyWarning: \n",
      "A value is trying to be set on a copy of a slice from a DataFrame\n",
      "\n",
      "See the caveats in the documentation: http://pandas.pydata.org/pandas-docs/stable/indexing.html#indexing-view-versus-copy\n",
      "  app.launch_new_instance()\n",
      "/anaconda/lib/python2.7/site-packages/ipykernel/__main__.py:4: SettingWithCopyWarning: \n",
      "A value is trying to be set on a copy of a slice from a DataFrame\n",
      "\n",
      "See the caveats in the documentation: http://pandas.pydata.org/pandas-docs/stable/indexing.html#indexing-view-versus-copy\n"
     ]
    },
    {
     "data": {
      "text/html": [
       "<div>\n",
       "<table border=\"1\" class=\"dataframe\">\n",
       "  <thead>\n",
       "    <tr style=\"text-align: right;\">\n",
       "      <th></th>\n",
       "      <th>102</th>\n",
       "      <th>103</th>\n",
       "      <th>201</th>\n",
       "      <th>301</th>\n",
       "      <th>503</th>\n",
       "      <th>506</th>\n",
       "      <th>601</th>\n",
       "      <th>702</th>\n",
       "      <th>704</th>\n",
       "      <th>705</th>\n",
       "      <th>...</th>\n",
       "      <th>2.1</th>\n",
       "      <th>2.2</th>\n",
       "      <th>2.3</th>\n",
       "      <th>2.4</th>\n",
       "      <th>2.5</th>\n",
       "      <th>3.1</th>\n",
       "      <th>3.2</th>\n",
       "      <th>3.3</th>\n",
       "      <th>3.4</th>\n",
       "      <th>3.5</th>\n",
       "    </tr>\n",
       "    <tr>\n",
       "      <th>ID_Customer</th>\n",
       "      <th></th>\n",
       "      <th></th>\n",
       "      <th></th>\n",
       "      <th></th>\n",
       "      <th></th>\n",
       "      <th></th>\n",
       "      <th></th>\n",
       "      <th></th>\n",
       "      <th></th>\n",
       "      <th></th>\n",
       "      <th></th>\n",
       "      <th></th>\n",
       "      <th></th>\n",
       "      <th></th>\n",
       "      <th></th>\n",
       "      <th></th>\n",
       "      <th></th>\n",
       "      <th></th>\n",
       "      <th></th>\n",
       "      <th></th>\n",
       "      <th></th>\n",
       "    </tr>\n",
       "  </thead>\n",
       "  <tbody>\n",
       "    <tr>\n",
       "      <th>A0000002</th>\n",
       "      <td>0</td>\n",
       "      <td>0</td>\n",
       "      <td>0</td>\n",
       "      <td>1</td>\n",
       "      <td>0</td>\n",
       "      <td>0</td>\n",
       "      <td>1</td>\n",
       "      <td>0</td>\n",
       "      <td>0</td>\n",
       "      <td>0</td>\n",
       "      <td>...</td>\n",
       "      <td>0.0</td>\n",
       "      <td>0.0</td>\n",
       "      <td>0.0</td>\n",
       "      <td>0.0</td>\n",
       "      <td>1.0</td>\n",
       "      <td>1.0</td>\n",
       "      <td>0.0</td>\n",
       "      <td>0.0</td>\n",
       "      <td>0.0</td>\n",
       "      <td>0.0</td>\n",
       "    </tr>\n",
       "    <tr>\n",
       "      <th>A0000003</th>\n",
       "      <td>0</td>\n",
       "      <td>0</td>\n",
       "      <td>0</td>\n",
       "      <td>1</td>\n",
       "      <td>0</td>\n",
       "      <td>0</td>\n",
       "      <td>1</td>\n",
       "      <td>0</td>\n",
       "      <td>0</td>\n",
       "      <td>0</td>\n",
       "      <td>...</td>\n",
       "      <td>0.0</td>\n",
       "      <td>0.0</td>\n",
       "      <td>0.0</td>\n",
       "      <td>0.0</td>\n",
       "      <td>1.0</td>\n",
       "      <td>0.0</td>\n",
       "      <td>0.0</td>\n",
       "      <td>0.0</td>\n",
       "      <td>0.0</td>\n",
       "      <td>1.0</td>\n",
       "    </tr>\n",
       "    <tr>\n",
       "      <th>A0000005</th>\n",
       "      <td>0</td>\n",
       "      <td>0</td>\n",
       "      <td>0</td>\n",
       "      <td>1</td>\n",
       "      <td>0</td>\n",
       "      <td>0</td>\n",
       "      <td>0</td>\n",
       "      <td>0</td>\n",
       "      <td>0</td>\n",
       "      <td>0</td>\n",
       "      <td>...</td>\n",
       "      <td>0.0</td>\n",
       "      <td>0.0</td>\n",
       "      <td>0.0</td>\n",
       "      <td>0.0</td>\n",
       "      <td>1.0</td>\n",
       "      <td>0.0</td>\n",
       "      <td>0.0</td>\n",
       "      <td>1.0</td>\n",
       "      <td>0.0</td>\n",
       "      <td>0.0</td>\n",
       "    </tr>\n",
       "    <tr>\n",
       "      <th>A0000009</th>\n",
       "      <td>0</td>\n",
       "      <td>0</td>\n",
       "      <td>0</td>\n",
       "      <td>0</td>\n",
       "      <td>0</td>\n",
       "      <td>0</td>\n",
       "      <td>1</td>\n",
       "      <td>0</td>\n",
       "      <td>0</td>\n",
       "      <td>0</td>\n",
       "      <td>...</td>\n",
       "      <td>0.0</td>\n",
       "      <td>0.0</td>\n",
       "      <td>0.0</td>\n",
       "      <td>0.0</td>\n",
       "      <td>1.0</td>\n",
       "      <td>0.0</td>\n",
       "      <td>1.0</td>\n",
       "      <td>0.0</td>\n",
       "      <td>0.0</td>\n",
       "      <td>0.0</td>\n",
       "    </tr>\n",
       "    <tr>\n",
       "      <th>A0000011</th>\n",
       "      <td>0</td>\n",
       "      <td>0</td>\n",
       "      <td>0</td>\n",
       "      <td>1</td>\n",
       "      <td>0</td>\n",
       "      <td>0</td>\n",
       "      <td>1</td>\n",
       "      <td>0</td>\n",
       "      <td>0</td>\n",
       "      <td>0</td>\n",
       "      <td>...</td>\n",
       "      <td>0.0</td>\n",
       "      <td>0.0</td>\n",
       "      <td>0.0</td>\n",
       "      <td>0.0</td>\n",
       "      <td>1.0</td>\n",
       "      <td>0.0</td>\n",
       "      <td>0.0</td>\n",
       "      <td>0.0</td>\n",
       "      <td>1.0</td>\n",
       "      <td>0.0</td>\n",
       "    </tr>\n",
       "  </tbody>\n",
       "</table>\n",
       "<p>5 rows × 86 columns</p>\n",
       "</div>"
      ],
      "text/plain": [
       "             102  103  201  301  503  506  601  702  704  705 ...   2.1  2.2  \\\n",
       "ID_Customer                                                   ...              \n",
       "A0000002       0    0    0    1    0    0    1    0    0    0 ...   0.0  0.0   \n",
       "A0000003       0    0    0    1    0    0    1    0    0    0 ...   0.0  0.0   \n",
       "A0000005       0    0    0    1    0    0    0    0    0    0 ...   0.0  0.0   \n",
       "A0000009       0    0    0    0    0    0    1    0    0    0 ...   0.0  0.0   \n",
       "A0000011       0    0    0    1    0    0    1    0    0    0 ...   0.0  0.0   \n",
       "\n",
       "             2.3  2.4  2.5  3.1  3.2  3.3  3.4  3.5  \n",
       "ID_Customer                                          \n",
       "A0000002     0.0  0.0  1.0  1.0  0.0  0.0  0.0  0.0  \n",
       "A0000003     0.0  0.0  1.0  0.0  0.0  0.0  0.0  1.0  \n",
       "A0000005     0.0  0.0  1.0  0.0  0.0  1.0  0.0  0.0  \n",
       "A0000009     0.0  0.0  1.0  0.0  1.0  0.0  0.0  0.0  \n",
       "A0000011     0.0  0.0  1.0  0.0  0.0  0.0  1.0  0.0  \n",
       "\n",
       "[5 rows x 86 columns]"
      ]
     },
     "execution_count": 332,
     "metadata": {},
     "output_type": "execute_result"
    }
   ],
   "source": [
    "train0.index.name = 'ID_Customer'\n",
    "test0.index.name = 'ID_Customer'\n",
    "train0.sort_index( inplace= True)\n",
    "test0.sort_index(inplace= True)\n",
    "train0.head()"
   ]
  },
  {
   "cell_type": "code",
   "execution_count": 333,
   "metadata": {
    "collapsed": true
   },
   "outputs": [],
   "source": [
    "#Create nested arrays from dataframe\n",
    "X0_train = np.array(train0.values.tolist(), dtype = int)\n",
    "X0_test = np.array (test0.values.tolist(), dtype = int)"
   ]
  },
  {
   "cell_type": "code",
   "execution_count": 318,
   "metadata": {
    "collapsed": false
   },
   "outputs": [
    {
     "data": {
      "text/html": [
       "<div>\n",
       "<table border=\"1\" class=\"dataframe\">\n",
       "  <thead>\n",
       "    <tr style=\"text-align: right;\">\n",
       "      <th></th>\n",
       "      <th>102</th>\n",
       "      <th>103</th>\n",
       "      <th>201</th>\n",
       "      <th>301</th>\n",
       "      <th>503</th>\n",
       "      <th>506</th>\n",
       "      <th>601</th>\n",
       "      <th>702</th>\n",
       "      <th>704</th>\n",
       "      <th>705</th>\n",
       "      <th>...</th>\n",
       "      <th>2704</th>\n",
       "      <th>2705</th>\n",
       "      <th>2706</th>\n",
       "      <th>2707</th>\n",
       "      <th>3001</th>\n",
       "      <th>3101</th>\n",
       "      <th>3401</th>\n",
       "      <th>9991</th>\n",
       "      <th>9992</th>\n",
       "      <th>9993</th>\n",
       "    </tr>\n",
       "    <tr>\n",
       "      <th>ID_Customer</th>\n",
       "      <th></th>\n",
       "      <th></th>\n",
       "      <th></th>\n",
       "      <th></th>\n",
       "      <th></th>\n",
       "      <th></th>\n",
       "      <th></th>\n",
       "      <th></th>\n",
       "      <th></th>\n",
       "      <th></th>\n",
       "      <th></th>\n",
       "      <th></th>\n",
       "      <th></th>\n",
       "      <th></th>\n",
       "      <th></th>\n",
       "      <th></th>\n",
       "      <th></th>\n",
       "      <th></th>\n",
       "      <th></th>\n",
       "      <th></th>\n",
       "      <th></th>\n",
       "    </tr>\n",
       "  </thead>\n",
       "  <tbody>\n",
       "    <tr>\n",
       "      <th>A0000001</th>\n",
       "      <td>0</td>\n",
       "      <td>0</td>\n",
       "      <td>0</td>\n",
       "      <td>0</td>\n",
       "      <td>0</td>\n",
       "      <td>0</td>\n",
       "      <td>1</td>\n",
       "      <td>0</td>\n",
       "      <td>1</td>\n",
       "      <td>0</td>\n",
       "      <td>...</td>\n",
       "      <td>0</td>\n",
       "      <td>0</td>\n",
       "      <td>0</td>\n",
       "      <td>0</td>\n",
       "      <td>0</td>\n",
       "      <td>0</td>\n",
       "      <td>0</td>\n",
       "      <td>0</td>\n",
       "      <td>0</td>\n",
       "      <td>0</td>\n",
       "    </tr>\n",
       "    <tr>\n",
       "      <th>A0000002</th>\n",
       "      <td>0</td>\n",
       "      <td>0</td>\n",
       "      <td>0</td>\n",
       "      <td>1</td>\n",
       "      <td>0</td>\n",
       "      <td>0</td>\n",
       "      <td>1</td>\n",
       "      <td>0</td>\n",
       "      <td>0</td>\n",
       "      <td>0</td>\n",
       "      <td>...</td>\n",
       "      <td>0</td>\n",
       "      <td>0</td>\n",
       "      <td>0</td>\n",
       "      <td>0</td>\n",
       "      <td>0</td>\n",
       "      <td>0</td>\n",
       "      <td>0</td>\n",
       "      <td>0</td>\n",
       "      <td>1</td>\n",
       "      <td>0</td>\n",
       "    </tr>\n",
       "    <tr>\n",
       "      <th>A0000003</th>\n",
       "      <td>0</td>\n",
       "      <td>0</td>\n",
       "      <td>1</td>\n",
       "      <td>1</td>\n",
       "      <td>0</td>\n",
       "      <td>0</td>\n",
       "      <td>1</td>\n",
       "      <td>0</td>\n",
       "      <td>0</td>\n",
       "      <td>0</td>\n",
       "      <td>...</td>\n",
       "      <td>0</td>\n",
       "      <td>0</td>\n",
       "      <td>0</td>\n",
       "      <td>0</td>\n",
       "      <td>0</td>\n",
       "      <td>0</td>\n",
       "      <td>0</td>\n",
       "      <td>0</td>\n",
       "      <td>0</td>\n",
       "      <td>0</td>\n",
       "    </tr>\n",
       "    <tr>\n",
       "      <th>A0000004</th>\n",
       "      <td>0</td>\n",
       "      <td>0</td>\n",
       "      <td>1</td>\n",
       "      <td>1</td>\n",
       "      <td>0</td>\n",
       "      <td>0</td>\n",
       "      <td>1</td>\n",
       "      <td>0</td>\n",
       "      <td>0</td>\n",
       "      <td>0</td>\n",
       "      <td>...</td>\n",
       "      <td>0</td>\n",
       "      <td>0</td>\n",
       "      <td>0</td>\n",
       "      <td>0</td>\n",
       "      <td>0</td>\n",
       "      <td>0</td>\n",
       "      <td>0</td>\n",
       "      <td>0</td>\n",
       "      <td>0</td>\n",
       "      <td>0</td>\n",
       "    </tr>\n",
       "    <tr>\n",
       "      <th>A0000005</th>\n",
       "      <td>0</td>\n",
       "      <td>0</td>\n",
       "      <td>0</td>\n",
       "      <td>1</td>\n",
       "      <td>0</td>\n",
       "      <td>0</td>\n",
       "      <td>1</td>\n",
       "      <td>0</td>\n",
       "      <td>0</td>\n",
       "      <td>0</td>\n",
       "      <td>...</td>\n",
       "      <td>0</td>\n",
       "      <td>0</td>\n",
       "      <td>0</td>\n",
       "      <td>0</td>\n",
       "      <td>0</td>\n",
       "      <td>0</td>\n",
       "      <td>0</td>\n",
       "      <td>0</td>\n",
       "      <td>0</td>\n",
       "      <td>0</td>\n",
       "    </tr>\n",
       "  </tbody>\n",
       "</table>\n",
       "<p>5 rows × 71 columns</p>\n",
       "</div>"
      ],
      "text/plain": [
       "             102   103   201   301   503   506   601   702   704   705   ...   \\\n",
       "ID_Customer                                                              ...    \n",
       "A0000001        0     0     0     0     0     0     1     0     1     0  ...    \n",
       "A0000002        0     0     0     1     0     0     1     0     0     0  ...    \n",
       "A0000003        0     0     1     1     0     0     1     0     0     0  ...    \n",
       "A0000004        0     0     1     1     0     0     1     0     0     0  ...    \n",
       "A0000005        0     0     0     1     0     0     1     0     0     0  ...    \n",
       "\n",
       "             2704  2705  2706  2707  3001  3101  3401  9991  9992  9993  \n",
       "ID_Customer                                                              \n",
       "A0000001        0     0     0     0     0     0     0     0     0     0  \n",
       "A0000002        0     0     0     0     0     0     0     0     1     0  \n",
       "A0000003        0     0     0     0     0     0     0     0     0     0  \n",
       "A0000004        0     0     0     0     0     0     0     0     0     0  \n",
       "A0000005        0     0     0     0     0     0     0     0     0     0  \n",
       "\n",
       "[5 rows x 71 columns]"
      ]
     },
     "execution_count": 318,
     "metadata": {},
     "output_type": "execute_result"
    }
   ],
   "source": [
    "cust_prods_0.index.name = 'ID_Customer'\n",
    "cust_prods_0.head()"
   ]
  },
  {
   "cell_type": "code",
   "execution_count": 334,
   "metadata": {
    "collapsed": false
   },
   "outputs": [],
   "source": [
    "target0_train = cust_prods_0.query('ID_Customer in @train0.index.values')\n",
    "target0_test = cust_prods_0.query('ID_Customer in @test0.index.values')\n",
    "y0_train = np.array(target0_train.values.tolist(), dtype = float)\n",
    "y0_test = np.array(target0_test.values.tolist(), dtype =float)"
   ]
  },
  {
   "cell_type": "code",
   "execution_count": 343,
   "metadata": {
    "collapsed": false,
    "scrolled": true
   },
   "outputs": [
    {
     "name": "stdout",
     "output_type": "stream",
     "text": [
      "4.0\n",
      "3.0\n"
     ]
    }
   ],
   "source": [
    "print y0_train[0].sum()\n",
    "print X0_train[0][:72].sum()"
   ]
  },
  {
   "cell_type": "code",
   "execution_count": 340,
   "metadata": {
    "collapsed": true
   },
   "outputs": [],
   "source": [
    "last_products0 = last_prod(data_0)"
   ]
  },
  {
   "cell_type": "code",
   "execution_count": 341,
   "metadata": {
    "collapsed": false
   },
   "outputs": [
    {
     "data": {
      "text/plain": [
       "ID_Customer\n",
       "A0000001     704\n",
       "A0000002    9992\n",
       "A0000003     201\n",
       "Name: Cod_Prod, dtype: int64"
      ]
     },
     "execution_count": 341,
     "metadata": {},
     "output_type": "execute_result"
    }
   ],
   "source": [
    "last_products0[:3]"
   ]
  },
  {
   "cell_type": "code",
   "execution_count": 339,
   "metadata": {
    "collapsed": false
   },
   "outputs": [
    {
     "data": {
      "text/plain": [
       "102     0\n",
       "103     0\n",
       "201     0\n",
       "301     1\n",
       "503     0\n",
       "506     0\n",
       "601     1\n",
       "702     0\n",
       "704     0\n",
       "705     0\n",
       "706     0\n",
       "707     0\n",
       "708     0\n",
       "801     1\n",
       "1001    0\n",
       "1002    0\n",
       "1007    0\n",
       "1009    0\n",
       "1011    0\n",
       "1012    0\n",
       "1013    0\n",
       "1017    0\n",
       "1019    0\n",
       "1020    0\n",
       "1021    0\n",
       "1022    0\n",
       "1301    0\n",
       "1302    0\n",
       "1303    0\n",
       "1304    0\n",
       "       ..\n",
       "2102    0\n",
       "2103    0\n",
       "2105    0\n",
       "2106    0\n",
       "2201    0\n",
       "2202    0\n",
       "2203    0\n",
       "2204    0\n",
       "2205    0\n",
       "2206    0\n",
       "2301    0\n",
       "2302    0\n",
       "2401    0\n",
       "2501    0\n",
       "2503    0\n",
       "2601    0\n",
       "2602    0\n",
       "2701    0\n",
       "2702    0\n",
       "2703    0\n",
       "2704    0\n",
       "2705    0\n",
       "2706    0\n",
       "2707    0\n",
       "3001    0\n",
       "3101    0\n",
       "3401    0\n",
       "9991    0\n",
       "9992    1\n",
       "9993    0\n",
       "Name: A0000002, dtype: int64"
      ]
     },
     "execution_count": 339,
     "metadata": {},
     "output_type": "execute_result"
    }
   ],
   "source": [
    "target0_train.ix[0]"
   ]
  },
  {
   "cell_type": "code",
   "execution_count": 338,
   "metadata": {
    "collapsed": false
   },
   "outputs": [
    {
     "data": {
      "text/plain": [
       "102     0.0\n",
       "103     0.0\n",
       "201     0.0\n",
       "301     1.0\n",
       "503     0.0\n",
       "506     0.0\n",
       "601     1.0\n",
       "702     0.0\n",
       "704     0.0\n",
       "705     0.0\n",
       "706     0.0\n",
       "707     0.0\n",
       "708     0.0\n",
       "801     1.0\n",
       "1001    0.0\n",
       "1002    0.0\n",
       "1007    0.0\n",
       "1009    0.0\n",
       "1011    0.0\n",
       "1012    0.0\n",
       "1013    0.0\n",
       "1017    0.0\n",
       "1019    0.0\n",
       "1020    0.0\n",
       "1021    0.0\n",
       "1022    0.0\n",
       "1301    0.0\n",
       "1302    0.0\n",
       "1303    0.0\n",
       "1304    0.0\n",
       "       ... \n",
       "2601    0.0\n",
       "2602    0.0\n",
       "2701    0.0\n",
       "2702    0.0\n",
       "2703    0.0\n",
       "2704    0.0\n",
       "2705    0.0\n",
       "2706    0.0\n",
       "2707    0.0\n",
       "3001    0.0\n",
       "3101    0.0\n",
       "3401    0.0\n",
       "9991    0.0\n",
       "9992    0.0\n",
       "9993    0.0\n",
       "1.1     0.0\n",
       "1.2     0.0\n",
       "1.3     0.0\n",
       "1.4     0.0\n",
       "1.5     1.0\n",
       "2.1     0.0\n",
       "2.2     0.0\n",
       "2.3     0.0\n",
       "2.4     0.0\n",
       "2.5     1.0\n",
       "3.1     1.0\n",
       "3.2     0.0\n",
       "3.3     0.0\n",
       "3.4     0.0\n",
       "3.5     0.0\n",
       "Name: A0000002, dtype: float64"
      ]
     },
     "execution_count": 338,
     "metadata": {},
     "output_type": "execute_result"
    }
   ],
   "source": [
    "train0.ix[0]"
   ]
  },
  {
   "cell_type": "code",
   "execution_count": 359,
   "metadata": {
    "collapsed": false
   },
   "outputs": [
    {
     "data": {
      "text/plain": [
       "1.0"
      ]
     },
     "execution_count": 359,
     "metadata": {},
     "output_type": "execute_result"
    }
   ],
   "source": [
    "(target0_train.ix[0]- train0.ix[0]).sum()"
   ]
  },
  {
   "cell_type": "markdown",
   "metadata": {},
   "source": [
    "Todo bien!! Podmeos entrenar"
   ]
  },
  {
   "cell_type": "code",
   "execution_count": 344,
   "metadata": {
    "collapsed": true
   },
   "outputs": [],
   "source": [
    "from keras.models import Sequential\n",
    "from keras.layers import Dense, Flatten\n",
    "from keras.layers.embeddings import Embedding\n",
    "from keras.preprocessing import sequence\n",
    "#Fix randome seed\n",
    "seed=7\n",
    "np.random.seed(seed)"
   ]
  },
  {
   "cell_type": "code",
   "execution_count": 345,
   "metadata": {
    "collapsed": false
   },
   "outputs": [
    {
     "name": "stdout",
     "output_type": "stream",
     "text": [
      "(403709, 86)\n",
      "(403709, 71)\n"
     ]
    }
   ],
   "source": [
    "print X0_train.shape\n",
    "print y0_train.shape"
   ]
  },
  {
   "cell_type": "code",
   "execution_count": 348,
   "metadata": {
    "collapsed": false
   },
   "outputs": [
    {
     "data": {
      "text/plain": [
       "86"
      ]
     },
     "execution_count": 348,
     "metadata": {},
     "output_type": "execute_result"
    }
   ],
   "source": [
    "input_dimen = X0_train.shape[1]\n",
    "input_dimen"
   ]
  },
  {
   "cell_type": "code",
   "execution_count": 353,
   "metadata": {
    "collapsed": false,
    "scrolled": true
   },
   "outputs": [
    {
     "name": "stdout",
     "output_type": "stream",
     "text": [
      "____________________________________________________________________________________________________\n",
      "Layer (type)                     Output Shape          Param #     Connected to                     \n",
      "====================================================================================================\n",
      "dense_6 (Dense)                  (None, 86)            7482        dense_input_2[0][0]              \n",
      "____________________________________________________________________________________________________\n",
      "dense_7 (Dense)                  (None, 200)           17400       dense_6[0][0]                    \n",
      "____________________________________________________________________________________________________\n",
      "dense_8 (Dense)                  (None, 200)           40200       dense_7[0][0]                    \n",
      "____________________________________________________________________________________________________\n",
      "dense_9 (Dense)                  (None, 71)            14271       dense_8[0][0]                    \n",
      "====================================================================================================\n",
      "Total params: 79,353\n",
      "Trainable params: 79,353\n",
      "Non-trainable params: 0\n",
      "____________________________________________________________________________________________________\n",
      "None\n"
     ]
    }
   ],
   "source": [
    "#Creare the model \n",
    "model=Sequential()\n",
    "model.add(Dense(input_dimen, input_dim= 86, activation='relu') )\n",
    "model.add(Dense(200, activation='relu'))\n",
    "model.add(Dense(200, activation='relu'))\n",
    "model.add(Dense(71, activation='sigmoid'))\n",
    "model.compile(loss='categorical_crossentropy', optimizer ='adam', metrics=['accuracy'])\n",
    "print(model.summary())"
   ]
  },
  {
   "cell_type": "code",
   "execution_count": 355,
   "metadata": {
    "collapsed": false
   },
   "outputs": [
    {
     "name": "stdout",
     "output_type": "stream",
     "text": [
      "Train on 403709 samples, validate on 100928 samples\n",
      "Epoch 1/15\n",
      "403709/403709 [==============================] - 20s - loss: 11.0902 - acc: 0.1716 - val_loss: 10.7952 - val_acc: 0.1473\n",
      "Epoch 2/15\n",
      "403709/403709 [==============================] - 19s - loss: 10.7152 - acc: 0.1941 - val_loss: 10.7484 - val_acc: 0.2351\n",
      "Epoch 3/15\n",
      "403709/403709 [==============================] - 19s - loss: 10.6786 - acc: 0.1945 - val_loss: 10.7333 - val_acc: 0.1660\n",
      "Epoch 4/15\n",
      "403709/403709 [==============================] - 19s - loss: 10.6572 - acc: 0.1832 - val_loss: 10.7020 - val_acc: 0.1964\n",
      "Epoch 5/15\n",
      "403709/403709 [==============================] - 19s - loss: 10.6421 - acc: 0.1656 - val_loss: 10.7063 - val_acc: 0.1713\n",
      "Epoch 6/15\n",
      "403709/403709 [==============================] - 20s - loss: 10.6310 - acc: 0.1553 - val_loss: 10.6994 - val_acc: 0.1392\n",
      "Epoch 7/15\n",
      "403709/403709 [==============================] - 20s - loss: 10.6215 - acc: 0.1506 - val_loss: 10.6913 - val_acc: 0.1478\n",
      "Epoch 8/15\n",
      "403709/403709 [==============================] - 20s - loss: 10.6151 - acc: 0.1527 - val_loss: 10.6877 - val_acc: 0.1647\n",
      "Epoch 9/15\n",
      "403709/403709 [==============================] - 20s - loss: 10.6082 - acc: 0.1559 - val_loss: 10.6859 - val_acc: 0.1821\n",
      "Epoch 10/15\n",
      "403709/403709 [==============================] - 20s - loss: 10.6028 - acc: 0.1553 - val_loss: 10.6928 - val_acc: 0.1578\n",
      "Epoch 11/15\n",
      "403709/403709 [==============================] - 21s - loss: 10.5980 - acc: 0.1574 - val_loss: 10.6876 - val_acc: 0.2236\n",
      "Epoch 12/15\n",
      "403709/403709 [==============================] - 20s - loss: 10.5932 - acc: 0.1624 - val_loss: 10.6841 - val_acc: 0.1503\n",
      "Epoch 13/15\n",
      "403709/403709 [==============================] - 20s - loss: 10.5901 - acc: 0.1530 - val_loss: 10.6753 - val_acc: 0.1354\n",
      "Epoch 14/15\n",
      "403709/403709 [==============================] - 20s - loss: 10.5862 - acc: 0.1628 - val_loss: 10.6800 - val_acc: 0.1636\n",
      "Epoch 15/15\n",
      "403709/403709 [==============================] - 20s - loss: 10.5826 - acc: 0.1673 - val_loss: 10.6834 - val_acc: 0.1901\n",
      "Accuracy:  19.0145450222 %\n"
     ]
    }
   ],
   "source": [
    "model.fit(X0_train, y0_train, validation_data =(X0_test, y0_test), nb_epoch=15, batch_size=128, verbose=1)\n",
    "scores=model.evaluate(X0_test, y0_test, verbose=0)\n",
    "\n",
    "print 'Accuracy: ', (scores[1]*100), '%'"
   ]
  },
  {
   "cell_type": "code",
   "execution_count": null,
   "metadata": {
    "collapsed": true
   },
   "outputs": [],
   "source": []
  }
 ],
 "metadata": {
  "anaconda-cloud": {},
  "kernelspec": {
   "display_name": "Python [conda root]",
   "language": "python",
   "name": "conda-root-py"
  },
  "language_info": {
   "codemirror_mode": {
    "name": "ipython",
    "version": 2
   },
   "file_extension": ".py",
   "mimetype": "text/x-python",
   "name": "python",
   "nbconvert_exporter": "python",
   "pygments_lexer": "ipython2",
   "version": "2.7.12"
  }
 },
 "nbformat": 4,
 "nbformat_minor": 1
}
