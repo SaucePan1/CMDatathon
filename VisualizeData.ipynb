{
 "cells": [
  {
   "cell_type": "markdown",
   "metadata": {},
   "source": [
    "# Read data from .txt"
   ]
  },
  {
   "cell_type": "code",
   "execution_count": 12,
   "metadata": {
    "collapsed": true
   },
   "outputs": [],
   "source": [
    "import numpy as np\n",
    "import pandas as pd\n",
    "import matplotlib.pyplot as plt\n",
    "%matplotlib inline\n",
    "import datetime as dt"
   ]
  },
  {
   "cell_type": "code",
   "execution_count": 13,
   "metadata": {
    "collapsed": true
   },
   "outputs": [],
   "source": [
    "# set fixed size for plots\n",
    "from matplotlib.pylab import rcParams\n",
    "rcParams['figure.figsize'] = 15, 6"
   ]
  },
  {
   "cell_type": "code",
   "execution_count": 14,
   "metadata": {
    "collapsed": false
   },
   "outputs": [],
   "source": [
    "data = pd.read_csv('train2-2.txt',sep='|')\n",
    "#test = pd.read_csv('test2.txt', sep='|')"
   ]
  },
  {
   "cell_type": "code",
   "execution_count": 15,
   "metadata": {
    "collapsed": false
   },
   "outputs": [
    {
     "data": {
      "text/html": [
       "<div>\n",
       "<table border=\"1\" class=\"dataframe\">\n",
       "  <thead>\n",
       "    <tr style=\"text-align: right;\">\n",
       "      <th></th>\n",
       "      <th>ID_Customer</th>\n",
       "      <th>Cod_Prod</th>\n",
       "      <th>Cod_Fecha</th>\n",
       "      <th>Socio_Demo_01</th>\n",
       "      <th>Socio_Demo_02</th>\n",
       "      <th>Socio_Demo_03</th>\n",
       "      <th>Socio_Demo_04</th>\n",
       "      <th>Socio_Demo_05</th>\n",
       "    </tr>\n",
       "  </thead>\n",
       "  <tbody>\n",
       "    <tr>\n",
       "      <th>0</th>\n",
       "      <td>A0000001</td>\n",
       "      <td>601</td>\n",
       "      <td>2007-05</td>\n",
       "      <td>5</td>\n",
       "      <td>4</td>\n",
       "      <td>3</td>\n",
       "      <td>1</td>\n",
       "      <td>0</td>\n",
       "    </tr>\n",
       "    <tr>\n",
       "      <th>1</th>\n",
       "      <td>A0000001</td>\n",
       "      <td>704</td>\n",
       "      <td>2013-04</td>\n",
       "      <td>5</td>\n",
       "      <td>4</td>\n",
       "      <td>3</td>\n",
       "      <td>1</td>\n",
       "      <td>0</td>\n",
       "    </tr>\n",
       "    <tr>\n",
       "      <th>2</th>\n",
       "      <td>A0000001</td>\n",
       "      <td>2501</td>\n",
       "      <td>2006-03</td>\n",
       "      <td>5</td>\n",
       "      <td>4</td>\n",
       "      <td>3</td>\n",
       "      <td>1</td>\n",
       "      <td>0</td>\n",
       "    </tr>\n",
       "    <tr>\n",
       "      <th>3</th>\n",
       "      <td>A0000001</td>\n",
       "      <td>2503</td>\n",
       "      <td>2006-03</td>\n",
       "      <td>5</td>\n",
       "      <td>4</td>\n",
       "      <td>3</td>\n",
       "      <td>1</td>\n",
       "      <td>0</td>\n",
       "    </tr>\n",
       "    <tr>\n",
       "      <th>4</th>\n",
       "      <td>A0000001</td>\n",
       "      <td>1011</td>\n",
       "      <td>2011-04</td>\n",
       "      <td>5</td>\n",
       "      <td>4</td>\n",
       "      <td>3</td>\n",
       "      <td>1</td>\n",
       "      <td>0</td>\n",
       "    </tr>\n",
       "  </tbody>\n",
       "</table>\n",
       "</div>"
      ],
      "text/plain": [
       "  ID_Customer  Cod_Prod Cod_Fecha  Socio_Demo_01  Socio_Demo_02  \\\n",
       "0    A0000001       601   2007-05              5              4   \n",
       "1    A0000001       704   2013-04              5              4   \n",
       "2    A0000001      2501   2006-03              5              4   \n",
       "3    A0000001      2503   2006-03              5              4   \n",
       "4    A0000001      1011   2011-04              5              4   \n",
       "\n",
       "   Socio_Demo_03  Socio_Demo_04  Socio_Demo_05  \n",
       "0              3              1              0  \n",
       "1              3              1              0  \n",
       "2              3              1              0  \n",
       "3              3              1              0  \n",
       "4              3              1              0  "
      ]
     },
     "execution_count": 15,
     "metadata": {},
     "output_type": "execute_result"
    }
   ],
   "source": [
    "df.head()"
   ]
  },
  {
   "cell_type": "markdown",
   "metadata": {},
   "source": [
    "# Information about data\n",
    "## Variables\n",
    "    ID_Customer: Identificador de cliente.\n",
    "    Cod_Prod: Código de la modalidad de producto contratado.\n",
    "    Cod_Fecha: Fecha de contratación de la modalidad de producto.\n",
    "    Socio_Demo_01-05: Variables socio demográficas relacionadas con el cliente.\n",
    "    \n",
    "\n",
    "#### 1. Socio_Demo_01.\n",
    "\n",
    "    1: Edad < 18 años\n",
    "    2: Edad >= 18 años y Edad < 30 años\n",
    "    3: Edad >= 30 años y Edad < 45 años\n",
    "    4: Edad >= 45 años y Edad < 65 años\n",
    "    5: Edad >= 65 años\n",
    "        \n",
    "\n",
    "#### 2. Socio_Demo_02.\n",
    "    1: Antigüedad < 1 año\n",
    "    2: Antigüedad >=1 año y Antigüedad < 5 años\n",
    "    3: Antigüedad >= 5 años y Antigüedad < 10 años\n",
    "    4: Antigüedad >= 10 años y Antigüedad < 20 años\n",
    "    5: Antigüedad >= 20 años\n",
    "\n",
    "#### 3. Socio_Demo_03.\n",
    "    1: Ingresos < 6.000 €\n",
    "    2: Ingresos >= 6.000 € and Ingresos < 12.000 €\n",
    "    3: Ingresos >= 12.000 € and Ingresos < 24.000 €\n",
    "    4: Ingresos >= 24.000 € and Ingresos < 32.000 €\n",
    "    5: Ingresos >= 32.000 €\n",
    "\n",
    "#### 4. Cod_Prod.: Código de la modalidad de producto contratado.\n",
    "#### 5. Socio_Demo_04: Sexo (1: Hombre, 2: Mujer)\n",
    "#### 6. Socio_Demo_05: Segmento (00: Particular | 01:Agricultor | 02:Comercio | 03:Autónomo)\n",
    "#### 7. Cod_Fecha: Formato YYYY-MM"
   ]
  },
  {
   "cell_type": "markdown",
   "metadata": {},
   "source": [
    "# Important phrases about data\n",
    "    1. Train size > 3 million rows. Test size > 1 million rows.\n",
    "    2. The clients in both files are different. Train > 1/2 million clients. Test > 1/4 million clients.\n",
    "    3. There are almost 16% and 11% of clients with only one product in test and train, respectively.\n",
    "    4. There are the same products in both files.\n",
    "    5. Products are never repeated.\n",
    "    6. Socio_Democrotic Values ARE ALWAYS CONSTANT on the user. Meaning they correspond to the time being (2017) and not when the prodcut was bought."
   ]
  },
  {
   "cell_type": "markdown",
   "metadata": {},
   "source": [
    "### Unique customers IDs for data and test"
   ]
  },
  {
   "cell_type": "code",
   "execution_count": 16,
   "metadata": {
    "collapsed": false,
    "scrolled": true
   },
   "outputs": [
    {
     "data": {
      "text/plain": [
       "array(['A0676361', 'A0676362', 'A0676363', 'A0676364', 'A0676365',\n",
       "       'A0676366', 'A0676367', 'A0676368', 'A0676369', 'A0676370'], dtype=object)"
      ]
     },
     "execution_count": 16,
     "metadata": {},
     "output_type": "execute_result"
    }
   ],
   "source": [
    "sortedData = data.ID_Customer.unique()\n",
    "sortedData.sort()\n",
    "sortedData[-10:]"
   ]
  },
  {
   "cell_type": "code",
   "execution_count": 17,
   "metadata": {
    "collapsed": false,
    "scrolled": true
   },
   "outputs": [
    {
     "ename": "NameError",
     "evalue": "name 'test' is not defined",
     "output_type": "error",
     "traceback": [
      "\u001b[0;31m---------------------------------------------------------------------------\u001b[0m",
      "\u001b[0;31mNameError\u001b[0m                                 Traceback (most recent call last)",
      "\u001b[0;32m<ipython-input-17-379763ad188e>\u001b[0m in \u001b[0;36m<module>\u001b[0;34m()\u001b[0m\n\u001b[0;32m----> 1\u001b[0;31m \u001b[0msortedTest\u001b[0m \u001b[0;34m=\u001b[0m \u001b[0mtest\u001b[0m\u001b[0;34m.\u001b[0m\u001b[0mID_Customer\u001b[0m\u001b[0;34m.\u001b[0m\u001b[0munique\u001b[0m\u001b[0;34m(\u001b[0m\u001b[0;34m)\u001b[0m\u001b[0;34m\u001b[0m\u001b[0m\n\u001b[0m\u001b[1;32m      2\u001b[0m \u001b[0msortedTest\u001b[0m\u001b[0;34m.\u001b[0m\u001b[0msort\u001b[0m\u001b[0;34m(\u001b[0m\u001b[0;34m)\u001b[0m\u001b[0;34m\u001b[0m\u001b[0m\n\u001b[1;32m      3\u001b[0m \u001b[0msortedTest\u001b[0m\u001b[0;34m[\u001b[0m\u001b[0;34m:\u001b[0m\u001b[0;36m10\u001b[0m\u001b[0;34m]\u001b[0m\u001b[0;34m\u001b[0m\u001b[0m\n",
      "\u001b[0;31mNameError\u001b[0m: name 'test' is not defined"
     ]
    }
   ],
   "source": [
    "sortedTest = test.ID_Customer.unique()\n",
    "sortedTest.sort()\n",
    "sortedTest[:10]"
   ]
  },
  {
   "cell_type": "code",
   "execution_count": null,
   "metadata": {
    "collapsed": false,
    "scrolled": false
   },
   "outputs": [],
   "source": [
    "data[data.ID_Customer=='A0451704']"
   ]
  },
  {
   "cell_type": "code",
   "execution_count": null,
   "metadata": {
    "collapsed": false,
    "scrolled": true
   },
   "outputs": [],
   "source": [
    "test[test.ID_Customer=='B0676372']"
   ]
  },
  {
   "cell_type": "code",
   "execution_count": null,
   "metadata": {
    "collapsed": false
   },
   "outputs": [],
   "source": [
    "test[test.ID_Customer=='B0676373']"
   ]
  },
  {
   "cell_type": "markdown",
   "metadata": {},
   "source": [
    "## How many clients have only one product purchased?"
   ]
  },
  {
   "cell_type": "markdown",
   "metadata": {},
   "source": [
    "### In test"
   ]
  },
  {
   "cell_type": "code",
   "execution_count": null,
   "metadata": {
    "collapsed": false
   },
   "outputs": [],
   "source": [
    "oneProdTest = test.groupby('ID_Customer')['Cod_Prod'].count()\n",
    "print oneProdTest[oneProdTest==1].size, oneProdTest[oneProdTest==1].size/float(test.ID_Customer.unique().size)*100, '%'"
   ]
  },
  {
   "cell_type": "markdown",
   "metadata": {},
   "source": [
    "### In train"
   ]
  },
  {
   "cell_type": "code",
   "execution_count": null,
   "metadata": {
    "collapsed": false
   },
   "outputs": [],
   "source": [
    "oneProdData = data.groupby('ID_Customer')['Cod_Prod'].count()\n",
    "print oneProdData[oneProdData==1].size, oneProdData[oneProdData==1].size/float(data.ID_Customer.unique().size)*100, '%'"
   ]
  },
  {
   "cell_type": "markdown",
   "metadata": {},
   "source": [
    "## Size of dataset"
   ]
  },
  {
   "cell_type": "code",
   "execution_count": null,
   "metadata": {
    "collapsed": false
   },
   "outputs": [],
   "source": [
    "data.shape"
   ]
  },
  {
   "cell_type": "code",
   "execution_count": null,
   "metadata": {
    "collapsed": false
   },
   "outputs": [],
   "source": [
    "test.shape"
   ]
  },
  {
   "cell_type": "code",
   "execution_count": null,
   "metadata": {
    "collapsed": false
   },
   "outputs": [],
   "source": [
    "#Number of clients\n",
    "data.ID_Customer.unique().size"
   ]
  },
  {
   "cell_type": "code",
   "execution_count": null,
   "metadata": {
    "collapsed": false
   },
   "outputs": [],
   "source": [
    "test.ID_Customer.unique().size"
   ]
  },
  {
   "cell_type": "markdown",
   "metadata": {},
   "source": [
    "### Number of products"
   ]
  },
  {
   "cell_type": "code",
   "execution_count": null,
   "metadata": {
    "collapsed": false
   },
   "outputs": [],
   "source": [
    "data.Cod_Prod.unique().size"
   ]
  },
  {
   "cell_type": "code",
   "execution_count": null,
   "metadata": {
    "collapsed": false
   },
   "outputs": [],
   "source": [
    "test.Cod_Prod.unique().size"
   ]
  },
  {
   "cell_type": "markdown",
   "metadata": {},
   "source": [
    "#### There the same amount of prodcuts! Are they the same products?"
   ]
  },
  {
   "cell_type": "code",
   "execution_count": null,
   "metadata": {
    "collapsed": false
   },
   "outputs": [],
   "source": [
    "for product in test.Cod_Prod.unique():\n",
    "    if product not in data.Cod_Prod.unique():\n",
    "        print 'New product: ', product"
   ]
  },
  {
   "cell_type": "markdown",
   "metadata": {},
   "source": [
    "#### Is there all type of features?"
   ]
  },
  {
   "cell_type": "code",
   "execution_count": null,
   "metadata": {
    "collapsed": false
   },
   "outputs": [],
   "source": [
    "print data.Socio_Demo_01.unique()\n",
    "print data.Socio_Demo_02.unique()\n",
    "print data.Socio_Demo_03.unique()\n",
    "print data.Socio_Demo_04.unique()\n",
    "print data.Socio_Demo_05.unique()"
   ]
  },
  {
   "cell_type": "markdown",
   "metadata": {},
   "source": [
    "YES!"
   ]
  },
  {
   "cell_type": "markdown",
   "metadata": {},
   "source": [
    "# Missing values?"
   ]
  },
  {
   "cell_type": "code",
   "execution_count": null,
   "metadata": {
    "collapsed": false
   },
   "outputs": [],
   "source": [
    "#Check if there is any NaN value in data\n",
    "data.isnull().values.any()"
   ]
  },
  {
   "cell_type": "code",
   "execution_count": null,
   "metadata": {
    "collapsed": false
   },
   "outputs": [],
   "source": [
    "test.isnull().values.any()"
   ]
  },
  {
   "cell_type": "markdown",
   "metadata": {},
   "source": [
    "#### The dataset is clean!"
   ]
  },
  {
   "cell_type": "markdown",
   "metadata": {},
   "source": [
    "# Counting purchased products by different features"
   ]
  },
  {
   "cell_type": "code",
   "execution_count": 18,
   "metadata": {
    "collapsed": true
   },
   "outputs": [],
   "source": [
    "productsPerAge = data.groupby('Socio_Demo_01')['Cod_Prod'].count()\n",
    "productsPerAntiq = data.groupby('Socio_Demo_02')['Cod_Prod'].count()\n",
    "productsPerIncome = data.groupby('Socio_Demo_03')['Cod_Prod'].count()\n",
    "productsPerGender = data.groupby('Socio_Demo_04')['Cod_Prod'].count()"
   ]
  },
  {
   "cell_type": "code",
   "execution_count": 19,
   "metadata": {
    "collapsed": false
   },
   "outputs": [
    {
     "data": {
      "text/plain": [
       "Socio_Demo_01\n",
       "1      47430\n",
       "2     282960\n",
       "3    1077626\n",
       "4    1355148\n",
       "5     587437\n",
       "Name: Cod_Prod, dtype: int64"
      ]
     },
     "execution_count": 19,
     "metadata": {},
     "output_type": "execute_result"
    }
   ],
   "source": [
    "productsPerAge"
   ]
  },
  {
   "cell_type": "code",
   "execution_count": 20,
   "metadata": {
    "collapsed": false
   },
   "outputs": [
    {
     "data": {
      "text/plain": [
       "<matplotlib.text.Text at 0x114397690>"
      ]
     },
     "execution_count": 20,
     "metadata": {},
     "output_type": "execute_result"
    },
    {
     "data": {
      "image/png": "[encoded data removed]",
      "text/plain": [
       "<matplotlib.figure.Figure at 0x112711f50>"
      ]
     },
     "metadata": {},
     "output_type": "display_data"
    }
   ],
   "source": [
    "#Plottings\n",
    "# Four subplots, sharing y axis\n",
    "f, (ax1, ax2, ax3, ax4) = plt.subplots(1, 4, sharey=True)\n",
    "colors = ['#EEE8AA','#FFD700','#FFA500','#FF4500','#B22222']\n",
    "ax1.bar(-0.4+productsPerAge.index.values,productsPerAge.values, color=colors)\n",
    "ax2.bar(-0.4+productsPerAntiq.index.values,productsPerAntiq.values, color=colors)\n",
    "ax3.bar(-0.4+productsPerIncome.index.values,productsPerIncome.values, color=colors)\n",
    "ax4.bar(-0.4+productsPerGender.index.values,productsPerGender.values, color=colors)\n",
    "ax1.set_title('Prod. per Age')\n",
    "ax2.set_title('Prod. per Antiq.')\n",
    "ax3.set_title('Prod. per Incom.')\n",
    "ax4.set_title('Prod. per Gender')"
   ]
  },
  {
   "cell_type": "code",
   "execution_count": 21,
   "metadata": {
    "collapsed": false
   },
   "outputs": [
    {
     "data": {
      "text/html": [
       "<div>\n",
       "<table border=\"1\" class=\"dataframe\">\n",
       "  <thead>\n",
       "    <tr style=\"text-align: right;\">\n",
       "      <th></th>\n",
       "      <th>ID_Customer</th>\n",
       "      <th>Cod_Prod</th>\n",
       "      <th>Cod_Fecha</th>\n",
       "      <th>Socio_Demo_01</th>\n",
       "      <th>Socio_Demo_02</th>\n",
       "      <th>Socio_Demo_03</th>\n",
       "      <th>Socio_Demo_04</th>\n",
       "      <th>Socio_Demo_05</th>\n",
       "    </tr>\n",
       "  </thead>\n",
       "  <tbody>\n",
       "    <tr>\n",
       "      <th>8</th>\n",
       "      <td>A0000002</td>\n",
       "      <td>301</td>\n",
       "      <td>1995-03</td>\n",
       "      <td>5</td>\n",
       "      <td>5</td>\n",
       "      <td>1</td>\n",
       "      <td>1</td>\n",
       "      <td>0</td>\n",
       "    </tr>\n",
       "    <tr>\n",
       "      <th>10</th>\n",
       "      <td>A0000003</td>\n",
       "      <td>301</td>\n",
       "      <td>2012-05</td>\n",
       "      <td>5</td>\n",
       "      <td>5</td>\n",
       "      <td>5</td>\n",
       "      <td>2</td>\n",
       "      <td>0</td>\n",
       "    </tr>\n",
       "    <tr>\n",
       "      <th>16</th>\n",
       "      <td>A0000004</td>\n",
       "      <td>301</td>\n",
       "      <td>2008-10</td>\n",
       "      <td>5</td>\n",
       "      <td>5</td>\n",
       "      <td>3</td>\n",
       "      <td>1</td>\n",
       "      <td>0</td>\n",
       "    </tr>\n",
       "    <tr>\n",
       "      <th>18</th>\n",
       "      <td>A0000005</td>\n",
       "      <td>301</td>\n",
       "      <td>1984-04</td>\n",
       "      <td>5</td>\n",
       "      <td>5</td>\n",
       "      <td>3</td>\n",
       "      <td>1</td>\n",
       "      <td>0</td>\n",
       "    </tr>\n",
       "    <tr>\n",
       "      <th>20</th>\n",
       "      <td>A0000006</td>\n",
       "      <td>301</td>\n",
       "      <td>1996-10</td>\n",
       "      <td>5</td>\n",
       "      <td>5</td>\n",
       "      <td>3</td>\n",
       "      <td>1</td>\n",
       "      <td>0</td>\n",
       "    </tr>\n",
       "  </tbody>\n",
       "</table>\n",
       "</div>"
      ],
      "text/plain": [
       "   ID_Customer  Cod_Prod Cod_Fecha  Socio_Demo_01  Socio_Demo_02  \\\n",
       "8     A0000002       301   1995-03              5              5   \n",
       "10    A0000003       301   2012-05              5              5   \n",
       "16    A0000004       301   2008-10              5              5   \n",
       "18    A0000005       301   1984-04              5              5   \n",
       "20    A0000006       301   1996-10              5              5   \n",
       "\n",
       "    Socio_Demo_03  Socio_Demo_04  Socio_Demo_05  \n",
       "8               1              1              0  \n",
       "10              5              2              0  \n",
       "16              3              1              0  \n",
       "18              3              1              0  \n",
       "20              3              1              0  "
      ]
     },
     "execution_count": 21,
     "metadata": {},
     "output_type": "execute_result"
    }
   ],
   "source": [
    "data[data.Cod_Prod==301].head()"
   ]
  },
  {
   "cell_type": "code",
   "execution_count": 22,
   "metadata": {
    "collapsed": true
   },
   "outputs": [],
   "source": [
    "givenProdPerAge = data[data.Cod_Prod==301].groupby('Socio_Demo_01').count()"
   ]
  },
  {
   "cell_type": "code",
   "execution_count": 23,
   "metadata": {
    "collapsed": false
   },
   "outputs": [
    {
     "data": {
      "text/plain": [
       "Socio_Demo_01\n",
       "1       504\n",
       "2     27528\n",
       "3    121398\n",
       "4    171156\n",
       "5    105583\n",
       "Name: Cod_Prod, dtype: int64"
      ]
     },
     "execution_count": 23,
     "metadata": {},
     "output_type": "execute_result"
    }
   ],
   "source": [
    "givenProdPerAge.Cod_Prod"
   ]
  },
  {
   "cell_type": "markdown",
   "metadata": {},
   "source": [
    "# Important things about visualization"
   ]
  },
  {
   "cell_type": "markdown",
   "metadata": {},
   "source": [
    "## Plot products as a function of month and year of purchase"
   ]
  },
  {
   "cell_type": "code",
   "execution_count": 24,
   "metadata": {
    "collapsed": true
   },
   "outputs": [],
   "source": [
    "prodVsPeriod = data.groupby(['Cod_Prod','Cod_Fecha'])['Cod_Prod'].count()"
   ]
  },
  {
   "cell_type": "code",
   "execution_count": 25,
   "metadata": {
    "collapsed": false
   },
   "outputs": [
    {
     "data": {
      "text/plain": [
       "Cod_Prod  Cod_Fecha\n",
       "101       1989-11      1\n",
       "          1992-05      2\n",
       "          1995-03      1\n",
       "          1996-01      1\n",
       "          1996-05      1\n",
       "          1996-06      1\n",
       "          1996-08      5\n",
       "          1996-11      9\n",
       "          1996-12      1\n",
       "          1997-05      1\n",
       "Name: Cod_Prod, dtype: int64"
      ]
     },
     "execution_count": 25,
     "metadata": {},
     "output_type": "execute_result"
    }
   ],
   "source": [
    "prodVsPeriod.head(10)"
   ]
  },
  {
   "cell_type": "code",
   "execution_count": 26,
   "metadata": {
    "collapsed": false
   },
   "outputs": [
    {
     "ename": "SyntaxError",
     "evalue": "unexpected EOF while parsing (<ipython-input-26-0b6d71a55f44>, line 1)",
     "output_type": "error",
     "traceback": [
      "\u001b[0;36m  File \u001b[0;32m\"<ipython-input-26-0b6d71a55f44>\"\u001b[0;36m, line \u001b[0;32m1\u001b[0m\n\u001b[0;31m    prodVsPeriod.index.levels[1].astype((lambda x: dt.datetime.strftime(x,'%Y-%m'))\u001b[0m\n\u001b[0m                                                                                   ^\u001b[0m\n\u001b[0;31mSyntaxError\u001b[0m\u001b[0;31m:\u001b[0m unexpected EOF while parsing\n"
     ]
    }
   ],
   "source": [
    "prodVsPeriod.index.levels[1].astype((lambda x: dt.datetime.strftime(x,'%Y-%m'))"
   ]
  },
  {
   "cell_type": "code",
   "execution_count": 27,
   "metadata": {
    "collapsed": false
   },
   "outputs": [
    {
     "data": {
      "text/plain": [
       "array(['1954-03', '1954-09', '1956-05', '1956-11', '1956-12', '1957-01',\n",
       "       '1957-02', '1957-11', '1958-04', '1958-09', '1959-02', '1960-07',\n",
       "       '1960-10', '1960-12', '1961-08', '1961-10', '1962-01', '1962-02',\n",
       "       '1962-03', '1962-04', '1962-08', '1962-12', '1963-01', '1963-06',\n",
       "       '1963-07', '1963-10', '1963-12', '1964-01', '1964-02', '1964-03',\n",
       "       '1964-04', '1964-05', '1964-07', '1964-12', '1965-02', '1965-07',\n",
       "       '1965-09', '1965-10', '1965-12', '1966-02', '1966-03', '1966-06',\n",
       "       '1967-06', '1967-08', '1967-09', '1967-10', '1967-12', '1968-01',\n",
       "       '1968-02', '1968-04', '1968-05', '1968-06', '1968-07', '1968-10',\n",
       "       '1968-11', '1968-12', '1969-01', '1969-02', '1969-03', '1969-04',\n",
       "       '1969-05', '1969-06', '1969-07', '1969-08', '1969-09', '1969-10',\n",
       "       '1969-11', '1969-12', '1970-01', '1970-02', '1970-03', '1970-04',\n",
       "       '1970-05', '1970-06', '1970-07', '1970-08', '1970-09', '1970-10',\n",
       "       '1970-11', '1970-12', '1971-01', '1971-02', '1971-03', '1971-04',\n",
       "       '1971-05', '1971-06', '1971-07', '1971-08', '1971-09', '1971-10',\n",
       "       '1971-11', '1971-12', '1972-01', '1972-02', '1972-03', '1972-04',\n",
       "       '1972-05', '1972-06', '1972-07', '1972-08', '1972-09', '1972-10',\n",
       "       '1972-11', '1972-12', '1973-01', '1973-02', '1973-03', '1973-04',\n",
       "       '1973-05', '1973-06', '1973-07', '1973-08', '1973-09', '1973-10',\n",
       "       '1973-11', '1973-12', '1974-01', '1974-02', '1974-03', '1974-04',\n",
       "       '1974-05', '1974-06', '1974-07', '1974-08', '1974-09', '1974-10',\n",
       "       '1974-11', '1974-12', '1975-01', '1975-02', '1975-03', '1975-04',\n",
       "       '1975-05', '1975-06', '1975-07', '1975-08', '1975-09', '1975-10',\n",
       "       '1975-11', '1975-12', '1976-01', '1976-02', '1976-03', '1976-04',\n",
       "       '1976-05', '1976-06', '1976-07', '1976-08', '1976-09', '1976-10',\n",
       "       '1976-11', '1976-12', '1977-01', '1977-02', '1977-03', '1977-04',\n",
       "       '1977-05', '1977-06', '1977-07', '1977-08', '1977-09', '1977-10',\n",
       "       '1977-11', '1977-12', '1978-01', '1978-02', '1978-03', '1978-04',\n",
       "       '1978-05', '1978-06', '1978-07', '1978-08', '1978-09', '1978-10',\n",
       "       '1978-11', '1978-12', '1979-01', '1979-02', '1979-03', '1979-04',\n",
       "       '1979-05', '1979-06', '1979-07', '1979-08', '1979-09', '1979-10',\n",
       "       '1979-11', '1979-12', '1980-01', '1980-02', '1980-03', '1980-04',\n",
       "       '1980-05', '1980-06', '1980-07', '1980-08', '1980-09', '1980-10',\n",
       "       '1980-11', '1980-12', '1981-01', '1981-02', '1981-03', '1981-04',\n",
       "       '1981-05', '1981-06', '1981-07', '1981-08', '1981-09', '1981-10',\n",
       "       '1981-11', '1981-12', '1982-01', '1982-02', '1982-03', '1982-04',\n",
       "       '1982-05', '1982-06', '1982-07', '1982-08', '1982-09', '1982-10',\n",
       "       '1982-11', '1982-12', '1983-01', '1983-02', '1983-03', '1983-04',\n",
       "       '1983-05', '1983-06', '1983-07', '1983-08', '1983-09', '1983-10',\n",
       "       '1983-11', '1983-12', '1984-01', '1984-02', '1984-03', '1984-04',\n",
       "       '1984-05', '1984-06', '1984-07', '1984-08', '1984-09', '1984-10',\n",
       "       '1984-11', '1984-12', '1985-01', '1985-02', '1985-03', '1985-04',\n",
       "       '1985-05', '1985-06', '1985-07', '1985-08', '1985-09', '1985-10',\n",
       "       '1985-11', '1985-12', '1986-01', '1986-02', '1986-03', '1986-04',\n",
       "       '1986-05', '1986-06', '1986-07', '1986-08', '1986-09', '1986-10',\n",
       "       '1986-11', '1986-12', '1987-01', '1987-02', '1987-03', '1987-04',\n",
       "       '1987-05', '1987-06', '1987-07', '1987-08', '1987-09', '1987-10',\n",
       "       '1987-11', '1987-12', '1988-01', '1988-02', '1988-03', '1988-04',\n",
       "       '1988-05', '1988-06', '1988-07', '1988-08', '1988-09', '1988-10',\n",
       "       '1988-11', '1988-12', '1989-01', '1989-02', '1989-03', '1989-04',\n",
       "       '1989-05', '1989-06', '1989-07', '1989-08', '1989-09', '1989-10',\n",
       "       '1989-11', '1989-12', '1990-01', '1990-02', '1990-03', '1990-04',\n",
       "       '1990-05', '1990-06', '1990-07', '1990-08', '1990-09', '1990-10',\n",
       "       '1990-11', '1990-12', '1991-01', '1991-02', '1991-03', '1991-04',\n",
       "       '1991-05', '1991-06', '1991-07', '1991-08', '1991-09', '1991-10',\n",
       "       '1991-11', '1991-12', '1992-01', '1992-02', '1992-03', '1992-04',\n",
       "       '1992-05', '1992-06', '1992-07', '1992-08', '1992-09', '1992-10',\n",
       "       '1992-11', '1992-12', '1993-01', '1993-02', '1993-03', '1993-04',\n",
       "       '1993-05', '1993-06', '1993-07', '1993-08', '1993-09', '1993-10',\n",
       "       '1993-11', '1993-12', '1994-01', '1994-02', '1994-03', '1994-04',\n",
       "       '1994-05', '1994-06', '1994-07', '1994-08', '1994-09', '1994-10',\n",
       "       '1994-11', '1994-12', '1995-01', '1995-02', '1995-03', '1995-04',\n",
       "       '1995-05', '1995-06', '1995-07', '1995-08', '1995-09', '1995-10',\n",
       "       '1995-11', '1995-12', '1996-01', '1996-02', '1996-03', '1996-04',\n",
       "       '1996-05', '1996-06', '1996-07', '1996-08', '1996-09', '1996-10',\n",
       "       '1996-11', '1996-12', '1997-01', '1997-02', '1997-03', '1997-04',\n",
       "       '1997-05', '1997-06', '1997-07', '1997-08', '1997-09', '1997-10',\n",
       "       '1997-11', '1997-12', '1998-01', '1998-02', '1998-03', '1998-04',\n",
       "       '1998-05', '1998-06', '1998-07', '1998-08', '1998-09', '1998-10',\n",
       "       '1998-11', '1998-12', '1999-01', '1999-02', '1999-03', '1999-04',\n",
       "       '1999-05', '1999-06', '1999-07', '1999-08', '1999-09', '1999-10',\n",
       "       '1999-11', '1999-12', '2000-01', '2000-02', '2000-03', '2000-04',\n",
       "       '2000-05', '2000-06', '2000-07', '2000-08', '2000-09', '2000-10',\n",
       "       '2000-11', '2000-12', '2001-01', '2001-02', '2001-03', '2001-04',\n",
       "       '2001-05', '2001-06', '2001-07', '2001-08', '2001-09', '2001-10',\n",
       "       '2001-11', '2001-12', '2002-01', '2002-02', '2002-03', '2002-04',\n",
       "       '2002-05', '2002-06', '2002-07', '2002-08', '2002-09', '2002-10',\n",
       "       '2002-11', '2002-12', '2003-01', '2003-02', '2003-03', '2003-04',\n",
       "       '2003-05', '2003-06', '2003-07', '2003-08', '2003-09', '2003-10',\n",
       "       '2003-11', '2003-12', '2004-01', '2004-02', '2004-03', '2004-04',\n",
       "       '2004-05', '2004-06', '2004-07', '2004-08', '2004-09', '2004-10',\n",
       "       '2004-11', '2004-12', '2005-01', '2005-02', '2005-03', '2005-04',\n",
       "       '2005-05', '2005-06', '2005-07', '2005-08', '2005-09', '2005-10',\n",
       "       '2005-11', '2005-12', '2006-01', '2006-02', '2006-03', '2006-04',\n",
       "       '2006-05', '2006-06', '2006-07', '2006-08', '2006-09', '2006-10',\n",
       "       '2006-11', '2006-12', '2007-01', '2007-02', '2007-03', '2007-04',\n",
       "       '2007-05', '2007-06', '2007-07', '2007-08', '2007-09', '2007-10',\n",
       "       '2007-11', '2007-12', '2008-01', '2008-02', '2008-03', '2008-04',\n",
       "       '2008-05', '2008-06', '2008-07', '2008-08', '2008-09', '2008-10',\n",
       "       '2008-11', '2008-12', '2009-01', '2009-02', '2009-03', '2009-04',\n",
       "       '2009-05', '2009-06', '2009-07', '2009-08', '2009-09', '2009-10',\n",
       "       '2009-11', '2009-12', '2010-01', '2010-02', '2010-03', '2010-04',\n",
       "       '2010-05', '2010-06', '2010-07', '2010-08', '2010-09', '2010-10',\n",
       "       '2010-11', '2010-12', '2011-01', '2011-02', '2011-03', '2011-04',\n",
       "       '2011-05', '2011-06', '2011-07', '2011-08', '2011-09', '2011-10',\n",
       "       '2011-11', '2011-12', '2012-01', '2012-02', '2012-03', '2012-04',\n",
       "       '2012-05', '2012-06', '2012-07', '2012-08', '2012-09', '2012-10',\n",
       "       '2012-11', '2012-12', '2013-01', '2013-02', '2013-03', '2013-04',\n",
       "       '2013-05', '2013-06', '2013-07', '2013-08', '2013-09', '2013-10',\n",
       "       '2013-11', '2013-12', '2014-01', '2014-02', '2014-03', '2014-04',\n",
       "       '2014-05', '2014-06', '2014-07', '2014-08', '2014-09', '2014-10',\n",
       "       '2014-11', '2014-12', '2015-01', '2015-02', '2015-03', '2015-04',\n",
       "       '2015-05', '2015-06', '2015-07', '2015-08', '2015-09', '2015-10',\n",
       "       '2015-11', '2015-12', '2016-01', '2016-02', '2016-03', '2016-04',\n",
       "       '2016-05', '2016-06', '2016-07', '2016-08', '2016-09', '2016-10',\n",
       "       '2016-11', '2016-12', '2017-01', '2017-02', '2017-03'], dtype=object)"
      ]
     },
     "execution_count": 27,
     "metadata": {},
     "output_type": "execute_result"
    }
   ],
   "source": [
    "prodVsPeriod.index.levels[1].values"
   ]
  },
  {
   "cell_type": "code",
   "execution_count": null,
   "metadata": {
    "collapsed": true
   },
   "outputs": [],
   "source": []
  },
  {
   "cell_type": "code",
   "execution_count": null,
   "metadata": {
    "collapsed": true
   },
   "outputs": [],
   "source": []
  },
  {
   "cell_type": "code",
   "execution_count": null,
   "metadata": {
    "collapsed": true
   },
   "outputs": [],
   "source": []
  },
  {
   "cell_type": "code",
   "execution_count": null,
   "metadata": {
    "collapsed": true
   },
   "outputs": [],
   "source": []
  },
  {
   "cell_type": "code",
   "execution_count": null,
   "metadata": {
    "collapsed": true
   },
   "outputs": [],
   "source": []
  },
  {
   "cell_type": "markdown",
   "metadata": {
    "collapsed": true
   },
   "source": [
    "## Array with clients and products"
   ]
  },
  {
   "cell_type": "code",
   "execution_count": 28,
   "metadata": {
    "collapsed": true
   },
   "outputs": [],
   "source": [
    "colnames = data.Cod_Prod.unique()\n",
    "colnames.sort()\n",
    "rownames = data.ID_Customer.unique()\n",
    "rownames.sort()\n",
    "idVSProd = pd.DataFrame(data=np.zeros((data.ID_Customer.unique().size,data.Cod_Prod.unique().size)),columns=colnames,index=rownames,dtype=int)"
   ]
  },
  {
   "cell_type": "code",
   "execution_count": 29,
   "metadata": {
    "collapsed": false
   },
   "outputs": [
    {
     "data": {
      "text/html": [
       "<div>\n",
       "<table border=\"1\" class=\"dataframe\">\n",
       "  <thead>\n",
       "    <tr style=\"text-align: right;\">\n",
       "      <th></th>\n",
       "      <th>101</th>\n",
       "      <th>102</th>\n",
       "      <th>103</th>\n",
       "      <th>104</th>\n",
       "      <th>201</th>\n",
       "      <th>301</th>\n",
       "      <th>502</th>\n",
       "      <th>503</th>\n",
       "      <th>504</th>\n",
       "      <th>506</th>\n",
       "      <th>...</th>\n",
       "      <th>2706</th>\n",
       "      <th>2707</th>\n",
       "      <th>2801</th>\n",
       "      <th>2901</th>\n",
       "      <th>3001</th>\n",
       "      <th>3101</th>\n",
       "      <th>3401</th>\n",
       "      <th>9991</th>\n",
       "      <th>9992</th>\n",
       "      <th>9993</th>\n",
       "    </tr>\n",
       "  </thead>\n",
       "  <tbody>\n",
       "    <tr>\n",
       "      <th>A0000001</th>\n",
       "      <td>0</td>\n",
       "      <td>0</td>\n",
       "      <td>0</td>\n",
       "      <td>0</td>\n",
       "      <td>0</td>\n",
       "      <td>0</td>\n",
       "      <td>0</td>\n",
       "      <td>0</td>\n",
       "      <td>0</td>\n",
       "      <td>0</td>\n",
       "      <td>...</td>\n",
       "      <td>0</td>\n",
       "      <td>0</td>\n",
       "      <td>0</td>\n",
       "      <td>0</td>\n",
       "      <td>0</td>\n",
       "      <td>0</td>\n",
       "      <td>0</td>\n",
       "      <td>0</td>\n",
       "      <td>0</td>\n",
       "      <td>0</td>\n",
       "    </tr>\n",
       "    <tr>\n",
       "      <th>A0000002</th>\n",
       "      <td>0</td>\n",
       "      <td>0</td>\n",
       "      <td>0</td>\n",
       "      <td>0</td>\n",
       "      <td>0</td>\n",
       "      <td>0</td>\n",
       "      <td>0</td>\n",
       "      <td>0</td>\n",
       "      <td>0</td>\n",
       "      <td>0</td>\n",
       "      <td>...</td>\n",
       "      <td>0</td>\n",
       "      <td>0</td>\n",
       "      <td>0</td>\n",
       "      <td>0</td>\n",
       "      <td>0</td>\n",
       "      <td>0</td>\n",
       "      <td>0</td>\n",
       "      <td>0</td>\n",
       "      <td>0</td>\n",
       "      <td>0</td>\n",
       "    </tr>\n",
       "    <tr>\n",
       "      <th>A0000003</th>\n",
       "      <td>0</td>\n",
       "      <td>0</td>\n",
       "      <td>0</td>\n",
       "      <td>0</td>\n",
       "      <td>0</td>\n",
       "      <td>0</td>\n",
       "      <td>0</td>\n",
       "      <td>0</td>\n",
       "      <td>0</td>\n",
       "      <td>0</td>\n",
       "      <td>...</td>\n",
       "      <td>0</td>\n",
       "      <td>0</td>\n",
       "      <td>0</td>\n",
       "      <td>0</td>\n",
       "      <td>0</td>\n",
       "      <td>0</td>\n",
       "      <td>0</td>\n",
       "      <td>0</td>\n",
       "      <td>0</td>\n",
       "      <td>0</td>\n",
       "    </tr>\n",
       "    <tr>\n",
       "      <th>A0000004</th>\n",
       "      <td>0</td>\n",
       "      <td>0</td>\n",
       "      <td>0</td>\n",
       "      <td>0</td>\n",
       "      <td>0</td>\n",
       "      <td>0</td>\n",
       "      <td>0</td>\n",
       "      <td>0</td>\n",
       "      <td>0</td>\n",
       "      <td>0</td>\n",
       "      <td>...</td>\n",
       "      <td>0</td>\n",
       "      <td>0</td>\n",
       "      <td>0</td>\n",
       "      <td>0</td>\n",
       "      <td>0</td>\n",
       "      <td>0</td>\n",
       "      <td>0</td>\n",
       "      <td>0</td>\n",
       "      <td>0</td>\n",
       "      <td>0</td>\n",
       "    </tr>\n",
       "    <tr>\n",
       "      <th>A0000005</th>\n",
       "      <td>0</td>\n",
       "      <td>0</td>\n",
       "      <td>0</td>\n",
       "      <td>0</td>\n",
       "      <td>0</td>\n",
       "      <td>0</td>\n",
       "      <td>0</td>\n",
       "      <td>0</td>\n",
       "      <td>0</td>\n",
       "      <td>0</td>\n",
       "      <td>...</td>\n",
       "      <td>0</td>\n",
       "      <td>0</td>\n",
       "      <td>0</td>\n",
       "      <td>0</td>\n",
       "      <td>0</td>\n",
       "      <td>0</td>\n",
       "      <td>0</td>\n",
       "      <td>0</td>\n",
       "      <td>0</td>\n",
       "      <td>0</td>\n",
       "    </tr>\n",
       "  </tbody>\n",
       "</table>\n",
       "<p>5 rows × 94 columns</p>\n",
       "</div>"
      ],
      "text/plain": [
       "          101   102   103   104   201   301   502   503   504   506   ...   \\\n",
       "A0000001     0     0     0     0     0     0     0     0     0     0  ...    \n",
       "A0000002     0     0     0     0     0     0     0     0     0     0  ...    \n",
       "A0000003     0     0     0     0     0     0     0     0     0     0  ...    \n",
       "A0000004     0     0     0     0     0     0     0     0     0     0  ...    \n",
       "A0000005     0     0     0     0     0     0     0     0     0     0  ...    \n",
       "\n",
       "          2706  2707  2801  2901  3001  3101  3401  9991  9992  9993  \n",
       "A0000001     0     0     0     0     0     0     0     0     0     0  \n",
       "A0000002     0     0     0     0     0     0     0     0     0     0  \n",
       "A0000003     0     0     0     0     0     0     0     0     0     0  \n",
       "A0000004     0     0     0     0     0     0     0     0     0     0  \n",
       "A0000005     0     0     0     0     0     0     0     0     0     0  \n",
       "\n",
       "[5 rows x 94 columns]"
      ]
     },
     "execution_count": 29,
     "metadata": {},
     "output_type": "execute_result"
    }
   ],
   "source": [
    "idVSProd.head()"
   ]
  },
  {
   "cell_type": "code",
   "execution_count": 30,
   "metadata": {
    "collapsed": false
   },
   "outputs": [
    {
     "data": {
      "text/html": [
       "<div>\n",
       "<table border=\"1\" class=\"dataframe\">\n",
       "  <thead>\n",
       "    <tr style=\"text-align: right;\">\n",
       "      <th></th>\n",
       "      <th>101</th>\n",
       "      <th>102</th>\n",
       "      <th>103</th>\n",
       "      <th>104</th>\n",
       "      <th>201</th>\n",
       "      <th>301</th>\n",
       "      <th>502</th>\n",
       "      <th>503</th>\n",
       "      <th>504</th>\n",
       "      <th>506</th>\n",
       "      <th>...</th>\n",
       "      <th>2706</th>\n",
       "      <th>2707</th>\n",
       "      <th>2801</th>\n",
       "      <th>2901</th>\n",
       "      <th>3001</th>\n",
       "      <th>3101</th>\n",
       "      <th>3401</th>\n",
       "      <th>9991</th>\n",
       "      <th>9992</th>\n",
       "      <th>9993</th>\n",
       "    </tr>\n",
       "  </thead>\n",
       "  <tbody>\n",
       "    <tr>\n",
       "      <th>A0451704</th>\n",
       "      <td>0</td>\n",
       "      <td>0</td>\n",
       "      <td>0</td>\n",
       "      <td>0</td>\n",
       "      <td>0</td>\n",
       "      <td>0</td>\n",
       "      <td>0</td>\n",
       "      <td>0</td>\n",
       "      <td>0</td>\n",
       "      <td>0</td>\n",
       "      <td>...</td>\n",
       "      <td>0</td>\n",
       "      <td>0</td>\n",
       "      <td>0</td>\n",
       "      <td>0</td>\n",
       "      <td>0</td>\n",
       "      <td>0</td>\n",
       "      <td>0</td>\n",
       "      <td>0</td>\n",
       "      <td>0</td>\n",
       "      <td>0</td>\n",
       "    </tr>\n",
       "    <tr>\n",
       "      <th>A0451708</th>\n",
       "      <td>0</td>\n",
       "      <td>0</td>\n",
       "      <td>0</td>\n",
       "      <td>0</td>\n",
       "      <td>0</td>\n",
       "      <td>0</td>\n",
       "      <td>0</td>\n",
       "      <td>0</td>\n",
       "      <td>0</td>\n",
       "      <td>0</td>\n",
       "      <td>...</td>\n",
       "      <td>0</td>\n",
       "      <td>0</td>\n",
       "      <td>0</td>\n",
       "      <td>0</td>\n",
       "      <td>0</td>\n",
       "      <td>0</td>\n",
       "      <td>0</td>\n",
       "      <td>0</td>\n",
       "      <td>0</td>\n",
       "      <td>0</td>\n",
       "    </tr>\n",
       "  </tbody>\n",
       "</table>\n",
       "<p>2 rows × 94 columns</p>\n",
       "</div>"
      ],
      "text/plain": [
       "          101   102   103   104   201   301   502   503   504   506   ...   \\\n",
       "A0451704     0     0     0     0     0     0     0     0     0     0  ...    \n",
       "A0451708     0     0     0     0     0     0     0     0     0     0  ...    \n",
       "\n",
       "          2706  2707  2801  2901  3001  3101  3401  9991  9992  9993  \n",
       "A0451704     0     0     0     0     0     0     0     0     0     0  \n",
       "A0451708     0     0     0     0     0     0     0     0     0     0  \n",
       "\n",
       "[2 rows x 94 columns]"
      ]
     },
     "execution_count": 30,
     "metadata": {},
     "output_type": "execute_result"
    }
   ],
   "source": [
    "idVSProd.loc[np.array(['A0451704','A0451708'])]"
   ]
  },
  {
   "cell_type": "code",
   "execution_count": 31,
   "metadata": {
    "collapsed": true
   },
   "outputs": [],
   "source": [
    "groupedData = data.groupby(['ID_Customer','Cod_Prod'])['Cod_Prod'].count()"
   ]
  },
  {
   "cell_type": "code",
   "execution_count": 32,
   "metadata": {
    "collapsed": false
   },
   "outputs": [
    {
     "ename": "NameError",
     "evalue": "name 'test' is not defined",
     "output_type": "error",
     "traceback": [
      "\u001b[0;31m---------------------------------------------------------------------------\u001b[0m",
      "\u001b[0;31mNameError\u001b[0m                                 Traceback (most recent call last)",
      "\u001b[0;32m<ipython-input-32-75f7962d6b2b>\u001b[0m in \u001b[0;36m<module>\u001b[0;34m()\u001b[0m\n\u001b[0;32m----> 1\u001b[0;31m \u001b[0mgroupedTest\u001b[0m \u001b[0;34m=\u001b[0m \u001b[0mtest\u001b[0m\u001b[0;34m.\u001b[0m\u001b[0mgroupby\u001b[0m\u001b[0;34m(\u001b[0m\u001b[0;34m[\u001b[0m\u001b[0;34m'ID_Customer'\u001b[0m\u001b[0;34m,\u001b[0m\u001b[0;34m'Cod_Prod'\u001b[0m\u001b[0;34m]\u001b[0m\u001b[0;34m)\u001b[0m\u001b[0;34m[\u001b[0m\u001b[0;34m'Cod_Prod'\u001b[0m\u001b[0;34m]\u001b[0m\u001b[0;34m.\u001b[0m\u001b[0mcount\u001b[0m\u001b[0;34m(\u001b[0m\u001b[0;34m)\u001b[0m\u001b[0;34m\u001b[0m\u001b[0m\n\u001b[0m",
      "\u001b[0;31mNameError\u001b[0m: name 'test' is not defined"
     ]
    }
   ],
   "source": [
    "groupedTest = test.groupby(['ID_Customer','Cod_Prod'])['Cod_Prod'].count()"
   ]
  },
  {
   "cell_type": "code",
   "execution_count": null,
   "metadata": {
    "collapsed": false
   },
   "outputs": [],
   "source": [
    "groupedData[groupedData>1]"
   ]
  },
  {
   "cell_type": "code",
   "execution_count": null,
   "metadata": {
    "collapsed": false
   },
   "outputs": [],
   "source": [
    "groupedTest[groupedTest>1]"
   ]
  },
  {
   "cell_type": "markdown",
   "metadata": {},
   "source": [
    "# ···  *The clients do not repeat a product ever!* ···"
   ]
  },
  {
   "cell_type": "code",
   "execution_count": null,
   "metadata": {
    "collapsed": false
   },
   "outputs": [],
   "source": [
    "for product in colnames:\n",
    "    columna = groupedData[:,product]\n",
    "    idVSProd.loc[columna.index,product] = columna.values"
   ]
  },
  {
   "cell_type": "code",
   "execution_count": null,
   "metadata": {
    "collapsed": false,
    "scrolled": true
   },
   "outputs": [],
   "source": [
    "idVSProd.head(10)"
   ]
  },
  {
   "cell_type": "code",
   "execution_count": null,
   "metadata": {
    "collapsed": false,
    "scrolled": true
   },
   "outputs": [],
   "source": [
    "idVSProd.loc[idVSProd.loc[:,301].values > 0,301].head()"
   ]
  },
  {
   "cell_type": "markdown",
   "metadata": {
    "collapsed": true
   },
   "source": [
    "    Visualització, Producte vs Socio_demo"
   ]
  },
  {
   "cell_type": "code",
   "execution_count": 34,
   "metadata": {
    "collapsed": false
   },
   "outputs": [
    {
     "data": {
      "text/html": [
       "<div>\n",
       "<table border=\"1\" class=\"dataframe\">\n",
       "  <thead>\n",
       "    <tr style=\"text-align: right;\">\n",
       "      <th></th>\n",
       "      <th>ID_Customer</th>\n",
       "      <th>Cod_Prod</th>\n",
       "      <th>Cod_Fecha</th>\n",
       "      <th>Socio_Demo_01</th>\n",
       "      <th>Socio_Demo_02</th>\n",
       "      <th>Socio_Demo_03</th>\n",
       "      <th>Socio_Demo_04</th>\n",
       "      <th>Socio_Demo_05</th>\n",
       "    </tr>\n",
       "  </thead>\n",
       "  <tbody>\n",
       "    <tr>\n",
       "      <th>0</th>\n",
       "      <td>A0000001</td>\n",
       "      <td>601</td>\n",
       "      <td>2007-05</td>\n",
       "      <td>5</td>\n",
       "      <td>4</td>\n",
       "      <td>3</td>\n",
       "      <td>1</td>\n",
       "      <td>0</td>\n",
       "    </tr>\n",
       "    <tr>\n",
       "      <th>1</th>\n",
       "      <td>A0000001</td>\n",
       "      <td>704</td>\n",
       "      <td>2013-04</td>\n",
       "      <td>5</td>\n",
       "      <td>4</td>\n",
       "      <td>3</td>\n",
       "      <td>1</td>\n",
       "      <td>0</td>\n",
       "    </tr>\n",
       "    <tr>\n",
       "      <th>2</th>\n",
       "      <td>A0000001</td>\n",
       "      <td>2501</td>\n",
       "      <td>2006-03</td>\n",
       "      <td>5</td>\n",
       "      <td>4</td>\n",
       "      <td>3</td>\n",
       "      <td>1</td>\n",
       "      <td>0</td>\n",
       "    </tr>\n",
       "    <tr>\n",
       "      <th>3</th>\n",
       "      <td>A0000001</td>\n",
       "      <td>2503</td>\n",
       "      <td>2006-03</td>\n",
       "      <td>5</td>\n",
       "      <td>4</td>\n",
       "      <td>3</td>\n",
       "      <td>1</td>\n",
       "      <td>0</td>\n",
       "    </tr>\n",
       "    <tr>\n",
       "      <th>4</th>\n",
       "      <td>A0000001</td>\n",
       "      <td>1011</td>\n",
       "      <td>2011-04</td>\n",
       "      <td>5</td>\n",
       "      <td>4</td>\n",
       "      <td>3</td>\n",
       "      <td>1</td>\n",
       "      <td>0</td>\n",
       "    </tr>\n",
       "  </tbody>\n",
       "</table>\n",
       "</div>"
      ],
      "text/plain": [
       "  ID_Customer  Cod_Prod Cod_Fecha  Socio_Demo_01  Socio_Demo_02  \\\n",
       "0    A0000001       601   2007-05              5              4   \n",
       "1    A0000001       704   2013-04              5              4   \n",
       "2    A0000001      2501   2006-03              5              4   \n",
       "3    A0000001      2503   2006-03              5              4   \n",
       "4    A0000001      1011   2011-04              5              4   \n",
       "\n",
       "   Socio_Demo_03  Socio_Demo_04  Socio_Demo_05  \n",
       "0              3              1              0  \n",
       "1              3              1              0  \n",
       "2              3              1              0  \n",
       "3              3              1              0  \n",
       "4              3              1              0  "
      ]
     },
     "execution_count": 34,
     "metadata": {},
     "output_type": "execute_result"
    }
   ],
   "source": [
    "data.head()"
   ]
  },
  {
   "cell_type": "code",
   "execution_count": 35,
   "metadata": {
    "collapsed": false
   },
   "outputs": [],
   "source": [
    "#Creem DF per cada producte. \n",
    "df601=df[df['Cod_Prod']==601]"
   ]
  },
  {
   "cell_type": "code",
   "execution_count": 36,
   "metadata": {
    "collapsed": false
   },
   "outputs": [
    {
     "data": {
      "text/html": [
       "<div>\n",
       "<table border=\"1\" class=\"dataframe\">\n",
       "  <thead>\n",
       "    <tr style=\"text-align: right;\">\n",
       "      <th></th>\n",
       "      <th>ID_Customer</th>\n",
       "      <th>Cod_Prod</th>\n",
       "      <th>Cod_Fecha</th>\n",
       "      <th>Socio_Demo_01</th>\n",
       "      <th>Socio_Demo_02</th>\n",
       "      <th>Socio_Demo_03</th>\n",
       "      <th>Socio_Demo_04</th>\n",
       "      <th>Socio_Demo_05</th>\n",
       "    </tr>\n",
       "  </thead>\n",
       "  <tbody>\n",
       "    <tr>\n",
       "      <th>0</th>\n",
       "      <td>A0000001</td>\n",
       "      <td>601</td>\n",
       "      <td>2007-05</td>\n",
       "      <td>5</td>\n",
       "      <td>4</td>\n",
       "      <td>3</td>\n",
       "      <td>1</td>\n",
       "      <td>0</td>\n",
       "    </tr>\n",
       "    <tr>\n",
       "      <th>5</th>\n",
       "      <td>A0000002</td>\n",
       "      <td>601</td>\n",
       "      <td>1998-06</td>\n",
       "      <td>5</td>\n",
       "      <td>5</td>\n",
       "      <td>1</td>\n",
       "      <td>1</td>\n",
       "      <td>0</td>\n",
       "    </tr>\n",
       "    <tr>\n",
       "      <th>9</th>\n",
       "      <td>A0000003</td>\n",
       "      <td>601</td>\n",
       "      <td>1985-11</td>\n",
       "      <td>5</td>\n",
       "      <td>5</td>\n",
       "      <td>5</td>\n",
       "      <td>2</td>\n",
       "      <td>0</td>\n",
       "    </tr>\n",
       "    <tr>\n",
       "      <th>14</th>\n",
       "      <td>A0000004</td>\n",
       "      <td>601</td>\n",
       "      <td>2008-05</td>\n",
       "      <td>5</td>\n",
       "      <td>5</td>\n",
       "      <td>3</td>\n",
       "      <td>1</td>\n",
       "      <td>0</td>\n",
       "    </tr>\n",
       "    <tr>\n",
       "      <th>19</th>\n",
       "      <td>A0000005</td>\n",
       "      <td>601</td>\n",
       "      <td>1984-04</td>\n",
       "      <td>5</td>\n",
       "      <td>5</td>\n",
       "      <td>3</td>\n",
       "      <td>1</td>\n",
       "      <td>0</td>\n",
       "    </tr>\n",
       "  </tbody>\n",
       "</table>\n",
       "</div>"
      ],
      "text/plain": [
       "   ID_Customer  Cod_Prod Cod_Fecha  Socio_Demo_01  Socio_Demo_02  \\\n",
       "0     A0000001       601   2007-05              5              4   \n",
       "5     A0000002       601   1998-06              5              5   \n",
       "9     A0000003       601   1985-11              5              5   \n",
       "14    A0000004       601   2008-05              5              5   \n",
       "19    A0000005       601   1984-04              5              5   \n",
       "\n",
       "    Socio_Demo_03  Socio_Demo_04  Socio_Demo_05  \n",
       "0               3              1              0  \n",
       "5               1              1              0  \n",
       "9               5              2              0  \n",
       "14              3              1              0  \n",
       "19              3              1              0  "
      ]
     },
     "execution_count": 36,
     "metadata": {},
     "output_type": "execute_result"
    }
   ],
   "source": [
    "df601.head()"
   ]
  },
  {
   "cell_type": "code",
   "execution_count": 38,
   "metadata": {
    "collapsed": false
   },
   "outputs": [
    {
     "name": "stdout",
     "output_type": "stream",
     "text": [
      "5294048 661756 ratio:  0.125\n"
     ]
    }
   ],
   "source": [
    "df601.head() #Vemos que el producto se contrata mas de una vez en muchas ocasiones. Consideramos cada entrada como un 'cliente' distinto. La logica es que solo depende de las variables Socio_DEM, si cambiamos socio dem cambia la persona. \n",
    "print df601.size, df601['ID_Customer'].unique().size, 'ratio: ', df601['ID_Customer'].unique().size/float(df601.size)"
   ]
  },
  {
   "cell_type": "code",
   "execution_count": 53,
   "metadata": {
    "collapsed": false
   },
   "outputs": [
    {
     "data": {
      "text/html": [
       "<div>\n",
       "<table border=\"1\" class=\"dataframe\">\n",
       "  <thead>\n",
       "    <tr style=\"text-align: right;\">\n",
       "      <th></th>\n",
       "      <th>ID_Customer</th>\n",
       "      <th>Cod_Prod</th>\n",
       "      <th>Cod_Fecha</th>\n",
       "      <th>Socio_Demo_01</th>\n",
       "      <th>Socio_Demo_02</th>\n",
       "      <th>Socio_Demo_03</th>\n",
       "      <th>Socio_Demo_04</th>\n",
       "      <th>Socio_Demo_05</th>\n",
       "    </tr>\n",
       "  </thead>\n",
       "  <tbody>\n",
       "    <tr>\n",
       "      <th>0</th>\n",
       "      <td>A0000001</td>\n",
       "      <td>601</td>\n",
       "      <td>2007-05</td>\n",
       "      <td>5</td>\n",
       "      <td>4</td>\n",
       "      <td>3</td>\n",
       "      <td>1</td>\n",
       "      <td>0</td>\n",
       "    </tr>\n",
       "    <tr>\n",
       "      <th>1</th>\n",
       "      <td>A0000001</td>\n",
       "      <td>704</td>\n",
       "      <td>2013-04</td>\n",
       "      <td>5</td>\n",
       "      <td>4</td>\n",
       "      <td>3</td>\n",
       "      <td>1</td>\n",
       "      <td>0</td>\n",
       "    </tr>\n",
       "    <tr>\n",
       "      <th>2</th>\n",
       "      <td>A0000001</td>\n",
       "      <td>2501</td>\n",
       "      <td>2006-03</td>\n",
       "      <td>5</td>\n",
       "      <td>4</td>\n",
       "      <td>3</td>\n",
       "      <td>1</td>\n",
       "      <td>0</td>\n",
       "    </tr>\n",
       "    <tr>\n",
       "      <th>3</th>\n",
       "      <td>A0000001</td>\n",
       "      <td>2503</td>\n",
       "      <td>2006-03</td>\n",
       "      <td>5</td>\n",
       "      <td>4</td>\n",
       "      <td>3</td>\n",
       "      <td>1</td>\n",
       "      <td>0</td>\n",
       "    </tr>\n",
       "    <tr>\n",
       "      <th>4</th>\n",
       "      <td>A0000001</td>\n",
       "      <td>1011</td>\n",
       "      <td>2011-04</td>\n",
       "      <td>5</td>\n",
       "      <td>4</td>\n",
       "      <td>3</td>\n",
       "      <td>1</td>\n",
       "      <td>0</td>\n",
       "    </tr>\n",
       "  </tbody>\n",
       "</table>\n",
       "</div>"
      ],
      "text/plain": [
       "  ID_Customer  Cod_Prod Cod_Fecha  Socio_Demo_01  Socio_Demo_02  \\\n",
       "0    A0000001       601   2007-05              5              4   \n",
       "1    A0000001       704   2013-04              5              4   \n",
       "2    A0000001      2501   2006-03              5              4   \n",
       "3    A0000001      2503   2006-03              5              4   \n",
       "4    A0000001      1011   2011-04              5              4   \n",
       "\n",
       "   Socio_Demo_03  Socio_Demo_04  Socio_Demo_05  \n",
       "0              3              1              0  \n",
       "1              3              1              0  \n",
       "2              3              1              0  \n",
       "3              3              1              0  \n",
       "4              3              1              0  "
      ]
     },
     "execution_count": 53,
     "metadata": {},
     "output_type": "execute_result"
    }
   ],
   "source": [
    "\n",
    "data.head()"
   ]
  },
  {
   "cell_type": "code",
   "execution_count": null,
   "metadata": {
    "collapsed": true
   },
   "outputs": [],
   "source": []
  },
  {
   "cell_type": "code",
   "execution_count": 104,
   "metadata": {
    "collapsed": false
   },
   "outputs": [
    {
     "ename": "AttributeError",
     "evalue": "'AxesSubplot' object has no attribute 'set_tittle'",
     "output_type": "error",
     "traceback": [
      "\u001b[0;31m---------------------------------------------------------------------------\u001b[0m",
      "\u001b[0;31mAttributeError\u001b[0m                            Traceback (most recent call last)",
      "\u001b[0;32m<ipython-input-104-8f452c73438b>\u001b[0m in \u001b[0;36m<module>\u001b[0;34m()\u001b[0m\n\u001b[1;32m     38\u001b[0m \u001b[0mbx3\u001b[0m\u001b[0;34m.\u001b[0m\u001b[0mset_title\u001b[0m\u001b[0;34m(\u001b[0m\u001b[0;34m'Prod. per Incom.'\u001b[0m\u001b[0;34m)\u001b[0m\u001b[0;34m\u001b[0m\u001b[0m\n\u001b[1;32m     39\u001b[0m \u001b[0mbx4\u001b[0m\u001b[0;34m.\u001b[0m\u001b[0mset_title\u001b[0m\u001b[0;34m(\u001b[0m\u001b[0;34m'Prod. per Gender'\u001b[0m\u001b[0;34m)\u001b[0m\u001b[0;34m\u001b[0m\u001b[0m\n\u001b[0;32m---> 40\u001b[0;31m \u001b[0mbx5\u001b[0m\u001b[0;34m.\u001b[0m\u001b[0mset_tittle\u001b[0m\u001b[0;34m(\u001b[0m\u001b[0;34m'Prod. per Segment'\u001b[0m\u001b[0;34m)\u001b[0m\u001b[0;34m\u001b[0m\u001b[0m\n\u001b[0m",
      "\u001b[0;31mAttributeError\u001b[0m: 'AxesSubplot' object has no attribute 'set_tittle'"
     ]
    },
    {
     "data": {
      "image/png": "[encoded data removed]",
      "text/plain": [
       "<matplotlib.figure.Figure at 0x116032dd0>"
      ]
     },
     "metadata": {},
     "output_type": "display_data"
    }
   ],
   "source": [
    "#Histogramas\n",
    "\n",
    "#Numero de compras respecto a cada Socio_Demo.\n",
    "Compras01=df601.groupby('Socio_Demo_01')['Cod_Prod'].count()\n",
    "Compras02=df601.groupby('Socio_Demo_02')['Cod_Prod'].count()\n",
    "Compras03=df601.groupby('Socio_Demo_03')['Cod_Prod'].count()\n",
    "Compras04=df601.groupby('Socio_Demo_04')['Cod_Prod'].count()\n",
    "Compras05=df601.groupby('Socio_Demo_05')['Cod_Prod'].count()\n",
    "\n",
    "#Contamos numero de clientes en cada classe\n",
    "Client_total_01=data.groupby('Socio_Demo_01').ID_Customer.count()\n",
    "Client_total_02=data.groupby('Socio_Demo_02').ID_Customer.count()\n",
    "Client_total_03=data.groupby('Socio_Demo_03').ID_Customer.count()\n",
    "Client_total_04=data.groupby('Socio_Demo_04').ID_Customer.count()\n",
    "Client_total_05=data.groupby('Socio_Demo_05').ID_Customer.count()\n",
    "\n",
    "#Normalizamos.\n",
    "Sells601=pd.DataFrame()\n",
    "Sells601['Socio_Demo_01']=Compras01/Client_total_01\n",
    "Sells601['Socio_Demo_02']=Compras02/Client_total_02\n",
    "Sells601['Socio_Demo_03']=Compras03/Client_total_03\n",
    "Sells601['Socio_Demo_04']=Compras04/Client_total_04\n",
    "dummy=Compras05/Client_total_05\n",
    "dummy.index=np.arange(4)+1 #Hay que cambiar los indices para que cuadre. Socio_Dem_04 las classes son 0,1,2,3\n",
    "Sells601['Socio_Demo_05']=dummy\n",
    "\n",
    "#Plottings\n",
    "# Four subplots, sharing y axis\n",
    "f, (bx1, bx2, bx3, bx4, bx5) = plt.subplots(1, 5, sharey=True)\n",
    "colors = ['#EEE8AA','#FFD700','#FFA500','#FF4500','#B22222']\n",
    "bx1.bar(Sells601.index.values, Sells601.Socio_Demo_01, color=colors)\n",
    "bx2.bar(Sells601.index.values, Sells601.Socio_Demo_02, color=colors)\n",
    "bx3.bar(Sells601.index.values, Sells601.Socio_Demo_03, color=colors)\n",
    "bx4.bar([1,2], Sells601.Socio_Demo_04[:2], color=colors)\n",
    "bx5.bar([1,2,3,4], Sells601.Socio_Demo_05[:4], color=colors)\n",
    "bx1.set_title('Prod. per Age')\n",
    "bx2.set_title('Prod. per Antiq.')\n",
    "bx3.set_title('Prod. per Incom.')\n",
    "bx4.set_title('Prod. per Gender')\n",
    "bx5.set_tittle('Prod. per Segment')"
   ]
  },
  {
   "cell_type": "code",
   "execution_count": 120,
   "metadata": {
    "collapsed": false
   },
   "outputs": [
    {
     "data": {
      "text/html": [
       "<div>\n",
       "<table border=\"1\" class=\"dataframe\">\n",
       "  <thead>\n",
       "    <tr style=\"text-align: right;\">\n",
       "      <th></th>\n",
       "      <th>ID_Customer</th>\n",
       "      <th>Cod_Prod</th>\n",
       "      <th>Cod_Fecha</th>\n",
       "      <th>Socio_Demo_01</th>\n",
       "      <th>Socio_Demo_02</th>\n",
       "      <th>Socio_Demo_03</th>\n",
       "      <th>Socio_Demo_04</th>\n",
       "      <th>Socio_Demo_05</th>\n",
       "    </tr>\n",
       "  </thead>\n",
       "  <tbody>\n",
       "    <tr>\n",
       "      <th>0</th>\n",
       "      <td>A0000001</td>\n",
       "      <td>601</td>\n",
       "      <td>2007-05</td>\n",
       "      <td>5</td>\n",
       "      <td>4</td>\n",
       "      <td>3</td>\n",
       "      <td>1</td>\n",
       "      <td>0</td>\n",
       "    </tr>\n",
       "    <tr>\n",
       "      <th>5</th>\n",
       "      <td>A0000002</td>\n",
       "      <td>601</td>\n",
       "      <td>1998-06</td>\n",
       "      <td>5</td>\n",
       "      <td>5</td>\n",
       "      <td>1</td>\n",
       "      <td>1</td>\n",
       "      <td>0</td>\n",
       "    </tr>\n",
       "    <tr>\n",
       "      <th>9</th>\n",
       "      <td>A0000003</td>\n",
       "      <td>601</td>\n",
       "      <td>1985-11</td>\n",
       "      <td>5</td>\n",
       "      <td>5</td>\n",
       "      <td>5</td>\n",
       "      <td>2</td>\n",
       "      <td>0</td>\n",
       "    </tr>\n",
       "    <tr>\n",
       "      <th>14</th>\n",
       "      <td>A0000004</td>\n",
       "      <td>601</td>\n",
       "      <td>2008-05</td>\n",
       "      <td>5</td>\n",
       "      <td>5</td>\n",
       "      <td>3</td>\n",
       "      <td>1</td>\n",
       "      <td>0</td>\n",
       "    </tr>\n",
       "    <tr>\n",
       "      <th>19</th>\n",
       "      <td>A0000005</td>\n",
       "      <td>601</td>\n",
       "      <td>1984-04</td>\n",
       "      <td>5</td>\n",
       "      <td>5</td>\n",
       "      <td>3</td>\n",
       "      <td>1</td>\n",
       "      <td>0</td>\n",
       "    </tr>\n",
       "  </tbody>\n",
       "</table>\n",
       "</div>"
      ],
      "text/plain": [
       "   ID_Customer  Cod_Prod Cod_Fecha  Socio_Demo_01  Socio_Demo_02  \\\n",
       "0     A0000001       601   2007-05              5              4   \n",
       "5     A0000002       601   1998-06              5              5   \n",
       "9     A0000003       601   1985-11              5              5   \n",
       "14    A0000004       601   2008-05              5              5   \n",
       "19    A0000005       601   1984-04              5              5   \n",
       "\n",
       "    Socio_Demo_03  Socio_Demo_04  Socio_Demo_05  \n",
       "0               3              1              0  \n",
       "5               1              1              0  \n",
       "9               5              2              0  \n",
       "14              3              1              0  \n",
       "19              3              1              0  "
      ]
     },
     "execution_count": 120,
     "metadata": {},
     "output_type": "execute_result"
    }
   ],
   "source": [
    "data.head()\n",
    "df=data[data.Cod_Prod == 601]\n",
    "df.head()\n"
   ]
  },
  {
   "cell_type": "code",
   "execution_count": 140,
   "metadata": {
    "collapsed": true
   },
   "outputs": [],
   "source": [
    "#Funcion \n",
    "\n",
    "def product_rel(data, Cprod):\n",
    "    df=data[data.Cod_Prod == Cprod]\n",
    "#Create dataframe for porduct\n",
    "#Numero de compras respecto a cada Socio_Demo.\n",
    "    Compras01=df.groupby('Socio_Demo_01')['Cod_Prod'].count()\n",
    "    Compras02=df.groupby('Socio_Demo_02')['Cod_Prod'].count()\n",
    "    Compras03=df.groupby('Socio_Demo_03')['Cod_Prod'].count()\n",
    "    Compras04=df.groupby('Socio_Demo_04')['Cod_Prod'].count()\n",
    "    Compras05=df601.groupby('Socio_Demo_05')['Cod_Prod'].count()\n",
    "\n",
    "#Contamos numero de clientes en cada classe\n",
    "    Client_total_01=data.groupby('Socio_Demo_01').ID_Customer.count()\n",
    "    Client_total_02=data.groupby('Socio_Demo_02').ID_Customer.count()\n",
    "    Client_total_03=data.groupby('Socio_Demo_03').ID_Customer.count()\n",
    "    Client_total_04=data.groupby('Socio_Demo_04').ID_Customer.count()\n",
    "    Client_total_05=data.groupby('Socio_Demo_05').ID_Customer.count()\n",
    "\n",
    "#Normalizamos.\n",
    "    Sells=pd.DataFrame()\n",
    "    \n",
    "    Sells['Socio_Demo_01']=Compras01/Client_total_01\n",
    "    Sells['Socio_Demo_02']=Compras02/Client_total_02\n",
    "    Sells['Socio_Demo_03']=Compras03/Client_total_03\n",
    "    Sells['Socio_Demo_04']=Compras04/Client_total_04\n",
    "    dummy=Compras05/Client_total_05\n",
    "    dummy.index=np.arange(4)+1 #Hay que cambiar los indices para que cuadre. Socio_Dem_04 las classes son 0,1,2,3\n",
    "    Sells['Socio_Demo_05']=dummy\n",
    "    \n",
    "#Quitamos NaN values #ESTO ESTA MAL NO DEBERIA HABER NAN\n",
    "    Sells.fillna(value=0, inplace='True')\n",
    "\n",
    "    return Sells\n"
   ]
  },
  {
   "cell_type": "code",
   "execution_count": 154,
   "metadata": {
    "collapsed": false
   },
   "outputs": [
    {
     "data": {
      "text/plain": [
       "[<matplotlib.lines.Line2D at 0x11d9ea390>]"
      ]
     },
     "execution_count": 154,
     "metadata": {},
     "output_type": "execute_result"
    },
    {
     "data": {
      "image/png": "[encoded data removed]",
      "text/plain": [
       "<matplotlib.figure.Figure at 0x1190bcb50>"
      ]
     },
     "metadata": {},
     "output_type": "display_data"
    }
   ],
   "source": [
    "rows=10\n",
    "cols=5\n",
    "f, ax2= plt.subplots(rows, cols, sharex=False, sharey=True)\n",
    "colors = ['#0000FF','#4682B4','#00FFFF','#008000','#9ACD32','#EEE8AA','#FFD700','#FFA500','#FF4500','#B22222']\n",
    "prodtucts=data.Cod_Prod.unique()\n",
    "products.sort()\n",
    "i=0\n",
    "j=0\n",
    "product = productes[10*i+j]\n",
    "df=product_rel(data, product)\n",
    "ax2[i,0].plot(df.index.values, df.Socio_Demo_01, color=colors[j], label=str(product))\n",
    "\n"
   ]
  },
  {
   "cell_type": "code",
   "execution_count": 159,
   "metadata": {
    "collapsed": false
   },
   "outputs": [
    {
     "data": {
      "image/png": "[encoded data removed]",
      "text/plain": [
       "<matplotlib.figure.Figure at 0x1691df790>"
      ]
     },
     "metadata": {},
     "output_type": "display_data"
    }
   ],
   "source": [
    "#Plots ##LO QUE TOCA\n",
    "rcParams['figure.figsize'] = 15, 40\n",
    "rows=10\n",
    "cols=5\n",
    "f, ax2= plt.subplots(rows, cols, sharex=False, sharey=True)\n",
    "colors = ['#0000FF','#4682B4','#00FFFF','#008000','#9ACD32','#EEE8AA','#FFD700','#FFA500','#FF4500','#B22222']\n",
    "products=data.Cod_Prod.unique()\n",
    "products.sort()\n",
    "\n",
    "for i in range(0, products.size/10+1):\n",
    "    for j in range(10):\n",
    "        if 10*i+j < products.size:\n",
    "            product = products[10*i+j]\n",
    "            df=product_rel(data, product)\n",
    "            ax2[i,0].plot(df.index.values, df.Socio_Demo_01, color=colors[j], label=str(product))\n",
    "            ax2[i,1].plot(df.index.values, df.Socio_Demo_02, color=colors[j], label=str(product))\n",
    "            ax2[i,2].plot(df.index.values, df.Socio_Demo_03, color=colors[j], label=str(product))\n",
    "            ax2[i,3].plot([1,2], df.Socio_Demo_04[:2], color=colors[j], label=str(product))\n",
    "            ax2[i,4].plot(range(4), df.Socio_Demo_05[:4], color=colors[j], label=str(product))\n",
    "    #leyenda for k in range(5):\n",
    "        #handles, labels = ax2[i,k].get_legend_handles_labels()\n",
    "        #ax2[i,k].legend(handles,labels,loc='upper left')"
   ]
  },
  {
   "cell_type": "code",
   "execution_count": null,
   "metadata": {
    "collapsed": false
   },
   "outputs": [],
   "source": []
  },
  {
   "cell_type": "code",
   "execution_count": null,
   "metadata": {
    "collapsed": false
   },
   "outputs": [],
   "source": []
  },
  {
   "cell_type": "code",
   "execution_count": null,
   "metadata": {
    "collapsed": false
   },
   "outputs": [],
   "source": []
  },
  {
   "cell_type": "code",
   "execution_count": null,
   "metadata": {
    "collapsed": true
   },
   "outputs": [],
   "source": []
  },
  {
   "cell_type": "code",
   "execution_count": 98,
   "metadata": {
    "collapsed": false
   },
   "outputs": [
    {
     "data": {
      "text/plain": [
       "1    0.212392\n",
       "2    0.134665\n",
       "3    0.139344\n",
       "4    0.143341\n",
       "dtype: float64"
      ]
     },
     "execution_count": 98,
     "metadata": {},
     "output_type": "execute_result"
    }
   ],
   "source": []
  },
  {
   "cell_type": "code",
   "execution_count": null,
   "metadata": {
    "collapsed": false
   },
   "outputs": [],
   "source": []
  },
  {
   "cell_type": "code",
   "execution_count": 111,
   "metadata": {
    "collapsed": false
   },
   "outputs": [],
   "source": []
  },
  {
   "cell_type": "code",
   "execution_count": null,
   "metadata": {
    "collapsed": true
   },
   "outputs": [],
   "source": []
  },
  {
   "cell_type": "code",
   "execution_count": null,
   "metadata": {
    "collapsed": true
   },
   "outputs": [],
   "source": []
  },
  {
   "cell_type": "code",
   "execution_count": null,
   "metadata": {
    "collapsed": true
   },
   "outputs": [],
   "source": []
  }
 ],
 "metadata": {
  "anaconda-cloud": {},
  "kernelspec": {
   "display_name": "Python [conda root]",
   "language": "python",
   "name": "conda-root-py"
  },
  "language_info": {
   "codemirror_mode": {
    "name": "ipython",
    "version": 2
   },
   "file_extension": ".py",
   "mimetype": "text/x-python",
   "name": "python",
   "nbconvert_exporter": "python",
   "pygments_lexer": "ipython2",
   "version": "2.7.12"
  }
 },
 "nbformat": 4,
 "nbformat_minor": 1
}
