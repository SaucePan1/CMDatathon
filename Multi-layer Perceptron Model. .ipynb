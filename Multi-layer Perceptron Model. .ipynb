{
 "cells": [
  {
   "cell_type": "markdown",
   "metadata": {},
   "source": [
    "## MLP \n",
    "\n",
    "We have considered adequated to treat this problem as natural language processing is normally treated. We have sequences of words that behave according to hidden grammar rules that the MLP has to learn in order the predict what word comes next. (Analogous to having a sequence of products that behave according to hidden market rules we need to learn in order to predict what product comes next). That is how we introduce the variable 'order' in the products.\n",
    "\n",
    "Our training set can be made up of all the users, but we will 'hide' the last product they have purchased. That is \n",
    "\n",
    "- X_train = Sequence of products all users bought but the last one. 80%\n",
    "- y_train = target we need to predict, that will be the last product they've purchased. 80%\n",
    "\n",
    "- X_test = Sequence of all products but the last one 20%\n",
    "- y_test = Last product this 20% have bought.\n",
    "\n",
    "We will split the customers on train2.txt into this two groups, X_train, and X_test at random.\n",
    "\n",
    "**Remarks:**\n",
    "\n",
    "- We can add these 20% to the X_train (we shall give the sequence of the purchased products but the last two.) and add the second-to-last to the y_train.\n",
    "\n",
    "- We can multiply the size training set by transforming the sequence of products 'abcde' to 'ab' 'abc' 'abcd' 'abcde'. \n",
    "\n",
    "- We MUST delete users with only one product, they have no training value. We can use to test but eh. I would just delete them.\n",
    "\n",
    "- We are not using the Socio_Demo features, it would be better to treat them with another approach and then combine the two.\n",
    "\n",
    "- We can delete worst selling products.\n",
    "\n",
    "- We can train a model for every type of Socio_Demo_05\n"
   ]
  },
  {
   "cell_type": "code",
   "execution_count": 120,
   "metadata": {
    "collapsed": false
   },
   "outputs": [],
   "source": [
    "import numpy as np\n",
    "import pandas as pd\n",
    "from matplotlib import pyplot\n"
   ]
  },
  {
   "cell_type": "code",
   "execution_count": 121,
   "metadata": {
    "collapsed": false
   },
   "outputs": [],
   "source": [
    "#Load the data\n",
    "dftrain = pd.read_csv('train2.txt', sep='|')\n",
    "dftest= pd.read_csv('test2.txt', sep= '|')"
   ]
  },
  {
   "cell_type": "code",
   "execution_count": 122,
   "metadata": {
    "collapsed": false,
    "scrolled": true
   },
   "outputs": [
    {
     "data": {
      "text/html": [
       "<div>\n",
       "<table border=\"1\" class=\"dataframe\">\n",
       "  <thead>\n",
       "    <tr style=\"text-align: right;\">\n",
       "      <th></th>\n",
       "      <th>ID_Customer</th>\n",
       "      <th>Cod_Prod</th>\n",
       "      <th>Cod_Fecha</th>\n",
       "      <th>Socio_Demo_01</th>\n",
       "      <th>Socio_Demo_02</th>\n",
       "      <th>Socio_Demo_03</th>\n",
       "      <th>Socio_Demo_04</th>\n",
       "      <th>Socio_Demo_05</th>\n",
       "    </tr>\n",
       "  </thead>\n",
       "  <tbody>\n",
       "    <tr>\n",
       "      <th>0</th>\n",
       "      <td>A0000001</td>\n",
       "      <td>601</td>\n",
       "      <td>2007-05</td>\n",
       "      <td>5</td>\n",
       "      <td>4</td>\n",
       "      <td>3</td>\n",
       "      <td>1</td>\n",
       "      <td>0</td>\n",
       "    </tr>\n",
       "    <tr>\n",
       "      <th>1</th>\n",
       "      <td>A0000001</td>\n",
       "      <td>704</td>\n",
       "      <td>2013-04</td>\n",
       "      <td>5</td>\n",
       "      <td>4</td>\n",
       "      <td>3</td>\n",
       "      <td>1</td>\n",
       "      <td>0</td>\n",
       "    </tr>\n",
       "    <tr>\n",
       "      <th>2</th>\n",
       "      <td>A0000001</td>\n",
       "      <td>2501</td>\n",
       "      <td>2006-03</td>\n",
       "      <td>5</td>\n",
       "      <td>4</td>\n",
       "      <td>3</td>\n",
       "      <td>1</td>\n",
       "      <td>0</td>\n",
       "    </tr>\n",
       "    <tr>\n",
       "      <th>3</th>\n",
       "      <td>A0000001</td>\n",
       "      <td>2503</td>\n",
       "      <td>2006-03</td>\n",
       "      <td>5</td>\n",
       "      <td>4</td>\n",
       "      <td>3</td>\n",
       "      <td>1</td>\n",
       "      <td>0</td>\n",
       "    </tr>\n",
       "    <tr>\n",
       "      <th>4</th>\n",
       "      <td>A0000001</td>\n",
       "      <td>1011</td>\n",
       "      <td>2011-04</td>\n",
       "      <td>5</td>\n",
       "      <td>4</td>\n",
       "      <td>3</td>\n",
       "      <td>1</td>\n",
       "      <td>0</td>\n",
       "    </tr>\n",
       "    <tr>\n",
       "      <th>5</th>\n",
       "      <td>A0000002</td>\n",
       "      <td>601</td>\n",
       "      <td>1998-06</td>\n",
       "      <td>5</td>\n",
       "      <td>5</td>\n",
       "      <td>1</td>\n",
       "      <td>1</td>\n",
       "      <td>0</td>\n",
       "    </tr>\n",
       "    <tr>\n",
       "      <th>6</th>\n",
       "      <td>A0000002</td>\n",
       "      <td>801</td>\n",
       "      <td>2006-02</td>\n",
       "      <td>5</td>\n",
       "      <td>5</td>\n",
       "      <td>1</td>\n",
       "      <td>1</td>\n",
       "      <td>0</td>\n",
       "    </tr>\n",
       "  </tbody>\n",
       "</table>\n",
       "</div>"
      ],
      "text/plain": [
       "  ID_Customer  Cod_Prod Cod_Fecha  Socio_Demo_01  Socio_Demo_02  \\\n",
       "0    A0000001       601   2007-05              5              4   \n",
       "1    A0000001       704   2013-04              5              4   \n",
       "2    A0000001      2501   2006-03              5              4   \n",
       "3    A0000001      2503   2006-03              5              4   \n",
       "4    A0000001      1011   2011-04              5              4   \n",
       "5    A0000002       601   1998-06              5              5   \n",
       "6    A0000002       801   2006-02              5              5   \n",
       "\n",
       "   Socio_Demo_03  Socio_Demo_04  Socio_Demo_05  \n",
       "0              3              1              0  \n",
       "1              3              1              0  \n",
       "2              3              1              0  \n",
       "3              3              1              0  \n",
       "4              3              1              0  \n",
       "5              1              1              0  \n",
       "6              1              1              0  "
      ]
     },
     "execution_count": 122,
     "metadata": {},
     "output_type": "execute_result"
    }
   ],
   "source": [
    "dftrain.head(7)"
   ]
  },
  {
   "cell_type": "code",
   "execution_count": 123,
   "metadata": {
    "collapsed": false
   },
   "outputs": [
    {
     "name": "stdout",
     "output_type": "stream",
     "text": [
      "Entries:  (3350601, 9)\n",
      "Number of users:  676370\n"
     ]
    },
    {
     "data": {
      "text/html": [
       "<div>\n",
       "<table border=\"1\" class=\"dataframe\">\n",
       "  <thead>\n",
       "    <tr style=\"text-align: right;\">\n",
       "      <th></th>\n",
       "      <th>ID_Customer</th>\n",
       "      <th>Cod_Prod</th>\n",
       "      <th>Cod_Fecha</th>\n",
       "      <th>Socio_Demo_01</th>\n",
       "      <th>Socio_Demo_02</th>\n",
       "      <th>Socio_Demo_03</th>\n",
       "      <th>Socio_Demo_04</th>\n",
       "      <th>Socio_Demo_05</th>\n",
       "      <th>Prod_int</th>\n",
       "    </tr>\n",
       "  </thead>\n",
       "  <tbody>\n",
       "    <tr>\n",
       "      <th>0</th>\n",
       "      <td>A0000001</td>\n",
       "      <td>601</td>\n",
       "      <td>2007-05</td>\n",
       "      <td>5</td>\n",
       "      <td>4</td>\n",
       "      <td>3</td>\n",
       "      <td>1</td>\n",
       "      <td>0</td>\n",
       "      <td>0</td>\n",
       "    </tr>\n",
       "    <tr>\n",
       "      <th>1</th>\n",
       "      <td>A0000001</td>\n",
       "      <td>704</td>\n",
       "      <td>2013-04</td>\n",
       "      <td>5</td>\n",
       "      <td>4</td>\n",
       "      <td>3</td>\n",
       "      <td>1</td>\n",
       "      <td>0</td>\n",
       "      <td>0</td>\n",
       "    </tr>\n",
       "    <tr>\n",
       "      <th>2</th>\n",
       "      <td>A0000001</td>\n",
       "      <td>2501</td>\n",
       "      <td>2006-03</td>\n",
       "      <td>5</td>\n",
       "      <td>4</td>\n",
       "      <td>3</td>\n",
       "      <td>1</td>\n",
       "      <td>0</td>\n",
       "      <td>0</td>\n",
       "    </tr>\n",
       "    <tr>\n",
       "      <th>3</th>\n",
       "      <td>A0000001</td>\n",
       "      <td>2503</td>\n",
       "      <td>2006-03</td>\n",
       "      <td>5</td>\n",
       "      <td>4</td>\n",
       "      <td>3</td>\n",
       "      <td>1</td>\n",
       "      <td>0</td>\n",
       "      <td>0</td>\n",
       "    </tr>\n",
       "    <tr>\n",
       "      <th>4</th>\n",
       "      <td>A0000001</td>\n",
       "      <td>1011</td>\n",
       "      <td>2011-04</td>\n",
       "      <td>5</td>\n",
       "      <td>4</td>\n",
       "      <td>3</td>\n",
       "      <td>1</td>\n",
       "      <td>0</td>\n",
       "      <td>0</td>\n",
       "    </tr>\n",
       "    <tr>\n",
       "      <th>5</th>\n",
       "      <td>A0000002</td>\n",
       "      <td>601</td>\n",
       "      <td>1998-06</td>\n",
       "      <td>5</td>\n",
       "      <td>5</td>\n",
       "      <td>1</td>\n",
       "      <td>1</td>\n",
       "      <td>0</td>\n",
       "      <td>0</td>\n",
       "    </tr>\n",
       "  </tbody>\n",
       "</table>\n",
       "</div>"
      ],
      "text/plain": [
       "  ID_Customer  Cod_Prod Cod_Fecha  Socio_Demo_01  Socio_Demo_02  \\\n",
       "0    A0000001       601   2007-05              5              4   \n",
       "1    A0000001       704   2013-04              5              4   \n",
       "2    A0000001      2501   2006-03              5              4   \n",
       "3    A0000001      2503   2006-03              5              4   \n",
       "4    A0000001      1011   2011-04              5              4   \n",
       "5    A0000002       601   1998-06              5              5   \n",
       "\n",
       "   Socio_Demo_03  Socio_Demo_04  Socio_Demo_05  Prod_int  \n",
       "0              3              1              0         0  \n",
       "1              3              1              0         0  \n",
       "2              3              1              0         0  \n",
       "3              3              1              0         0  \n",
       "4              3              1              0         0  \n",
       "5              1              1              0         0  "
      ]
     },
     "execution_count": 123,
     "metadata": {},
     "output_type": "execute_result"
    }
   ],
   "source": [
    "#Definea new column, we will fill it with the labels to identify every product. Those will be feed to the MLP.\n",
    "\n",
    "dftrain['Prod_int'] = np.zeros(dftrain.ID_Customer.size, dtype=int)\n",
    "print 'Entries: ' ,dftrain.shape\n",
    "print 'Number of users: ' , dftrain.ID_Customer.unique().size\n",
    "\n",
    "dftrain.head(6)"
   ]
  },
  {
   "cell_type": "code",
   "execution_count": 124,
   "metadata": {
    "collapsed": false
   },
   "outputs": [
    {
     "data": {
      "text/plain": [
       "count        94.000000\n",
       "mean      35644.691489\n",
       "std       96394.340067\n",
       "min           1.000000\n",
       "25%         364.250000\n",
       "50%        3205.500000\n",
       "75%       15433.500000\n",
       "max      661756.000000\n",
       "Name: ID_Customer, dtype: float64"
      ]
     },
     "execution_count": 124,
     "metadata": {},
     "output_type": "execute_result"
    }
   ],
   "source": [
    "#Clean the dataframe from extremely rare products.\n",
    "\n",
    "Sells_per_product = dftrain.groupby('Cod_Prod').ID_Customer.count()\n",
    "Sells_per_product.describe()"
   ]
  },
  {
   "cell_type": "code",
   "execution_count": 125,
   "metadata": {
    "collapsed": false
   },
   "outputs": [
    {
     "name": "stdout",
     "output_type": "stream",
     "text": [
      "Products that we drop :  (16,) (23,) (43,)\n",
      "Percentage of sells that we are droping: 0.01128%, 0.05492%, 0.78246%\n"
     ]
    },
    {
     "data": {
      "text/plain": [
       "array([ 502,  504,  703,  803,  804, 1004, 1008, 1014, 1015, 1305, 1308,\n",
       "       1312, 2104, 2502, 2801, 2901])"
      ]
     },
     "execution_count": 125,
     "metadata": {},
     "output_type": "execute_result"
    }
   ],
   "source": [
    "products_sub100 = Sells_per_product[Sells_per_product <100].index.values\n",
    "products_sub300 = Sells_per_product[Sells_per_product < 300].index.values\n",
    "products_sub2500 = Sells_per_product[Sells_per_product <2500].index.values\n",
    "print 'Products that we drop : ', products_sub100.shape, products_sub300.shape , products_sub2500.shape\n",
    "a = Sells_per_product[Sells_per_product <100].sum()/float(Sells_per_product.sum())*100\n",
    "b = Sells_per_product[Sells_per_product <300].sum()/float(Sells_per_product.sum())*100\n",
    "c = Sells_per_product[Sells_per_product <2500].sum()/float(Sells_per_product.sum())*100\n",
    "print 'Percentage of sells that we are droping: {0:.5f}%, {1:.5f}%, {2:.5f}%'.format(a, b, c)\n",
    "products_sub100"
   ]
  },
  {
   "cell_type": "markdown",
   "metadata": {},
   "source": [
    "In any case we are just deleting below 1% of the total sales. If the train and the test are produced under the same cirumstances we do not expect that deleting low selling products affects our accuracy in more than a 1%."
   ]
  },
  {
   "cell_type": "code",
   "execution_count": 126,
   "metadata": {
    "collapsed": true
   },
   "outputs": [],
   "source": [
    "#We delete rare products, the ones that have less than 100 sells\n",
    "\n",
    "Filtereddf_100 = dftrain.query('Cod_Prod not in @products_sub100')"
   ]
  },
  {
   "cell_type": "markdown",
   "metadata": {},
   "source": [
    "**IMPORTANT REMARK** : Deleting the products sub100 gives an accuracy of 47.39%. We have obtained better results without filtering which was 75%. We have yet not fully understood those results, and we have not reproduced again the first result of 75%. Since accuracy is not the main object of the first phase we have not explored this further.\n"
   ]
  },
  {
   "cell_type": "markdown",
   "metadata": {},
   "source": [
    "We will continue with the raw data, since deleting products those not bring up accuracy."
   ]
  },
  {
   "cell_type": "code",
   "execution_count": 127,
   "metadata": {
    "collapsed": true
   },
   "outputs": [],
   "source": [
    "Filtereddf = dftrain.copy()"
   ]
  },
  {
   "cell_type": "code",
   "execution_count": 128,
   "metadata": {
    "collapsed": false
   },
   "outputs": [
    {
     "name": "stdout",
     "output_type": "stream",
     "text": [
      "unique products:  94\n"
     ]
    },
    {
     "data": {
      "text/plain": [
       "array([ 101,  102,  103,  104,  201,  301,  502,  503,  504,  506,  601,\n",
       "        702,  703,  704,  705,  706,  707,  708,  801,  803,  804, 1001,\n",
       "       1002, 1004, 1005, 1006, 1007, 1008, 1009, 1010, 1011, 1012, 1013,\n",
       "       1014, 1015, 1017, 1019, 1020, 1021, 1022, 1301, 1302, 1303, 1304,\n",
       "       1305, 1306, 1307, 1308, 1309, 1310, 1311, 1312, 1401, 1501, 1801,\n",
       "       1802, 1803, 1804, 1805, 1806, 2102, 2103, 2104, 2105, 2106, 2201,\n",
       "       2202, 2203, 2204, 2205, 2206, 2301, 2302, 2401, 2501, 2502, 2503,\n",
       "       2601, 2602, 2701, 2702, 2703, 2704, 2705, 2706, 2707, 2801, 2901,\n",
       "       3001, 3101, 3401, 9991, 9992, 9993])"
      ]
     },
     "execution_count": 128,
     "metadata": {},
     "output_type": "execute_result"
    }
   ],
   "source": [
    "products = Filtereddf.Cod_Prod.unique()\n",
    "print 'unique products: ', products.size\n",
    "products = np.sort(products)\n",
    "products"
   ]
  },
  {
   "cell_type": "code",
   "execution_count": 129,
   "metadata": {
    "collapsed": false
   },
   "outputs": [
    {
     "name": "stdout",
     "output_type": "stream",
     "text": [
      "Number of unique customers:  676370\n"
     ]
    }
   ],
   "source": [
    "print 'Number of unique customers: ', Filtereddf.ID_Customer.unique().size"
   ]
  },
  {
   "cell_type": "code",
   "execution_count": 130,
   "metadata": {
    "collapsed": false
   },
   "outputs": [
    {
     "name": "stdout",
     "output_type": "stream",
     "text": [
      "(3277104, 9)\n",
      "602873\n",
      "0.108663896979\n"
     ]
    }
   ],
   "source": [
    "#Clean the dataframe of useless users.\n",
    "dropusers = Filtereddf.groupby('ID_Customer')['Cod_Prod'].count()\n",
    "dropusers = dropusers[dropusers == 1]\n",
    "users_to_drop= dropusers.index\n",
    "Filtereddf = Filtereddf.query('ID_Customer not in @users_to_drop')\n",
    "print Filtereddf.shape\n",
    "print Filtereddf.ID_Customer.unique().size\n",
    "print (dftrain.ID_Customer.unique().size - Filtereddf.ID_Customer.unique().size)/float(dftrain.ID_Customer.unique().size)"
   ]
  },
  {
   "cell_type": "markdown",
   "metadata": {},
   "source": [
    "We have deleted roughly 75.000 users. A bit over 10%. That is still acceptable, so we are confident that our apporach can work."
   ]
  },
  {
   "cell_type": "code",
   "execution_count": 131,
   "metadata": {
    "collapsed": false
   },
   "outputs": [],
   "source": [
    "#We Fill the column Prod_int. This will be the label the MLP will use to identify each product\n",
    "#We save the label 0 for 'not bought anything'. This will become apparent when we construct the model\n",
    "\n",
    "for i in range(products.size):\n",
    "    Filtereddf.loc[Filtereddf['Cod_Prod'] == products[i], 'Prod_int']=i+1"
   ]
  },
  {
   "cell_type": "code",
   "execution_count": 132,
   "metadata": {
    "collapsed": false,
    "scrolled": true
   },
   "outputs": [
    {
     "data": {
      "text/html": [
       "<div>\n",
       "<table border=\"1\" class=\"dataframe\">\n",
       "  <thead>\n",
       "    <tr style=\"text-align: right;\">\n",
       "      <th></th>\n",
       "      <th>ID_Customer</th>\n",
       "      <th>Cod_Prod</th>\n",
       "      <th>Cod_Fecha</th>\n",
       "      <th>Socio_Demo_01</th>\n",
       "      <th>Socio_Demo_02</th>\n",
       "      <th>Socio_Demo_03</th>\n",
       "      <th>Socio_Demo_04</th>\n",
       "      <th>Socio_Demo_05</th>\n",
       "      <th>Prod_int</th>\n",
       "    </tr>\n",
       "  </thead>\n",
       "  <tbody>\n",
       "    <tr>\n",
       "      <th>0</th>\n",
       "      <td>A0000001</td>\n",
       "      <td>601</td>\n",
       "      <td>2007-05</td>\n",
       "      <td>5</td>\n",
       "      <td>4</td>\n",
       "      <td>3</td>\n",
       "      <td>1</td>\n",
       "      <td>0</td>\n",
       "      <td>11</td>\n",
       "    </tr>\n",
       "    <tr>\n",
       "      <th>1</th>\n",
       "      <td>A0000001</td>\n",
       "      <td>704</td>\n",
       "      <td>2013-04</td>\n",
       "      <td>5</td>\n",
       "      <td>4</td>\n",
       "      <td>3</td>\n",
       "      <td>1</td>\n",
       "      <td>0</td>\n",
       "      <td>14</td>\n",
       "    </tr>\n",
       "    <tr>\n",
       "      <th>2</th>\n",
       "      <td>A0000001</td>\n",
       "      <td>2501</td>\n",
       "      <td>2006-03</td>\n",
       "      <td>5</td>\n",
       "      <td>4</td>\n",
       "      <td>3</td>\n",
       "      <td>1</td>\n",
       "      <td>0</td>\n",
       "      <td>75</td>\n",
       "    </tr>\n",
       "    <tr>\n",
       "      <th>3</th>\n",
       "      <td>A0000001</td>\n",
       "      <td>2503</td>\n",
       "      <td>2006-03</td>\n",
       "      <td>5</td>\n",
       "      <td>4</td>\n",
       "      <td>3</td>\n",
       "      <td>1</td>\n",
       "      <td>0</td>\n",
       "      <td>77</td>\n",
       "    </tr>\n",
       "    <tr>\n",
       "      <th>4</th>\n",
       "      <td>A0000001</td>\n",
       "      <td>1011</td>\n",
       "      <td>2011-04</td>\n",
       "      <td>5</td>\n",
       "      <td>4</td>\n",
       "      <td>3</td>\n",
       "      <td>1</td>\n",
       "      <td>0</td>\n",
       "      <td>31</td>\n",
       "    </tr>\n",
       "  </tbody>\n",
       "</table>\n",
       "</div>"
      ],
      "text/plain": [
       "  ID_Customer  Cod_Prod Cod_Fecha  Socio_Demo_01  Socio_Demo_02  \\\n",
       "0    A0000001       601   2007-05              5              4   \n",
       "1    A0000001       704   2013-04              5              4   \n",
       "2    A0000001      2501   2006-03              5              4   \n",
       "3    A0000001      2503   2006-03              5              4   \n",
       "4    A0000001      1011   2011-04              5              4   \n",
       "\n",
       "   Socio_Demo_03  Socio_Demo_04  Socio_Demo_05  Prod_int  \n",
       "0              3              1              0        11  \n",
       "1              3              1              0        14  \n",
       "2              3              1              0        75  \n",
       "3              3              1              0        77  \n",
       "4              3              1              0        31  "
      ]
     },
     "execution_count": 132,
     "metadata": {},
     "output_type": "execute_result"
    }
   ],
   "source": [
    "Filtereddf.head()"
   ]
  },
  {
   "cell_type": "markdown",
   "metadata": {},
   "source": [
    "Todo OK."
   ]
  },
  {
   "cell_type": "code",
   "execution_count": 133,
   "metadata": {
    "collapsed": false
   },
   "outputs": [
    {
     "name": "stdout",
     "output_type": "stream",
     "text": [
      "Users for test:  (655289, 9)\n",
      "Users for train:  (2621815, 9)\n"
     ]
    }
   ],
   "source": [
    "#Divide the clients in training not training\n",
    "\n",
    "Validusers= Filtereddf['ID_Customer'].unique()\n",
    "users_for_test = np.random.choice(Validusers, size= int(len(Validusers)*0.2), replace= False)\n",
    "data_test = Filtereddf.query('ID_Customer in @users_for_test')\n",
    "data_train = Filtereddf.query('ID_Customer not in @users_for_test')\n",
    "print 'Users for test: ', data_test.shape\n",
    "print 'Users for train: ', data_train.shape"
   ]
  },
  {
   "cell_type": "code",
   "execution_count": 134,
   "metadata": {
    "collapsed": false
   },
   "outputs": [],
   "source": [
    "historial_users_train=data_train.groupby(['ID_Customer', 'Prod_int'])['Cod_Fecha'].first()\n",
    "historial_users_test= data_test.groupby(['ID_Customer', 'Prod_int'])['Cod_Fecha'].first()"
   ]
  },
  {
   "cell_type": "code",
   "execution_count": 135,
   "metadata": {
    "collapsed": false
   },
   "outputs": [
    {
     "data": {
      "text/plain": [
       "ID_Customer  Prod_int\n",
       "A0000001     11          2007-05\n",
       "             14          2013-04\n",
       "             31          2011-04\n",
       "             75          2006-03\n",
       "             77          2006-03\n",
       "Name: Cod_Fecha, dtype: object"
      ]
     },
     "execution_count": 135,
     "metadata": {},
     "output_type": "execute_result"
    }
   ],
   "source": [
    "historial_users_train.head()"
   ]
  },
  {
   "cell_type": "code",
   "execution_count": 136,
   "metadata": {
    "collapsed": false
   },
   "outputs": [],
   "source": [
    "#Sort by fecha and convert indices to a sequences of list\n",
    "\n",
    "historial_users_train.sort_values(inplace = True)\n",
    "historial_users_test.sort_values(inplace = True)"
   ]
  },
  {
   "cell_type": "code",
   "execution_count": 137,
   "metadata": {
    "collapsed": false
   },
   "outputs": [],
   "source": [
    "X_train = historial_users_train.reset_index().groupby('ID_Customer')['Prod_int'].apply(np.array).values.tolist()\n",
    "X_test = historial_users_test.reset_index().groupby('ID_Customer')['Prod_int'].apply(np.array).values.tolist()"
   ]
  },
  {
   "cell_type": "code",
   "execution_count": 138,
   "metadata": {
    "collapsed": false,
    "scrolled": true
   },
   "outputs": [
    {
     "data": {
      "text/plain": [
       "[array([77, 75, 11, 31, 14]),\n",
       " array([ 6, 11, 19, 93]),\n",
       " array([11,  6,  5, 72]),\n",
       " array([ 6, 11]),\n",
       " array([ 6, 92, 94, 70, 11, 73])]"
      ]
     },
     "execution_count": 138,
     "metadata": {},
     "output_type": "execute_result"
    }
   ],
   "source": [
    "X_train[:5]"
   ]
  },
  {
   "cell_type": "markdown",
   "metadata": {},
   "source": [
    "We have ended up with a list of sublists, the elements of the sublists are the products ordered by 'Fecha de compra'. Now we need to divide the data into input and output. "
   ]
  },
  {
   "cell_type": "code",
   "execution_count": 139,
   "metadata": {
    "collapsed": true
   },
   "outputs": [],
   "source": [
    "\n",
    "#Dividimos entre X_train i y_train # SOLO EJECUTAR UNA VEZ BORRA COSAS\n",
    "#Copy the last product to the target and then delete\n",
    "\n",
    "X_traindel= np.copy(X_train)\n",
    "X_testdel = np.copy(X_test)\n",
    "y_train=np.zeros(len(X_train), dtype=int)\n",
    "y_test=np.zeros(len(X_test), dtype=int)\n",
    "\n",
    "i=0\n",
    "for hist in X_train:\n",
    "    y_train[i]=hist[-1:]\n",
    "    X_traindel[i]= np.delete(X_train[i], X_train[i].size-1)\n",
    "    i=i+1\n",
    "i=0\n",
    "for hist in X_test:\n",
    "    y_test[i]=hist[-1:]\n",
    "    X_testdel[i]= np.delete(X_test[i], X_test[i].size-1)\n",
    "    i=i+1"
   ]
  },
  {
   "cell_type": "code",
   "execution_count": 140,
   "metadata": {
    "collapsed": false
   },
   "outputs": [
    {
     "name": "stdout",
     "output_type": "stream",
     "text": [
      "Historial Usuario (en Train):  308737\n",
      "[11 83  6  5 73 70 92 94 31]\n",
      "31\n",
      "[11 83  6  5 73 70 92 94]\n",
      "Historial Usuario (en Train):  328720\n",
      "[11 73  5 72]\n",
      "72\n",
      "[11 73  5]\n",
      "Historial Usuario (en Train):  341218\n",
      "[ 6 11 73  5 70 72]\n",
      "72\n",
      "[ 6 11 73  5 70]\n",
      "Historial Usuario (en test):  112617\n",
      "[11 70  6 65 78 80 93  5 31 73]\n",
      "73\n",
      "[11 70  6 65 78 80 93  5 31]\n",
      "Historial Usuario (en test):  117119\n",
      "[11 70  6 73 84 31]\n",
      "31\n",
      "[11 70  6 73 84]\n",
      "Historial Usuario (en test):  10893\n",
      "[11 93 86  6 31]\n",
      "31\n",
      "[11 93 86  6]\n"
     ]
    }
   ],
   "source": [
    "Validusers= Filtereddf.ID_Customer.unique()\n",
    "for i in np.random.choice(np.arange(len(X_train)), size=3):\n",
    "    print 'Historial Usuario (en Train): ', i\n",
    "    print X_train[i]\n",
    "    print y_train[i]\n",
    "    print X_traindel[i]\n",
    "for i in np.random.choice(np.arange(len(X_test)), size=3):\n",
    "    print 'Historial Usuario (en test): ', i\n",
    "    print X_train[i]\n",
    "    print y_train[i]\n",
    "    print X_traindel[i]\n",
    "  "
   ]
  },
  {
   "cell_type": "markdown",
   "metadata": {},
   "source": [
    "It seems like everything is in order. Labels for the train and the test are ok.\n",
    "\n",
    "We shall now create the MLP model and fit it.\n",
    "\n",
    "First we shall explore our training set. "
   ]
  },
  {
   "cell_type": "code",
   "execution_count": 141,
   "metadata": {
    "collapsed": false
   },
   "outputs": [
    {
     "name": "stdout",
     "output_type": "stream",
     "text": [
      "Number of product sequences:  482299\n",
      "Number of last objects: 482299\n"
     ]
    }
   ],
   "source": [
    "#Copy again into the original variables, we retain X_traindel so we can recover them at anytime\n",
    "X_train=np.copy(X_traindel)\n",
    "X_test=np.copy(X_testdel)\n",
    "print 'Number of product sequences: ', len(X_train)\n",
    "print 'Number of last objects:', y_train.size"
   ]
  },
  {
   "cell_type": "code",
   "execution_count": 142,
   "metadata": {
    "collapsed": false,
    "scrolled": true
   },
   "outputs": [
    {
     "name": "stdout",
     "output_type": "stream",
     "text": [
      "Mean lenght:  4.43607803458 Std:  3.00265729425\n"
     ]
    },
    {
     "data": {
      "image/png": "[encoded data removed]",
      "text/plain": [
       "<matplotlib.figure.Figure at 0x1126dd750>"
      ]
     },
     "metadata": {},
     "output_type": "display_data"
    }
   ],
   "source": [
    "#Sumarize sequence lenght\n",
    "size= map(len, X_train) #Applies function (len) to the sublists of X\n",
    "print 'Mean lenght: ', np.mean(size), 'Std: ', np.std(size)\n",
    "pyplot.boxplot(size)\n",
    "pyplot.ylim(ymax=15)\n",
    "pyplot.show()"
   ]
  },
  {
   "cell_type": "markdown",
   "metadata": {},
   "source": [
    "The mean is 4.43 products with a std of 3 products, the median is 4 products. It is clear that we can get the full purchase historic for most users (75%) for sequences with a fixed lenght of 6.\n",
    "\n",
    "Let's start building our model:"
   ]
  },
  {
   "cell_type": "code",
   "execution_count": 143,
   "metadata": {
    "collapsed": false
   },
   "outputs": [],
   "source": [
    "from keras.models import Sequential\n",
    "from keras.layers import Dense, Flatten\n",
    "from keras.layers.embeddings import Embedding\n",
    "from keras.preprocessing import sequence\n",
    "#Fix random seed to reproduce results\n",
    "seed=7\n",
    "np.random.seed(seed)"
   ]
  },
  {
   "cell_type": "code",
   "execution_count": 144,
   "metadata": {
    "collapsed": false
   },
   "outputs": [],
   "source": [
    "#Truncate or pad the sequences into maximum fixed lenght of 6\n",
    "max_products=6\n",
    "X_train = sequence.pad_sequences(X_train, maxlen=max_products)\n",
    "X_test = sequence.pad_sequences(X_test, maxlen= max_products)"
   ]
  },
  {
   "cell_type": "code",
   "execution_count": 145,
   "metadata": {
    "collapsed": false,
    "scrolled": true
   },
   "outputs": [
    {
     "name": "stdout",
     "output_type": "stream",
     "text": [
      "(482299, 6)\n",
      "(120574, 6)\n",
      "[ 0  0 77 75 11 31]\n"
     ]
    }
   ],
   "source": [
    "print X_train.shape\n",
    "print X_test.shape\n",
    "print X_train[0]"
   ]
  },
  {
   "cell_type": "code",
   "execution_count": 146,
   "metadata": {
    "collapsed": false,
    "scrolled": false
   },
   "outputs": [
    {
     "name": "stdout",
     "output_type": "stream",
     "text": [
      "Classes: \n",
      "(81,)\n",
      "(89,)\n"
     ]
    }
   ],
   "source": [
    "print 'Classes: '\n",
    "print np.unique(y_test).shape\n",
    "print np.unique(y_train).shape"
   ]
  },
  {
   "cell_type": "markdown",
   "metadata": {},
   "source": [
    "There is one product more products in the train than the test. Since we have not deleted any product. Remember that there is some products with less than 10 sells! \n",
    "\n",
    "We are not pleased with this apporach, and we will work on improving accuracy in the second phase"
   ]
  },
  {
   "cell_type": "code",
   "execution_count": 147,
   "metadata": {
    "collapsed": false
   },
   "outputs": [
    {
     "name": "stdout",
     "output_type": "stream",
     "text": [
      "6\n"
     ]
    }
   ],
   "source": [
    "print max_products"
   ]
  },
  {
   "cell_type": "code",
   "execution_count": 148,
   "metadata": {
    "collapsed": false
   },
   "outputs": [
    {
     "name": "stdout",
     "output_type": "stream",
     "text": [
      "Vocabulary Size:  94\n",
      "Output-shape: (number of products):  94\n"
     ]
    }
   ],
   "source": [
    "top_product=np.max(Filtereddf.Prod_int)\n",
    "print 'Vocabulary Size: ', top_product\n",
    "out_shape =Filtereddf.Cod_Prod.unique().size\n",
    "print 'Output-shape: (number of products): ', out_shape"
   ]
  },
  {
   "cell_type": "code",
   "execution_count": 149,
   "metadata": {
    "collapsed": false,
    "scrolled": true
   },
   "outputs": [
    {
     "name": "stdout",
     "output_type": "stream",
     "text": [
      "____________________________________________________________________________________________________\n",
      "Layer (type)                     Output Shape          Param #     Connected to                     \n",
      "====================================================================================================\n",
      "embedding_2 (Embedding)          (None, 6, 10)         950         embedding_input_2[0][0]          \n",
      "____________________________________________________________________________________________________\n",
      "flatten_2 (Flatten)              (None, 60)            0           embedding_2[0][0]                \n",
      "____________________________________________________________________________________________________\n",
      "dense_5 (Dense)                  (None, 200)           12200       flatten_2[0][0]                  \n",
      "____________________________________________________________________________________________________\n",
      "dense_6 (Dense)                  (None, 200)           40200       dense_5[0][0]                    \n",
      "____________________________________________________________________________________________________\n",
      "dense_7 (Dense)                  (None, 100)           20100       dense_6[0][0]                    \n",
      "____________________________________________________________________________________________________\n",
      "dense_8 (Dense)                  (None, 95)            9595        dense_7[0][0]                    \n",
      "====================================================================================================\n",
      "Total params: 83,045\n",
      "Trainable params: 83,045\n",
      "Non-trainable params: 0\n",
      "____________________________________________________________________________________________________\n",
      "None\n"
     ]
    }
   ],
   "source": [
    "#Create the model:\n",
    "vsdim = 10 #Dimension del espacio N-vectorial\n",
    "model = Sequential()\n",
    "model.add(Embedding(top_product+1 , vsdim, input_length=max_products))\n",
    "model.add(Flatten())\n",
    "model.add(Dense(200, activation='relu'))\n",
    "model.add(Dense(200,activation='relu'))\n",
    "model.add(Dense(100, activation ='relu'))\n",
    "model.add(Dense(top_product+1, activation='sigmoid')) #We need to add one since we encode the output with a one-hot encoder\n",
    "model.compile(loss='categorical_crossentropy', optimizer='adam', metrics=['accuracy'])\n",
    "print(model.summary())"
   ]
  },
  {
   "cell_type": "code",
   "execution_count": 150,
   "metadata": {
    "collapsed": false
   },
   "outputs": [],
   "source": [
    "#Transform to categorical output\n",
    "from keras.utils.np_utils import to_categorical\n",
    "\n",
    "y_cat_train = to_categorical(y_train, nb_classes=None)\n",
    "y_cat_test = to_categorical(y_test, nb_classes=None)\n",
    "y_cat_train = y_cat_train.astype(int)\n",
    "y_cat_test = y_cat_test.astype(int)\n",
    "                                "
   ]
  },
  {
   "cell_type": "code",
   "execution_count": 151,
   "metadata": {
    "collapsed": false
   },
   "outputs": [
    {
     "name": "stdout",
     "output_type": "stream",
     "text": [
      "(482299, 95)\n",
      "(482299, 6)\n"
     ]
    }
   ],
   "source": [
    "print y_cat_train.shape\n",
    "print X_train.shape"
   ]
  },
  {
   "cell_type": "code",
   "execution_count": 152,
   "metadata": {
    "collapsed": false
   },
   "outputs": [
    {
     "name": "stdout",
     "output_type": "stream",
     "text": [
      "Train on 482299 samples, validate on 120574 samples\n",
      "Epoch 1/3\n",
      "482299/482299 [==============================] - 26s - loss: 2.1168 - acc: 0.4035 - val_loss: 1.9266 - val_acc: 0.4611\n",
      "Epoch 2/3\n",
      "482299/482299 [==============================] - 26s - loss: 1.9096 - acc: 0.4647 - val_loss: 1.8920 - val_acc: 0.4685\n",
      "Epoch 3/3\n",
      "482299/482299 [==============================] - 25s - loss: 1.8810 - acc: 0.4703 - val_loss: 1.8722 - val_acc: 0.4719\n",
      "Accuracy:  47.1925954186 %\n"
     ]
    }
   ],
   "source": [
    "#Fit the model\n",
    "\n",
    "model.fit(X_train, y_cat_train, validation_data=(X_test, y_cat_test), nb_epoch=3, batch_size=128, verbose=1)\n",
    "\n",
    "scores=model.evaluate(X_test, y_cat_test, verbose=0)\n",
    "\n",
    "print 'Accuracy: ', (scores[1]*100), '%'"
   ]
  },
  {
   "cell_type": "markdown",
   "metadata": {
    "collapsed": true
   },
   "source": [
    "Since the model overfits pretty quickly we have set for only 3 epochs."
   ]
  },
  {
   "cell_type": "code",
   "execution_count": 153,
   "metadata": {
    "collapsed": false
   },
   "outputs": [
    {
     "name": "stdout",
     "output_type": "stream",
     "text": [
      "Entries:  (1147687, 9)\n",
      "Number of users:  258989\n"
     ]
    },
    {
     "data": {
      "text/html": [
       "<div>\n",
       "<table border=\"1\" class=\"dataframe\">\n",
       "  <thead>\n",
       "    <tr style=\"text-align: right;\">\n",
       "      <th></th>\n",
       "      <th>ID_Customer</th>\n",
       "      <th>Cod_Prod</th>\n",
       "      <th>Cod_Fecha</th>\n",
       "      <th>Socio_Demo_01</th>\n",
       "      <th>Socio_Demo_02</th>\n",
       "      <th>Socio_Demo_03</th>\n",
       "      <th>Socio_Demo_04</th>\n",
       "      <th>Socio_Demo_05</th>\n",
       "      <th>Prod_int</th>\n",
       "    </tr>\n",
       "  </thead>\n",
       "  <tbody>\n",
       "    <tr>\n",
       "      <th>0</th>\n",
       "      <td>B0891376</td>\n",
       "      <td>601</td>\n",
       "      <td>1954-01</td>\n",
       "      <td>4</td>\n",
       "      <td>3</td>\n",
       "      <td>3</td>\n",
       "      <td>1</td>\n",
       "      <td>0</td>\n",
       "      <td>0</td>\n",
       "    </tr>\n",
       "    <tr>\n",
       "      <th>1</th>\n",
       "      <td>B0889436</td>\n",
       "      <td>601</td>\n",
       "      <td>1954-09</td>\n",
       "      <td>4</td>\n",
       "      <td>5</td>\n",
       "      <td>3</td>\n",
       "      <td>1</td>\n",
       "      <td>0</td>\n",
       "      <td>0</td>\n",
       "    </tr>\n",
       "    <tr>\n",
       "      <th>2</th>\n",
       "      <td>B0889461</td>\n",
       "      <td>601</td>\n",
       "      <td>1957-01</td>\n",
       "      <td>5</td>\n",
       "      <td>5</td>\n",
       "      <td>3</td>\n",
       "      <td>1</td>\n",
       "      <td>0</td>\n",
       "      <td>0</td>\n",
       "    </tr>\n",
       "    <tr>\n",
       "      <th>3</th>\n",
       "      <td>B0889491</td>\n",
       "      <td>601</td>\n",
       "      <td>1959-02</td>\n",
       "      <td>4</td>\n",
       "      <td>5</td>\n",
       "      <td>3</td>\n",
       "      <td>2</td>\n",
       "      <td>0</td>\n",
       "      <td>0</td>\n",
       "    </tr>\n",
       "    <tr>\n",
       "      <th>4</th>\n",
       "      <td>B0889492</td>\n",
       "      <td>601</td>\n",
       "      <td>1959-02</td>\n",
       "      <td>4</td>\n",
       "      <td>5</td>\n",
       "      <td>2</td>\n",
       "      <td>2</td>\n",
       "      <td>3</td>\n",
       "      <td>0</td>\n",
       "    </tr>\n",
       "  </tbody>\n",
       "</table>\n",
       "</div>"
      ],
      "text/plain": [
       "  ID_Customer  Cod_Prod Cod_Fecha  Socio_Demo_01  Socio_Demo_02  \\\n",
       "0    B0891376       601   1954-01              4              3   \n",
       "1    B0889436       601   1954-09              4              5   \n",
       "2    B0889461       601   1957-01              5              5   \n",
       "3    B0889491       601   1959-02              4              5   \n",
       "4    B0889492       601   1959-02              4              5   \n",
       "\n",
       "   Socio_Demo_03  Socio_Demo_04  Socio_Demo_05  Prod_int  \n",
       "0              3              1              0         0  \n",
       "1              3              1              0         0  \n",
       "2              3              1              0         0  \n",
       "3              3              2              0         0  \n",
       "4              2              2              3         0  "
      ]
     },
     "execution_count": 153,
     "metadata": {},
     "output_type": "execute_result"
    }
   ],
   "source": [
    "#Prepare the test\n",
    "\n",
    "dftest['Prod_int'] = np.zeros(dftest.ID_Customer.size, dtype=int)\n",
    "print 'Entries: ' ,dftest.shape\n",
    "print 'Number of users: ' , dftest.ID_Customer.unique().size\n",
    "dftest.head()"
   ]
  },
  {
   "cell_type": "code",
   "execution_count": 154,
   "metadata": {
    "collapsed": false
   },
   "outputs": [],
   "source": [
    "#We Fill the column Prod_int. This will be the label the MLP will use to identify each product\n",
    "#We save the label 0 for 'not bought anything'. This will become apparent when we construct the model\n",
    "\n",
    "for i in range(products.size):\n",
    "    dftest.loc[dftest['Cod_Prod'] == products[i], 'Prod_int']=i+1"
   ]
  },
  {
   "cell_type": "code",
   "execution_count": 155,
   "metadata": {
    "collapsed": false,
    "scrolled": true
   },
   "outputs": [
    {
     "data": {
      "text/plain": [
       "ID_Customer  Prod_int\n",
       "B0676372     11          1978-01\n",
       "B0676373     11          1993-07\n",
       "B0676374     5           2006-01\n",
       "             6           2002-11\n",
       "             11          1995-08\n",
       "Name: Cod_Fecha, dtype: object"
      ]
     },
     "execution_count": 155,
     "metadata": {},
     "output_type": "execute_result"
    }
   ],
   "source": [
    "historial_users_predict=dftest.groupby(['ID_Customer', 'Prod_int'])['Cod_Fecha'].first()\n",
    "historial_users_predict.head()"
   ]
  },
  {
   "cell_type": "code",
   "execution_count": 156,
   "metadata": {
    "collapsed": true
   },
   "outputs": [],
   "source": [
    "X_predict = historial_users_predict.reset_index().groupby('ID_Customer')['Prod_int'].apply(np.array).values.tolist()"
   ]
  },
  {
   "cell_type": "code",
   "execution_count": 157,
   "metadata": {
    "collapsed": true
   },
   "outputs": [],
   "source": [
    "X_predict = sequence.pad_sequences(X_predict, maxlen=max_products)"
   ]
  },
  {
   "cell_type": "code",
   "execution_count": 158,
   "metadata": {
    "collapsed": false
   },
   "outputs": [
    {
     "name": "stdout",
     "output_type": "stream",
     "text": [
      "258272/258989 [============================>.] - ETA: 0s"
     ]
    },
    {
     "data": {
      "text/plain": [
       "0.88682568"
      ]
     },
     "execution_count": 158,
     "metadata": {},
     "output_type": "execute_result"
    }
   ],
   "source": [
    "predictions = model.predict(X_predict, verbose=1)\n",
    "np.max(predictions[0])"
   ]
  },
  {
   "cell_type": "code",
   "execution_count": 159,
   "metadata": {
    "collapsed": false
   },
   "outputs": [
    {
     "data": {
      "text/plain": [
       "94"
      ]
     },
     "execution_count": 159,
     "metadata": {},
     "output_type": "execute_result"
    }
   ],
   "source": [
    "products.size"
   ]
  },
  {
   "cell_type": "code",
   "execution_count": 160,
   "metadata": {
    "collapsed": false
   },
   "outputs": [
    {
     "data": {
      "text/html": [
       "<div>\n",
       "<table border=\"1\" class=\"dataframe\">\n",
       "  <thead>\n",
       "    <tr style=\"text-align: right;\">\n",
       "      <th></th>\n",
       "      <th>101</th>\n",
       "      <th>102</th>\n",
       "      <th>103</th>\n",
       "      <th>104</th>\n",
       "      <th>201</th>\n",
       "      <th>301</th>\n",
       "      <th>502</th>\n",
       "      <th>503</th>\n",
       "      <th>504</th>\n",
       "      <th>506</th>\n",
       "      <th>...</th>\n",
       "      <th>2706</th>\n",
       "      <th>2707</th>\n",
       "      <th>2801</th>\n",
       "      <th>2901</th>\n",
       "      <th>3001</th>\n",
       "      <th>3101</th>\n",
       "      <th>3401</th>\n",
       "      <th>9991</th>\n",
       "      <th>9992</th>\n",
       "      <th>9993</th>\n",
       "    </tr>\n",
       "  </thead>\n",
       "  <tbody>\n",
       "    <tr>\n",
       "      <th>B0676372</th>\n",
       "      <td>5.958446e-06</td>\n",
       "      <td>3.837236e-04</td>\n",
       "      <td>4.608266e-04</td>\n",
       "      <td>2.052419e-11</td>\n",
       "      <td>3.013037e-01</td>\n",
       "      <td>8.868257e-01</td>\n",
       "      <td>1.232875e-11</td>\n",
       "      <td>1.291795e-04</td>\n",
       "      <td>1.219546e-11</td>\n",
       "      <td>2.339920e-05</td>\n",
       "      <td>...</td>\n",
       "      <td>5.234530e-04</td>\n",
       "      <td>3.387867e-03</td>\n",
       "      <td>4.114937e-11</td>\n",
       "      <td>1.325356e-11</td>\n",
       "      <td>1.127517e-03</td>\n",
       "      <td>4.153980e-06</td>\n",
       "      <td>4.453513e-04</td>\n",
       "      <td>3.711745e-08</td>\n",
       "      <td>2.989615e-02</td>\n",
       "      <td>0.000004</td>\n",
       "    </tr>\n",
       "    <tr>\n",
       "      <th>B0676373</th>\n",
       "      <td>5.958446e-06</td>\n",
       "      <td>3.837236e-04</td>\n",
       "      <td>4.608266e-04</td>\n",
       "      <td>2.052419e-11</td>\n",
       "      <td>3.013037e-01</td>\n",
       "      <td>8.868257e-01</td>\n",
       "      <td>1.232875e-11</td>\n",
       "      <td>1.291795e-04</td>\n",
       "      <td>1.219546e-11</td>\n",
       "      <td>2.339920e-05</td>\n",
       "      <td>...</td>\n",
       "      <td>5.234530e-04</td>\n",
       "      <td>3.387867e-03</td>\n",
       "      <td>4.114937e-11</td>\n",
       "      <td>1.325356e-11</td>\n",
       "      <td>1.127517e-03</td>\n",
       "      <td>4.153980e-06</td>\n",
       "      <td>4.453513e-04</td>\n",
       "      <td>3.711745e-08</td>\n",
       "      <td>2.989615e-02</td>\n",
       "      <td>0.000004</td>\n",
       "    </tr>\n",
       "    <tr>\n",
       "      <th>B0676374</th>\n",
       "      <td>1.250661e-05</td>\n",
       "      <td>1.010403e-02</td>\n",
       "      <td>2.772507e-03</td>\n",
       "      <td>1.164733e-09</td>\n",
       "      <td>1.576573e-01</td>\n",
       "      <td>4.633081e-02</td>\n",
       "      <td>1.033373e-09</td>\n",
       "      <td>7.329836e-03</td>\n",
       "      <td>1.695177e-10</td>\n",
       "      <td>2.500749e-03</td>\n",
       "      <td>...</td>\n",
       "      <td>6.792096e-03</td>\n",
       "      <td>1.661954e-02</td>\n",
       "      <td>7.931691e-10</td>\n",
       "      <td>8.185848e-09</td>\n",
       "      <td>2.265819e-02</td>\n",
       "      <td>8.448527e-06</td>\n",
       "      <td>9.053930e-04</td>\n",
       "      <td>1.689642e-04</td>\n",
       "      <td>8.138381e-03</td>\n",
       "      <td>0.003417</td>\n",
       "    </tr>\n",
       "    <tr>\n",
       "      <th>B0676376</th>\n",
       "      <td>1.411914e-18</td>\n",
       "      <td>1.306403e-09</td>\n",
       "      <td>5.141419e-15</td>\n",
       "      <td>6.969722e-35</td>\n",
       "      <td>6.542153e-13</td>\n",
       "      <td>1.269048e-10</td>\n",
       "      <td>2.420917e-32</td>\n",
       "      <td>2.189442e-13</td>\n",
       "      <td>1.756354e-37</td>\n",
       "      <td>2.353298e-19</td>\n",
       "      <td>...</td>\n",
       "      <td>5.980805e-11</td>\n",
       "      <td>1.680744e-10</td>\n",
       "      <td>1.522930e-36</td>\n",
       "      <td>0.000000e+00</td>\n",
       "      <td>1.152020e-12</td>\n",
       "      <td>4.386683e-29</td>\n",
       "      <td>3.268188e-13</td>\n",
       "      <td>2.323360e-02</td>\n",
       "      <td>3.695012e-07</td>\n",
       "      <td>0.000188</td>\n",
       "    </tr>\n",
       "    <tr>\n",
       "      <th>B0676377</th>\n",
       "      <td>9.832833e-06</td>\n",
       "      <td>1.779501e-04</td>\n",
       "      <td>1.445912e-04</td>\n",
       "      <td>5.808259e-12</td>\n",
       "      <td>1.152420e-05</td>\n",
       "      <td>2.526369e-01</td>\n",
       "      <td>4.041044e-12</td>\n",
       "      <td>2.186667e-05</td>\n",
       "      <td>6.707437e-12</td>\n",
       "      <td>4.243167e-06</td>\n",
       "      <td>...</td>\n",
       "      <td>1.127333e-04</td>\n",
       "      <td>1.781676e-03</td>\n",
       "      <td>2.569655e-11</td>\n",
       "      <td>2.989999e-13</td>\n",
       "      <td>5.227211e-04</td>\n",
       "      <td>3.121106e-07</td>\n",
       "      <td>1.487970e-04</td>\n",
       "      <td>2.798310e-09</td>\n",
       "      <td>4.218665e-02</td>\n",
       "      <td>0.000091</td>\n",
       "    </tr>\n",
       "  </tbody>\n",
       "</table>\n",
       "<p>5 rows × 94 columns</p>\n",
       "</div>"
      ],
      "text/plain": [
       "                  101           102           103           104   \\\n",
       "B0676372  5.958446e-06  3.837236e-04  4.608266e-04  2.052419e-11   \n",
       "B0676373  5.958446e-06  3.837236e-04  4.608266e-04  2.052419e-11   \n",
       "B0676374  1.250661e-05  1.010403e-02  2.772507e-03  1.164733e-09   \n",
       "B0676376  1.411914e-18  1.306403e-09  5.141419e-15  6.969722e-35   \n",
       "B0676377  9.832833e-06  1.779501e-04  1.445912e-04  5.808259e-12   \n",
       "\n",
       "                  201           301           502           503   \\\n",
       "B0676372  3.013037e-01  8.868257e-01  1.232875e-11  1.291795e-04   \n",
       "B0676373  3.013037e-01  8.868257e-01  1.232875e-11  1.291795e-04   \n",
       "B0676374  1.576573e-01  4.633081e-02  1.033373e-09  7.329836e-03   \n",
       "B0676376  6.542153e-13  1.269048e-10  2.420917e-32  2.189442e-13   \n",
       "B0676377  1.152420e-05  2.526369e-01  4.041044e-12  2.186667e-05   \n",
       "\n",
       "                  504           506     ...             2706          2707  \\\n",
       "B0676372  1.219546e-11  2.339920e-05    ...     5.234530e-04  3.387867e-03   \n",
       "B0676373  1.219546e-11  2.339920e-05    ...     5.234530e-04  3.387867e-03   \n",
       "B0676374  1.695177e-10  2.500749e-03    ...     6.792096e-03  1.661954e-02   \n",
       "B0676376  1.756354e-37  2.353298e-19    ...     5.980805e-11  1.680744e-10   \n",
       "B0676377  6.707437e-12  4.243167e-06    ...     1.127333e-04  1.781676e-03   \n",
       "\n",
       "                  2801          2901          3001          3101  \\\n",
       "B0676372  4.114937e-11  1.325356e-11  1.127517e-03  4.153980e-06   \n",
       "B0676373  4.114937e-11  1.325356e-11  1.127517e-03  4.153980e-06   \n",
       "B0676374  7.931691e-10  8.185848e-09  2.265819e-02  8.448527e-06   \n",
       "B0676376  1.522930e-36  0.000000e+00  1.152020e-12  4.386683e-29   \n",
       "B0676377  2.569655e-11  2.989999e-13  5.227211e-04  3.121106e-07   \n",
       "\n",
       "                  3401          9991          9992      9993  \n",
       "B0676372  4.453513e-04  3.711745e-08  2.989615e-02  0.000004  \n",
       "B0676373  4.453513e-04  3.711745e-08  2.989615e-02  0.000004  \n",
       "B0676374  9.053930e-04  1.689642e-04  8.138381e-03  0.003417  \n",
       "B0676376  3.268188e-13  2.323360e-02  3.695012e-07  0.000188  \n",
       "B0676377  1.487970e-04  2.798310e-09  4.218665e-02  0.000091  \n",
       "\n",
       "[5 rows x 94 columns]"
      ]
     },
     "execution_count": 160,
     "metadata": {},
     "output_type": "execute_result"
    }
   ],
   "source": [
    "#We convert the nested list into a data frame, we drop the first column (0) corresponding to the ghost product 'not buying anything'\n",
    "\n",
    "predictions_df = pd.DataFrame(predictions)\n",
    "predictions_df.drop(0, axis=1, inplace= True)\n",
    "predictions_df.columns = products\n",
    "index =dftest.ID_Customer.unique()\n",
    "index = np.sort(index)\n",
    "predictions_df.index = index\n",
    "predictions_df.head()"
   ]
  },
  {
   "cell_type": "code",
   "execution_count": 161,
   "metadata": {
    "collapsed": false
   },
   "outputs": [],
   "source": [
    "#Find which column corresponds to the maximum for every user.\n",
    "\n",
    "mission = predictions_df.idxmax(axis=1)\n",
    "mission.indexname = 'ID_Customer'\n",
    "mission.name = 'Cod_Prod'"
   ]
  },
  {
   "cell_type": "code",
   "execution_count": 162,
   "metadata": {
    "collapsed": false
   },
   "outputs": [
    {
     "data": {
      "text/plain": [
       "B0676372     301\n",
       "B0676373     301\n",
       "B0676374    2301\n",
       "B0676376    9991\n",
       "B0676377    2302\n",
       "Name: Cod_Prod, dtype: int64"
      ]
     },
     "execution_count": 162,
     "metadata": {},
     "output_type": "execute_result"
    }
   ],
   "source": [
    "mission.head(5)"
   ]
  },
  {
   "cell_type": "code",
   "execution_count": 163,
   "metadata": {
    "collapsed": false
   },
   "outputs": [],
   "source": [
    "mission.to_csv('Test_Mission.txt', sep='|', index_label='ID_Customer', header ='Cod_Prod')"
   ]
  }
 ],
 "metadata": {
  "anaconda-cloud": {},
  "kernelspec": {
   "display_name": "Python [conda root]",
   "language": "python",
   "name": "conda-root-py"
  },
  "language_info": {
   "codemirror_mode": {
    "name": "ipython",
    "version": 2
   },
   "file_extension": ".py",
   "mimetype": "text/x-python",
   "name": "python",
   "nbconvert_exporter": "python",
   "pygments_lexer": "ipython2",
   "version": "2.7.12"
  }
 },
 "nbformat": 4,
 "nbformat_minor": 1
}
