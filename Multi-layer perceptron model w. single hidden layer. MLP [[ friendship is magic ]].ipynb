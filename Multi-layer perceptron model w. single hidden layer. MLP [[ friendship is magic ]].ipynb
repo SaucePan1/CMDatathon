{
 "cells": [
  {
   "cell_type": "markdown",
   "metadata": {},
   "source": [
    "## MLP \n",
    "\n",
    "We have considered adequated to treat this problem as natural language processing is normally treated. We have sequences of words that behave according to hidden grammar rules that the MLP has to learn in order the predict what word comes next. (Analogous to having a sequence of products that behave according to hidden market rules we need to learn in order to predict what product comes next).\n",
    "\n",
    "Our training set can be made up of ALL the users, but we will 'hide' the last product they have purchased. That is \n",
    "\n",
    "- X_train = Sequence of products all users bought but the last one. 80%\n",
    "- y_train = target we need to predict, that will be the last product they've purchased. 80%\n",
    "\n",
    "- X_test = Sequence of all products but the last one 20%\n",
    "- y_test = Last product this 20% have bought.\n",
    "\n",
    "**Remarks:**\n",
    "\n",
    "- We can add these 20% to the X_train (we shall give the sequence of the purchased products but the last two.) and add the 'penultimo' to the y_train.\n",
    "\n",
    "- We can multiply the training set by transforming the sequence of products 'abcde' to 'ab' 'abc' 'abcd' 'abcde'. (Is it a good idea? It seems ok to me, why ? Test what is better.\n",
    "\n",
    "- We can add the test.txt to the training set without no problem. (Yes, no?)\n",
    "\n",
    "- We MUST delete users with only one product, they have no training value. We can use to test but eh. I would just delete them.\n",
    "\n",
    "- Do some kind of selection of the 'best' users to train the net?\n",
    "\n",
    "- We are not using the Socio_Demo features, it would be nice to treat them with another approach and then combine the two.\n",
    "\n",
    "\n"
   ]
  },
  {
   "cell_type": "code",
   "execution_count": 2,
   "metadata": {
    "collapsed": false
   },
   "outputs": [
    {
     "name": "stderr",
     "output_type": "stream",
     "text": [
      "Using TensorFlow backend.\n"
     ]
    }
   ],
   "source": [
    "import numpy as np\n",
    "import pandas as pd\n",
    "from matplotlib import pyplot\n"
   ]
  },
  {
   "cell_type": "code",
   "execution_count": 3,
   "metadata": {
    "collapsed": true
   },
   "outputs": [],
   "source": [
    "#Load the data\n",
    "dftrain = pd.read_csv('train2-2.txt', sep='|')\n",
    "dftest = pd.read_csv('test2.txt', sep= '|')"
   ]
  },
  {
   "cell_type": "code",
   "execution_count": 4,
   "metadata": {
    "collapsed": false,
    "scrolled": true
   },
   "outputs": [
    {
     "data": {
      "text/html": [
       "<div>\n",
       "<table border=\"1\" class=\"dataframe\">\n",
       "  <thead>\n",
       "    <tr style=\"text-align: right;\">\n",
       "      <th></th>\n",
       "      <th>ID_Customer</th>\n",
       "      <th>Cod_Prod</th>\n",
       "      <th>Cod_Fecha</th>\n",
       "      <th>Socio_Demo_01</th>\n",
       "      <th>Socio_Demo_02</th>\n",
       "      <th>Socio_Demo_03</th>\n",
       "      <th>Socio_Demo_04</th>\n",
       "      <th>Socio_Demo_05</th>\n",
       "    </tr>\n",
       "  </thead>\n",
       "  <tbody>\n",
       "    <tr>\n",
       "      <th>0</th>\n",
       "      <td>A0000001</td>\n",
       "      <td>601</td>\n",
       "      <td>2007-05</td>\n",
       "      <td>5</td>\n",
       "      <td>4</td>\n",
       "      <td>3</td>\n",
       "      <td>1</td>\n",
       "      <td>0</td>\n",
       "    </tr>\n",
       "    <tr>\n",
       "      <th>1</th>\n",
       "      <td>A0000001</td>\n",
       "      <td>704</td>\n",
       "      <td>2013-04</td>\n",
       "      <td>5</td>\n",
       "      <td>4</td>\n",
       "      <td>3</td>\n",
       "      <td>1</td>\n",
       "      <td>0</td>\n",
       "    </tr>\n",
       "    <tr>\n",
       "      <th>2</th>\n",
       "      <td>A0000001</td>\n",
       "      <td>2501</td>\n",
       "      <td>2006-03</td>\n",
       "      <td>5</td>\n",
       "      <td>4</td>\n",
       "      <td>3</td>\n",
       "      <td>1</td>\n",
       "      <td>0</td>\n",
       "    </tr>\n",
       "    <tr>\n",
       "      <th>3</th>\n",
       "      <td>A0000001</td>\n",
       "      <td>2503</td>\n",
       "      <td>2006-03</td>\n",
       "      <td>5</td>\n",
       "      <td>4</td>\n",
       "      <td>3</td>\n",
       "      <td>1</td>\n",
       "      <td>0</td>\n",
       "    </tr>\n",
       "    <tr>\n",
       "      <th>4</th>\n",
       "      <td>A0000001</td>\n",
       "      <td>1011</td>\n",
       "      <td>2011-04</td>\n",
       "      <td>5</td>\n",
       "      <td>4</td>\n",
       "      <td>3</td>\n",
       "      <td>1</td>\n",
       "      <td>0</td>\n",
       "    </tr>\n",
       "    <tr>\n",
       "      <th>5</th>\n",
       "      <td>A0000002</td>\n",
       "      <td>601</td>\n",
       "      <td>1998-06</td>\n",
       "      <td>5</td>\n",
       "      <td>5</td>\n",
       "      <td>1</td>\n",
       "      <td>1</td>\n",
       "      <td>0</td>\n",
       "    </tr>\n",
       "    <tr>\n",
       "      <th>6</th>\n",
       "      <td>A0000002</td>\n",
       "      <td>801</td>\n",
       "      <td>2006-02</td>\n",
       "      <td>5</td>\n",
       "      <td>5</td>\n",
       "      <td>1</td>\n",
       "      <td>1</td>\n",
       "      <td>0</td>\n",
       "    </tr>\n",
       "  </tbody>\n",
       "</table>\n",
       "</div>"
      ],
      "text/plain": [
       "  ID_Customer  Cod_Prod Cod_Fecha  Socio_Demo_01  Socio_Demo_02  \\\n",
       "0    A0000001       601   2007-05              5              4   \n",
       "1    A0000001       704   2013-04              5              4   \n",
       "2    A0000001      2501   2006-03              5              4   \n",
       "3    A0000001      2503   2006-03              5              4   \n",
       "4    A0000001      1011   2011-04              5              4   \n",
       "5    A0000002       601   1998-06              5              5   \n",
       "6    A0000002       801   2006-02              5              5   \n",
       "\n",
       "   Socio_Demo_03  Socio_Demo_04  Socio_Demo_05  \n",
       "0              3              1              0  \n",
       "1              3              1              0  \n",
       "2              3              1              0  \n",
       "3              3              1              0  \n",
       "4              3              1              0  \n",
       "5              1              1              0  \n",
       "6              1              1              0  "
      ]
     },
     "execution_count": 4,
     "metadata": {},
     "output_type": "execute_result"
    }
   ],
   "source": [
    "dftrain.head(7)"
   ]
  },
  {
   "cell_type": "code",
   "execution_count": 353,
   "metadata": {
    "collapsed": false
   },
   "outputs": [
    {
     "data": {
      "text/html": [
       "<div>\n",
       "<table border=\"1\" class=\"dataframe\">\n",
       "  <thead>\n",
       "    <tr style=\"text-align: right;\">\n",
       "      <th></th>\n",
       "      <th>ID_Customer</th>\n",
       "      <th>Cod_Prod</th>\n",
       "      <th>Cod_Fecha</th>\n",
       "      <th>Socio_Demo_01</th>\n",
       "      <th>Socio_Demo_02</th>\n",
       "      <th>Socio_Demo_03</th>\n",
       "      <th>Socio_Demo_04</th>\n",
       "      <th>Socio_Demo_05</th>\n",
       "      <th>Prod_int</th>\n",
       "    </tr>\n",
       "  </thead>\n",
       "  <tbody>\n",
       "    <tr>\n",
       "      <th>0</th>\n",
       "      <td>A0000001</td>\n",
       "      <td>601</td>\n",
       "      <td>2007-05</td>\n",
       "      <td>5</td>\n",
       "      <td>4</td>\n",
       "      <td>3</td>\n",
       "      <td>1</td>\n",
       "      <td>0</td>\n",
       "      <td>0</td>\n",
       "    </tr>\n",
       "    <tr>\n",
       "      <th>1</th>\n",
       "      <td>A0000001</td>\n",
       "      <td>704</td>\n",
       "      <td>2013-04</td>\n",
       "      <td>5</td>\n",
       "      <td>4</td>\n",
       "      <td>3</td>\n",
       "      <td>1</td>\n",
       "      <td>0</td>\n",
       "      <td>0</td>\n",
       "    </tr>\n",
       "    <tr>\n",
       "      <th>2</th>\n",
       "      <td>A0000001</td>\n",
       "      <td>2501</td>\n",
       "      <td>2006-03</td>\n",
       "      <td>5</td>\n",
       "      <td>4</td>\n",
       "      <td>3</td>\n",
       "      <td>1</td>\n",
       "      <td>0</td>\n",
       "      <td>0</td>\n",
       "    </tr>\n",
       "    <tr>\n",
       "      <th>3</th>\n",
       "      <td>A0000001</td>\n",
       "      <td>2503</td>\n",
       "      <td>2006-03</td>\n",
       "      <td>5</td>\n",
       "      <td>4</td>\n",
       "      <td>3</td>\n",
       "      <td>1</td>\n",
       "      <td>0</td>\n",
       "      <td>0</td>\n",
       "    </tr>\n",
       "    <tr>\n",
       "      <th>4</th>\n",
       "      <td>A0000001</td>\n",
       "      <td>1011</td>\n",
       "      <td>2011-04</td>\n",
       "      <td>5</td>\n",
       "      <td>4</td>\n",
       "      <td>3</td>\n",
       "      <td>1</td>\n",
       "      <td>0</td>\n",
       "      <td>0</td>\n",
       "    </tr>\n",
       "    <tr>\n",
       "      <th>5</th>\n",
       "      <td>A0000002</td>\n",
       "      <td>601</td>\n",
       "      <td>1998-06</td>\n",
       "      <td>5</td>\n",
       "      <td>5</td>\n",
       "      <td>1</td>\n",
       "      <td>1</td>\n",
       "      <td>0</td>\n",
       "      <td>0</td>\n",
       "    </tr>\n",
       "  </tbody>\n",
       "</table>\n",
       "</div>"
      ],
      "text/plain": [
       "  ID_Customer  Cod_Prod Cod_Fecha  Socio_Demo_01  Socio_Demo_02  \\\n",
       "0    A0000001       601   2007-05              5              4   \n",
       "1    A0000001       704   2013-04              5              4   \n",
       "2    A0000001      2501   2006-03              5              4   \n",
       "3    A0000001      2503   2006-03              5              4   \n",
       "4    A0000001      1011   2011-04              5              4   \n",
       "5    A0000002       601   1998-06              5              5   \n",
       "\n",
       "   Socio_Demo_03  Socio_Demo_04  Socio_Demo_05  Prod_int  \n",
       "0              3              1              0         0  \n",
       "1              3              1              0         0  \n",
       "2              3              1              0         0  \n",
       "3              3              1              0         0  \n",
       "4              3              1              0         0  \n",
       "5              1              1              0         0  "
      ]
     },
     "execution_count": 353,
     "metadata": {},
     "output_type": "execute_result"
    }
   ],
   "source": [
    "dftrain['Prod_int'] = np.zeros(dftrain.ID_Customer.size, dtype=int)\n",
    "dftrain.head(6)"
   ]
  },
  {
   "cell_type": "code",
   "execution_count": 256,
   "metadata": {
    "collapsed": false
   },
   "outputs": [
    {
     "data": {
      "text/plain": [
       "ID_Customer\n",
       "A0000008    13\n",
       "A0000011     8\n",
       "A0000023     9\n",
       "A0000024     9\n",
       "A0000032     9\n",
       "Name: Cod_Prod, dtype: int64"
      ]
     },
     "execution_count": 256,
     "metadata": {},
     "output_type": "execute_result"
    }
   ],
   "source": [
    "dropusers = dftrain.groupby('ID_Customer')['Cod_Prod'].count()\n",
    "dropusers[dropusers > 6].head()"
   ]
  },
  {
   "cell_type": "code",
   "execution_count": 260,
   "metadata": {
    "collapsed": false
   },
   "outputs": [
    {
     "data": {
      "text/html": [
       "<div>\n",
       "<table border=\"1\" class=\"dataframe\">\n",
       "  <thead>\n",
       "    <tr style=\"text-align: right;\">\n",
       "      <th></th>\n",
       "      <th>ID_Customer</th>\n",
       "      <th>Cod_Prod</th>\n",
       "      <th>Cod_Fecha</th>\n",
       "      <th>Socio_Demo_01</th>\n",
       "      <th>Socio_Demo_02</th>\n",
       "      <th>Socio_Demo_03</th>\n",
       "      <th>Socio_Demo_04</th>\n",
       "      <th>Socio_Demo_05</th>\n",
       "      <th>Prod_int</th>\n",
       "    </tr>\n",
       "  </thead>\n",
       "  <tbody>\n",
       "    <tr>\n",
       "      <th>28</th>\n",
       "      <td>A0000008</td>\n",
       "      <td>1001</td>\n",
       "      <td>2014-03</td>\n",
       "      <td>3</td>\n",
       "      <td>5</td>\n",
       "      <td>2</td>\n",
       "      <td>1</td>\n",
       "      <td>3</td>\n",
       "      <td>22</td>\n",
       "    </tr>\n",
       "    <tr>\n",
       "      <th>29</th>\n",
       "      <td>A0000008</td>\n",
       "      <td>1020</td>\n",
       "      <td>2013-11</td>\n",
       "      <td>3</td>\n",
       "      <td>5</td>\n",
       "      <td>2</td>\n",
       "      <td>1</td>\n",
       "      <td>3</td>\n",
       "      <td>38</td>\n",
       "    </tr>\n",
       "    <tr>\n",
       "      <th>30</th>\n",
       "      <td>A0000008</td>\n",
       "      <td>1401</td>\n",
       "      <td>2010-07</td>\n",
       "      <td>3</td>\n",
       "      <td>5</td>\n",
       "      <td>2</td>\n",
       "      <td>1</td>\n",
       "      <td>3</td>\n",
       "      <td>53</td>\n",
       "    </tr>\n",
       "    <tr>\n",
       "      <th>31</th>\n",
       "      <td>A0000008</td>\n",
       "      <td>2205</td>\n",
       "      <td>2003-09</td>\n",
       "      <td>3</td>\n",
       "      <td>5</td>\n",
       "      <td>2</td>\n",
       "      <td>1</td>\n",
       "      <td>3</td>\n",
       "      <td>70</td>\n",
       "    </tr>\n",
       "    <tr>\n",
       "      <th>32</th>\n",
       "      <td>A0000008</td>\n",
       "      <td>2602</td>\n",
       "      <td>2015-09</td>\n",
       "      <td>3</td>\n",
       "      <td>5</td>\n",
       "      <td>2</td>\n",
       "      <td>1</td>\n",
       "      <td>3</td>\n",
       "      <td>79</td>\n",
       "    </tr>\n",
       "    <tr>\n",
       "      <th>33</th>\n",
       "      <td>A0000008</td>\n",
       "      <td>2704</td>\n",
       "      <td>2004-05</td>\n",
       "      <td>3</td>\n",
       "      <td>5</td>\n",
       "      <td>2</td>\n",
       "      <td>1</td>\n",
       "      <td>3</td>\n",
       "      <td>83</td>\n",
       "    </tr>\n",
       "    <tr>\n",
       "      <th>34</th>\n",
       "      <td>A0000008</td>\n",
       "      <td>2707</td>\n",
       "      <td>2016-09</td>\n",
       "      <td>3</td>\n",
       "      <td>5</td>\n",
       "      <td>2</td>\n",
       "      <td>1</td>\n",
       "      <td>3</td>\n",
       "      <td>86</td>\n",
       "    </tr>\n",
       "    <tr>\n",
       "      <th>35</th>\n",
       "      <td>A0000008</td>\n",
       "      <td>3401</td>\n",
       "      <td>2014-03</td>\n",
       "      <td>3</td>\n",
       "      <td>5</td>\n",
       "      <td>2</td>\n",
       "      <td>1</td>\n",
       "      <td>3</td>\n",
       "      <td>91</td>\n",
       "    </tr>\n",
       "    <tr>\n",
       "      <th>36</th>\n",
       "      <td>A0000008</td>\n",
       "      <td>9992</td>\n",
       "      <td>2015-11</td>\n",
       "      <td>3</td>\n",
       "      <td>5</td>\n",
       "      <td>2</td>\n",
       "      <td>1</td>\n",
       "      <td>3</td>\n",
       "      <td>93</td>\n",
       "    </tr>\n",
       "    <tr>\n",
       "      <th>37</th>\n",
       "      <td>A0000008</td>\n",
       "      <td>601</td>\n",
       "      <td>2014-03</td>\n",
       "      <td>3</td>\n",
       "      <td>5</td>\n",
       "      <td>2</td>\n",
       "      <td>1</td>\n",
       "      <td>3</td>\n",
       "      <td>11</td>\n",
       "    </tr>\n",
       "    <tr>\n",
       "      <th>38</th>\n",
       "      <td>A0000008</td>\n",
       "      <td>506</td>\n",
       "      <td>2015-09</td>\n",
       "      <td>3</td>\n",
       "      <td>5</td>\n",
       "      <td>2</td>\n",
       "      <td>1</td>\n",
       "      <td>3</td>\n",
       "      <td>10</td>\n",
       "    </tr>\n",
       "    <tr>\n",
       "      <th>39</th>\n",
       "      <td>A0000008</td>\n",
       "      <td>301</td>\n",
       "      <td>2004-06</td>\n",
       "      <td>3</td>\n",
       "      <td>5</td>\n",
       "      <td>2</td>\n",
       "      <td>1</td>\n",
       "      <td>3</td>\n",
       "      <td>6</td>\n",
       "    </tr>\n",
       "    <tr>\n",
       "      <th>40</th>\n",
       "      <td>A0000008</td>\n",
       "      <td>801</td>\n",
       "      <td>2014-03</td>\n",
       "      <td>3</td>\n",
       "      <td>5</td>\n",
       "      <td>2</td>\n",
       "      <td>1</td>\n",
       "      <td>3</td>\n",
       "      <td>19</td>\n",
       "    </tr>\n",
       "  </tbody>\n",
       "</table>\n",
       "</div>"
      ],
      "text/plain": [
       "   ID_Customer  Cod_Prod Cod_Fecha  Socio_Demo_01  Socio_Demo_02  \\\n",
       "28    A0000008      1001   2014-03              3              5   \n",
       "29    A0000008      1020   2013-11              3              5   \n",
       "30    A0000008      1401   2010-07              3              5   \n",
       "31    A0000008      2205   2003-09              3              5   \n",
       "32    A0000008      2602   2015-09              3              5   \n",
       "33    A0000008      2704   2004-05              3              5   \n",
       "34    A0000008      2707   2016-09              3              5   \n",
       "35    A0000008      3401   2014-03              3              5   \n",
       "36    A0000008      9992   2015-11              3              5   \n",
       "37    A0000008       601   2014-03              3              5   \n",
       "38    A0000008       506   2015-09              3              5   \n",
       "39    A0000008       301   2004-06              3              5   \n",
       "40    A0000008       801   2014-03              3              5   \n",
       "\n",
       "    Socio_Demo_03  Socio_Demo_04  Socio_Demo_05  Prod_int  \n",
       "28              2              1              3        22  \n",
       "29              2              1              3        38  \n",
       "30              2              1              3        53  \n",
       "31              2              1              3        70  \n",
       "32              2              1              3        79  \n",
       "33              2              1              3        83  \n",
       "34              2              1              3        86  \n",
       "35              2              1              3        91  \n",
       "36              2              1              3        93  \n",
       "37              2              1              3        11  \n",
       "38              2              1              3        10  \n",
       "39              2              1              3         6  \n",
       "40              2              1              3        19  "
      ]
     },
     "execution_count": 260,
     "metadata": {},
     "output_type": "execute_result"
    }
   ],
   "source": [
    "Filtereddf[Filtereddf.ID_Customer == 'A0000008']"
   ]
  },
  {
   "cell_type": "code",
   "execution_count": 185,
   "metadata": {
    "collapsed": false
   },
   "outputs": [],
   "source": [
    "#Clean the datafram of useless users.\n",
    "dropusers = dftrain.groupby('ID_Customer')['Cod_Prod'].count()\n",
    "dropusers = dropusers[dropusers == 1]\n",
    "users_to_drop= dropusers.index\n",
    "Filtereddf = dftrain.query('ID_Customer not in @users_to_drop')"
   ]
  },
  {
   "cell_type": "code",
   "execution_count": 208,
   "metadata": {
    "collapsed": false
   },
   "outputs": [],
   "source": [
    "#Rellenamos la entrada de Prod_int\n",
    "for i in range(products.size):\n",
    "    Filtereddf.loc[Filtereddf['Cod_Prod'] == products[i], 'Prod_int']=i+1"
   ]
  },
  {
   "cell_type": "code",
   "execution_count": 209,
   "metadata": {
    "collapsed": false,
    "scrolled": true
   },
   "outputs": [
    {
     "data": {
      "text/html": [
       "<div>\n",
       "<table border=\"1\" class=\"dataframe\">\n",
       "  <thead>\n",
       "    <tr style=\"text-align: right;\">\n",
       "      <th></th>\n",
       "      <th>ID_Customer</th>\n",
       "      <th>Cod_Prod</th>\n",
       "      <th>Cod_Fecha</th>\n",
       "      <th>Socio_Demo_01</th>\n",
       "      <th>Socio_Demo_02</th>\n",
       "      <th>Socio_Demo_03</th>\n",
       "      <th>Socio_Demo_04</th>\n",
       "      <th>Socio_Demo_05</th>\n",
       "      <th>Prod_int</th>\n",
       "    </tr>\n",
       "  </thead>\n",
       "  <tbody>\n",
       "    <tr>\n",
       "      <th>0</th>\n",
       "      <td>A0000001</td>\n",
       "      <td>601</td>\n",
       "      <td>2007-05</td>\n",
       "      <td>5</td>\n",
       "      <td>4</td>\n",
       "      <td>3</td>\n",
       "      <td>1</td>\n",
       "      <td>0</td>\n",
       "      <td>11</td>\n",
       "    </tr>\n",
       "    <tr>\n",
       "      <th>1</th>\n",
       "      <td>A0000001</td>\n",
       "      <td>704</td>\n",
       "      <td>2013-04</td>\n",
       "      <td>5</td>\n",
       "      <td>4</td>\n",
       "      <td>3</td>\n",
       "      <td>1</td>\n",
       "      <td>0</td>\n",
       "      <td>14</td>\n",
       "    </tr>\n",
       "    <tr>\n",
       "      <th>2</th>\n",
       "      <td>A0000001</td>\n",
       "      <td>2501</td>\n",
       "      <td>2006-03</td>\n",
       "      <td>5</td>\n",
       "      <td>4</td>\n",
       "      <td>3</td>\n",
       "      <td>1</td>\n",
       "      <td>0</td>\n",
       "      <td>75</td>\n",
       "    </tr>\n",
       "    <tr>\n",
       "      <th>3</th>\n",
       "      <td>A0000001</td>\n",
       "      <td>2503</td>\n",
       "      <td>2006-03</td>\n",
       "      <td>5</td>\n",
       "      <td>4</td>\n",
       "      <td>3</td>\n",
       "      <td>1</td>\n",
       "      <td>0</td>\n",
       "      <td>77</td>\n",
       "    </tr>\n",
       "    <tr>\n",
       "      <th>4</th>\n",
       "      <td>A0000001</td>\n",
       "      <td>1011</td>\n",
       "      <td>2011-04</td>\n",
       "      <td>5</td>\n",
       "      <td>4</td>\n",
       "      <td>3</td>\n",
       "      <td>1</td>\n",
       "      <td>0</td>\n",
       "      <td>31</td>\n",
       "    </tr>\n",
       "  </tbody>\n",
       "</table>\n",
       "</div>"
      ],
      "text/plain": [
       "  ID_Customer  Cod_Prod Cod_Fecha  Socio_Demo_01  Socio_Demo_02  \\\n",
       "0    A0000001       601   2007-05              5              4   \n",
       "1    A0000001       704   2013-04              5              4   \n",
       "2    A0000001      2501   2006-03              5              4   \n",
       "3    A0000001      2503   2006-03              5              4   \n",
       "4    A0000001      1011   2011-04              5              4   \n",
       "\n",
       "   Socio_Demo_03  Socio_Demo_04  Socio_Demo_05  Prod_int  \n",
       "0              3              1              0        11  \n",
       "1              3              1              0        14  \n",
       "2              3              1              0        75  \n",
       "3              3              1              0        77  \n",
       "4              3              1              0        31  "
      ]
     },
     "execution_count": 209,
     "metadata": {},
     "output_type": "execute_result"
    }
   ],
   "source": [
    "Filtereddf.head()"
   ]
  },
  {
   "cell_type": "code",
   "execution_count": 334,
   "metadata": {
    "collapsed": false
   },
   "outputs": [
    {
     "data": {
      "text/html": [
       "<div>\n",
       "<table border=\"1\" class=\"dataframe\">\n",
       "  <thead>\n",
       "    <tr style=\"text-align: right;\">\n",
       "      <th></th>\n",
       "      <th>ID_Customer</th>\n",
       "      <th>Cod_Prod</th>\n",
       "      <th>Cod_Fecha</th>\n",
       "      <th>Socio_Demo_01</th>\n",
       "      <th>Socio_Demo_02</th>\n",
       "      <th>Socio_Demo_03</th>\n",
       "      <th>Socio_Demo_04</th>\n",
       "      <th>Socio_Demo_05</th>\n",
       "      <th>Prod_int</th>\n",
       "      <th>for_testing</th>\n",
       "    </tr>\n",
       "  </thead>\n",
       "  <tbody>\n",
       "    <tr>\n",
       "      <th>4399</th>\n",
       "      <td>A0000815</td>\n",
       "      <td>101</td>\n",
       "      <td>2015-05</td>\n",
       "      <td>3</td>\n",
       "      <td>5</td>\n",
       "      <td>5</td>\n",
       "      <td>1</td>\n",
       "      <td>3</td>\n",
       "      <td>1</td>\n",
       "      <td>False</td>\n",
       "    </tr>\n",
       "    <tr>\n",
       "      <th>30389</th>\n",
       "      <td>A0004731</td>\n",
       "      <td>101</td>\n",
       "      <td>2013-08</td>\n",
       "      <td>3</td>\n",
       "      <td>5</td>\n",
       "      <td>1</td>\n",
       "      <td>1</td>\n",
       "      <td>1</td>\n",
       "      <td>1</td>\n",
       "      <td>False</td>\n",
       "    </tr>\n",
       "    <tr>\n",
       "      <th>50808</th>\n",
       "      <td>A0009160</td>\n",
       "      <td>101</td>\n",
       "      <td>2016-04</td>\n",
       "      <td>5</td>\n",
       "      <td>5</td>\n",
       "      <td>1</td>\n",
       "      <td>1</td>\n",
       "      <td>0</td>\n",
       "      <td>1</td>\n",
       "      <td>False</td>\n",
       "    </tr>\n",
       "    <tr>\n",
       "      <th>69852</th>\n",
       "      <td>A0012679</td>\n",
       "      <td>101</td>\n",
       "      <td>2013-04</td>\n",
       "      <td>4</td>\n",
       "      <td>5</td>\n",
       "      <td>1</td>\n",
       "      <td>1</td>\n",
       "      <td>2</td>\n",
       "      <td>1</td>\n",
       "      <td>False</td>\n",
       "    </tr>\n",
       "    <tr>\n",
       "      <th>198175</th>\n",
       "      <td>A0039581</td>\n",
       "      <td>101</td>\n",
       "      <td>2015-07</td>\n",
       "      <td>4</td>\n",
       "      <td>5</td>\n",
       "      <td>1</td>\n",
       "      <td>1</td>\n",
       "      <td>3</td>\n",
       "      <td>1</td>\n",
       "      <td>False</td>\n",
       "    </tr>\n",
       "  </tbody>\n",
       "</table>\n",
       "</div>"
      ],
      "text/plain": [
       "       ID_Customer  Cod_Prod Cod_Fecha  Socio_Demo_01  Socio_Demo_02  \\\n",
       "4399      A0000815       101   2015-05              3              5   \n",
       "30389     A0004731       101   2013-08              3              5   \n",
       "50808     A0009160       101   2016-04              5              5   \n",
       "69852     A0012679       101   2013-04              4              5   \n",
       "198175    A0039581       101   2015-07              4              5   \n",
       "\n",
       "        Socio_Demo_03  Socio_Demo_04  Socio_Demo_05  Prod_int for_testing  \n",
       "4399                5              1              3         1       False  \n",
       "30389               1              1              1         1       False  \n",
       "50808               1              1              0         1       False  \n",
       "69852               1              1              2         1       False  \n",
       "198175              1              1              3         1       False  "
      ]
     },
     "execution_count": 334,
     "metadata": {},
     "output_type": "execute_result"
    }
   ],
   "source": [
    "Filtereddf[Filtereddf.Cod_Prod == 101].head()"
   ]
  },
  {
   "cell_type": "code",
   "execution_count": 338,
   "metadata": {
    "collapsed": false
   },
   "outputs": [
    {
     "data": {
      "text/plain": [
       "array(['A0000001', 'A0000002', 'A0000003', ..., 'A0676367', 'A0676369',\n",
       "       'A0676370'], dtype=object)"
      ]
     },
     "execution_count": 338,
     "metadata": {},
     "output_type": "execute_result"
    }
   ],
   "source": [
    "Validusers\n"
   ]
  },
  {
   "cell_type": "code",
   "execution_count": 349,
   "metadata": {
    "collapsed": false
   },
   "outputs": [
    {
     "name": "stdout",
     "output_type": "stream",
     "text": [
      "Users for test:  (655921, 10)\n",
      "Users for train:  (2621183, 10)\n"
     ]
    }
   ],
   "source": [
    "#Divide the clients in training not training\n",
    "\n",
    "Validusers= Filtereddf['ID_Customer'].unique()\n",
    "users_for_test = np.random.choice(Validusers, size= int(len(Validusers)*0.2), replace= False)\n",
    "data_test = Filtereddf.query('ID_Customer in @users_for_test')\n",
    "data_train = Filtereddf.query('ID_Customer not in @users_for_test')\n",
    "print 'Users for test: ', data_test.shape\n",
    "print 'Users for train: ', data_train.shape"
   ]
  },
  {
   "cell_type": "code",
   "execution_count": 354,
   "metadata": {
    "collapsed": true
   },
   "outputs": [],
   "source": []
  },
  {
   "cell_type": "code",
   "execution_count": 350,
   "metadata": {
    "collapsed": false
   },
   "outputs": [],
   "source": [
    "historial_users_train=data_train.groupby(['ID_Customer', 'Prod_int'])['Cod_Fecha'].first()\n",
    "historial_users_test= data_test.groupby(['ID_Customer', 'Prod_int'])['Cod_Fecha'].first()"
   ]
  },
  {
   "cell_type": "code",
   "execution_count": 352,
   "metadata": {
    "collapsed": false
   },
   "outputs": [
    {
     "data": {
      "text/plain": [
       "ID_Customer  Prod_int\n",
       "A0000001     11          2007-05\n",
       "             14          2013-04\n",
       "             31          2011-04\n",
       "             75          2006-03\n",
       "             77          2006-03\n",
       "Name: Cod_Fecha, dtype: object"
      ]
     },
     "execution_count": 352,
     "metadata": {},
     "output_type": "execute_result"
    }
   ],
   "source": [
    "historial_users_train.head()"
   ]
  },
  {
   "cell_type": "code",
   "execution_count": 218,
   "metadata": {
    "collapsed": false
   },
   "outputs": [],
   "source": [
    "#Sort by fecha and convert indices to a sequences of list\n",
    "\n",
    "historial_users_train.sort_values(inplace = True)\n",
    "historial_users_test.sort_values(inplace = True)"
   ]
  },
  {
   "cell_type": "code",
   "execution_count": 355,
   "metadata": {
    "collapsed": false
   },
   "outputs": [],
   "source": [
    "X_train = historial_users_train.reset_index().groupby('ID_Customer')['Prod_int'].apply(np.array).values.tolist()\n",
    "X_test = historial_users_test.reset_index().groupby('ID_Customer')['Prod_int'].apply(np.array).values.tolist()"
   ]
  },
  {
   "cell_type": "code",
   "execution_count": 357,
   "metadata": {
    "collapsed": false
   },
   "outputs": [],
   "source": [
    "#Dividimos entre X_train i y_train # SOLO EJECUTAR UNA VEZ BORRA COSAS\n",
    "#Copy the last product to the target and then delete\n",
    "\n",
    "X_traindel= np.copy(X_train)\n",
    "X_testdel = np.copy(X_test)\n",
    "y_train=np.zeros(len(X_train), dtype=int)\n",
    "y_test=np.zeros(len(X_test), dtype=int)\n",
    "\n",
    "i=0\n",
    "for hist in X_train:\n",
    "    y_train[i]=hist[-1:]\n",
    "    X_traindel[i]= np.delete(X_train[i], X_train[i].size-1)\n",
    "    i=i+1\n",
    "i=0\n",
    "for hist in X_test:\n",
    "    y_test[i]=hist[-1:]\n",
    "    X_testdel[i]= np.delete(X_test[i], X_test[i].size-1)\n",
    "    i=i+1"
   ]
  },
  {
   "cell_type": "code",
   "execution_count": 358,
   "metadata": {
    "collapsed": false
   },
   "outputs": [
    {
     "name": "stdout",
     "output_type": "stream",
     "text": [
      "Historial Usuario (en Train):  199113\n",
      "[ 5  6 11]\n",
      "11\n",
      "[5 6]\n",
      "Historial Usuario (en Train):  296388\n",
      "[ 5  6 11 69 72]\n",
      "72\n",
      "[ 5  6 11 69]\n",
      "Historial Usuario (en Train):  116020\n",
      "[ 5  6 11 14 16 92 93 94]\n",
      "94\n",
      "[ 5  6 11 14 16 92 93]\n",
      "Historial Usuario (en test):  67755\n",
      "[ 6 11 73 79 84 92 94]\n",
      "94\n",
      "[ 6 11 73 79 84 92]\n",
      "Historial Usuario (en test):  83623\n",
      "[ 5  6 11 14]\n",
      "14\n",
      "[ 5  6 11]\n",
      "Historial Usuario (en test):  98532\n",
      "[ 5  6 11 72 73 75 77]\n",
      "77\n",
      "[ 5  6 11 72 73 75]\n"
     ]
    }
   ],
   "source": [
    "Validusers= Filtereddf.ID_Customer.unique()\n",
    "for i in np.random.choice(np.arange(len(X_train)), size=3):\n",
    "    print 'Historial Usuario (en Train): ', i\n",
    "    print X_train[i]\n",
    "    print y_train[i]\n",
    "    print X_traindel[i]\n",
    "for i in np.random.choice(np.arange(len(X_test)), size=3):\n",
    "    print 'Historial Usuario (en test): ', i\n",
    "    print X_train[i]\n",
    "    print y_train[i]\n",
    "    print X_traindel[i]\n",
    "\n",
    "  "
   ]
  },
  {
   "cell_type": "markdown",
   "metadata": {},
   "source": [
    "Parece que todo esta en orden. Hemos creado el set de train i las labels que tiene que dar.\n",
    "\n",
    "We shall now create the MLP model and fit it.\n",
    "\n",
    "First we shall explore our training set. "
   ]
  },
  {
   "cell_type": "code",
   "execution_count": 359,
   "metadata": {
    "collapsed": false
   },
   "outputs": [
    {
     "name": "stdout",
     "output_type": "stream",
     "text": [
      "Number of product sequences:  482299\n",
      "Number of last objects: 482299\n"
     ]
    }
   ],
   "source": [
    "#Hacemos copia porque habra que jugar un poco\n",
    "X_train=np.copy(X_traindel)\n",
    "X_test=np.copy(X_testdel)\n",
    "print 'Number of product sequences: ', len(X_train)\n",
    "print 'Number of last objects:', y_train.size"
   ]
  },
  {
   "cell_type": "code",
   "execution_count": 360,
   "metadata": {
    "collapsed": false,
    "scrolled": true
   },
   "outputs": [
    {
     "name": "stdout",
     "output_type": "stream",
     "text": [
      "Mean lenght:  4.43476764414 Std:  3.0018445685\n"
     ]
    },
    {
     "data": {
      "image/png": "[encoded data removed]",
      "text/plain": [
       "<matplotlib.figure.Figure at 0x2705fdb10>"
      ]
     },
     "metadata": {},
     "output_type": "display_data"
    }
   ],
   "source": [
    "#Sumarize sequence lenght\n",
    "size= map(len, X_train) #Applies function (len) to the sublists of X\n",
    "print 'Mean lenght: ', np.mean(size), 'Std: ', np.std(size)\n",
    "pyplot.boxplot(size)\n",
    "pyplot.ylim(ymax=15)\n",
    "pyplot.show()"
   ]
  },
  {
   "cell_type": "markdown",
   "metadata": {},
   "source": [
    "The mean is 4.43 products with a std of 3 products, the median is 4 products. It is clear that we can get the full purchase historic for most users for sequences with a fixed lenght of 6.\n",
    "\n",
    "Let's start building our model:"
   ]
  },
  {
   "cell_type": "code",
   "execution_count": 361,
   "metadata": {
    "collapsed": false
   },
   "outputs": [],
   "source": [
    "from keras.models import Sequential\n",
    "from keras.layers import Dense, Flatten\n",
    "from keras.layers.embeddings import Embedding\n",
    "from keras.preprocessing import sequence\n",
    "#Fix randome seed\n",
    "seed=7\n",
    "np.random.seed(seed)"
   ]
  },
  {
   "cell_type": "code",
   "execution_count": 362,
   "metadata": {
    "collapsed": false
   },
   "outputs": [],
   "source": [
    "#Truncate or pad the sequences into maximum fixe lenght of 6\n",
    "max_products=6\n",
    "X_train = sequence.pad_sequences(X_train, maxlen=max_products)\n",
    "X_test = sequence.pad_sequences(X_test, maxlen= max_products)"
   ]
  },
  {
   "cell_type": "code",
   "execution_count": 365,
   "metadata": {
    "collapsed": false
   },
   "outputs": [
    {
     "data": {
      "text/plain": [
       "'2013-04'"
      ]
     },
     "execution_count": 365,
     "metadata": {},
     "output_type": "execute_result"
    }
   ],
   "source": [
    "historial_us"
   ]
  },
  {
   "cell_type": "code",
   "execution_count": 366,
   "metadata": {
    "collapsed": false,
    "scrolled": true
   },
   "outputs": [
    {
     "name": "stdout",
     "output_type": "stream",
     "text": [
      "(482299, 6)\n",
      "(120574, 6)\n",
      "[ 0  0 11 14 31 75]\n"
     ]
    }
   ],
   "source": [
    "print X_train.shape\n",
    "print X_test.shape\n",
    "print X_train[0]"
   ]
  },
  {
   "cell_type": "code",
   "execution_count": 380,
   "metadata": {
    "collapsed": false,
    "scrolled": false
   },
   "outputs": [
    {
     "name": "stdout",
     "output_type": "stream",
     "text": [
      "Classes: \n",
      "(73,)\n",
      "(80,)\n"
     ]
    }
   ],
   "source": [
    "print 'Classes: '\n",
    "print np.unique(y_test).shape\n",
    "print np.unique(y_train).shape"
   ]
  },
  {
   "cell_type": "code",
   "execution_count": 385,
   "metadata": {
    "collapsed": false
   },
   "outputs": [
    {
     "name": "stdout",
     "output_type": "stream",
     "text": [
      "6\n"
     ]
    }
   ],
   "source": [
    "print max_products"
   ]
  },
  {
   "cell_type": "code",
   "execution_count": 367,
   "metadata": {
    "collapsed": false
   },
   "outputs": [
    {
     "name": "stdout",
     "output_type": "stream",
     "text": [
      "Vocabulary Size:  94\n"
     ]
    }
   ],
   "source": [
    "top_product=np.max(Filtereddf.Prod_int)\n",
    "print 'Vocabulary Size: ', top_product"
   ]
  },
  {
   "cell_type": "code",
   "execution_count": 387,
   "metadata": {
    "collapsed": false,
    "scrolled": true
   },
   "outputs": [
    {
     "name": "stdout",
     "output_type": "stream",
     "text": [
      "____________________________________________________________________________________________________\n",
      "Layer (type)                     Output Shape          Param #     Connected to                     \n",
      "====================================================================================================\n",
      "embedding_7 (Embedding)          (None, 6, 10)         940         embedding_input_7[0][0]          \n",
      "____________________________________________________________________________________________________\n",
      "flatten_7 (Flatten)              (None, 60)            0           embedding_7[0][0]                \n",
      "____________________________________________________________________________________________________\n",
      "dense_22 (Dense)                 (None, 200)           12200       flatten_7[0][0]                  \n",
      "____________________________________________________________________________________________________\n",
      "dense_23 (Dense)                 (None, 200)           40200       dense_22[0][0]                   \n",
      "____________________________________________________________________________________________________\n",
      "dense_24 (Dense)                 (None, 100)           20100       dense_23[0][0]                   \n",
      "____________________________________________________________________________________________________\n",
      "dense_25 (Dense)                 (None, 95)            9595        dense_24[0][0]                   \n",
      "====================================================================================================\n",
      "Total params: 83,035\n",
      "Trainable params: 83,035\n",
      "Non-trainable params: 0\n",
      "____________________________________________________________________________________________________\n",
      "None\n"
     ]
    }
   ],
   "source": [
    "#Create the model:\n",
    "vsdim = 10 #Dimension del espacio N-vectorial\n",
    "model = Sequential()\n",
    "model.add(Embedding(94 , vsdim, input_length=max_products))\n",
    "model.add(Flatten())\n",
    "model.add(Dense(200, activation='relu'))\n",
    "model.add(Dense(200,activation='relu'))\n",
    "model.add(Dense(100, activation ='relu'))\n",
    "model.add(Dense(95, activation='sigmoid'))\n",
    "model.compile(loss='categorical_crossentropy', optimizer='adam', metrics=['accuracy'])\n",
    "print(model.summary())"
   ]
  },
  {
   "cell_type": "code",
   "execution_count": 369,
   "metadata": {
    "collapsed": true
   },
   "outputs": [],
   "source": [
    "#Transformamos \n",
    "from keras.utils.np_utils import to_categorical\n",
    "\n",
    "y_cat_train = to_categorical(y_train, nb_classes=None)\n",
    "y_cat_test = to_categorical(y_test, nb_classes=None)"
   ]
  },
  {
   "cell_type": "code",
   "execution_count": 378,
   "metadata": {
    "collapsed": false
   },
   "outputs": [
    {
     "name": "stdout",
     "output_type": "stream",
     "text": [
      "14\n",
      "[ 0.  0.  0.  0.  0.  0.  0.  0.  0.  0.  0.  0.  0.  0.  1.  0.  0.  0.\n",
      "  0.  0.  0.  0.  0.  0.  0.  0.  0.  0.  0.  0.  0.  0.  0.  0.  0.  0.\n",
      "  0.  0.  0.  0.  0.  0.  0.  0.  0.  0.  0.  0.  0.  0.  0.  0.  0.  0.\n",
      "  0.  0.  0.  0.  0.  0.  0.  0.  0.  0.  0.  0.  0.  0.  0.  0.  0.  0.\n",
      "  0.  0.  0.  0.  0.  0.  0.  0.  0.  0.  0.  0.  0.  0.  0.  0.  0.  0.\n",
      "  0.  0.  0.  0.  0.]\n"
     ]
    }
   ],
   "source": [
    "print"
   ]
  },
  {
   "cell_type": "code",
   "execution_count": 384,
   "metadata": {
    "collapsed": false
   },
   "outputs": [
    {
     "name": "stdout",
     "output_type": "stream",
     "text": [
      "(482299, 95)\n",
      "(482299, 6)\n"
     ]
    }
   ],
   "source": [
    "print y_cat_train.shape\n",
    "print X_train.shape"
   ]
  },
  {
   "cell_type": "code",
   "execution_count": 391,
   "metadata": {
    "collapsed": false
   },
   "outputs": [
    {
     "name": "stdout",
     "output_type": "stream",
     "text": [
      "Train on 482299 samples, validate on 120574 samples\n",
      "Epoch 1/15\n",
      "482299/482299 [==============================] - 27s - loss: 0.8777 - acc: 0.7485 - val_loss: 0.8826 - val_acc: 0.7481\n",
      "Epoch 2/15\n",
      "482299/482299 [==============================] - 26s - loss: 0.8761 - acc: 0.7489 - val_loss: 0.8833 - val_acc: 0.7473\n",
      "Epoch 3/15\n",
      "482299/482299 [==============================] - 29s - loss: 0.8745 - acc: 0.7490 - val_loss: 0.8844 - val_acc: 0.7482\n",
      "Epoch 4/15\n",
      "482299/482299 [==============================] - 30s - loss: 0.8729 - acc: 0.7494 - val_loss: 0.8855 - val_acc: 0.7482\n",
      "Epoch 5/15\n",
      "482299/482299 [==============================] - 27s - loss: 0.8716 - acc: 0.7494 - val_loss: 0.8863 - val_acc: 0.7483\n",
      "Epoch 6/15\n",
      "482299/482299 [==============================] - 28s - loss: 0.8699 - acc: 0.7499 - val_loss: 0.8861 - val_acc: 0.7483\n",
      "Epoch 7/15\n",
      "482299/482299 [==============================] - 28s - loss: 0.8685 - acc: 0.7500 - val_loss: 0.8875 - val_acc: 0.7479\n",
      "Epoch 8/15\n",
      "482299/482299 [==============================] - 28s - loss: 0.8669 - acc: 0.7501 - val_loss: 0.8907 - val_acc: 0.7478\n",
      "Epoch 9/15\n",
      "482299/482299 [==============================] - 25s - loss: 0.8656 - acc: 0.7506 - val_loss: 0.8884 - val_acc: 0.7470\n",
      "Epoch 10/15\n",
      "482299/482299 [==============================] - 27s - loss: 0.8641 - acc: 0.7508 - val_loss: 0.8927 - val_acc: 0.7477\n",
      "Epoch 11/15\n",
      "482299/482299 [==============================] - 25s - loss: nan - acc: 0.1325 - val_loss: nan - val_acc: 0.0000e+00\n",
      "Epoch 12/15\n",
      "482299/482299 [==============================] - 28s - loss: nan - acc: 0.0000e+00 - val_loss: nan - val_acc: 0.0000e+00\n",
      "Epoch 13/15\n",
      "482299/482299 [==============================] - 24s - loss: nan - acc: 0.0000e+00 - val_loss: nan - val_acc: 0.0000e+00\n",
      "Epoch 14/15\n",
      "482299/482299 [==============================] - 25s - loss: nan - acc: 0.0000e+00 - val_loss: nan - val_acc: 0.0000e+00\n",
      "Epoch 15/15\n",
      "482299/482299 [==============================] - 24s - loss: nan - acc: 0.0000e+00 - val_loss: nan - val_acc: 0.0000e+00\n",
      "Accuracy:  0.0 %\n"
     ]
    }
   ],
   "source": [
    "#Fit the model\n",
    "\n",
    "model.fit(X_train, y_cat_train, validation_data=(X_test, y_cat_test), nb_epoch=15, batch_size=128, verbose=1)\n",
    "\n",
    "scores=model.evaluate(X_test, y_cat_test, verbose=0)\n",
    "\n",
    "print 'Accuracy: ', (scores[1]*100), '%'"
   ]
  },
  {
   "cell_type": "code",
   "execution_count": null,
   "metadata": {
    "collapsed": true
   },
   "outputs": [],
   "source": []
  },
  {
   "cell_type": "code",
   "execution_count": null,
   "metadata": {
    "collapsed": true
   },
   "outputs": [],
   "source": []
  }
 ],
 "metadata": {
  "anaconda-cloud": {},
  "kernelspec": {
   "display_name": "Python [conda root]",
   "language": "python",
   "name": "conda-root-py"
  },
  "language_info": {
   "codemirror_mode": {
    "name": "ipython",
    "version": 2
   },
   "file_extension": ".py",
   "mimetype": "text/x-python",
   "name": "python",
   "nbconvert_exporter": "python",
   "pygments_lexer": "ipython2",
   "version": "2.7.12"
  }
 },
 "nbformat": 4,
 "nbformat_minor": 1
}
