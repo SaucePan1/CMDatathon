{
 "cells": [
  {
   "cell_type": "markdown",
   "metadata": {},
   "source": [
    "# XGBoost model building"
   ]
  },
  {
   "cell_type": "code",
   "execution_count": 1,
   "metadata": {
    "collapsed": false
   },
   "outputs": [],
   "source": [
    "import numpy as np\n",
    "import pandas as pd\n",
    "import time"
   ]
  },
  {
   "cell_type": "code",
   "execution_count": 2,
   "metadata": {
    "collapsed": true
   },
   "outputs": [],
   "source": [
    "data = pd.read_csv('train2.txt',sep='|')"
   ]
  },
  {
   "cell_type": "code",
   "execution_count": 3,
   "metadata": {
    "collapsed": false
   },
   "outputs": [
    {
     "data": {
      "text/html": [
       "<div>\n",
       "<table border=\"1\" class=\"dataframe\">\n",
       "  <thead>\n",
       "    <tr style=\"text-align: right;\">\n",
       "      <th></th>\n",
       "      <th>ID_Customer</th>\n",
       "      <th>Cod_Prod</th>\n",
       "      <th>Cod_Fecha</th>\n",
       "      <th>Socio_Demo_01</th>\n",
       "      <th>Socio_Demo_02</th>\n",
       "      <th>Socio_Demo_03</th>\n",
       "      <th>Socio_Demo_04</th>\n",
       "      <th>Socio_Demo_05</th>\n",
       "    </tr>\n",
       "  </thead>\n",
       "  <tbody>\n",
       "    <tr>\n",
       "      <th>0</th>\n",
       "      <td>A0000001</td>\n",
       "      <td>601</td>\n",
       "      <td>2007-05</td>\n",
       "      <td>5</td>\n",
       "      <td>4</td>\n",
       "      <td>3</td>\n",
       "      <td>1</td>\n",
       "      <td>0</td>\n",
       "    </tr>\n",
       "    <tr>\n",
       "      <th>1</th>\n",
       "      <td>A0000001</td>\n",
       "      <td>704</td>\n",
       "      <td>2013-04</td>\n",
       "      <td>5</td>\n",
       "      <td>4</td>\n",
       "      <td>3</td>\n",
       "      <td>1</td>\n",
       "      <td>0</td>\n",
       "    </tr>\n",
       "    <tr>\n",
       "      <th>2</th>\n",
       "      <td>A0000001</td>\n",
       "      <td>2501</td>\n",
       "      <td>2006-03</td>\n",
       "      <td>5</td>\n",
       "      <td>4</td>\n",
       "      <td>3</td>\n",
       "      <td>1</td>\n",
       "      <td>0</td>\n",
       "    </tr>\n",
       "    <tr>\n",
       "      <th>3</th>\n",
       "      <td>A0000001</td>\n",
       "      <td>2503</td>\n",
       "      <td>2006-03</td>\n",
       "      <td>5</td>\n",
       "      <td>4</td>\n",
       "      <td>3</td>\n",
       "      <td>1</td>\n",
       "      <td>0</td>\n",
       "    </tr>\n",
       "    <tr>\n",
       "      <th>4</th>\n",
       "      <td>A0000001</td>\n",
       "      <td>1011</td>\n",
       "      <td>2011-04</td>\n",
       "      <td>5</td>\n",
       "      <td>4</td>\n",
       "      <td>3</td>\n",
       "      <td>1</td>\n",
       "      <td>0</td>\n",
       "    </tr>\n",
       "  </tbody>\n",
       "</table>\n",
       "</div>"
      ],
      "text/plain": [
       "  ID_Customer  Cod_Prod Cod_Fecha  Socio_Demo_01  Socio_Demo_02  \\\n",
       "0    A0000001       601   2007-05              5              4   \n",
       "1    A0000001       704   2013-04              5              4   \n",
       "2    A0000001      2501   2006-03              5              4   \n",
       "3    A0000001      2503   2006-03              5              4   \n",
       "4    A0000001      1011   2011-04              5              4   \n",
       "\n",
       "   Socio_Demo_03  Socio_Demo_04  Socio_Demo_05  \n",
       "0              3              1              0  \n",
       "1              3              1              0  \n",
       "2              3              1              0  \n",
       "3              3              1              0  \n",
       "4              3              1              0  "
      ]
     },
     "execution_count": 3,
     "metadata": {},
     "output_type": "execute_result"
    }
   ],
   "source": [
    "data.head()"
   ]
  },
  {
   "cell_type": "code",
   "execution_count": 6,
   "metadata": {
    "collapsed": false
   },
   "outputs": [
    {
     "data": {
      "text/html": [
       "<div>\n",
       "<table border=\"1\" class=\"dataframe\">\n",
       "  <thead>\n",
       "    <tr style=\"text-align: right;\">\n",
       "      <th></th>\n",
       "      <th>ID_Customer</th>\n",
       "      <th>Cod_Prod</th>\n",
       "      <th>Cod_Fecha</th>\n",
       "      <th>Socio_Demo_01</th>\n",
       "      <th>Socio_Demo_02</th>\n",
       "      <th>Socio_Demo_03</th>\n",
       "      <th>Socio_Demo_04</th>\n",
       "      <th>Socio_Demo_05</th>\n",
       "      <th>Year</th>\n",
       "      <th>Month</th>\n",
       "    </tr>\n",
       "  </thead>\n",
       "  <tbody>\n",
       "    <tr>\n",
       "      <th>0</th>\n",
       "      <td>A0000001</td>\n",
       "      <td>601</td>\n",
       "      <td>2007-05</td>\n",
       "      <td>5</td>\n",
       "      <td>4</td>\n",
       "      <td>3</td>\n",
       "      <td>1</td>\n",
       "      <td>0</td>\n",
       "      <td>2007</td>\n",
       "      <td>05</td>\n",
       "    </tr>\n",
       "    <tr>\n",
       "      <th>1</th>\n",
       "      <td>A0000001</td>\n",
       "      <td>704</td>\n",
       "      <td>2013-04</td>\n",
       "      <td>5</td>\n",
       "      <td>4</td>\n",
       "      <td>3</td>\n",
       "      <td>1</td>\n",
       "      <td>0</td>\n",
       "      <td>2013</td>\n",
       "      <td>04</td>\n",
       "    </tr>\n",
       "    <tr>\n",
       "      <th>2</th>\n",
       "      <td>A0000001</td>\n",
       "      <td>2501</td>\n",
       "      <td>2006-03</td>\n",
       "      <td>5</td>\n",
       "      <td>4</td>\n",
       "      <td>3</td>\n",
       "      <td>1</td>\n",
       "      <td>0</td>\n",
       "      <td>2006</td>\n",
       "      <td>03</td>\n",
       "    </tr>\n",
       "    <tr>\n",
       "      <th>3</th>\n",
       "      <td>A0000001</td>\n",
       "      <td>2503</td>\n",
       "      <td>2006-03</td>\n",
       "      <td>5</td>\n",
       "      <td>4</td>\n",
       "      <td>3</td>\n",
       "      <td>1</td>\n",
       "      <td>0</td>\n",
       "      <td>2006</td>\n",
       "      <td>03</td>\n",
       "    </tr>\n",
       "    <tr>\n",
       "      <th>4</th>\n",
       "      <td>A0000001</td>\n",
       "      <td>1011</td>\n",
       "      <td>2011-04</td>\n",
       "      <td>5</td>\n",
       "      <td>4</td>\n",
       "      <td>3</td>\n",
       "      <td>1</td>\n",
       "      <td>0</td>\n",
       "      <td>2011</td>\n",
       "      <td>04</td>\n",
       "    </tr>\n",
       "  </tbody>\n",
       "</table>\n",
       "</div>"
      ],
      "text/plain": [
       "  ID_Customer  Cod_Prod Cod_Fecha  Socio_Demo_01  Socio_Demo_02  \\\n",
       "0    A0000001       601   2007-05              5              4   \n",
       "1    A0000001       704   2013-04              5              4   \n",
       "2    A0000001      2501   2006-03              5              4   \n",
       "3    A0000001      2503   2006-03              5              4   \n",
       "4    A0000001      1011   2011-04              5              4   \n",
       "\n",
       "   Socio_Demo_03  Socio_Demo_04  Socio_Demo_05  Year Month  \n",
       "0              3              1              0  2007    05  \n",
       "1              3              1              0  2013    04  \n",
       "2              3              1              0  2006    03  \n",
       "3              3              1              0  2006    03  \n",
       "4              3              1              0  2011    04  "
      ]
     },
     "execution_count": 6,
     "metadata": {},
     "output_type": "execute_result"
    }
   ],
   "source": [
    "data2 = data.copy(deep=True)\n",
    "data2['Year'] = data2.Cod_Fecha.apply(lambda x: x[:4])\n",
    "data2['Month'] = data2.Cod_Fecha.apply(lambda x: x[-2:])\n",
    "data2.head()"
   ]
  },
  {
   "cell_type": "markdown",
   "metadata": {},
   "source": [
    "# Transformed data considering only the last N years (when most products are available)"
   ]
  },
  {
   "cell_type": "code",
   "execution_count": 7,
   "metadata": {
    "collapsed": true
   },
   "outputs": [],
   "source": [
    "N_YEARS=2017-1990"
   ]
  },
  {
   "cell_type": "code",
   "execution_count": 8,
   "metadata": {
    "collapsed": true
   },
   "outputs": [],
   "source": [
    "dataLastN = data2.copy(deep=True)\n",
    "dataLastN.Year = dataLastN.Year.astype(int)\n",
    "dataLastN = dataLastN[dataLastN.Year >= 2017-N_YEARS]"
   ]
  },
  {
   "cell_type": "markdown",
   "metadata": {},
   "source": [
    "# Select the clients which are useful for a supervised classifier, that is, those with a recent product purchased"
   ]
  },
  {
   "cell_type": "code",
   "execution_count": 9,
   "metadata": {
    "collapsed": true
   },
   "outputs": [],
   "source": [
    "#Sort data by date\n",
    "dataLastN.sort_values(by='Cod_Fecha',inplace=True)"
   ]
  },
  {
   "cell_type": "code",
   "execution_count": 10,
   "metadata": {
    "collapsed": false
   },
   "outputs": [
    {
     "data": {
      "text/html": [
       "<div>\n",
       "<table border=\"1\" class=\"dataframe\">\n",
       "  <thead>\n",
       "    <tr style=\"text-align: right;\">\n",
       "      <th></th>\n",
       "      <th>Cod_Prod</th>\n",
       "      <th>Cod_Fecha</th>\n",
       "      <th>Socio_Demo_01</th>\n",
       "      <th>Socio_Demo_02</th>\n",
       "      <th>Socio_Demo_03</th>\n",
       "      <th>Socio_Demo_04</th>\n",
       "      <th>Socio_Demo_05</th>\n",
       "      <th>Year</th>\n",
       "      <th>Month</th>\n",
       "    </tr>\n",
       "    <tr>\n",
       "      <th>ID_Customer</th>\n",
       "      <th></th>\n",
       "      <th></th>\n",
       "      <th></th>\n",
       "      <th></th>\n",
       "      <th></th>\n",
       "      <th></th>\n",
       "      <th></th>\n",
       "      <th></th>\n",
       "      <th></th>\n",
       "    </tr>\n",
       "  </thead>\n",
       "  <tbody>\n",
       "    <tr>\n",
       "      <th>A0000001</th>\n",
       "      <td>704</td>\n",
       "      <td>2013-04</td>\n",
       "      <td>5</td>\n",
       "      <td>4</td>\n",
       "      <td>3</td>\n",
       "      <td>1</td>\n",
       "      <td>0</td>\n",
       "      <td>2013</td>\n",
       "      <td>04</td>\n",
       "    </tr>\n",
       "    <tr>\n",
       "      <th>A0000002</th>\n",
       "      <td>9992</td>\n",
       "      <td>2015-02</td>\n",
       "      <td>5</td>\n",
       "      <td>5</td>\n",
       "      <td>1</td>\n",
       "      <td>1</td>\n",
       "      <td>0</td>\n",
       "      <td>2015</td>\n",
       "      <td>02</td>\n",
       "    </tr>\n",
       "    <tr>\n",
       "      <th>A0000003</th>\n",
       "      <td>201</td>\n",
       "      <td>2016-02</td>\n",
       "      <td>5</td>\n",
       "      <td>5</td>\n",
       "      <td>5</td>\n",
       "      <td>2</td>\n",
       "      <td>0</td>\n",
       "      <td>2016</td>\n",
       "      <td>02</td>\n",
       "    </tr>\n",
       "    <tr>\n",
       "      <th>A0000004</th>\n",
       "      <td>2301</td>\n",
       "      <td>2016-05</td>\n",
       "      <td>5</td>\n",
       "      <td>5</td>\n",
       "      <td>3</td>\n",
       "      <td>1</td>\n",
       "      <td>0</td>\n",
       "      <td>2016</td>\n",
       "      <td>05</td>\n",
       "    </tr>\n",
       "    <tr>\n",
       "      <th>A0000006</th>\n",
       "      <td>2302</td>\n",
       "      <td>2015-05</td>\n",
       "      <td>5</td>\n",
       "      <td>5</td>\n",
       "      <td>3</td>\n",
       "      <td>1</td>\n",
       "      <td>0</td>\n",
       "      <td>2015</td>\n",
       "      <td>05</td>\n",
       "    </tr>\n",
       "  </tbody>\n",
       "</table>\n",
       "</div>"
      ],
      "text/plain": [
       "             Cod_Prod Cod_Fecha  Socio_Demo_01  Socio_Demo_02  Socio_Demo_03  \\\n",
       "ID_Customer                                                                    \n",
       "A0000001          704   2013-04              5              4              3   \n",
       "A0000002         9992   2015-02              5              5              1   \n",
       "A0000003          201   2016-02              5              5              5   \n",
       "A0000004         2301   2016-05              5              5              3   \n",
       "A0000006         2302   2015-05              5              5              3   \n",
       "\n",
       "             Socio_Demo_04  Socio_Demo_05  Year Month  \n",
       "ID_Customer                                            \n",
       "A0000001                 1              0  2013    04  \n",
       "A0000002                 1              0  2015    02  \n",
       "A0000003                 2              0  2016    02  \n",
       "A0000004                 1              0  2016    05  \n",
       "A0000006                 1              0  2015    05  "
      ]
     },
     "execution_count": 10,
     "metadata": {},
     "output_type": "execute_result"
    }
   ],
   "source": [
    "#Last product of every customer\n",
    "idAndLastProd = dataLastN.groupby('ID_Customer').last()\n",
    "idAndLastProd.head()"
   ]
  },
  {
   "cell_type": "code",
   "execution_count": 11,
   "metadata": {
    "collapsed": false
   },
   "outputs": [
    {
     "data": {
      "text/plain": [
       "(670160, 9)"
      ]
     },
     "execution_count": 11,
     "metadata": {},
     "output_type": "execute_result"
    }
   ],
   "source": [
    "idAndLastProd.shape"
   ]
  },
  {
   "cell_type": "code",
   "execution_count": 12,
   "metadata": {
    "collapsed": true
   },
   "outputs": [],
   "source": [
    "#Years from today in which last product is considered\n",
    "YEARS_LAST_PRODUCT = 5"
   ]
  },
  {
   "cell_type": "code",
   "execution_count": 13,
   "metadata": {
    "collapsed": false
   },
   "outputs": [
    {
     "name": "stdout",
     "output_type": "stream",
     "text": [
      "Clients with older products (they fall out of the classifier):  148053 22.0921869404 %\n",
      "Clients with recent products:  522107 77.9078130596 %\n"
     ]
    }
   ],
   "source": [
    "print 'Clients with older products (they fall out of the classifier): ', idAndLastProd[idAndLastProd.Year < 2017 - YEARS_LAST_PRODUCT].shape[0], idAndLastProd[idAndLastProd.Year < 2017 - YEARS_LAST_PRODUCT].shape[0]/float(idAndLastProd.shape[0])*100, '%'\n",
    "print 'Clients with recent products: ', idAndLastProd[idAndLastProd.Year >= 2017 - YEARS_LAST_PRODUCT].shape[0], idAndLastProd[idAndLastProd.Year >= 2017 - YEARS_LAST_PRODUCT].shape[0]/float(idAndLastProd.shape[0])*100, '%'"
   ]
  },
  {
   "cell_type": "code",
   "execution_count": 14,
   "metadata": {
    "collapsed": true
   },
   "outputs": [],
   "source": [
    "clients_sup = idAndLastProd[idAndLastProd.Year >= 2017 - YEARS_LAST_PRODUCT].index.values\n",
    "clients_unsup = idAndLastProd[idAndLastProd.Year < 2017 - YEARS_LAST_PRODUCT].index.values"
   ]
  },
  {
   "cell_type": "code",
   "execution_count": 15,
   "metadata": {
    "collapsed": true
   },
   "outputs": [],
   "source": [
    "#Returns the dataframe with the corresponding clients\n",
    "def selectClients(data,clients):\n",
    "    #df is a dataframe\n",
    "    #clients is an array of strings\n",
    "    df = pd.DataFrame(columns=data.columns.values)\n",
    "    df = data[data.ID_Customer.isin(clients)]\n",
    "    \n",
    "    return df"
   ]
  },
  {
   "cell_type": "code",
   "execution_count": 16,
   "metadata": {
    "collapsed": false
   },
   "outputs": [
    {
     "name": "stdout",
     "output_type": "stream",
     "text": [
      "(2935685, 10) 522107\n",
      "(361939, 10) 148053\n"
     ]
    }
   ],
   "source": [
    "data_sup = selectClients(dataLastN,clients_sup)\n",
    "print data_sup.shape, data_sup.ID_Customer.unique().size\n",
    "data_unsup = selectClients(dataLastN,clients_unsup)\n",
    "print data_unsup.shape, data_unsup.ID_Customer.unique().size"
   ]
  },
  {
   "cell_type": "markdown",
   "metadata": {},
   "source": [
    "## ID vs Products in last N years. Classifier input."
   ]
  },
  {
   "cell_type": "code",
   "execution_count": 17,
   "metadata": {
    "collapsed": false
   },
   "outputs": [],
   "source": [
    "colnames = data_sup.Cod_Prod.unique()\n",
    "colnames.sort()\n",
    "rownames = data_sup.ID_Customer.unique()\n",
    "rownames.sort()\n",
    "idVSProdLastN = pd.DataFrame(data=np.zeros((rownames.size,colnames.size)),columns=colnames,index=rownames,dtype=int)"
   ]
  },
  {
   "cell_type": "code",
   "execution_count": 18,
   "metadata": {
    "collapsed": false
   },
   "outputs": [
    {
     "data": {
      "text/plain": [
       "ID_Customer  Cod_Prod\n",
       "A0000001     601         1\n",
       "             704         1\n",
       "             1011        1\n",
       "             2501        1\n",
       "             2503        1\n",
       "A0000002     301         1\n",
       "             601         1\n",
       "             801         1\n",
       "             9992        1\n",
       "A0000003     201         1\n",
       "Name: Cod_Prod, dtype: int64"
      ]
     },
     "execution_count": 18,
     "metadata": {},
     "output_type": "execute_result"
    }
   ],
   "source": [
    "groupedDataLastN = data_sup.groupby(['ID_Customer','Cod_Prod'])['Cod_Prod'].count()\n",
    "groupedDataLastN.head(10)"
   ]
  },
  {
   "cell_type": "code",
   "execution_count": 19,
   "metadata": {
    "collapsed": false
   },
   "outputs": [
    {
     "data": {
      "text/plain": [
       "ID_Customer\n",
       "A0000001     704\n",
       "A0000002    9992\n",
       "A0000003     201\n",
       "A0000004    2301\n",
       "A0000006    2302\n",
       "Name: Cod_Prod, dtype: int64"
      ]
     },
     "execution_count": 19,
     "metadata": {},
     "output_type": "execute_result"
    }
   ],
   "source": [
    "lastProduct = data_sup.groupby('ID_Customer')['Cod_Prod'].last()\n",
    "lastProduct.head()"
   ]
  },
  {
   "cell_type": "markdown",
   "metadata": {},
   "source": [
    "### We put the last product to 0 in groupedDataLastN"
   ]
  },
  {
   "cell_type": "code",
   "execution_count": 20,
   "metadata": {
    "collapsed": false
   },
   "outputs": [
    {
     "data": {
      "text/plain": [
       "ID_Customer  Cod_Prod\n",
       "A0000001     601         1\n",
       "             704         0\n",
       "             1011        1\n",
       "             2501        1\n",
       "             2503        1\n",
       "A0000002     301         1\n",
       "             601         1\n",
       "             801         1\n",
       "             9992        0\n",
       "A0000003     201         0\n",
       "Name: Cod_Prod, dtype: int64"
      ]
     },
     "execution_count": 20,
     "metadata": {},
     "output_type": "execute_result"
    }
   ],
   "source": [
    "groupedDataLastN.loc[zip(lastProduct.index.values,lastProduct.values)] = 0\n",
    "groupedDataLastN.head(10)"
   ]
  },
  {
   "cell_type": "code",
   "execution_count": 21,
   "metadata": {
    "collapsed": false
   },
   "outputs": [
    {
     "data": {
      "text/html": [
       "<div>\n",
       "<table border=\"1\" class=\"dataframe\">\n",
       "  <thead>\n",
       "    <tr style=\"text-align: right;\">\n",
       "      <th></th>\n",
       "      <th>101</th>\n",
       "      <th>102</th>\n",
       "      <th>103</th>\n",
       "      <th>104</th>\n",
       "      <th>201</th>\n",
       "      <th>301</th>\n",
       "      <th>502</th>\n",
       "      <th>503</th>\n",
       "      <th>504</th>\n",
       "      <th>506</th>\n",
       "      <th>...</th>\n",
       "      <th>2706</th>\n",
       "      <th>2707</th>\n",
       "      <th>2801</th>\n",
       "      <th>2901</th>\n",
       "      <th>3001</th>\n",
       "      <th>3101</th>\n",
       "      <th>3401</th>\n",
       "      <th>9991</th>\n",
       "      <th>9992</th>\n",
       "      <th>9993</th>\n",
       "    </tr>\n",
       "  </thead>\n",
       "  <tbody>\n",
       "    <tr>\n",
       "      <th>A0000001</th>\n",
       "      <td>0</td>\n",
       "      <td>0</td>\n",
       "      <td>0</td>\n",
       "      <td>0</td>\n",
       "      <td>0</td>\n",
       "      <td>0</td>\n",
       "      <td>0</td>\n",
       "      <td>0</td>\n",
       "      <td>0</td>\n",
       "      <td>0</td>\n",
       "      <td>...</td>\n",
       "      <td>0</td>\n",
       "      <td>0</td>\n",
       "      <td>0</td>\n",
       "      <td>0</td>\n",
       "      <td>0</td>\n",
       "      <td>0</td>\n",
       "      <td>0</td>\n",
       "      <td>0</td>\n",
       "      <td>0</td>\n",
       "      <td>0</td>\n",
       "    </tr>\n",
       "    <tr>\n",
       "      <th>A0000002</th>\n",
       "      <td>0</td>\n",
       "      <td>0</td>\n",
       "      <td>0</td>\n",
       "      <td>0</td>\n",
       "      <td>0</td>\n",
       "      <td>1</td>\n",
       "      <td>0</td>\n",
       "      <td>0</td>\n",
       "      <td>0</td>\n",
       "      <td>0</td>\n",
       "      <td>...</td>\n",
       "      <td>0</td>\n",
       "      <td>0</td>\n",
       "      <td>0</td>\n",
       "      <td>0</td>\n",
       "      <td>0</td>\n",
       "      <td>0</td>\n",
       "      <td>0</td>\n",
       "      <td>0</td>\n",
       "      <td>0</td>\n",
       "      <td>0</td>\n",
       "    </tr>\n",
       "    <tr>\n",
       "      <th>A0000003</th>\n",
       "      <td>0</td>\n",
       "      <td>0</td>\n",
       "      <td>0</td>\n",
       "      <td>0</td>\n",
       "      <td>0</td>\n",
       "      <td>1</td>\n",
       "      <td>0</td>\n",
       "      <td>0</td>\n",
       "      <td>0</td>\n",
       "      <td>0</td>\n",
       "      <td>...</td>\n",
       "      <td>0</td>\n",
       "      <td>0</td>\n",
       "      <td>0</td>\n",
       "      <td>0</td>\n",
       "      <td>0</td>\n",
       "      <td>0</td>\n",
       "      <td>0</td>\n",
       "      <td>0</td>\n",
       "      <td>0</td>\n",
       "      <td>0</td>\n",
       "    </tr>\n",
       "    <tr>\n",
       "      <th>A0000004</th>\n",
       "      <td>0</td>\n",
       "      <td>0</td>\n",
       "      <td>0</td>\n",
       "      <td>0</td>\n",
       "      <td>1</td>\n",
       "      <td>1</td>\n",
       "      <td>0</td>\n",
       "      <td>0</td>\n",
       "      <td>0</td>\n",
       "      <td>0</td>\n",
       "      <td>...</td>\n",
       "      <td>0</td>\n",
       "      <td>0</td>\n",
       "      <td>0</td>\n",
       "      <td>0</td>\n",
       "      <td>0</td>\n",
       "      <td>0</td>\n",
       "      <td>0</td>\n",
       "      <td>0</td>\n",
       "      <td>0</td>\n",
       "      <td>0</td>\n",
       "    </tr>\n",
       "    <tr>\n",
       "      <th>A0000006</th>\n",
       "      <td>0</td>\n",
       "      <td>0</td>\n",
       "      <td>0</td>\n",
       "      <td>0</td>\n",
       "      <td>0</td>\n",
       "      <td>1</td>\n",
       "      <td>0</td>\n",
       "      <td>0</td>\n",
       "      <td>0</td>\n",
       "      <td>0</td>\n",
       "      <td>...</td>\n",
       "      <td>0</td>\n",
       "      <td>0</td>\n",
       "      <td>0</td>\n",
       "      <td>0</td>\n",
       "      <td>0</td>\n",
       "      <td>0</td>\n",
       "      <td>0</td>\n",
       "      <td>1</td>\n",
       "      <td>0</td>\n",
       "      <td>1</td>\n",
       "    </tr>\n",
       "  </tbody>\n",
       "</table>\n",
       "<p>5 rows × 94 columns</p>\n",
       "</div>"
      ],
      "text/plain": [
       "          101   102   103   104   201   301   502   503   504   506   ...   \\\n",
       "A0000001     0     0     0     0     0     0     0     0     0     0  ...    \n",
       "A0000002     0     0     0     0     0     1     0     0     0     0  ...    \n",
       "A0000003     0     0     0     0     0     1     0     0     0     0  ...    \n",
       "A0000004     0     0     0     0     1     1     0     0     0     0  ...    \n",
       "A0000006     0     0     0     0     0     1     0     0     0     0  ...    \n",
       "\n",
       "          2706  2707  2801  2901  3001  3101  3401  9991  9992  9993  \n",
       "A0000001     0     0     0     0     0     0     0     0     0     0  \n",
       "A0000002     0     0     0     0     0     0     0     0     0     0  \n",
       "A0000003     0     0     0     0     0     0     0     0     0     0  \n",
       "A0000004     0     0     0     0     0     0     0     0     0     0  \n",
       "A0000006     0     0     0     0     0     0     0     1     0     1  \n",
       "\n",
       "[5 rows x 94 columns]"
      ]
     },
     "execution_count": 21,
     "metadata": {},
     "output_type": "execute_result"
    }
   ],
   "source": [
    "#Save data on matrix\n",
    "for product in groupedDataLastN.index.levels[1].values:\n",
    "    columna = groupedDataLastN[:,product]\n",
    "    idVSProdLastN.loc[columna.index,product] = columna.values\n",
    "idVSProdLastN.head()"
   ]
  },
  {
   "cell_type": "code",
   "execution_count": 22,
   "metadata": {
    "collapsed": false
   },
   "outputs": [
    {
     "data": {
      "text/html": [
       "<div>\n",
       "<table border=\"1\" class=\"dataframe\">\n",
       "  <thead>\n",
       "    <tr style=\"text-align: right;\">\n",
       "      <th></th>\n",
       "      <th>Socio_Demo_01</th>\n",
       "      <th>Socio_Demo_02</th>\n",
       "      <th>Socio_Demo_03</th>\n",
       "      <th>Socio_Demo_04</th>\n",
       "      <th>Socio_Demo_05</th>\n",
       "    </tr>\n",
       "    <tr>\n",
       "      <th>ID_Customer</th>\n",
       "      <th></th>\n",
       "      <th></th>\n",
       "      <th></th>\n",
       "      <th></th>\n",
       "      <th></th>\n",
       "    </tr>\n",
       "  </thead>\n",
       "  <tbody>\n",
       "    <tr>\n",
       "      <th>A0000001</th>\n",
       "      <td>5</td>\n",
       "      <td>4</td>\n",
       "      <td>3</td>\n",
       "      <td>1</td>\n",
       "      <td>0</td>\n",
       "    </tr>\n",
       "    <tr>\n",
       "      <th>A0000002</th>\n",
       "      <td>5</td>\n",
       "      <td>5</td>\n",
       "      <td>1</td>\n",
       "      <td>1</td>\n",
       "      <td>0</td>\n",
       "    </tr>\n",
       "    <tr>\n",
       "      <th>A0000003</th>\n",
       "      <td>5</td>\n",
       "      <td>5</td>\n",
       "      <td>5</td>\n",
       "      <td>2</td>\n",
       "      <td>0</td>\n",
       "    </tr>\n",
       "    <tr>\n",
       "      <th>A0000004</th>\n",
       "      <td>5</td>\n",
       "      <td>5</td>\n",
       "      <td>3</td>\n",
       "      <td>1</td>\n",
       "      <td>0</td>\n",
       "    </tr>\n",
       "    <tr>\n",
       "      <th>A0000006</th>\n",
       "      <td>5</td>\n",
       "      <td>5</td>\n",
       "      <td>3</td>\n",
       "      <td>1</td>\n",
       "      <td>0</td>\n",
       "    </tr>\n",
       "  </tbody>\n",
       "</table>\n",
       "</div>"
      ],
      "text/plain": [
       "             Socio_Demo_01  Socio_Demo_02  Socio_Demo_03  Socio_Demo_04  \\\n",
       "ID_Customer                                                               \n",
       "A0000001                 5              4              3              1   \n",
       "A0000002                 5              5              1              1   \n",
       "A0000003                 5              5              5              2   \n",
       "A0000004                 5              5              3              1   \n",
       "A0000006                 5              5              3              1   \n",
       "\n",
       "             Socio_Demo_05  \n",
       "ID_Customer                 \n",
       "A0000001                 0  \n",
       "A0000002                 0  \n",
       "A0000003                 0  \n",
       "A0000004                 0  \n",
       "A0000006                 0  "
      ]
     },
     "execution_count": 22,
     "metadata": {},
     "output_type": "execute_result"
    }
   ],
   "source": [
    "#Customer features\n",
    "customers = data_sup.groupby('ID_Customer')['Socio_Demo_01','Socio_Demo_02','Socio_Demo_03','Socio_Demo_04','Socio_Demo_05'].first()\n",
    "customers[:5]"
   ]
  },
  {
   "cell_type": "code",
   "execution_count": 23,
   "metadata": {
    "collapsed": true
   },
   "outputs": [],
   "source": [
    "#New rows\n",
    "idVSProdLastN['Socio_Demo_01_1'] = np.zeros(idVSProdLastN.shape[0],dtype=int)\n",
    "idVSProdLastN['Socio_Demo_01_2'] = np.zeros(idVSProdLastN.shape[0],dtype=int)\n",
    "idVSProdLastN['Socio_Demo_01_3'] = np.zeros(idVSProdLastN.shape[0],dtype=int)\n",
    "idVSProdLastN['Socio_Demo_01_4'] = np.zeros(idVSProdLastN.shape[0],dtype=int)\n",
    "idVSProdLastN['Socio_Demo_01_5'] = np.zeros(idVSProdLastN.shape[0],dtype=int)\n",
    "idVSProdLastN['Socio_Demo_02_1'] = np.zeros(idVSProdLastN.shape[0],dtype=int)\n",
    "idVSProdLastN['Socio_Demo_02_2'] = np.zeros(idVSProdLastN.shape[0],dtype=int)\n",
    "idVSProdLastN['Socio_Demo_02_3'] = np.zeros(idVSProdLastN.shape[0],dtype=int)\n",
    "idVSProdLastN['Socio_Demo_02_4'] = np.zeros(idVSProdLastN.shape[0],dtype=int)\n",
    "idVSProdLastN['Socio_Demo_02_5'] = np.zeros(idVSProdLastN.shape[0],dtype=int)\n",
    "idVSProdLastN['Socio_Demo_03_1'] = np.zeros(idVSProdLastN.shape[0],dtype=int)\n",
    "idVSProdLastN['Socio_Demo_03_2'] = np.zeros(idVSProdLastN.shape[0],dtype=int)\n",
    "idVSProdLastN['Socio_Demo_03_3'] = np.zeros(idVSProdLastN.shape[0],dtype=int)\n",
    "idVSProdLastN['Socio_Demo_03_4'] = np.zeros(idVSProdLastN.shape[0],dtype=int)\n",
    "idVSProdLastN['Socio_Demo_03_5'] = np.zeros(idVSProdLastN.shape[0],dtype=int)\n",
    "idVSProdLastN['Socio_Demo_04_1'] = np.zeros(idVSProdLastN.shape[0],dtype=int)\n",
    "idVSProdLastN['Socio_Demo_04_2'] = np.zeros(idVSProdLastN.shape[0],dtype=int)\n",
    "idVSProdLastN['Socio_Demo_05_1'] = np.zeros(idVSProdLastN.shape[0],dtype=int)\n",
    "idVSProdLastN['Socio_Demo_05_2'] = np.zeros(idVSProdLastN.shape[0],dtype=int)\n",
    "idVSProdLastN['Socio_Demo_05_3'] = np.zeros(idVSProdLastN.shape[0],dtype=int)\n",
    "idVSProdLastN['Socio_Demo_05_4'] = np.zeros(idVSProdLastN.shape[0],dtype=int)"
   ]
  },
  {
   "cell_type": "code",
   "execution_count": 24,
   "metadata": {
    "collapsed": true
   },
   "outputs": [],
   "source": [
    "socioDemoCol = ['Socio_Demo_01_1','Socio_Demo_01_2','Socio_Demo_01_3','Socio_Demo_01_4','Socio_Demo_01_5','Socio_Demo_02_1','Socio_Demo_02_2','Socio_Demo_02_3','Socio_Demo_02_4','Socio_Demo_02_5','Socio_Demo_03_1','Socio_Demo_03_2','Socio_Demo_03_3','Socio_Demo_03_4','Socio_Demo_03_5','Socio_Demo_04_1','Socio_Demo_04_2','Socio_Demo_05_1','Socio_Demo_05_2','Socio_Demo_05_3','Socio_Demo_05_4']"
   ]
  },
  {
   "cell_type": "markdown",
   "metadata": {},
   "source": [
    "### One-hot encoding"
   ]
  },
  {
   "cell_type": "code",
   "execution_count": 25,
   "metadata": {
    "collapsed": false
   },
   "outputs": [
    {
     "data": {
      "text/plain": [
       "array([[5, 4, 3, 1, 1],\n",
       "       [5, 5, 1, 1, 1],\n",
       "       [5, 5, 5, 2, 1],\n",
       "       ..., \n",
       "       [1, 1, 1, 2, 1],\n",
       "       [3, 2, 3, 1, 1],\n",
       "       [3, 2, 2, 1, 1]])"
      ]
     },
     "execution_count": 25,
     "metadata": {},
     "output_type": "execute_result"
    }
   ],
   "source": [
    "#We sum 1 to Socio_Demo_05 in order to compute one hot encoding\n",
    "customers.Socio_Demo_05 += 1\n",
    "customers.values"
   ]
  },
  {
   "cell_type": "code",
   "execution_count": 26,
   "metadata": {
    "collapsed": false
   },
   "outputs": [],
   "source": [
    "#Introduce one-hot encoding to matrix.\n",
    "start = 94\n",
    "i = 0\n",
    "for ncols in np.array([5,5,5,2,4]):\n",
    "    idVSProdLastN.iloc[:,start:start+ncols] = pd.get_dummies(customers.values[:,i]).values\n",
    "    start += ncols\n",
    "    i += 1"
   ]
  },
  {
   "cell_type": "code",
   "execution_count": 27,
   "metadata": {
    "collapsed": false
   },
   "outputs": [
    {
     "data": {
      "text/plain": [
       "array([[0, 0, 0, 0, 1],\n",
       "       [0, 0, 0, 0, 1],\n",
       "       [0, 0, 0, 0, 1],\n",
       "       ..., \n",
       "       [1, 0, 0, 0, 0],\n",
       "       [0, 0, 1, 0, 0],\n",
       "       [0, 0, 1, 0, 0]], dtype=uint8)"
      ]
     },
     "execution_count": 27,
     "metadata": {},
     "output_type": "execute_result"
    }
   ],
   "source": [
    "pd.get_dummies(customers.values[:,0]).values"
   ]
  },
  {
   "cell_type": "code",
   "execution_count": 28,
   "metadata": {
    "collapsed": false
   },
   "outputs": [
    {
     "data": {
      "text/html": [
       "<div>\n",
       "<table border=\"1\" class=\"dataframe\">\n",
       "  <thead>\n",
       "    <tr style=\"text-align: right;\">\n",
       "      <th></th>\n",
       "      <th>101</th>\n",
       "      <th>102</th>\n",
       "      <th>103</th>\n",
       "      <th>104</th>\n",
       "      <th>201</th>\n",
       "      <th>301</th>\n",
       "      <th>502</th>\n",
       "      <th>503</th>\n",
       "      <th>504</th>\n",
       "      <th>506</th>\n",
       "      <th>...</th>\n",
       "      <th>Socio_Demo_03_2</th>\n",
       "      <th>Socio_Demo_03_3</th>\n",
       "      <th>Socio_Demo_03_4</th>\n",
       "      <th>Socio_Demo_03_5</th>\n",
       "      <th>Socio_Demo_04_1</th>\n",
       "      <th>Socio_Demo_04_2</th>\n",
       "      <th>Socio_Demo_05_1</th>\n",
       "      <th>Socio_Demo_05_2</th>\n",
       "      <th>Socio_Demo_05_3</th>\n",
       "      <th>Socio_Demo_05_4</th>\n",
       "    </tr>\n",
       "  </thead>\n",
       "  <tbody>\n",
       "    <tr>\n",
       "      <th>A0000001</th>\n",
       "      <td>0</td>\n",
       "      <td>0</td>\n",
       "      <td>0</td>\n",
       "      <td>0</td>\n",
       "      <td>0</td>\n",
       "      <td>0</td>\n",
       "      <td>0</td>\n",
       "      <td>0</td>\n",
       "      <td>0</td>\n",
       "      <td>0</td>\n",
       "      <td>...</td>\n",
       "      <td>0</td>\n",
       "      <td>1</td>\n",
       "      <td>0</td>\n",
       "      <td>0</td>\n",
       "      <td>1</td>\n",
       "      <td>0</td>\n",
       "      <td>1</td>\n",
       "      <td>0</td>\n",
       "      <td>0</td>\n",
       "      <td>0</td>\n",
       "    </tr>\n",
       "    <tr>\n",
       "      <th>A0000002</th>\n",
       "      <td>0</td>\n",
       "      <td>0</td>\n",
       "      <td>0</td>\n",
       "      <td>0</td>\n",
       "      <td>0</td>\n",
       "      <td>1</td>\n",
       "      <td>0</td>\n",
       "      <td>0</td>\n",
       "      <td>0</td>\n",
       "      <td>0</td>\n",
       "      <td>...</td>\n",
       "      <td>0</td>\n",
       "      <td>0</td>\n",
       "      <td>0</td>\n",
       "      <td>0</td>\n",
       "      <td>1</td>\n",
       "      <td>0</td>\n",
       "      <td>1</td>\n",
       "      <td>0</td>\n",
       "      <td>0</td>\n",
       "      <td>0</td>\n",
       "    </tr>\n",
       "    <tr>\n",
       "      <th>A0000003</th>\n",
       "      <td>0</td>\n",
       "      <td>0</td>\n",
       "      <td>0</td>\n",
       "      <td>0</td>\n",
       "      <td>0</td>\n",
       "      <td>1</td>\n",
       "      <td>0</td>\n",
       "      <td>0</td>\n",
       "      <td>0</td>\n",
       "      <td>0</td>\n",
       "      <td>...</td>\n",
       "      <td>0</td>\n",
       "      <td>0</td>\n",
       "      <td>0</td>\n",
       "      <td>1</td>\n",
       "      <td>0</td>\n",
       "      <td>1</td>\n",
       "      <td>1</td>\n",
       "      <td>0</td>\n",
       "      <td>0</td>\n",
       "      <td>0</td>\n",
       "    </tr>\n",
       "    <tr>\n",
       "      <th>A0000004</th>\n",
       "      <td>0</td>\n",
       "      <td>0</td>\n",
       "      <td>0</td>\n",
       "      <td>0</td>\n",
       "      <td>1</td>\n",
       "      <td>1</td>\n",
       "      <td>0</td>\n",
       "      <td>0</td>\n",
       "      <td>0</td>\n",
       "      <td>0</td>\n",
       "      <td>...</td>\n",
       "      <td>0</td>\n",
       "      <td>1</td>\n",
       "      <td>0</td>\n",
       "      <td>0</td>\n",
       "      <td>1</td>\n",
       "      <td>0</td>\n",
       "      <td>1</td>\n",
       "      <td>0</td>\n",
       "      <td>0</td>\n",
       "      <td>0</td>\n",
       "    </tr>\n",
       "    <tr>\n",
       "      <th>A0000006</th>\n",
       "      <td>0</td>\n",
       "      <td>0</td>\n",
       "      <td>0</td>\n",
       "      <td>0</td>\n",
       "      <td>0</td>\n",
       "      <td>1</td>\n",
       "      <td>0</td>\n",
       "      <td>0</td>\n",
       "      <td>0</td>\n",
       "      <td>0</td>\n",
       "      <td>...</td>\n",
       "      <td>0</td>\n",
       "      <td>1</td>\n",
       "      <td>0</td>\n",
       "      <td>0</td>\n",
       "      <td>1</td>\n",
       "      <td>0</td>\n",
       "      <td>1</td>\n",
       "      <td>0</td>\n",
       "      <td>0</td>\n",
       "      <td>0</td>\n",
       "    </tr>\n",
       "  </tbody>\n",
       "</table>\n",
       "<p>5 rows × 115 columns</p>\n",
       "</div>"
      ],
      "text/plain": [
       "          101  102  103  104  201  301  502  503  504  506       ...         \\\n",
       "A0000001    0    0    0    0    0    0    0    0    0    0       ...          \n",
       "A0000002    0    0    0    0    0    1    0    0    0    0       ...          \n",
       "A0000003    0    0    0    0    0    1    0    0    0    0       ...          \n",
       "A0000004    0    0    0    0    1    1    0    0    0    0       ...          \n",
       "A0000006    0    0    0    0    0    1    0    0    0    0       ...          \n",
       "\n",
       "          Socio_Demo_03_2  Socio_Demo_03_3  Socio_Demo_03_4  Socio_Demo_03_5  \\\n",
       "A0000001                0                1                0                0   \n",
       "A0000002                0                0                0                0   \n",
       "A0000003                0                0                0                1   \n",
       "A0000004                0                1                0                0   \n",
       "A0000006                0                1                0                0   \n",
       "\n",
       "          Socio_Demo_04_1  Socio_Demo_04_2  Socio_Demo_05_1  Socio_Demo_05_2  \\\n",
       "A0000001                1                0                1                0   \n",
       "A0000002                1                0                1                0   \n",
       "A0000003                0                1                1                0   \n",
       "A0000004                1                0                1                0   \n",
       "A0000006                1                0                1                0   \n",
       "\n",
       "          Socio_Demo_05_3  Socio_Demo_05_4  \n",
       "A0000001                0                0  \n",
       "A0000002                0                0  \n",
       "A0000003                0                0  \n",
       "A0000004                0                0  \n",
       "A0000006                0                0  \n",
       "\n",
       "[5 rows x 115 columns]"
      ]
     },
     "execution_count": 28,
     "metadata": {},
     "output_type": "execute_result"
    }
   ],
   "source": [
    "idVSProdLastN.head()"
   ]
  },
  {
   "cell_type": "code",
   "execution_count": 29,
   "metadata": {
    "collapsed": false
   },
   "outputs": [
    {
     "data": {
      "text/plain": [
       "(522107, 115)"
      ]
     },
     "execution_count": 29,
     "metadata": {},
     "output_type": "execute_result"
    }
   ],
   "source": [
    "idVSProdLastN.shape"
   ]
  },
  {
   "cell_type": "code",
   "execution_count": 30,
   "metadata": {
    "collapsed": false
   },
   "outputs": [
    {
     "data": {
      "text/plain": [
       "(522107,)"
      ]
     },
     "execution_count": 30,
     "metadata": {},
     "output_type": "execute_result"
    }
   ],
   "source": [
    "#Prediction\n",
    "lastProduct.shape"
   ]
  },
  {
   "cell_type": "markdown",
   "metadata": {},
   "source": [
    "# Save database to arff file"
   ]
  },
  {
   "cell_type": "markdown",
   "metadata": {
    "collapsed": true
   },
   "source": [
    "import csv"
   ]
  },
  {
   "cell_type": "markdown",
   "metadata": {
    "collapsed": true
   },
   "source": [
    "csvfile = open('wekaDataHeader.arff','w')\n",
    "csvwriter = csv.writer(csvfile, delimiter=',')"
   ]
  },
  {
   "cell_type": "markdown",
   "metadata": {
    "collapsed": true
   },
   "source": [
    "products = dataLastN.Cod_Prod.unique()\n",
    "products.sort()\n",
    "csvfile.write('@RELATION cajamar\\n\\n')\n",
    "for product in products:\n",
    "    csvfile.write('@ATTRIBUTE ' + str(product) + ' NUMERIC\\n')\n",
    "csvfile.write('@ATTRIBUTE socio_demo_01_1 NUMERIC\\n')\n",
    "csvfile.write('@ATTRIBUTE socio_demo_01_2 NUMERIC\\n')\n",
    "csvfile.write('@ATTRIBUTE socio_demo_01_3 NUMERIC\\n')\n",
    "csvfile.write('@ATTRIBUTE socio_demo_01_4 NUMERIC\\n')\n",
    "csvfile.write('@ATTRIBUTE socio_demo_01_5 NUMERIC\\n')\n",
    "csvfile.write('@ATTRIBUTE socio_demo_02_1 NUMERIC\\n')\n",
    "csvfile.write('@ATTRIBUTE socio_demo_02_2 NUMERIC\\n')\n",
    "csvfile.write('@ATTRIBUTE socio_demo_02_3 NUMERIC\\n')\n",
    "csvfile.write('@ATTRIBUTE socio_demo_02_4 NUMERIC\\n')\n",
    "csvfile.write('@ATTRIBUTE socio_demo_02_5 NUMERIC\\n')\n",
    "csvfile.write('@ATTRIBUTE socio_demo_03_1 NUMERIC\\n')\n",
    "csvfile.write('@ATTRIBUTE socio_demo_03_2 NUMERIC\\n')\n",
    "csvfile.write('@ATTRIBUTE socio_demo_03_3 NUMERIC\\n')\n",
    "csvfile.write('@ATTRIBUTE socio_demo_03_4 NUMERIC\\n')\n",
    "csvfile.write('@ATTRIBUTE socio_demo_03_5 NUMERIC\\n')\n",
    "csvfile.write('@ATTRIBUTE socio_demo_04_1 NUMERIC\\n')\n",
    "csvfile.write('@ATTRIBUTE socio_demo_04_2 NUMERIC\\n')\n",
    "csvfile.write('@ATTRIBUTE socio_demo_05_1 NUMERIC\\n')\n",
    "csvfile.write('@ATTRIBUTE socio_demo_05_2 NUMERIC\\n')\n",
    "csvfile.write('@ATTRIBUTE socio_demo_05_3 NUMERIC\\n')\n",
    "csvfile.write('@ATTRIBUTE socio_demo_05_4 NUMERIC\\n')\n",
    "csvfile.write('@ATTRIBUTE class {')\n",
    "for product in products[:-1]:\n",
    "    csvfile.write(str(product)+',')\n",
    "csvfile.write(str(products[-1:])[1:-1]+'}\\n\\n')\n",
    "csvfile.write('@DATA\\n')"
   ]
  },
  {
   "cell_type": "markdown",
   "metadata": {
    "collapsed": false
   },
   "source": [
    "csvfile.close()"
   ]
  },
  {
   "cell_type": "markdown",
   "metadata": {
    "collapsed": false
   },
   "source": [
    "idVSProdLastN.to_csv('wekaData.arff',header=False,index=False)"
   ]
  },
  {
   "cell_type": "markdown",
   "metadata": {},
   "source": [
    "# Model construction"
   ]
  },
  {
   "cell_type": "code",
   "execution_count": 2,
   "metadata": {
    "collapsed": false
   },
   "outputs": [
    {
     "ename": "ImportError",
     "evalue": "No module named xgboost",
     "output_type": "error",
     "traceback": [
      "\u001b[0;31m---------------------------------------------------------------------------\u001b[0m",
      "\u001b[0;31mImportError\u001b[0m                               Traceback (most recent call last)",
      "\u001b[0;32m<ipython-input-2-4ab2544bf134>\u001b[0m in \u001b[0;36m<module>\u001b[0;34m()\u001b[0m\n\u001b[0;32m----> 1\u001b[0;31m \u001b[0;32mimport\u001b[0m \u001b[0mxgboost\u001b[0m\u001b[0;34m\u001b[0m\u001b[0m\n\u001b[0m\u001b[1;32m      2\u001b[0m \u001b[0;32mfrom\u001b[0m \u001b[0msklearn\u001b[0m \u001b[0;32mimport\u001b[0m \u001b[0mmodel_selection\u001b[0m\u001b[0;34m\u001b[0m\u001b[0m\n\u001b[1;32m      3\u001b[0m \u001b[0;32mfrom\u001b[0m \u001b[0msklearn\u001b[0m\u001b[0;34m.\u001b[0m\u001b[0mmetrics\u001b[0m \u001b[0;32mimport\u001b[0m \u001b[0maccuracy_score\u001b[0m\u001b[0;34m\u001b[0m\u001b[0m\n",
      "\u001b[0;31mImportError\u001b[0m: No module named xgboost"
     ]
    }
   ],
   "source": [
    "import xgboost\n",
    "from sklearn import model_selection\n",
    "from sklearn.metrics import accuracy_score"
   ]
  },
  {
   "cell_type": "markdown",
   "metadata": {
    "collapsed": true
   },
   "source": [
    "# Logistic Regression\n",
    "### We create a logistic regression for every product"
   ]
  },
  {
   "cell_type": "code",
   "execution_count": 31,
   "metadata": {
    "collapsed": true
   },
   "outputs": [],
   "source": [
    "from sklearn import linear_model\n",
    "from sklearn.linear_model import LogisticRegression\n",
    "logist_reg = LogisticRegression"
   ]
  },
  {
   "cell_type": "code",
   "execution_count": 32,
   "metadata": {
    "collapsed": false,
    "scrolled": true
   },
   "outputs": [
    {
     "name": "stdout",
     "output_type": "stream",
     "text": [
      "N. of products:  87\n",
      "1008    4\n",
      "804     3\n",
      "1014    2\n",
      "1004    2\n",
      "1305    2\n",
      "1015    2\n",
      "803     1\n",
      "1308    1\n",
      "2901    1\n",
      "2703    1\n",
      "Name: Cod_Prod, dtype: int64\n"
     ]
    }
   ],
   "source": [
    "print 'N. of products: ', lastProduct.unique().size\n",
    "print lastProduct.value_counts().tail(10)"
   ]
  },
  {
   "cell_type": "markdown",
   "metadata": {
    "collapsed": true
   },
   "source": [
    "log_reg_vect = []\n",
    "train_size = idVSProdLastN.shape[0]/10\n",
    "start_time = time.time()\n",
    "for product in lastProduct.unique():\n",
    "    x_train = idVSProdLastN[train_size:]\n",
    "    y_train = lastProduct[train_size:]==product\n",
    "    x_test = idVSProdLastN[:train_size]\n",
    "    y_test = lastProduct[:train_size]==product\n",
    "    logist_reg = LogisticRegression\n",
    "    logist_reg.fit(x_train,y_train)\n",
    "    log_reg_vect.append((product,logist_reg))\n",
    "print 'Total time: ', time.time()-start_time, 'seconds'"
   ]
  },
  {
   "cell_type": "code",
   "execution_count": 43,
   "metadata": {
    "collapsed": false
   },
   "outputs": [
    {
     "name": "stdout",
     "output_type": "stream",
     "text": [
      "Time: 13.5929961205\n",
      "[ 704 2106  601 2302 1002  301 3001  201 2302  201  601  601 2601 2102  601\n",
      "  301 2302 9991 2601  706 2201 2302 2302 3001  301  301 3001  301  601  301\n",
      "  601 2601 2302 2301 2201 2301 2106 1022 2601  601 2102 9992  201 2102  201\n",
      "  601 2302 2201  301  301  704 2302  201  601 3001 2302  201  201  601  301\n",
      " 2302  706 1804  201 2106 2302 9993  601  601  706  601 1011  201  601  601\n",
      " 2102 2102 2601 3001 2302  201 2301  201  201  601  704  301  201  601  201\n",
      " 2302  201  601 2302 2601 2201 2301 2301 1022 2205  201 2301 2102 1802 2205\n",
      " 2102 2301 9993  201  601  706 2102 2201  601 2106  301 2601  201  201  704\n",
      " 2201  601 2302  601 3001  301  601 9992  601  601  601 1001 2102  301 1002\n",
      "  601 2302 2301  201 2201  601 2102 9992  201 2102 2301 1802 2301 9991 9992\n",
      " 2601 1002  201 2301  601 9992  301  601  601 2201  201  601  601  601  201\n",
      "  706 9992  201 2205 2102  704 2301 2102  201 2102  706 2102  601  301  201\n",
      "  704 2301 9993 2302 2205 2102  704 3001  301 2302  601 3001  601 2201  201\n",
      " 2102  601  201  601 2301  704  201  201  601 2601 3001 2601  301  601  601\n",
      "  201 3001 2302  201 2301 2102 2601  201 1011  201 2301  201 3001 3001  201\n",
      " 2102  201  201 1804 2601 1022 2201  704  601  201 2301 2102 2601 2102 1001\n",
      "  201  601 2102  201 2201  706 2704 2102 2102  601  601 2302 2302 2601 1001\n",
      " 1002 3001 3001 2302  601  601  601 2302 2601 2601 9993  201 2601 2201  301\n",
      "  704 3001 2301  706 9993  301  201 1001  201 2301 2301  201 1002 3001 2102\n",
      " 2601 1002 2102  301  601 2601  706  201  601  704 2102 2301  201  201  201\n",
      " 2302  201  201 9992 2302 1011 2301  706 2106  601  601  601  704 2704 2201\n",
      "  301 2302 2201  601  201  201  601  601 2205 2601 2201 2302 2601  601  201\n",
      "  601  706 2102 2302  704  704  706  301  601  704  704  706 2302  704  706\n",
      "  601 2601 9993  201  601 2201 2302  301 2302  704 2302  601  704  601  601\n",
      "  601 2205 2301 2302  201 2301 2301 2301 2601 2201 2302 2302 2201 2102 2601\n",
      " 2302  201 2302 2301  201  201 1002  201 2301  706  201  201  201 2102  201\n",
      " 1011 2302  704 9992 2601 2302  704  601 2301 2205 2302 2302 2301 2302  601\n",
      " 1802 2302 2102  601 1802  201 2301 2102  201 3001 1002 1802  601 2601 9991\n",
      " 1011  704  601 3001 2301 2201 2302 2201 2302 2302  201 1002  601  201 2301\n",
      "  704 2301  201 2302 2301 3001  301  704  704  201  704  601  601  704  601\n",
      " 2302  704 3001  301  301  201  704  201  704  704  601  601 2102  704  601\n",
      " 2601  706  601 2102 2704 2302 1804  704  201 2201  706  201  601 2301 2301\n",
      "  601 3001  201 2302 2301 2301  601 1002 2301  601 2201  601 2301  601 2102\n",
      " 2301 3001 2205 2201 3001 2201 2302 2102 2601 2102  601 2302 2206 2301 2301\n",
      " 2102 2302 2301 2301 2301 2205  201  601 9993 2601  601 3001]\n"
     ]
    }
   ],
   "source": [
    "start_time = time.time()\n",
    "train_size = idVSProdLastN.shape[0]/1000\n",
    "x_train = idVSProdLastN[-train_size:]\n",
    "y_train = lastProduct[-train_size:]\n",
    "x_test = idVSProdLastN[:train_size]\n",
    "y_test = lastProduct[:train_size]\n",
    "logist_reg = LogisticRegression(C=1e5,multi_class='multinomial',solver='newton-cg')\n",
    "logist_reg.fit(x_train,y_train)\n",
    "print 'Time:', time.time()-start_time\n",
    "print logist_reg.predict(x_test)"
   ]
  },
  {
   "cell_type": "code",
   "execution_count": 152,
   "metadata": {
    "collapsed": false,
    "scrolled": true
   },
   "outputs": [
    {
     "data": {
      "text/plain": [
       "ID_Customer\n",
       "A0000003     201\n",
       "A0000016     704\n",
       "A0000021    2301\n",
       "A0000026     301\n",
       "A0000041    2705\n",
       "A0000043    1011\n",
       "A0000052     201\n",
       "A0000062     706\n",
       "A0000072     704\n",
       "A0000078     301\n",
       "A0000092     704\n",
       "A0000094    2705\n",
       "A0000097    9992\n",
       "A0000101     704\n",
       "A0000104    2205\n",
       "A0000117    1011\n",
       "A0000124    9992\n",
       "A0000129     706\n",
       "A0000153     601\n",
       "A0000159    2302\n",
       "A0000167     301\n",
       "A0000169     706\n",
       "A0000175     301\n",
       "A0000179     706\n",
       "A0000181     704\n",
       "A0000183    2302\n",
       "A0000190    9992\n",
       "A0000201     201\n",
       "A0000217    2705\n",
       "A0000221     707\n",
       "            ... \n",
       "A0000479    2202\n",
       "A0000490    2705\n",
       "A0000498    2302\n",
       "A0000503    2501\n",
       "A0000516     201\n",
       "A0000519    1022\n",
       "A0000523    2205\n",
       "A0000525    2302\n",
       "A0000574    2205\n",
       "A0000583     706\n",
       "A0000589    2302\n",
       "A0000601    2302\n",
       "A0000606    1020\n",
       "A0000617     301\n",
       "A0000641    2205\n",
       "A0000643    2301\n",
       "A0000645    2205\n",
       "A0000661     707\n",
       "A0000663     704\n",
       "A0000671     704\n",
       "A0000676    2301\n",
       "A0000687    9992\n",
       "A0000693     201\n",
       "A0000700    2705\n",
       "A0000705    9991\n",
       "A0000707    2302\n",
       "A0000709    2302\n",
       "A0000723    9992\n",
       "A0000737     201\n",
       "A0000740     201\n",
       "Name: Cod_Prod, dtype: int64"
      ]
     },
     "execution_count": 152,
     "metadata": {},
     "output_type": "execute_result"
    }
   ],
   "source": [
    "y_test[logist_reg.predict(x_test)==601]"
   ]
  },
  {
   "cell_type": "code",
   "execution_count": 65,
   "metadata": {
    "collapsed": false
   },
   "outputs": [
    {
     "data": {
      "text/plain": [
       "array([ 201,  301,  601,  704,  706,  707,  708,  801, 1001, 1002, 1011,\n",
       "       1020, 1022, 1309, 1310, 1801, 1802, 1804, 2102, 2106, 2201, 2205,\n",
       "       2206, 2301, 2302, 2401, 2501, 2601, 2602, 2701, 2704, 2705, 2706,\n",
       "       2707, 3001, 9991, 9992, 9993])"
      ]
     },
     "execution_count": 65,
     "metadata": {},
     "output_type": "execute_result"
    }
   ],
   "source": [
    "a= y_train.unique()\n",
    "a.sort()\n",
    "a"
   ]
  },
  {
   "cell_type": "code",
   "execution_count": 80,
   "metadata": {
    "collapsed": false
   },
   "outputs": [
    {
     "data": {
      "text/plain": [
       "704     1.000000e+00\n",
       "301     1.392967e-09\n",
       "2302    5.669144e-10\n",
       "dtype: float64"
      ]
     },
     "execution_count": 80,
     "metadata": {},
     "output_type": "execute_result"
    }
   ],
   "source": [
    "a= logist_reg.predict_proba(x_test[:1])[0]\n",
    "b = y_train.unique()\n",
    "b.sort()\n",
    "ab = pd.Series(data=a,index=b)\n",
    "ab.nlargest(3)"
   ]
  },
  {
   "cell_type": "code",
   "execution_count": 81,
   "metadata": {
    "collapsed": false
   },
   "outputs": [
    {
     "name": "stdout",
     "output_type": "stream",
     "text": [
      "Score (R square): 0.199233716475\n",
      "Training MSE:  480295.783525\n",
      "Test MSE:  10251743.1398\n"
     ]
    }
   ],
   "source": [
    "print 'Score (R square):', logist_reg.score(x_test, y_test) \n",
    "print 'Training MSE: ', np.mean((logist_reg.predict(x_train) - y_train)**2)\n",
    "print 'Test MSE: ', np.mean((logist_reg.predict(x_test) - y_test)**2)"
   ]
  },
  {
   "cell_type": "code",
   "execution_count": 82,
   "metadata": {
    "collapsed": false
   },
   "outputs": [
    {
     "name": "stdout",
     "output_type": "stream",
     "text": [
      "Score with 9/10 of data: 0.303960044863\n"
     ]
    }
   ],
   "source": [
    "print 'Score with 9/10 of data:', logist_reg.score(idVSProdLastN[:-train_size],lastProduct[:-train_size])"
   ]
  },
  {
   "cell_type": "markdown",
   "metadata": {
    "collapsed": true
   },
   "source": [
    "# Recomender based on user similarity by features and product purchase"
   ]
  },
  {
   "cell_type": "code",
   "execution_count": 52,
   "metadata": {
    "collapsed": false
   },
   "outputs": [
    {
     "data": {
      "text/html": [
       "<div>\n",
       "<table border=\"1\" class=\"dataframe\">\n",
       "  <thead>\n",
       "    <tr style=\"text-align: right;\">\n",
       "      <th></th>\n",
       "      <th>101</th>\n",
       "      <th>102</th>\n",
       "      <th>103</th>\n",
       "      <th>104</th>\n",
       "      <th>201</th>\n",
       "      <th>301</th>\n",
       "      <th>502</th>\n",
       "      <th>503</th>\n",
       "      <th>504</th>\n",
       "      <th>506</th>\n",
       "      <th>...</th>\n",
       "      <th>Socio_Demo_03_2</th>\n",
       "      <th>Socio_Demo_03_3</th>\n",
       "      <th>Socio_Demo_03_4</th>\n",
       "      <th>Socio_Demo_03_5</th>\n",
       "      <th>Socio_Demo_04_1</th>\n",
       "      <th>Socio_Demo_04_2</th>\n",
       "      <th>Socio_Demo_05_1</th>\n",
       "      <th>Socio_Demo_05_2</th>\n",
       "      <th>Socio_Demo_05_3</th>\n",
       "      <th>Socio_Demo_05_4</th>\n",
       "    </tr>\n",
       "  </thead>\n",
       "  <tbody>\n",
       "    <tr>\n",
       "      <th>A0000001</th>\n",
       "      <td>0</td>\n",
       "      <td>0</td>\n",
       "      <td>0</td>\n",
       "      <td>0</td>\n",
       "      <td>0</td>\n",
       "      <td>0</td>\n",
       "      <td>0</td>\n",
       "      <td>0</td>\n",
       "      <td>0</td>\n",
       "      <td>0</td>\n",
       "      <td>...</td>\n",
       "      <td>0</td>\n",
       "      <td>1</td>\n",
       "      <td>0</td>\n",
       "      <td>0</td>\n",
       "      <td>1</td>\n",
       "      <td>0</td>\n",
       "      <td>1</td>\n",
       "      <td>0</td>\n",
       "      <td>0</td>\n",
       "      <td>0</td>\n",
       "    </tr>\n",
       "    <tr>\n",
       "      <th>A0000002</th>\n",
       "      <td>0</td>\n",
       "      <td>0</td>\n",
       "      <td>0</td>\n",
       "      <td>0</td>\n",
       "      <td>0</td>\n",
       "      <td>1</td>\n",
       "      <td>0</td>\n",
       "      <td>0</td>\n",
       "      <td>0</td>\n",
       "      <td>0</td>\n",
       "      <td>...</td>\n",
       "      <td>0</td>\n",
       "      <td>0</td>\n",
       "      <td>0</td>\n",
       "      <td>0</td>\n",
       "      <td>1</td>\n",
       "      <td>0</td>\n",
       "      <td>1</td>\n",
       "      <td>0</td>\n",
       "      <td>0</td>\n",
       "      <td>0</td>\n",
       "    </tr>\n",
       "    <tr>\n",
       "      <th>A0000003</th>\n",
       "      <td>0</td>\n",
       "      <td>0</td>\n",
       "      <td>0</td>\n",
       "      <td>0</td>\n",
       "      <td>0</td>\n",
       "      <td>1</td>\n",
       "      <td>0</td>\n",
       "      <td>0</td>\n",
       "      <td>0</td>\n",
       "      <td>0</td>\n",
       "      <td>...</td>\n",
       "      <td>0</td>\n",
       "      <td>0</td>\n",
       "      <td>0</td>\n",
       "      <td>1</td>\n",
       "      <td>0</td>\n",
       "      <td>1</td>\n",
       "      <td>1</td>\n",
       "      <td>0</td>\n",
       "      <td>0</td>\n",
       "      <td>0</td>\n",
       "    </tr>\n",
       "    <tr>\n",
       "      <th>A0000004</th>\n",
       "      <td>0</td>\n",
       "      <td>0</td>\n",
       "      <td>0</td>\n",
       "      <td>0</td>\n",
       "      <td>1</td>\n",
       "      <td>1</td>\n",
       "      <td>0</td>\n",
       "      <td>0</td>\n",
       "      <td>0</td>\n",
       "      <td>0</td>\n",
       "      <td>...</td>\n",
       "      <td>0</td>\n",
       "      <td>1</td>\n",
       "      <td>0</td>\n",
       "      <td>0</td>\n",
       "      <td>1</td>\n",
       "      <td>0</td>\n",
       "      <td>1</td>\n",
       "      <td>0</td>\n",
       "      <td>0</td>\n",
       "      <td>0</td>\n",
       "    </tr>\n",
       "    <tr>\n",
       "      <th>A0000006</th>\n",
       "      <td>0</td>\n",
       "      <td>0</td>\n",
       "      <td>0</td>\n",
       "      <td>0</td>\n",
       "      <td>0</td>\n",
       "      <td>1</td>\n",
       "      <td>0</td>\n",
       "      <td>0</td>\n",
       "      <td>0</td>\n",
       "      <td>0</td>\n",
       "      <td>...</td>\n",
       "      <td>0</td>\n",
       "      <td>1</td>\n",
       "      <td>0</td>\n",
       "      <td>0</td>\n",
       "      <td>1</td>\n",
       "      <td>0</td>\n",
       "      <td>1</td>\n",
       "      <td>0</td>\n",
       "      <td>0</td>\n",
       "      <td>0</td>\n",
       "    </tr>\n",
       "  </tbody>\n",
       "</table>\n",
       "<p>5 rows × 115 columns</p>\n",
       "</div>"
      ],
      "text/plain": [
       "          101  102  103  104  201  301  502  503  504  506       ...         \\\n",
       "A0000001    0    0    0    0    0    0    0    0    0    0       ...          \n",
       "A0000002    0    0    0    0    0    1    0    0    0    0       ...          \n",
       "A0000003    0    0    0    0    0    1    0    0    0    0       ...          \n",
       "A0000004    0    0    0    0    1    1    0    0    0    0       ...          \n",
       "A0000006    0    0    0    0    0    1    0    0    0    0       ...          \n",
       "\n",
       "          Socio_Demo_03_2  Socio_Demo_03_3  Socio_Demo_03_4  Socio_Demo_03_5  \\\n",
       "A0000001                0                1                0                0   \n",
       "A0000002                0                0                0                0   \n",
       "A0000003                0                0                0                1   \n",
       "A0000004                0                1                0                0   \n",
       "A0000006                0                1                0                0   \n",
       "\n",
       "          Socio_Demo_04_1  Socio_Demo_04_2  Socio_Demo_05_1  Socio_Demo_05_2  \\\n",
       "A0000001                1                0                1                0   \n",
       "A0000002                1                0                1                0   \n",
       "A0000003                0                1                1                0   \n",
       "A0000004                1                0                1                0   \n",
       "A0000006                1                0                1                0   \n",
       "\n",
       "          Socio_Demo_05_3  Socio_Demo_05_4  \n",
       "A0000001                0                0  \n",
       "A0000002                0                0  \n",
       "A0000003                0                0  \n",
       "A0000004                0                0  \n",
       "A0000006                0                0  \n",
       "\n",
       "[5 rows x 115 columns]"
      ]
     },
     "execution_count": 52,
     "metadata": {},
     "output_type": "execute_result"
    }
   ],
   "source": [
    "idVSProdLastN.head()"
   ]
  },
  {
   "cell_type": "code",
   "execution_count": 66,
   "metadata": {
    "collapsed": false
   },
   "outputs": [
    {
     "data": {
      "text/html": [
       "<div>\n",
       "<table border=\"1\" class=\"dataframe\">\n",
       "  <thead>\n",
       "    <tr style=\"text-align: right;\">\n",
       "      <th></th>\n",
       "      <th>Socio_Demo_01</th>\n",
       "      <th>Socio_Demo_02</th>\n",
       "      <th>Socio_Demo_03</th>\n",
       "      <th>Socio_Demo_04</th>\n",
       "      <th>Socio_Demo_05</th>\n",
       "    </tr>\n",
       "    <tr>\n",
       "      <th>ID_Customer</th>\n",
       "      <th></th>\n",
       "      <th></th>\n",
       "      <th></th>\n",
       "      <th></th>\n",
       "      <th></th>\n",
       "    </tr>\n",
       "  </thead>\n",
       "  <tbody>\n",
       "    <tr>\n",
       "      <th>A0000001</th>\n",
       "      <td>5</td>\n",
       "      <td>4</td>\n",
       "      <td>3</td>\n",
       "      <td>1</td>\n",
       "      <td>1</td>\n",
       "    </tr>\n",
       "    <tr>\n",
       "      <th>A0000002</th>\n",
       "      <td>5</td>\n",
       "      <td>5</td>\n",
       "      <td>1</td>\n",
       "      <td>1</td>\n",
       "      <td>1</td>\n",
       "    </tr>\n",
       "    <tr>\n",
       "      <th>A0000003</th>\n",
       "      <td>5</td>\n",
       "      <td>5</td>\n",
       "      <td>5</td>\n",
       "      <td>2</td>\n",
       "      <td>1</td>\n",
       "    </tr>\n",
       "    <tr>\n",
       "      <th>A0000004</th>\n",
       "      <td>5</td>\n",
       "      <td>5</td>\n",
       "      <td>3</td>\n",
       "      <td>1</td>\n",
       "      <td>1</td>\n",
       "    </tr>\n",
       "    <tr>\n",
       "      <th>A0000006</th>\n",
       "      <td>5</td>\n",
       "      <td>5</td>\n",
       "      <td>3</td>\n",
       "      <td>1</td>\n",
       "      <td>1</td>\n",
       "    </tr>\n",
       "  </tbody>\n",
       "</table>\n",
       "</div>"
      ],
      "text/plain": [
       "             Socio_Demo_01  Socio_Demo_02  Socio_Demo_03  Socio_Demo_04  \\\n",
       "ID_Customer                                                               \n",
       "A0000001                 5              4              3              1   \n",
       "A0000002                 5              5              1              1   \n",
       "A0000003                 5              5              5              2   \n",
       "A0000004                 5              5              3              1   \n",
       "A0000006                 5              5              3              1   \n",
       "\n",
       "             Socio_Demo_05  \n",
       "ID_Customer                 \n",
       "A0000001                 1  \n",
       "A0000002                 1  \n",
       "A0000003                 1  \n",
       "A0000004                 1  \n",
       "A0000006                 1  "
      ]
     },
     "execution_count": 66,
     "metadata": {},
     "output_type": "execute_result"
    }
   ],
   "source": [
    "customers.head()"
   ]
  },
  {
   "cell_type": "code",
   "execution_count": 125,
   "metadata": {
    "collapsed": true
   },
   "outputs": [],
   "source": [
    "# Returns a naive similarity score for user1 and user2\n",
    "def simProdFreq(dataFrame,user1,user2,min_common_items=1):\n",
    "    # GET PRODUCTS OF USER1\n",
    "    prod_user1 = dataFrame.loc[user1][:94]\n",
    "    # GET PRODUCTS OF USER2\n",
    "    prod_user2 = dataFrame.loc[user2][:94]\n",
    "    \n",
    "    # Frequency of prodcuts\n",
    "    freq = 1-idVSProdLastN.sum(axis=0)[:94]/float(np.sum(idVSProdLastN.sum(axis=0)[:94]))\n",
    "    # Less frequent products are more significant for similarity\n",
    "    \n",
    "    # FIND SHARED PRODUCTS\n",
    "    shared = prod_user1 + prod_user2    \n",
    "    if len(shared[shared==2])==0:\n",
    "        return 0\n",
    "    if(len(shared[shared==2])<min_common_items):\n",
    "        return 0\n",
    "    #return distance weighted with product frequencies \n",
    "    return np.sum(np.dot(prod_user1[shared==2],freq[shared==2]))/float(prod_user1[shared==2].size)\n",
    "\n",
    "def simDist(feat_user1,feat_user2):\n",
    "    return 1 - (np.sum(np.square(np.subtract(feat_user1[:3],feat_user2[:3])))+(feat_user1[3]!=feat_user2[3])+(feat_user1[4]!=feat_user2[4]))/float(max(np.sum(feat_user1),np.sum(feat_user2)))\n",
    "\n",
    "# Returns a naive similarity score for user1 and user2\n",
    "# NOT using one hot encoding\n",
    "def simUserFeat(dataFrame,user1,user2):\n",
    "    # GET FEATURES OF USER1\n",
    "    feat_user1 = dataFrame.loc[user1]\n",
    "    # GET FEATURES OF USER2\n",
    "    feat_user2 = dataFrame.loc[user2]\n",
    "    \n",
    "    # COMPUTE SIMILARITY\n",
    "    return max(0, simDist(feat_user1,feat_user2))"
   ]
  },
  {
   "cell_type": "code",
   "execution_count": 126,
   "metadata": {
    "collapsed": false
   },
   "outputs": [
    {
     "name": "stdout",
     "output_type": "stream",
     "text": [
      "0.812256326499\n",
      "0.642857142857\n"
     ]
    }
   ],
   "source": [
    "print simProdFreq(idVSProdLastN,'A0000001','A0000002')\n",
    "print simUserFeat(customers,'A0000001','A0000002')"
   ]
  },
  {
   "cell_type": "markdown",
   "metadata": {},
   "source": [
    "## Matrix of user similarities (10x10 for the moment)"
   ]
  },
  {
   "cell_type": "code",
   "execution_count": 84,
   "metadata": {
    "collapsed": false
   },
   "outputs": [
    {
     "data": {
      "text/plain": [
       "array(['A0000001', 'A0000002', 'A0000003', 'A0000004', 'A0000006',\n",
       "       'A0000007', 'A0000008', 'A0000011', 'A0000013', 'A0000015'], dtype=object)"
      ]
     },
     "execution_count": 84,
     "metadata": {},
     "output_type": "execute_result"
    }
   ],
   "source": [
    "users = customers.index.values[:10]\n",
    "users"
   ]
  },
  {
   "cell_type": "code",
   "execution_count": 115,
   "metadata": {
    "collapsed": true
   },
   "outputs": [],
   "source": [
    "def computeSimMatrix(users):\n",
    "    matrix = np.ones((users.size,users.size),dtype=float)\n",
    "    j= 0\n",
    "    for user1 in users:\n",
    "        i = 0\n",
    "        for user2 in users:\n",
    "            if j >= i:\n",
    "                i += 1\n",
    "                continue\n",
    "            matrix[j,i] = 0.5*(simProdFreq(idVSProdLastN,user1,user2)+simUserFeat(customers,user1,user2))\n",
    "            matrix[i,j] = matrix[j,i]\n",
    "            i += 1\n",
    "        j += 1\n",
    "    return matrix"
   ]
  },
  {
   "cell_type": "code",
   "execution_count": 138,
   "metadata": {
    "collapsed": false
   },
   "outputs": [
    {
     "name": "stdout",
     "output_type": "stream",
     "text": [
      "Time: 62.4714381695\n"
     ]
    }
   ],
   "source": [
    "start_time = time.time()\n",
    "testMatrix = computeSimMatrix(users)\n",
    "print 'Time:', time.time()-start_time"
   ]
  },
  {
   "cell_type": "code",
   "execution_count": 139,
   "metadata": {
    "collapsed": false
   },
   "outputs": [
    {
     "name": "stdout",
     "output_type": "stream",
     "text": [
      "0.983262194137\n",
      "0.666666666667\n"
     ]
    }
   ],
   "source": [
    "print simProdFreq(idVSProdLastN,users[0],users[2])\n",
    "print simUserFeat(customers,users[0],users[2])"
   ]
  },
  {
   "cell_type": "code",
   "execution_count": 140,
   "metadata": {
    "collapsed": false,
    "scrolled": true
   },
   "outputs": [
    {
     "data": {
      "text/plain": [
       "array([[ 1.        ,  0.72755673,  0.82496443,  0.87279483,  0.87279483,\n",
       "         0.80612816,  0.67279483,  0.82209483,  0.69709483,  0.80423769],\n",
       "       [ 0.72755673,  1.        ,  0.46707848,  0.7893811 ,  0.7893811 ,\n",
       "         0.8394615 ,  0.7476725 ,  0.57896443,  0.67535893,  0.81557157],\n",
       "       [ 0.82496443,  0.46707848,  1.        ,  0.80041181,  0.80041181,\n",
       "         0.25      ,  0.52263403,  0.88374514,  0.13888889,  0.66152292],\n",
       "       [ 0.87279483,  0.7893811 ,  0.80041181,  1.        ,  0.92271443,\n",
       "         0.8394615 ,  0.72271443,  0.82896443,  0.72779662,  0.82271443],\n",
       "       [ 0.87279483,  0.7893811 ,  0.80041181,  0.92271443,  1.        ,\n",
       "         0.8394615 ,  0.74316225,  0.85648898,  0.7426121 ,  0.82271443],\n",
       "       [ 0.80612816,  0.8394615 ,  0.25      ,  0.8394615 ,  0.8394615 ,\n",
       "         1.        ,  0.70612816,  0.74987816,  0.77279483,  0.87279483],\n",
       "       [ 0.67279483,  0.7476725 ,  0.52263403,  0.72271443,  0.74316225,\n",
       "         0.70612816,  1.        ,  0.72441225,  0.8394615 ,  0.82271443],\n",
       "       [ 0.82209483,  0.57896443,  0.88374514,  0.82896443,  0.85648898,\n",
       "         0.74987816,  0.72441225,  1.        ,  0.79772445,  0.81949679],\n",
       "       [ 0.69709483,  0.67535893,  0.13888889,  0.72779662,  0.7426121 ,\n",
       "         0.77279483,  0.8394615 ,  0.79772445,  1.        ,  0.91138055],\n",
       "       [ 0.80423769,  0.81557157,  0.66152292,  0.82271443,  0.82271443,\n",
       "         0.87279483,  0.82271443,  0.81949679,  0.91138055,  1.        ]])"
      ]
     },
     "execution_count": 140,
     "metadata": {},
     "output_type": "execute_result"
    }
   ],
   "source": [
    "testMatrix"
   ]
  },
  {
   "cell_type": "code",
   "execution_count": 130,
   "metadata": {
    "collapsed": false
   },
   "outputs": [
    {
     "data": {
      "text/html": [
       "<div>\n",
       "<table border=\"1\" class=\"dataframe\">\n",
       "  <thead>\n",
       "    <tr style=\"text-align: right;\">\n",
       "      <th></th>\n",
       "      <th>Socio_Demo_01</th>\n",
       "      <th>Socio_Demo_02</th>\n",
       "      <th>Socio_Demo_03</th>\n",
       "      <th>Socio_Demo_04</th>\n",
       "      <th>Socio_Demo_05</th>\n",
       "    </tr>\n",
       "    <tr>\n",
       "      <th>ID_Customer</th>\n",
       "      <th></th>\n",
       "      <th></th>\n",
       "      <th></th>\n",
       "      <th></th>\n",
       "      <th></th>\n",
       "    </tr>\n",
       "  </thead>\n",
       "  <tbody>\n",
       "    <tr>\n",
       "      <th>A0000001</th>\n",
       "      <td>5</td>\n",
       "      <td>4</td>\n",
       "      <td>3</td>\n",
       "      <td>1</td>\n",
       "      <td>1</td>\n",
       "    </tr>\n",
       "    <tr>\n",
       "      <th>A0000002</th>\n",
       "      <td>5</td>\n",
       "      <td>5</td>\n",
       "      <td>1</td>\n",
       "      <td>1</td>\n",
       "      <td>1</td>\n",
       "    </tr>\n",
       "    <tr>\n",
       "      <th>A0000003</th>\n",
       "      <td>5</td>\n",
       "      <td>5</td>\n",
       "      <td>5</td>\n",
       "      <td>2</td>\n",
       "      <td>1</td>\n",
       "    </tr>\n",
       "    <tr>\n",
       "      <th>A0000004</th>\n",
       "      <td>5</td>\n",
       "      <td>5</td>\n",
       "      <td>3</td>\n",
       "      <td>1</td>\n",
       "      <td>1</td>\n",
       "    </tr>\n",
       "    <tr>\n",
       "      <th>A0000006</th>\n",
       "      <td>5</td>\n",
       "      <td>5</td>\n",
       "      <td>3</td>\n",
       "      <td>1</td>\n",
       "      <td>1</td>\n",
       "    </tr>\n",
       "    <tr>\n",
       "      <th>A0000007</th>\n",
       "      <td>5</td>\n",
       "      <td>5</td>\n",
       "      <td>2</td>\n",
       "      <td>2</td>\n",
       "      <td>1</td>\n",
       "    </tr>\n",
       "    <tr>\n",
       "      <th>A0000008</th>\n",
       "      <td>3</td>\n",
       "      <td>5</td>\n",
       "      <td>2</td>\n",
       "      <td>1</td>\n",
       "      <td>4</td>\n",
       "    </tr>\n",
       "    <tr>\n",
       "      <th>A0000011</th>\n",
       "      <td>4</td>\n",
       "      <td>5</td>\n",
       "      <td>4</td>\n",
       "      <td>2</td>\n",
       "      <td>1</td>\n",
       "    </tr>\n",
       "    <tr>\n",
       "      <th>A0000013</th>\n",
       "      <td>3</td>\n",
       "      <td>5</td>\n",
       "      <td>2</td>\n",
       "      <td>2</td>\n",
       "      <td>1</td>\n",
       "    </tr>\n",
       "    <tr>\n",
       "      <th>A0000015</th>\n",
       "      <td>4</td>\n",
       "      <td>5</td>\n",
       "      <td>2</td>\n",
       "      <td>2</td>\n",
       "      <td>1</td>\n",
       "    </tr>\n",
       "  </tbody>\n",
       "</table>\n",
       "</div>"
      ],
      "text/plain": [
       "             Socio_Demo_01  Socio_Demo_02  Socio_Demo_03  Socio_Demo_04  \\\n",
       "ID_Customer                                                               \n",
       "A0000001                 5              4              3              1   \n",
       "A0000002                 5              5              1              1   \n",
       "A0000003                 5              5              5              2   \n",
       "A0000004                 5              5              3              1   \n",
       "A0000006                 5              5              3              1   \n",
       "A0000007                 5              5              2              2   \n",
       "A0000008                 3              5              2              1   \n",
       "A0000011                 4              5              4              2   \n",
       "A0000013                 3              5              2              2   \n",
       "A0000015                 4              5              2              2   \n",
       "\n",
       "             Socio_Demo_05  \n",
       "ID_Customer                 \n",
       "A0000001                 1  \n",
       "A0000002                 1  \n",
       "A0000003                 1  \n",
       "A0000004                 1  \n",
       "A0000006                 1  \n",
       "A0000007                 1  \n",
       "A0000008                 4  \n",
       "A0000011                 1  \n",
       "A0000013                 1  \n",
       "A0000015                 1  "
      ]
     },
     "execution_count": 130,
     "metadata": {},
     "output_type": "execute_result"
    }
   ],
   "source": [
    "customers.head(10)"
   ]
  },
  {
   "cell_type": "markdown",
   "metadata": {},
   "source": [
    "## Take the 3 most similar users and recommend the most frequent product"
   ]
  },
  {
   "cell_type": "code",
   "execution_count": 131,
   "metadata": {
    "collapsed": true
   },
   "outputs": [],
   "source": [
    "recommendation = pd.Series(data=np.zeros(users.size),index=users)"
   ]
  },
  {
   "cell_type": "code",
   "execution_count": null,
   "metadata": {
    "collapsed": true
   },
   "outputs": [],
   "source": [
    "def recommendProd(user,simVector):\n",
    "    \n",
    "    top3users = np.argsort(simVector)[-4:-1]\n",
    "    "
   ]
  },
  {
   "cell_type": "code",
   "execution_count": 141,
   "metadata": {
    "collapsed": false
   },
   "outputs": [],
   "source": [
    "vector = testMatrix[0]"
   ]
  },
  {
   "cell_type": "code",
   "execution_count": 166,
   "metadata": {
    "collapsed": false
   },
   "outputs": [
    {
     "data": {
      "text/plain": [
       "array([ 1.        ,  0.72755673,  0.82496443,  0.87279483,  0.87279483,\n",
       "        0.80612816,  0.67279483,  0.82209483,  0.69709483,  0.80423769])"
      ]
     },
     "execution_count": 166,
     "metadata": {},
     "output_type": "execute_result"
    }
   ],
   "source": [
    "vector"
   ]
  },
  {
   "cell_type": "code",
   "execution_count": 164,
   "metadata": {
    "collapsed": false
   },
   "outputs": [
    {
     "data": {
      "text/plain": [
       "array([6, 8, 1, 9, 5, 7, 2, 3, 4, 0])"
      ]
     },
     "execution_count": 164,
     "metadata": {},
     "output_type": "execute_result"
    }
   ],
   "source": [
    "np.argsort(vector)"
   ]
  },
  {
   "cell_type": "code",
   "execution_count": 163,
   "metadata": {
    "collapsed": false
   },
   "outputs": [
    {
     "data": {
      "text/plain": [
       "array([0, 1, 3, 2, 4])"
      ]
     },
     "execution_count": 163,
     "metadata": {},
     "output_type": "execute_result"
    }
   ],
   "source": [
    "np.argsort(np.array([0,0,1,0,3]))"
   ]
  },
  {
   "cell_type": "code",
   "execution_count": 154,
   "metadata": {
    "collapsed": false
   },
   "outputs": [
    {
     "data": {
      "text/plain": [
       "ID_Customer  Cod_Prod\n",
       "A0000001     601         1\n",
       "             704         0\n",
       "             1011        1\n",
       "             2501        1\n",
       "             2503        1\n",
       "A0000002     301         1\n",
       "             601         1\n",
       "             801         1\n",
       "             9992        0\n",
       "A0000003     201         0\n",
       "Name: Cod_Prod, dtype: int64"
      ]
     },
     "execution_count": 154,
     "metadata": {},
     "output_type": "execute_result"
    }
   ],
   "source": [
    "groupedDataLastN.head(10)"
   ]
  },
  {
   "cell_type": "code",
   "execution_count": 161,
   "metadata": {
    "collapsed": false
   },
   "outputs": [
    {
     "data": {
      "text/plain": [
       "Cod_Prod\n",
       "301     NaN\n",
       "601     2.0\n",
       "704     NaN\n",
       "801     NaN\n",
       "1011    NaN\n",
       "2501    NaN\n",
       "2503    NaN\n",
       "9992    NaN\n",
       "Name: Cod_Prod, dtype: float64"
      ]
     },
     "execution_count": 161,
     "metadata": {},
     "output_type": "execute_result"
    }
   ],
   "source": [
    "groupedDataLastN['A0000001']+groupedDataLastN['A0000002']"
   ]
  },
  {
   "cell_type": "code",
   "execution_count": null,
   "metadata": {
    "collapsed": true
   },
   "outputs": [],
   "source": []
  },
  {
   "cell_type": "code",
   "execution_count": null,
   "metadata": {
    "collapsed": true
   },
   "outputs": [],
   "source": []
  },
  {
   "cell_type": "code",
   "execution_count": null,
   "metadata": {
    "collapsed": true
   },
   "outputs": [],
   "source": []
  },
  {
   "cell_type": "code",
   "execution_count": null,
   "metadata": {
    "collapsed": true
   },
   "outputs": [],
   "source": []
  },
  {
   "cell_type": "code",
   "execution_count": null,
   "metadata": {
    "collapsed": true
   },
   "outputs": [],
   "source": []
  },
  {
   "cell_type": "code",
   "execution_count": null,
   "metadata": {
    "collapsed": true
   },
   "outputs": [],
   "source": []
  }
 ],
 "metadata": {
  "anaconda-cloud": {},
  "kernelspec": {
   "display_name": "Python [conda root]",
   "language": "python",
   "name": "conda-root-py"
  },
  "language_info": {
   "codemirror_mode": {
    "name": "ipython",
    "version": 2
   },
   "file_extension": ".py",
   "mimetype": "text/x-python",
   "name": "python",
   "nbconvert_exporter": "python",
   "pygments_lexer": "ipython2",
   "version": "2.7.13"
  }
 },
 "nbformat": 4,
 "nbformat_minor": 1
}
