{
 "cells": [
  {
   "cell_type": "markdown",
   "metadata": {},
   "source": [
    "# Designing a test subset"
   ]
  },
  {
   "cell_type": "code",
   "execution_count": 1,
   "metadata": {
    "collapsed": true
   },
   "outputs": [],
   "source": [
    "import numpy as np\n",
    "import pandas as pd\n",
    "import matplotlib.pyplot as plt\n",
    "import math\n",
    "%matplotlib inline"
   ]
  },
  {
   "cell_type": "code",
   "execution_count": 2,
   "metadata": {
    "collapsed": true
   },
   "outputs": [],
   "source": [
    "# set fixed size for plots\n",
    "from matplotlib.pylab import rcParams\n",
    "rcParams['figure.figsize'] = 15, 6"
   ]
  },
  {
   "cell_type": "code",
   "execution_count": 3,
   "metadata": {
    "collapsed": true
   },
   "outputs": [],
   "source": [
    "data = pd.read_csv('train2.txt',sep='|')\n",
    "#test = pd.read_csv('test2.txt', sep='|')"
   ]
  },
  {
   "cell_type": "code",
   "execution_count": 4,
   "metadata": {
    "collapsed": false
   },
   "outputs": [
    {
     "data": {
      "text/html": [
       "<div>\n",
       "<table border=\"1\" class=\"dataframe\">\n",
       "  <thead>\n",
       "    <tr style=\"text-align: right;\">\n",
       "      <th></th>\n",
       "      <th>ID_Customer</th>\n",
       "      <th>Cod_Prod</th>\n",
       "      <th>Cod_Fecha</th>\n",
       "      <th>Socio_Demo_01</th>\n",
       "      <th>Socio_Demo_02</th>\n",
       "      <th>Socio_Demo_03</th>\n",
       "      <th>Socio_Demo_04</th>\n",
       "      <th>Socio_Demo_05</th>\n",
       "    </tr>\n",
       "  </thead>\n",
       "  <tbody>\n",
       "    <tr>\n",
       "      <th>0</th>\n",
       "      <td>A0000001</td>\n",
       "      <td>601</td>\n",
       "      <td>2007-05</td>\n",
       "      <td>5</td>\n",
       "      <td>4</td>\n",
       "      <td>3</td>\n",
       "      <td>1</td>\n",
       "      <td>0</td>\n",
       "    </tr>\n",
       "    <tr>\n",
       "      <th>1</th>\n",
       "      <td>A0000001</td>\n",
       "      <td>704</td>\n",
       "      <td>2013-04</td>\n",
       "      <td>5</td>\n",
       "      <td>4</td>\n",
       "      <td>3</td>\n",
       "      <td>1</td>\n",
       "      <td>0</td>\n",
       "    </tr>\n",
       "    <tr>\n",
       "      <th>2</th>\n",
       "      <td>A0000001</td>\n",
       "      <td>2501</td>\n",
       "      <td>2006-03</td>\n",
       "      <td>5</td>\n",
       "      <td>4</td>\n",
       "      <td>3</td>\n",
       "      <td>1</td>\n",
       "      <td>0</td>\n",
       "    </tr>\n",
       "    <tr>\n",
       "      <th>3</th>\n",
       "      <td>A0000001</td>\n",
       "      <td>2503</td>\n",
       "      <td>2006-03</td>\n",
       "      <td>5</td>\n",
       "      <td>4</td>\n",
       "      <td>3</td>\n",
       "      <td>1</td>\n",
       "      <td>0</td>\n",
       "    </tr>\n",
       "    <tr>\n",
       "      <th>4</th>\n",
       "      <td>A0000001</td>\n",
       "      <td>1011</td>\n",
       "      <td>2011-04</td>\n",
       "      <td>5</td>\n",
       "      <td>4</td>\n",
       "      <td>3</td>\n",
       "      <td>1</td>\n",
       "      <td>0</td>\n",
       "    </tr>\n",
       "  </tbody>\n",
       "</table>\n",
       "</div>"
      ],
      "text/plain": [
       "  ID_Customer  Cod_Prod Cod_Fecha  Socio_Demo_01  Socio_Demo_02  \\\n",
       "0    A0000001       601   2007-05              5              4   \n",
       "1    A0000001       704   2013-04              5              4   \n",
       "2    A0000001      2501   2006-03              5              4   \n",
       "3    A0000001      2503   2006-03              5              4   \n",
       "4    A0000001      1011   2011-04              5              4   \n",
       "\n",
       "   Socio_Demo_03  Socio_Demo_04  Socio_Demo_05  \n",
       "0              3              1              0  \n",
       "1              3              1              0  \n",
       "2              3              1              0  \n",
       "3              3              1              0  \n",
       "4              3              1              0  "
      ]
     },
     "execution_count": 4,
     "metadata": {},
     "output_type": "execute_result"
    }
   ],
   "source": [
    "data.head()"
   ]
  },
  {
   "cell_type": "code",
   "execution_count": 5,
   "metadata": {
    "collapsed": false
   },
   "outputs": [
    {
     "data": {
      "text/plain": [
       "(3350601, 8)"
      ]
     },
     "execution_count": 5,
     "metadata": {},
     "output_type": "execute_result"
    }
   ],
   "source": [
    "data.shape"
   ]
  },
  {
   "cell_type": "code",
   "execution_count": 6,
   "metadata": {
    "collapsed": false
   },
   "outputs": [
    {
     "data": {
      "text/plain": [
       "676370"
      ]
     },
     "execution_count": 6,
     "metadata": {},
     "output_type": "execute_result"
    }
   ],
   "source": [
    "data.ID_Customer.unique().size"
   ]
  },
  {
   "cell_type": "markdown",
   "metadata": {},
   "source": [
    "## We could have a tenth of data for test"
   ]
  },
  {
   "cell_type": "code",
   "execution_count": 7,
   "metadata": {
    "collapsed": true
   },
   "outputs": [],
   "source": [
    "#Sort data by date\n",
    "data.sort_values(by='Cod_Fecha',inplace=True)"
   ]
  },
  {
   "cell_type": "code",
   "execution_count": 8,
   "metadata": {
    "collapsed": false
   },
   "outputs": [
    {
     "data": {
      "text/html": [
       "<div>\n",
       "<table border=\"1\" class=\"dataframe\">\n",
       "  <thead>\n",
       "    <tr style=\"text-align: right;\">\n",
       "      <th></th>\n",
       "      <th>ID_Customer</th>\n",
       "      <th>Cod_Prod</th>\n",
       "      <th>Cod_Fecha</th>\n",
       "      <th>Socio_Demo_01</th>\n",
       "      <th>Socio_Demo_02</th>\n",
       "      <th>Socio_Demo_03</th>\n",
       "      <th>Socio_Demo_04</th>\n",
       "      <th>Socio_Demo_05</th>\n",
       "    </tr>\n",
       "  </thead>\n",
       "  <tbody>\n",
       "    <tr>\n",
       "      <th>2451333</th>\n",
       "      <td>A0495929</td>\n",
       "      <td>601</td>\n",
       "      <td>1954-03</td>\n",
       "      <td>4</td>\n",
       "      <td>5</td>\n",
       "      <td>1</td>\n",
       "      <td>2</td>\n",
       "      <td>0</td>\n",
       "    </tr>\n",
       "    <tr>\n",
       "      <th>2451337</th>\n",
       "      <td>A0495930</td>\n",
       "      <td>601</td>\n",
       "      <td>1954-03</td>\n",
       "      <td>4</td>\n",
       "      <td>5</td>\n",
       "      <td>5</td>\n",
       "      <td>1</td>\n",
       "      <td>0</td>\n",
       "    </tr>\n",
       "    <tr>\n",
       "      <th>2451597</th>\n",
       "      <td>A0495990</td>\n",
       "      <td>601</td>\n",
       "      <td>1954-09</td>\n",
       "      <td>4</td>\n",
       "      <td>5</td>\n",
       "      <td>2</td>\n",
       "      <td>2</td>\n",
       "      <td>0</td>\n",
       "    </tr>\n",
       "    <tr>\n",
       "      <th>2451390</th>\n",
       "      <td>A0495941</td>\n",
       "      <td>601</td>\n",
       "      <td>1956-05</td>\n",
       "      <td>5</td>\n",
       "      <td>5</td>\n",
       "      <td>3</td>\n",
       "      <td>1</td>\n",
       "      <td>0</td>\n",
       "    </tr>\n",
       "    <tr>\n",
       "      <th>2451523</th>\n",
       "      <td>A0495975</td>\n",
       "      <td>601</td>\n",
       "      <td>1956-11</td>\n",
       "      <td>4</td>\n",
       "      <td>5</td>\n",
       "      <td>2</td>\n",
       "      <td>1</td>\n",
       "      <td>0</td>\n",
       "    </tr>\n",
       "  </tbody>\n",
       "</table>\n",
       "</div>"
      ],
      "text/plain": [
       "        ID_Customer  Cod_Prod Cod_Fecha  Socio_Demo_01  Socio_Demo_02  \\\n",
       "2451333    A0495929       601   1954-03              4              5   \n",
       "2451337    A0495930       601   1954-03              4              5   \n",
       "2451597    A0495990       601   1954-09              4              5   \n",
       "2451390    A0495941       601   1956-05              5              5   \n",
       "2451523    A0495975       601   1956-11              4              5   \n",
       "\n",
       "         Socio_Demo_03  Socio_Demo_04  Socio_Demo_05  \n",
       "2451333              1              2              0  \n",
       "2451337              5              1              0  \n",
       "2451597              2              2              0  \n",
       "2451390              3              1              0  \n",
       "2451523              2              1              0  "
      ]
     },
     "execution_count": 8,
     "metadata": {},
     "output_type": "execute_result"
    }
   ],
   "source": [
    "data.head()"
   ]
  },
  {
   "cell_type": "code",
   "execution_count": 9,
   "metadata": {
    "collapsed": true
   },
   "outputs": [],
   "source": [
    "#Last product of every customer\n",
    "idAndLastProd = data.groupby('ID_Customer').last()"
   ]
  },
  {
   "cell_type": "code",
   "execution_count": 10,
   "metadata": {
    "collapsed": false
   },
   "outputs": [
    {
     "data": {
      "text/html": [
       "<div>\n",
       "<table border=\"1\" class=\"dataframe\">\n",
       "  <thead>\n",
       "    <tr style=\"text-align: right;\">\n",
       "      <th></th>\n",
       "      <th>Cod_Prod</th>\n",
       "      <th>Cod_Fecha</th>\n",
       "      <th>Socio_Demo_01</th>\n",
       "      <th>Socio_Demo_02</th>\n",
       "      <th>Socio_Demo_03</th>\n",
       "      <th>Socio_Demo_04</th>\n",
       "      <th>Socio_Demo_05</th>\n",
       "    </tr>\n",
       "    <tr>\n",
       "      <th>ID_Customer</th>\n",
       "      <th></th>\n",
       "      <th></th>\n",
       "      <th></th>\n",
       "      <th></th>\n",
       "      <th></th>\n",
       "      <th></th>\n",
       "      <th></th>\n",
       "    </tr>\n",
       "  </thead>\n",
       "  <tbody>\n",
       "    <tr>\n",
       "      <th>A0000001</th>\n",
       "      <td>704</td>\n",
       "      <td>2013-04</td>\n",
       "      <td>5</td>\n",
       "      <td>4</td>\n",
       "      <td>3</td>\n",
       "      <td>1</td>\n",
       "      <td>0</td>\n",
       "    </tr>\n",
       "    <tr>\n",
       "      <th>A0000002</th>\n",
       "      <td>9992</td>\n",
       "      <td>2015-02</td>\n",
       "      <td>5</td>\n",
       "      <td>5</td>\n",
       "      <td>1</td>\n",
       "      <td>1</td>\n",
       "      <td>0</td>\n",
       "    </tr>\n",
       "    <tr>\n",
       "      <th>A0000003</th>\n",
       "      <td>201</td>\n",
       "      <td>2016-02</td>\n",
       "      <td>5</td>\n",
       "      <td>5</td>\n",
       "      <td>5</td>\n",
       "      <td>2</td>\n",
       "      <td>0</td>\n",
       "    </tr>\n",
       "    <tr>\n",
       "      <th>A0000004</th>\n",
       "      <td>2301</td>\n",
       "      <td>2016-05</td>\n",
       "      <td>5</td>\n",
       "      <td>5</td>\n",
       "      <td>3</td>\n",
       "      <td>1</td>\n",
       "      <td>0</td>\n",
       "    </tr>\n",
       "    <tr>\n",
       "      <th>A0000005</th>\n",
       "      <td>301</td>\n",
       "      <td>1984-04</td>\n",
       "      <td>5</td>\n",
       "      <td>5</td>\n",
       "      <td>3</td>\n",
       "      <td>1</td>\n",
       "      <td>0</td>\n",
       "    </tr>\n",
       "  </tbody>\n",
       "</table>\n",
       "</div>"
      ],
      "text/plain": [
       "             Cod_Prod Cod_Fecha  Socio_Demo_01  Socio_Demo_02  Socio_Demo_03  \\\n",
       "ID_Customer                                                                    \n",
       "A0000001          704   2013-04              5              4              3   \n",
       "A0000002         9992   2015-02              5              5              1   \n",
       "A0000003          201   2016-02              5              5              5   \n",
       "A0000004         2301   2016-05              5              5              3   \n",
       "A0000005          301   1984-04              5              5              3   \n",
       "\n",
       "             Socio_Demo_04  Socio_Demo_05  \n",
       "ID_Customer                                \n",
       "A0000001                 1              0  \n",
       "A0000002                 1              0  \n",
       "A0000003                 2              0  \n",
       "A0000004                 1              0  \n",
       "A0000005                 1              0  "
      ]
     },
     "execution_count": 10,
     "metadata": {},
     "output_type": "execute_result"
    }
   ],
   "source": [
    "idAndLastProd.head()"
   ]
  },
  {
   "cell_type": "code",
   "execution_count": 11,
   "metadata": {
    "collapsed": false
   },
   "outputs": [
    {
     "data": {
      "text/plain": [
       "(676370, 7)"
      ]
     },
     "execution_count": 11,
     "metadata": {},
     "output_type": "execute_result"
    }
   ],
   "source": [
    "idAndLastProd.shape"
   ]
  },
  {
   "cell_type": "code",
   "execution_count": 12,
   "metadata": {
    "collapsed": true
   },
   "outputs": [],
   "source": [
    "idAndLastProd['Year'] = idAndLastProd.Cod_Fecha.apply(lambda x: int(x[:4]) )\n",
    "idAndLastProd['Month'] = idAndLastProd.Cod_Fecha.apply(lambda x: int(x[-2:]) )"
   ]
  },
  {
   "cell_type": "code",
   "execution_count": 13,
   "metadata": {
    "collapsed": false
   },
   "outputs": [
    {
     "data": {
      "text/html": [
       "<div>\n",
       "<table border=\"1\" class=\"dataframe\">\n",
       "  <thead>\n",
       "    <tr style=\"text-align: right;\">\n",
       "      <th></th>\n",
       "      <th>Cod_Prod</th>\n",
       "      <th>Cod_Fecha</th>\n",
       "      <th>Socio_Demo_01</th>\n",
       "      <th>Socio_Demo_02</th>\n",
       "      <th>Socio_Demo_03</th>\n",
       "      <th>Socio_Demo_04</th>\n",
       "      <th>Socio_Demo_05</th>\n",
       "      <th>Year</th>\n",
       "      <th>Month</th>\n",
       "    </tr>\n",
       "    <tr>\n",
       "      <th>ID_Customer</th>\n",
       "      <th></th>\n",
       "      <th></th>\n",
       "      <th></th>\n",
       "      <th></th>\n",
       "      <th></th>\n",
       "      <th></th>\n",
       "      <th></th>\n",
       "      <th></th>\n",
       "      <th></th>\n",
       "    </tr>\n",
       "  </thead>\n",
       "  <tbody>\n",
       "    <tr>\n",
       "      <th>A0000001</th>\n",
       "      <td>704</td>\n",
       "      <td>2013-04</td>\n",
       "      <td>5</td>\n",
       "      <td>4</td>\n",
       "      <td>3</td>\n",
       "      <td>1</td>\n",
       "      <td>0</td>\n",
       "      <td>2013</td>\n",
       "      <td>4</td>\n",
       "    </tr>\n",
       "    <tr>\n",
       "      <th>A0000002</th>\n",
       "      <td>9992</td>\n",
       "      <td>2015-02</td>\n",
       "      <td>5</td>\n",
       "      <td>5</td>\n",
       "      <td>1</td>\n",
       "      <td>1</td>\n",
       "      <td>0</td>\n",
       "      <td>2015</td>\n",
       "      <td>2</td>\n",
       "    </tr>\n",
       "    <tr>\n",
       "      <th>A0000003</th>\n",
       "      <td>201</td>\n",
       "      <td>2016-02</td>\n",
       "      <td>5</td>\n",
       "      <td>5</td>\n",
       "      <td>5</td>\n",
       "      <td>2</td>\n",
       "      <td>0</td>\n",
       "      <td>2016</td>\n",
       "      <td>2</td>\n",
       "    </tr>\n",
       "    <tr>\n",
       "      <th>A0000004</th>\n",
       "      <td>2301</td>\n",
       "      <td>2016-05</td>\n",
       "      <td>5</td>\n",
       "      <td>5</td>\n",
       "      <td>3</td>\n",
       "      <td>1</td>\n",
       "      <td>0</td>\n",
       "      <td>2016</td>\n",
       "      <td>5</td>\n",
       "    </tr>\n",
       "    <tr>\n",
       "      <th>A0000005</th>\n",
       "      <td>301</td>\n",
       "      <td>1984-04</td>\n",
       "      <td>5</td>\n",
       "      <td>5</td>\n",
       "      <td>3</td>\n",
       "      <td>1</td>\n",
       "      <td>0</td>\n",
       "      <td>1984</td>\n",
       "      <td>4</td>\n",
       "    </tr>\n",
       "  </tbody>\n",
       "</table>\n",
       "</div>"
      ],
      "text/plain": [
       "             Cod_Prod Cod_Fecha  Socio_Demo_01  Socio_Demo_02  Socio_Demo_03  \\\n",
       "ID_Customer                                                                    \n",
       "A0000001          704   2013-04              5              4              3   \n",
       "A0000002         9992   2015-02              5              5              1   \n",
       "A0000003          201   2016-02              5              5              5   \n",
       "A0000004         2301   2016-05              5              5              3   \n",
       "A0000005          301   1984-04              5              5              3   \n",
       "\n",
       "             Socio_Demo_04  Socio_Demo_05  Year  Month  \n",
       "ID_Customer                                             \n",
       "A0000001                 1              0  2013      4  \n",
       "A0000002                 1              0  2015      2  \n",
       "A0000003                 2              0  2016      2  \n",
       "A0000004                 1              0  2016      5  \n",
       "A0000005                 1              0  1984      4  "
      ]
     },
     "execution_count": 13,
     "metadata": {},
     "output_type": "execute_result"
    }
   ],
   "source": [
    "idAndLastProd.head()"
   ]
  },
  {
   "cell_type": "markdown",
   "metadata": {},
   "source": [
    "### Number of clients with the last product purchased in last N years"
   ]
  },
  {
   "cell_type": "code",
   "execution_count": 20,
   "metadata": {
    "collapsed": true
   },
   "outputs": [],
   "source": [
    "N_YEARS = 5"
   ]
  },
  {
   "cell_type": "code",
   "execution_count": 21,
   "metadata": {
    "collapsed": false
   },
   "outputs": [
    {
     "name": "stdout",
     "output_type": "stream",
     "text": [
      "Clients with older products:  154263 22.8074870263 %\n",
      "Clients with recent products:  522107 77.1925129737 %\n"
     ]
    }
   ],
   "source": [
    "print 'Clients with older products: ', idAndLastProd[idAndLastProd.Year < 2017 - N_YEARS].shape[0], idAndLastProd[idAndLastProd.Year < 2017 - N_YEARS].shape[0]/float(idAndLastProd.shape[0])*100, '%'\n",
    "print 'Clients with recent products: ', idAndLastProd[idAndLastProd.Year >= 2017 - N_YEARS].shape[0], idAndLastProd[idAndLastProd.Year >= 2017 - N_YEARS].shape[0]/float(idAndLastProd.shape[0])*100, '%'"
   ]
  },
  {
   "cell_type": "code",
   "execution_count": 74,
   "metadata": {
    "collapsed": false
   },
   "outputs": [],
   "source": [
    "clients_test = idAndLastProd[idAndLastProd.Year >= 2017 - N_YEARS].index.values\n",
    "clients_train = idAndLastProd[idAndLastProd.Year < 2017 - N_YEARS].index.values"
   ]
  },
  {
   "cell_type": "code",
   "execution_count": 69,
   "metadata": {
    "collapsed": true
   },
   "outputs": [],
   "source": [
    "def selectClients(data,clients):\n",
    "    #df is a dataframe\n",
    "    #clients is an array of strings\n",
    "    df = pd.DataFrame(columns=data.columns.values)\n",
    "    df = data[data.ID_Customer.isin(clients)]\n",
    "    \n",
    "    return df"
   ]
  },
  {
   "cell_type": "code",
   "execution_count": 70,
   "metadata": {
    "collapsed": false
   },
   "outputs": [],
   "source": [
    "data_test = selectClients(data,clients_test)"
   ]
  },
  {
   "cell_type": "code",
   "execution_count": 77,
   "metadata": {
    "collapsed": false
   },
   "outputs": [
    {
     "name": "stdout",
     "output_type": "stream",
     "text": [
      "(1400328, 8) 202655\n"
     ]
    }
   ],
   "source": [
    "print data_test.shape, data_test.ID_Customer.unique().size"
   ]
  },
  {
   "cell_type": "code",
   "execution_count": 75,
   "metadata": {
    "collapsed": true
   },
   "outputs": [],
   "source": [
    "data_train = selectClients(data,clients_train)"
   ]
  },
  {
   "cell_type": "code",
   "execution_count": 76,
   "metadata": {
    "collapsed": false
   },
   "outputs": [
    {
     "name": "stdout",
     "output_type": "stream",
     "text": [
      "(1950273, 8) 473715\n"
     ]
    }
   ],
   "source": [
    "print data_train.shape, data_train.ID_Customer.unique().size"
   ]
  },
  {
   "cell_type": "markdown",
   "metadata": {},
   "source": [
    "# We could even divide our test clients in 10 folds (To think about it)"
   ]
  },
  {
   "cell_type": "markdown",
   "metadata": {},
   "source": [
    "# Let's construct a matrix with product purchase by user and socio_demo features"
   ]
  },
  {
   "cell_type": "code",
   "execution_count": 107,
   "metadata": {
    "collapsed": true
   },
   "outputs": [],
   "source": [
    "colnames = np.concatenate((data.Cod_Prod.unique(),data.columns[-5:].values))\n",
    "colnames.sort()\n",
    "rownames = data_train.ID_Customer.unique()\n",
    "rownames.sort()\n",
    "idVSProdSocioDemo = pd.DataFrame(data=np.zeros((rownames.size,colnames.size)),columns=colnames,index=rownames,dtype=int)"
   ]
  },
  {
   "cell_type": "code",
   "execution_count": 108,
   "metadata": {
    "collapsed": false
   },
   "outputs": [
    {
     "data": {
      "text/html": [
       "<div>\n",
       "<table border=\"1\" class=\"dataframe\">\n",
       "  <thead>\n",
       "    <tr style=\"text-align: right;\">\n",
       "      <th></th>\n",
       "      <th>101</th>\n",
       "      <th>102</th>\n",
       "      <th>103</th>\n",
       "      <th>104</th>\n",
       "      <th>201</th>\n",
       "      <th>301</th>\n",
       "      <th>502</th>\n",
       "      <th>503</th>\n",
       "      <th>504</th>\n",
       "      <th>506</th>\n",
       "      <th>...</th>\n",
       "      <th>3101</th>\n",
       "      <th>3401</th>\n",
       "      <th>9991</th>\n",
       "      <th>9992</th>\n",
       "      <th>9993</th>\n",
       "      <th>Socio_Demo_01</th>\n",
       "      <th>Socio_Demo_02</th>\n",
       "      <th>Socio_Demo_03</th>\n",
       "      <th>Socio_Demo_04</th>\n",
       "      <th>Socio_Demo_05</th>\n",
       "    </tr>\n",
       "  </thead>\n",
       "  <tbody>\n",
       "    <tr>\n",
       "      <th>A0000001</th>\n",
       "      <td>0</td>\n",
       "      <td>0</td>\n",
       "      <td>0</td>\n",
       "      <td>0</td>\n",
       "      <td>0</td>\n",
       "      <td>0</td>\n",
       "      <td>0</td>\n",
       "      <td>0</td>\n",
       "      <td>0</td>\n",
       "      <td>0</td>\n",
       "      <td>...</td>\n",
       "      <td>0</td>\n",
       "      <td>0</td>\n",
       "      <td>0</td>\n",
       "      <td>0</td>\n",
       "      <td>0</td>\n",
       "      <td>0</td>\n",
       "      <td>0</td>\n",
       "      <td>0</td>\n",
       "      <td>0</td>\n",
       "      <td>0</td>\n",
       "    </tr>\n",
       "    <tr>\n",
       "      <th>A0000002</th>\n",
       "      <td>0</td>\n",
       "      <td>0</td>\n",
       "      <td>0</td>\n",
       "      <td>0</td>\n",
       "      <td>0</td>\n",
       "      <td>0</td>\n",
       "      <td>0</td>\n",
       "      <td>0</td>\n",
       "      <td>0</td>\n",
       "      <td>0</td>\n",
       "      <td>...</td>\n",
       "      <td>0</td>\n",
       "      <td>0</td>\n",
       "      <td>0</td>\n",
       "      <td>0</td>\n",
       "      <td>0</td>\n",
       "      <td>0</td>\n",
       "      <td>0</td>\n",
       "      <td>0</td>\n",
       "      <td>0</td>\n",
       "      <td>0</td>\n",
       "    </tr>\n",
       "    <tr>\n",
       "      <th>A0000005</th>\n",
       "      <td>0</td>\n",
       "      <td>0</td>\n",
       "      <td>0</td>\n",
       "      <td>0</td>\n",
       "      <td>0</td>\n",
       "      <td>0</td>\n",
       "      <td>0</td>\n",
       "      <td>0</td>\n",
       "      <td>0</td>\n",
       "      <td>0</td>\n",
       "      <td>...</td>\n",
       "      <td>0</td>\n",
       "      <td>0</td>\n",
       "      <td>0</td>\n",
       "      <td>0</td>\n",
       "      <td>0</td>\n",
       "      <td>0</td>\n",
       "      <td>0</td>\n",
       "      <td>0</td>\n",
       "      <td>0</td>\n",
       "      <td>0</td>\n",
       "    </tr>\n",
       "    <tr>\n",
       "      <th>A0000006</th>\n",
       "      <td>0</td>\n",
       "      <td>0</td>\n",
       "      <td>0</td>\n",
       "      <td>0</td>\n",
       "      <td>0</td>\n",
       "      <td>0</td>\n",
       "      <td>0</td>\n",
       "      <td>0</td>\n",
       "      <td>0</td>\n",
       "      <td>0</td>\n",
       "      <td>...</td>\n",
       "      <td>0</td>\n",
       "      <td>0</td>\n",
       "      <td>0</td>\n",
       "      <td>0</td>\n",
       "      <td>0</td>\n",
       "      <td>0</td>\n",
       "      <td>0</td>\n",
       "      <td>0</td>\n",
       "      <td>0</td>\n",
       "      <td>0</td>\n",
       "    </tr>\n",
       "    <tr>\n",
       "      <th>A0000007</th>\n",
       "      <td>0</td>\n",
       "      <td>0</td>\n",
       "      <td>0</td>\n",
       "      <td>0</td>\n",
       "      <td>0</td>\n",
       "      <td>0</td>\n",
       "      <td>0</td>\n",
       "      <td>0</td>\n",
       "      <td>0</td>\n",
       "      <td>0</td>\n",
       "      <td>...</td>\n",
       "      <td>0</td>\n",
       "      <td>0</td>\n",
       "      <td>0</td>\n",
       "      <td>0</td>\n",
       "      <td>0</td>\n",
       "      <td>0</td>\n",
       "      <td>0</td>\n",
       "      <td>0</td>\n",
       "      <td>0</td>\n",
       "      <td>0</td>\n",
       "    </tr>\n",
       "  </tbody>\n",
       "</table>\n",
       "<p>5 rows × 99 columns</p>\n",
       "</div>"
      ],
      "text/plain": [
       "          101  102  103  104  201  301  502  503  504  506      ...        \\\n",
       "A0000001    0    0    0    0    0    0    0    0    0    0      ...         \n",
       "A0000002    0    0    0    0    0    0    0    0    0    0      ...         \n",
       "A0000005    0    0    0    0    0    0    0    0    0    0      ...         \n",
       "A0000006    0    0    0    0    0    0    0    0    0    0      ...         \n",
       "A0000007    0    0    0    0    0    0    0    0    0    0      ...         \n",
       "\n",
       "          3101  3401  9991  9992  9993  Socio_Demo_01  Socio_Demo_02  \\\n",
       "A0000001     0     0     0     0     0              0              0   \n",
       "A0000002     0     0     0     0     0              0              0   \n",
       "A0000005     0     0     0     0     0              0              0   \n",
       "A0000006     0     0     0     0     0              0              0   \n",
       "A0000007     0     0     0     0     0              0              0   \n",
       "\n",
       "          Socio_Demo_03  Socio_Demo_04  Socio_Demo_05  \n",
       "A0000001              0              0              0  \n",
       "A0000002              0              0              0  \n",
       "A0000005              0              0              0  \n",
       "A0000006              0              0              0  \n",
       "A0000007              0              0              0  \n",
       "\n",
       "[5 rows x 99 columns]"
      ]
     },
     "execution_count": 108,
     "metadata": {},
     "output_type": "execute_result"
    }
   ],
   "source": [
    "idVSProdSocioDemo.head()"
   ]
  },
  {
   "cell_type": "code",
   "execution_count": 92,
   "metadata": {
    "collapsed": false
   },
   "outputs": [
    {
     "data": {
      "text/plain": [
       "ID_Customer  Cod_Prod\n",
       "A0000001     601         1\n",
       "             704         1\n",
       "             1011        1\n",
       "             2501        1\n",
       "             2503        1\n",
       "Name: Cod_Prod, dtype: int64"
      ]
     },
     "execution_count": 92,
     "metadata": {},
     "output_type": "execute_result"
    }
   ],
   "source": [
    "groupedDataTrain = data_train.groupby(['ID_Customer','Cod_Prod'])['Cod_Prod'].count()\n",
    "groupedDataTrain.head()"
   ]
  },
  {
   "cell_type": "markdown",
   "metadata": {},
   "source": [
    "### Fill the matrix with the product purchase"
   ]
  },
  {
   "cell_type": "code",
   "execution_count": 109,
   "metadata": {
    "collapsed": true
   },
   "outputs": [],
   "source": [
    "# Slow\n",
    "for product in groupedDataTrain.index.levels[1].values:\n",
    "    columna = groupedDataTrain[:,product]\n",
    "    idVSProdSocioDemo.loc[columna.index,product] = columna.values"
   ]
  },
  {
   "cell_type": "markdown",
   "metadata": {},
   "source": [
    "### Fill the matrix with the customer description"
   ]
  },
  {
   "cell_type": "code",
   "execution_count": 102,
   "metadata": {
    "collapsed": true
   },
   "outputs": [],
   "source": [
    "socio_demo = data_train.groupby(['ID_Customer'])['Socio_Demo_01','Socio_Demo_02','Socio_Demo_03','Socio_Demo_04','Socio_Demo_05'].first()"
   ]
  },
  {
   "cell_type": "code",
   "execution_count": 104,
   "metadata": {
    "collapsed": false
   },
   "outputs": [
    {
     "data": {
      "text/plain": [
       "(473715, 5)"
      ]
     },
     "execution_count": 104,
     "metadata": {},
     "output_type": "execute_result"
    }
   ],
   "source": [
    "socio_demo.shape"
   ]
  },
  {
   "cell_type": "code",
   "execution_count": 105,
   "metadata": {
    "collapsed": false
   },
   "outputs": [
    {
     "data": {
      "text/html": [
       "<div>\n",
       "<table border=\"1\" class=\"dataframe\">\n",
       "  <thead>\n",
       "    <tr style=\"text-align: right;\">\n",
       "      <th></th>\n",
       "      <th>Socio_Demo_01</th>\n",
       "      <th>Socio_Demo_02</th>\n",
       "      <th>Socio_Demo_03</th>\n",
       "      <th>Socio_Demo_04</th>\n",
       "      <th>Socio_Demo_05</th>\n",
       "    </tr>\n",
       "    <tr>\n",
       "      <th>ID_Customer</th>\n",
       "      <th></th>\n",
       "      <th></th>\n",
       "      <th></th>\n",
       "      <th></th>\n",
       "      <th></th>\n",
       "    </tr>\n",
       "  </thead>\n",
       "  <tbody>\n",
       "    <tr>\n",
       "      <th>A0000001</th>\n",
       "      <td>5</td>\n",
       "      <td>4</td>\n",
       "      <td>3</td>\n",
       "      <td>1</td>\n",
       "      <td>0</td>\n",
       "    </tr>\n",
       "    <tr>\n",
       "      <th>A0000002</th>\n",
       "      <td>5</td>\n",
       "      <td>5</td>\n",
       "      <td>1</td>\n",
       "      <td>1</td>\n",
       "      <td>0</td>\n",
       "    </tr>\n",
       "    <tr>\n",
       "      <th>A0000005</th>\n",
       "      <td>5</td>\n",
       "      <td>5</td>\n",
       "      <td>3</td>\n",
       "      <td>1</td>\n",
       "      <td>0</td>\n",
       "    </tr>\n",
       "    <tr>\n",
       "      <th>A0000006</th>\n",
       "      <td>5</td>\n",
       "      <td>5</td>\n",
       "      <td>3</td>\n",
       "      <td>1</td>\n",
       "      <td>0</td>\n",
       "    </tr>\n",
       "    <tr>\n",
       "      <th>A0000007</th>\n",
       "      <td>5</td>\n",
       "      <td>5</td>\n",
       "      <td>2</td>\n",
       "      <td>2</td>\n",
       "      <td>0</td>\n",
       "    </tr>\n",
       "  </tbody>\n",
       "</table>\n",
       "</div>"
      ],
      "text/plain": [
       "             Socio_Demo_01  Socio_Demo_02  Socio_Demo_03  Socio_Demo_04  \\\n",
       "ID_Customer                                                               \n",
       "A0000001                 5              4              3              1   \n",
       "A0000002                 5              5              1              1   \n",
       "A0000005                 5              5              3              1   \n",
       "A0000006                 5              5              3              1   \n",
       "A0000007                 5              5              2              2   \n",
       "\n",
       "             Socio_Demo_05  \n",
       "ID_Customer                 \n",
       "A0000001                 0  \n",
       "A0000002                 0  \n",
       "A0000005                 0  \n",
       "A0000006                 0  \n",
       "A0000007                 0  "
      ]
     },
     "execution_count": 105,
     "metadata": {},
     "output_type": "execute_result"
    }
   ],
   "source": [
    "socio_demo.head()"
   ]
  },
  {
   "cell_type": "code",
   "execution_count": 110,
   "metadata": {
    "collapsed": true
   },
   "outputs": [],
   "source": [
    "idVSProdSocioDemo.loc[socio_demo.index,['Socio_Demo_01','Socio_Demo_02','Socio_Demo_03','Socio_Demo_04','Socio_Demo_05']] = socio_demo.values"
   ]
  },
  {
   "cell_type": "code",
   "execution_count": 111,
   "metadata": {
    "collapsed": false
   },
   "outputs": [
    {
     "data": {
      "text/html": [
       "<div>\n",
       "<table border=\"1\" class=\"dataframe\">\n",
       "  <thead>\n",
       "    <tr style=\"text-align: right;\">\n",
       "      <th></th>\n",
       "      <th>101</th>\n",
       "      <th>102</th>\n",
       "      <th>103</th>\n",
       "      <th>104</th>\n",
       "      <th>201</th>\n",
       "      <th>301</th>\n",
       "      <th>502</th>\n",
       "      <th>503</th>\n",
       "      <th>504</th>\n",
       "      <th>506</th>\n",
       "      <th>...</th>\n",
       "      <th>3101</th>\n",
       "      <th>3401</th>\n",
       "      <th>9991</th>\n",
       "      <th>9992</th>\n",
       "      <th>9993</th>\n",
       "      <th>Socio_Demo_01</th>\n",
       "      <th>Socio_Demo_02</th>\n",
       "      <th>Socio_Demo_03</th>\n",
       "      <th>Socio_Demo_04</th>\n",
       "      <th>Socio_Demo_05</th>\n",
       "    </tr>\n",
       "  </thead>\n",
       "  <tbody>\n",
       "    <tr>\n",
       "      <th>A0000001</th>\n",
       "      <td>0</td>\n",
       "      <td>0</td>\n",
       "      <td>0</td>\n",
       "      <td>0</td>\n",
       "      <td>0</td>\n",
       "      <td>0</td>\n",
       "      <td>0</td>\n",
       "      <td>0</td>\n",
       "      <td>0</td>\n",
       "      <td>0</td>\n",
       "      <td>...</td>\n",
       "      <td>0</td>\n",
       "      <td>0</td>\n",
       "      <td>0</td>\n",
       "      <td>0</td>\n",
       "      <td>0</td>\n",
       "      <td>5</td>\n",
       "      <td>4</td>\n",
       "      <td>3</td>\n",
       "      <td>1</td>\n",
       "      <td>0</td>\n",
       "    </tr>\n",
       "    <tr>\n",
       "      <th>A0000002</th>\n",
       "      <td>0</td>\n",
       "      <td>0</td>\n",
       "      <td>0</td>\n",
       "      <td>0</td>\n",
       "      <td>0</td>\n",
       "      <td>1</td>\n",
       "      <td>0</td>\n",
       "      <td>0</td>\n",
       "      <td>0</td>\n",
       "      <td>0</td>\n",
       "      <td>...</td>\n",
       "      <td>0</td>\n",
       "      <td>0</td>\n",
       "      <td>0</td>\n",
       "      <td>1</td>\n",
       "      <td>0</td>\n",
       "      <td>5</td>\n",
       "      <td>5</td>\n",
       "      <td>1</td>\n",
       "      <td>1</td>\n",
       "      <td>0</td>\n",
       "    </tr>\n",
       "    <tr>\n",
       "      <th>A0000005</th>\n",
       "      <td>0</td>\n",
       "      <td>0</td>\n",
       "      <td>0</td>\n",
       "      <td>0</td>\n",
       "      <td>0</td>\n",
       "      <td>1</td>\n",
       "      <td>0</td>\n",
       "      <td>0</td>\n",
       "      <td>0</td>\n",
       "      <td>0</td>\n",
       "      <td>...</td>\n",
       "      <td>0</td>\n",
       "      <td>0</td>\n",
       "      <td>0</td>\n",
       "      <td>0</td>\n",
       "      <td>0</td>\n",
       "      <td>5</td>\n",
       "      <td>5</td>\n",
       "      <td>3</td>\n",
       "      <td>1</td>\n",
       "      <td>0</td>\n",
       "    </tr>\n",
       "    <tr>\n",
       "      <th>A0000006</th>\n",
       "      <td>0</td>\n",
       "      <td>0</td>\n",
       "      <td>0</td>\n",
       "      <td>0</td>\n",
       "      <td>0</td>\n",
       "      <td>1</td>\n",
       "      <td>0</td>\n",
       "      <td>0</td>\n",
       "      <td>0</td>\n",
       "      <td>0</td>\n",
       "      <td>...</td>\n",
       "      <td>0</td>\n",
       "      <td>0</td>\n",
       "      <td>1</td>\n",
       "      <td>0</td>\n",
       "      <td>1</td>\n",
       "      <td>5</td>\n",
       "      <td>5</td>\n",
       "      <td>3</td>\n",
       "      <td>1</td>\n",
       "      <td>0</td>\n",
       "    </tr>\n",
       "    <tr>\n",
       "      <th>A0000007</th>\n",
       "      <td>0</td>\n",
       "      <td>0</td>\n",
       "      <td>0</td>\n",
       "      <td>0</td>\n",
       "      <td>0</td>\n",
       "      <td>1</td>\n",
       "      <td>0</td>\n",
       "      <td>0</td>\n",
       "      <td>0</td>\n",
       "      <td>0</td>\n",
       "      <td>...</td>\n",
       "      <td>0</td>\n",
       "      <td>0</td>\n",
       "      <td>0</td>\n",
       "      <td>0</td>\n",
       "      <td>0</td>\n",
       "      <td>5</td>\n",
       "      <td>5</td>\n",
       "      <td>2</td>\n",
       "      <td>2</td>\n",
       "      <td>0</td>\n",
       "    </tr>\n",
       "  </tbody>\n",
       "</table>\n",
       "<p>5 rows × 99 columns</p>\n",
       "</div>"
      ],
      "text/plain": [
       "          101  102  103  104  201  301  502  503  504  506      ...        \\\n",
       "A0000001    0    0    0    0    0    0    0    0    0    0      ...         \n",
       "A0000002    0    0    0    0    0    1    0    0    0    0      ...         \n",
       "A0000005    0    0    0    0    0    1    0    0    0    0      ...         \n",
       "A0000006    0    0    0    0    0    1    0    0    0    0      ...         \n",
       "A0000007    0    0    0    0    0    1    0    0    0    0      ...         \n",
       "\n",
       "          3101  3401  9991  9992  9993  Socio_Demo_01  Socio_Demo_02  \\\n",
       "A0000001     0     0     0     0     0              5              4   \n",
       "A0000002     0     0     0     1     0              5              5   \n",
       "A0000005     0     0     0     0     0              5              5   \n",
       "A0000006     0     0     1     0     1              5              5   \n",
       "A0000007     0     0     0     0     0              5              5   \n",
       "\n",
       "          Socio_Demo_03  Socio_Demo_04  Socio_Demo_05  \n",
       "A0000001              3              1              0  \n",
       "A0000002              1              1              0  \n",
       "A0000005              3              1              0  \n",
       "A0000006              3              1              0  \n",
       "A0000007              2              2              0  \n",
       "\n",
       "[5 rows x 99 columns]"
      ]
     },
     "execution_count": 111,
     "metadata": {},
     "output_type": "execute_result"
    }
   ],
   "source": [
    "idVSProdSocioDemo.head()"
   ]
  },
  {
   "cell_type": "markdown",
   "metadata": {},
   "source": [
    "# Now we should define a metric to compute the distance between users"
   ]
  },
  {
   "cell_type": "markdown",
   "metadata": {},
   "source": [
    "### Naive metric\n",
    "\n",
    "\\begin{equation}\n",
    "\\sqrt{\\sum_{p=1}^{96} (x_{p_i}-x_{p_j})^2 + \\sum_{k=1}^5 \\alpha_k (x_{{Sk}_i} - x_{{SK}_j})^2}\n",
    "\\end{equation}\n",
    "\n",
    "It is a weigthed standard deviation."
   ]
  },
  {
   "cell_type": "code",
   "execution_count": 117,
   "metadata": {
    "collapsed": true
   },
   "outputs": [],
   "source": [
    "# Initial parameters\n",
    "alpha = np.array([1,1,0.5,0,1])"
   ]
  },
  {
   "cell_type": "code",
   "execution_count": 114,
   "metadata": {
    "collapsed": false
   },
   "outputs": [
    {
     "data": {
      "text/plain": [
       "473715"
      ]
     },
     "execution_count": 114,
     "metadata": {},
     "output_type": "execute_result"
    }
   ],
   "source": [
    "rownames.size"
   ]
  },
  {
   "cell_type": "code",
   "execution_count": null,
   "metadata": {
    "collapsed": false
   },
   "outputs": [],
   "source": [
    "# Slow\n",
    "simMatrix = pd.DataFrame(columns=rownames,index=rownames)"
   ]
  },
  {
   "cell_type": "code",
   "execution_count": 119,
   "metadata": {
    "collapsed": true
   },
   "outputs": [],
   "source": [
    "def metric(vector1,vector2,alpha):\n",
    "    return math.sqrt(np.sum(np.square(vector1[:94]-vector2[:94])) + alpha[0]*(vector1[94]-vector2[94])^2 + alpha[1]*(vector1[95]-vector2[95])^2 + alpha[2]*(vector1[96]-vector2[96])^2 + alpha[3]*(vector1[97]-vector2[97])^2 + alpha[4]*(vector1[98]-vector2[98])^2)"
   ]
  },
  {
   "cell_type": "code",
   "execution_count": null,
   "metadata": {
    "collapsed": true
   },
   "outputs": [],
   "source": [
    "i = 0\n",
    "for user1 in rownames:\n",
    "    i += 1\n",
    "    if i%100:\n",
    "        print user1\n",
    "    for user2 in rownames:\n",
    "        vector = np.empty(dtype=float)\n",
    "        if user1 == user2:\n",
    "            np.append(vector,0)\n",
    "        else:\n",
    "            np.append(vector, metric(idVSProdSocioDemo.loc[user1].values, idVSProdSocioDemo.loc[user2].values, alpha))\n",
    "    simMatrix.loc"
   ]
  },
  {
   "cell_type": "code",
   "execution_count": 125,
   "metadata": {
    "collapsed": false,
    "scrolled": true
   },
   "outputs": [
    {
     "data": {
      "text/plain": [
       "array([0, 0, 0, 0, 0, 0, 0, 0, 0, 0, 1, 0, 0, 1, 0, 0, 0, 0, 0, 0, 0, 0, 0,\n",
       "       0, 0, 0, 0, 0, 0, 0, 1, 0, 0, 0, 0, 0, 0, 0, 0, 0, 0, 0, 0, 0, 0, 0,\n",
       "       0, 0, 0, 0, 0, 0, 0, 0, 0, 0, 0, 0, 0, 0, 0, 0, 0, 0, 0, 0, 0, 0, 0,\n",
       "       0, 0, 0, 0, 0, 1, 0, 1, 0, 0, 0, 0, 0, 0, 0, 0, 0, 0, 0, 0, 0, 0, 0,\n",
       "       0, 0, 5, 4, 3, 1, 0])"
      ]
     },
     "execution_count": 125,
     "metadata": {},
     "output_type": "execute_result"
    }
   ],
   "source": [
    "idVSProdSocioDemo.loc['A0000001'].values"
   ]
  },
  {
   "cell_type": "markdown",
   "metadata": {},
   "source": [
    "# Take test users and compute their product and socio_demo vector and compare the final product with the prediction"
   ]
  },
  {
   "cell_type": "code",
   "execution_count": null,
   "metadata": {
    "collapsed": true
   },
   "outputs": [],
   "source": []
  },
  {
   "cell_type": "code",
   "execution_count": null,
   "metadata": {
    "collapsed": true
   },
   "outputs": [],
   "source": []
  },
  {
   "cell_type": "code",
   "execution_count": null,
   "metadata": {
    "collapsed": true
   },
   "outputs": [],
   "source": []
  },
  {
   "cell_type": "code",
   "execution_count": null,
   "metadata": {
    "collapsed": true
   },
   "outputs": [],
   "source": []
  },
  {
   "cell_type": "markdown",
   "metadata": {},
   "source": [
    "# First appearance of each product"
   ]
  },
  {
   "cell_type": "code",
   "execution_count": 5,
   "metadata": {
    "collapsed": true
   },
   "outputs": [],
   "source": [
    "# After the data has been sorted by Cod_Fecha\n",
    "prodFirst = data.groupby('Cod_Prod')['Cod_Fecha'].first()"
   ]
  },
  {
   "cell_type": "code",
   "execution_count": 19,
   "metadata": {
    "collapsed": false
   },
   "outputs": [
    {
     "data": {
      "text/plain": [
       "Cod_Prod\n",
       "2706    1986-08\n",
       "2707    1980-10\n",
       "2801    2002-03\n",
       "2901    2012-12\n",
       "3001    1984-12\n",
       "3101    2010-06\n",
       "3401    2001-09\n",
       "9991    2011-03\n",
       "9992    2015-02\n",
       "9993    2011-03\n",
       "Name: Cod_Fecha, dtype: object"
      ]
     },
     "execution_count": 19,
     "metadata": {},
     "output_type": "execute_result"
    }
   ],
   "source": [
    "prodFirst.tail(10)"
   ]
  },
  {
   "cell_type": "code",
   "execution_count": 29,
   "metadata": {
    "collapsed": false
   },
   "outputs": [
    {
     "data": {
      "text/plain": [
       "'1989'"
      ]
     },
     "execution_count": 29,
     "metadata": {},
     "output_type": "execute_result"
    }
   ],
   "source": [
    "prodFirst[101][:4]"
   ]
  },
  {
   "cell_type": "code",
   "execution_count": 34,
   "metadata": {
    "collapsed": false
   },
   "outputs": [
    {
     "data": {
      "image/png": "[encoded data removed]",
      "text/plain": [
       "<matplotlib.figure.Figure at 0x1129c0990>"
      ]
     },
     "metadata": {},
     "output_type": "display_data"
    }
   ],
   "source": [
    "plt.plot(prodFirst.apply(lambda x: x[:4]).values, prodFirst.index.values,'g.')\n",
    "plt.ylabel('Cod_Prod')\n",
    "plt.xlabel('Year')\n",
    "for value in prodFirst.index.values:\n",
    "    plt.annotate(value,(prodFirst[value][:4], value), color='black', ha='center', va='bottom')\n",
    "fig = plt.gcf() #get current figure\n",
    "fig.set_size_inches((18,14))  "
   ]
  },
  {
   "cell_type": "code",
   "execution_count": 38,
   "metadata": {
    "collapsed": false
   },
   "outputs": [
    {
     "data": {
      "image/png": "[encoded data removed]",
      "text/plain": [
       "<matplotlib.figure.Figure at 0x115bda390>"
      ]
     },
     "metadata": {},
     "output_type": "display_data"
    }
   ],
   "source": [
    "plt.plot(prodFirst.apply(lambda x: x[:4]).values[:-3], prodFirst.index.values[:-3],'g.')\n",
    "plt.ylabel('Cod_Prod')\n",
    "plt.xlabel('Year')\n",
    "for value in prodFirst.index.values[:-3]:\n",
    "    plt.annotate(value,(prodFirst[value][:4], value), color='black', ha='center', va='bottom')\n",
    "        \n",
    "fig = plt.gcf() #get current figure\n",
    "fig.set_size_inches((18,14))  "
   ]
  },
  {
   "cell_type": "code",
   "execution_count": null,
   "metadata": {
    "collapsed": true
   },
   "outputs": [],
   "source": []
  }
 ],
 "metadata": {
  "anaconda-cloud": {},
  "kernelspec": {
   "display_name": "Python [conda root]",
   "language": "python",
   "name": "conda-root-py"
  },
  "language_info": {
   "codemirror_mode": {
    "name": "ipython",
    "version": 2
   },
   "file_extension": ".py",
   "mimetype": "text/x-python",
   "name": "python",
   "nbconvert_exporter": "python",
   "pygments_lexer": "ipython2",
   "version": "2.7.13"
  }
 },
 "nbformat": 4,
 "nbformat_minor": 1
}
